{
  "cells": [
    {
      "cell_type": "markdown",
      "metadata": {
        "id": "view-in-github",
        "colab_type": "text"
      },
      "source": [
        "<a href=\"https://colab.research.google.com/github/mrefugionv/S4--INSTACART/blob/main/P4_DATA_WRANGLING_INSTACART.ipynb\" target=\"_parent\"><img src=\"https://colab.research.google.com/assets/colab-badge.svg\" alt=\"Open In Colab\"/></a>"
      ]
    },
    {
      "cell_type": "markdown",
      "id": "3Xg_RQfnafXz",
      "metadata": {
        "id": "3Xg_RQfnafXz"
      },
      "source": [
        "# ¡Llena ese carrito!"
      ]
    },
    {
      "cell_type": "markdown",
      "id": "mhIvmmkW414q",
      "metadata": {
        "id": "mhIvmmkW414q"
      },
      "source": [
        "# Introducción\n",
        "\n",
        "Instacart es una plataforma de entregas de comestibles donde la clientela puede registrar un pedido y hacer que se lo entreguen, similar a Uber Eats y Door Dash.\n",
        "El conjunto de datos que te hemos proporcionado tiene modificaciones del original. Redujimos el tamaño del conjunto para que tus cálculos se hicieran más rápido e introdujimos valores ausentes y duplicados. Tuvimos cuidado de conservar las distribuciones de los datos originales cuando hicimos los cambios.\n",
        "\n",
        "Debes completar tres pasos. Para cada uno de ellos, escribe una breve introducción que refleje con claridad cómo pretendes resolver cada paso, y escribe párrafos explicatorios que justifiquen tus decisiones al tiempo que avanzas en tu solución.  También escribe una conclusión que resuma tus hallazgos y elecciones.\n"
      ]
    },
    {
      "cell_type": "markdown",
      "id": "3MbyzpOQZ5Or",
      "metadata": {
        "id": "3MbyzpOQZ5Or"
      },
      "source": [
        "## Diccionario de datos\n",
        "\n",
        "Hay cinco tablas en el conjunto de datos, y tendrás que usarlas todas para hacer el preprocesamiento de datos y el análisis exploratorio de datos. A continuación se muestra un diccionario de datos que enumera las columnas de cada tabla y describe los datos que contienen.\n",
        "\n",
        "- `instacart_orders.csv`: cada fila corresponde a un pedido en la aplicación Instacart.\n",
        "    - `'order_id'`: número de ID que identifica de manera única cada pedido.\n",
        "    - `'user_id'`: número de ID que identifica de manera única la cuenta de cada cliente.\n",
        "    - `'order_number'`: el número de veces que este cliente ha hecho un pedido.\n",
        "    - `'order_dow'`: día de la semana en que se hizo el pedido (0 si es domingo).\n",
        "    - `'order_hour_of_day'`: hora del día en que se hizo el pedido.\n",
        "    - `'days_since_prior_order'`: número de días transcurridos desde que este cliente hizo su pedido anterior.\n",
        "- `products.csv`: cada fila corresponde a un producto único que pueden comprar los clientes.\n",
        "    - `'product_id'`: número ID que identifica de manera única cada producto.\n",
        "    - `'product_name'`: nombre del producto.\n",
        "    - `'aisle_id'`: número ID que identifica de manera única cada categoría de pasillo de víveres.\n",
        "    - `'department_id'`: número ID que identifica de manera única cada departamento de víveres.\n",
        "- `order_products.csv`: cada fila corresponde a un artículo pedido en un pedido.\n",
        "    - `'order_id'`: número de ID que identifica de manera única cada pedido.\n",
        "    - `'product_id'`: número ID que identifica de manera única cada producto.\n",
        "    - `'add_to_cart_order'`: el orden secuencial en el que se añadió cada artículo en el carrito.\n",
        "    - `'reordered'`: 0 si el cliente nunca ha pedido este producto antes, 1 si lo ha pedido.\n",
        "- `aisles.csv`\n",
        "    - `'aisle_id'`: número ID que identifica de manera única cada categoría de pasillo de víveres.\n",
        "    - `'aisle'`: nombre del pasillo.\n",
        "- `departments.csv`\n",
        "    - `'department_id'`: número ID que identifica de manera única cada departamento de víveres.\n",
        "    - `'department'`: nombre del departamento."
      ]
    },
    {
      "cell_type": "markdown",
      "id": "n3Ha_cNSZ8lK",
      "metadata": {
        "id": "n3Ha_cNSZ8lK"
      },
      "source": [
        "# Paso 1. Descripción de los datos\n",
        "\n",
        "Lee los archivos de datos (`/datasets/instacart_orders.csv`, `/datasets/products.csv`, `/datasets/aisles.csv`, `/datasets/departments.csv` y `/datasets/order_products.csv`) con `pd.read_csv()` usando los parámetros adecuados para leer los datos correctamente. Verifica la información para cada DataFrame creado.\n"
      ]
    },
    {
      "cell_type": "markdown",
      "id": "OmlQPLlyaAfR",
      "metadata": {
        "id": "OmlQPLlyaAfR"
      },
      "source": [
        "\n",
        "## Plan de solución\n",
        "\n",
        "Escribe aquí tu plan de solución para el Paso 1. Descripción de los datos.\n",
        "\n",
        "1. Primero habra que leer los datos de los archivos csv, para ello se importa la librería pandas y se leera cada archivo.\n",
        "2. Imprimir las primeras líneas cada vez que se lea un archivo para verificar se haya separado correctamente las columnas.\n",
        "3. Indicar un más argumentos en el metodo \"read_csv\" si es necesario para la correcta lectura. Por ejemplo indicar el sepradador (\"sep=''\"), si los archivos no vienen en formato estándar.\n"
      ]
    },
    {
      "cell_type": "code",
      "execution_count": null,
      "id": "fbf1adab",
      "metadata": {
        "id": "fbf1adab",
        "trusted": false
      },
      "outputs": [],
      "source": [
        "# importar librerías\n",
        "import pandas as pd   #para trabajar con dataframes\n",
        "from matplotlib import pyplot as plt  # mas adelante se necesitara para generar gráficas"
      ]
    },
    {
      "cell_type": "code",
      "execution_count": null,
      "id": "ad36396d",
      "metadata": {
        "id": "ad36396d",
        "trusted": false
      },
      "outputs": [],
      "source": [
        "# leer conjuntos de datos en los DataFrames\n",
        "df_instacart_orders = pd.read_csv('datasets/instacart_orders.csv',sep=';')\n",
        "df_products = pd.read_csv('datasets/products.csv',sep=';')\n",
        "df_aisles = pd.read_csv('datasets/aisles.csv',sep=';')\n",
        "df_departments = pd.read_csv('datasets/departments.csv',sep=';')\n",
        "df_order_products = pd.read_csv('datasets/order_products.csv', sep=';')\n",
        "\n",
        "#print(df_departments.head()) -- Se imprimieron las primres lines de cada uno para verificar que se ...\n",
        "#...separaran correctamente las columnas con el separadador adecuador"
      ]
    },
    {
      "cell_type": "code",
      "execution_count": null,
      "id": "ad6a1efa",
      "metadata": {
        "id": "ad6a1efa",
        "trusted": false,
        "outputId": "ef02b1af-0eac-4295-b599-158d2dda2d5a"
      },
      "outputs": [
        {
          "name": "stdout",
          "output_type": "stream",
          "text": [
            "<class 'pandas.core.frame.DataFrame'>\n",
            "RangeIndex: 478967 entries, 0 to 478966\n",
            "Data columns (total 6 columns):\n",
            " #   Column                  Non-Null Count   Dtype  \n",
            "---  ------                  --------------   -----  \n",
            " 0   order_id                478967 non-null  int64  \n",
            " 1   user_id                 478967 non-null  int64  \n",
            " 2   order_number            478967 non-null  int64  \n",
            " 3   order_dow               478967 non-null  int64  \n",
            " 4   order_hour_of_day       478967 non-null  int64  \n",
            " 5   days_since_prior_order  450148 non-null  float64\n",
            "dtypes: float64(1), int64(5)\n",
            "memory usage: 21.9 MB\n",
            "None\n"
          ]
        }
      ],
      "source": [
        "# mostrar información del DataFrame\n",
        "print(df_instacart_orders.info(show_counts= True))\n",
        "#Se agregar argumento \"show_counst=True\" para asegurarnos que se muestren los recuentos no nulos."
      ]
    },
    {
      "cell_type": "code",
      "execution_count": null,
      "id": "5130e05e",
      "metadata": {
        "id": "5130e05e",
        "trusted": false,
        "outputId": "7630c362-190a-4c0f-9a02-93d9abfe3545"
      },
      "outputs": [
        {
          "name": "stdout",
          "output_type": "stream",
          "text": [
            "<class 'pandas.core.frame.DataFrame'>\n",
            "RangeIndex: 49694 entries, 0 to 49693\n",
            "Data columns (total 4 columns):\n",
            " #   Column         Non-Null Count  Dtype \n",
            "---  ------         --------------  ----- \n",
            " 0   product_id     49694 non-null  int64 \n",
            " 1   product_name   48436 non-null  object\n",
            " 2   aisle_id       49694 non-null  int64 \n",
            " 3   department_id  49694 non-null  int64 \n",
            "dtypes: int64(3), object(1)\n",
            "memory usage: 1.5+ MB\n",
            "None\n"
          ]
        }
      ],
      "source": [
        "# mostrar información del DataFrame\n",
        "print(df_products.info(show_counts= True))"
      ]
    },
    {
      "cell_type": "code",
      "execution_count": null,
      "id": "d8370c05",
      "metadata": {
        "id": "d8370c05",
        "trusted": false,
        "outputId": "b2aaa39b-664e-4436-dbb7-c5c2e8228392"
      },
      "outputs": [
        {
          "name": "stdout",
          "output_type": "stream",
          "text": [
            "<class 'pandas.core.frame.DataFrame'>\n",
            "RangeIndex: 134 entries, 0 to 133\n",
            "Data columns (total 2 columns):\n",
            " #   Column    Non-Null Count  Dtype \n",
            "---  ------    --------------  ----- \n",
            " 0   aisle_id  134 non-null    int64 \n",
            " 1   aisle     134 non-null    object\n",
            "dtypes: int64(1), object(1)\n",
            "memory usage: 2.2+ KB\n",
            "None\n"
          ]
        }
      ],
      "source": [
        "# mostrar información del DataFrame\n",
        "print(df_aisles.info(show_counts= True))"
      ]
    },
    {
      "cell_type": "code",
      "execution_count": null,
      "id": "59e2090f",
      "metadata": {
        "id": "59e2090f",
        "trusted": false,
        "outputId": "32f2675f-3e64-444a-d305-517db577aa7c"
      },
      "outputs": [
        {
          "name": "stdout",
          "output_type": "stream",
          "text": [
            "<class 'pandas.core.frame.DataFrame'>\n",
            "RangeIndex: 21 entries, 0 to 20\n",
            "Data columns (total 2 columns):\n",
            " #   Column         Non-Null Count  Dtype \n",
            "---  ------         --------------  ----- \n",
            " 0   department_id  21 non-null     int64 \n",
            " 1   department     21 non-null     object\n",
            "dtypes: int64(1), object(1)\n",
            "memory usage: 468.0+ bytes\n",
            "None\n"
          ]
        }
      ],
      "source": [
        "# mostrar información del DataFrame\n",
        "print(df_departments.info(show_counts= True))"
      ]
    },
    {
      "cell_type": "code",
      "execution_count": null,
      "id": "6fc81694",
      "metadata": {
        "id": "6fc81694",
        "trusted": false,
        "outputId": "f4d8507f-7232-41bd-df6b-57b257a2c87c"
      },
      "outputs": [
        {
          "name": "stdout",
          "output_type": "stream",
          "text": [
            "<class 'pandas.core.frame.DataFrame'>\n",
            "RangeIndex: 4545007 entries, 0 to 4545006\n",
            "Data columns (total 4 columns):\n",
            " #   Column             Non-Null Count    Dtype  \n",
            "---  ------             --------------    -----  \n",
            " 0   order_id           4545007 non-null  int64  \n",
            " 1   product_id         4545007 non-null  int64  \n",
            " 2   add_to_cart_order  4544171 non-null  float64\n",
            " 3   reordered          4545007 non-null  int64  \n",
            "dtypes: float64(1), int64(3)\n",
            "memory usage: 138.7 MB\n",
            "None\n"
          ]
        }
      ],
      "source": [
        "# mostrar información del DataFrame\n",
        "print(df_order_products.info(show_counts= True))"
      ]
    },
    {
      "cell_type": "markdown",
      "id": "t75BD19oaR5f",
      "metadata": {
        "id": "t75BD19oaR5f"
      },
      "source": [
        "## Conclusiones\n",
        "\n",
        "Escribe aquí tus conclusiones intermedias sobre el Paso 1. Descripción de los datos.\n",
        "\n",
        "En general tenemos una buena base para empezar a trabajar:\n",
        "* Se recuperaron los dataframes sin incosistencias en los títulos de las columnas (todos estan en formato snake_case)\n",
        "* En cuanto datos faltantes solo son los de las siguientes columnas:\n",
        "   - days_since_prior_order, del df_instacart_orders. Falta alrededor del 6% de los datos, lo cual puede deberse a que sean las primeras ordenes de los usuarios correspondientes.Esto se puede revisar, calculando el la cantidad de valores únicos en la columna de user_id, si empata esta cantidad con los valores ausentes es muy probable que esta hipótesis sea correcta.\n",
        "   - product_name , de df_products. Falta alrededor de 3% de los valores.\n",
        "   - add_to_cart_order, de df_order_products. Falta menos del 1%.\n",
        "*En cuanto a los tipos de datos que se leen, todos son congruentes con lo que expresan de acuerdo a la descripción. La mejora que podemos hacer para un mejor manejo es el cambio de todos los \"ID\" de tipos numerico a string, ya que con ellos no se hacen operaciones aritméticas.\n",
        "\n"
      ]
    },
    {
      "cell_type": "markdown",
      "id": "8RJHqxVmaVsF",
      "metadata": {
        "id": "8RJHqxVmaVsF"
      },
      "source": [
        "# Paso 2. Preprocesamiento de los datos\n",
        "\n",
        "Preprocesa los datos de la siguiente manera:\n",
        "\n",
        "- Verifica y corrige los tipos de datos (por ejemplo, asegúrate de que las columnas de ID sean números enteros).\n",
        "- Identifica y completa los valores ausentes.\n",
        "- Identifica y elimina los valores duplicados.\n",
        "\n",
        "Asegúrate de explicar qué tipos de valores ausentes y duplicados encontraste, cómo los completaste o eliminaste y por qué usaste esos métodos. ¿Por qué crees que estos valores ausentes y duplicados pueden haber estado presentes en el conjunto de datos?"
      ]
    },
    {
      "cell_type": "markdown",
      "id": "b210bfcc",
      "metadata": {
        "id": "b210bfcc"
      },
      "source": [
        "## Plan de solución\n",
        "\n",
        "Escribe aqui tu plan para el Paso 2. Preprocesamiento de los datos.\n",
        "\n",
        "1. Para verificar tipos de datos y corregir : Revisar en las impresiones del método .info() ya obtenidas en la sección anterior.\n",
        "2. Identificar y eliminar los valores duplicados: Con el método duplicated() revisar si no hay filas completas duplicadas\n",
        "    y, de acuerdo al caso y la información que representan los datos, aplicarlo a columnas por separado ayudara a distinguir\n",
        "    si estos duplicados hay que eliminarlos. Se pueden eliminar los duplicados con el método .drop_duplicates().\n",
        "3. Identificar y completar los valores ausentes: Los valores auscentes los podemos identificar al leer las características del\n",
        "    df que se obtiene con el método .info() , o bien con el método .isna() , y se pueden rellenar con un valor conveniente con el método .fillna().\n",
        "    \n"
      ]
    },
    {
      "cell_type": "markdown",
      "id": "07357848-dc64-4156-9cc3-01ff4365226d",
      "metadata": {
        "id": "07357848-dc64-4156-9cc3-01ff4365226d"
      },
      "source": [
        "## Encuentra y elimina los valores duplicados (y describe cómo tomaste tus decisiones)."
      ]
    },
    {
      "cell_type": "markdown",
      "id": "f179f0a9",
      "metadata": {
        "id": "f179f0a9"
      },
      "source": [
        "### `instacart_orders` data frame"
      ]
    },
    {
      "cell_type": "code",
      "execution_count": null,
      "id": "b99297a5-405a-463d-8535-9adc3da4ad74",
      "metadata": {
        "id": "b99297a5-405a-463d-8535-9adc3da4ad74",
        "trusted": false,
        "outputId": "48e9eaae-55ca-47b5-9650-00052af5ea1b"
      },
      "outputs": [
        {
          "name": "stdout",
          "output_type": "stream",
          "text": [
            "15\n",
            "15\n"
          ]
        }
      ],
      "source": [
        "# Revisa si hay pedidos duplicados\n",
        "print(df_instacart_orders.duplicated().sum()) #suma cantidad de Trues que resultaron del método duplicated\n",
        "print(df_instacart_orders['order_id'].duplicated().sum())  # aplicamos método duplicated() a columan order_id"
      ]
    },
    {
      "cell_type": "markdown",
      "id": "PEkwUX_gvt5A",
      "metadata": {
        "id": "PEkwUX_gvt5A"
      },
      "source": [
        "¿Tienes líneas duplicadas? Si sí, ¿qué tienen en común?\n",
        "\n",
        "Sí tenemos  15 duplicados. Todas estas ordenes repetidas, tienen en comun que ya existe una fila completamente igual (mismos valores en cada columna) a esa. También se podría hacer la comprobación de los duplicados, aplicando el método .duplicated() únicamente a la columna \"order_id\", ya que contiene los identificadores únicos para cada orden."
      ]
    },
    {
      "cell_type": "code",
      "execution_count": null,
      "id": "0d44de5d",
      "metadata": {
        "id": "0d44de5d",
        "trusted": false,
        "outputId": "25bd199f-527e-4ea5-8d22-6fba66f345bf"
      },
      "outputs": [
        {
          "name": "stdout",
          "output_type": "stream",
          "text": [
            "Valor mínimo de hora: 0\n",
            "Valor máximo de hora: 23\n",
            "\n",
            "Duplicados en ordenes hechas a las 2am :\n",
            " 15\n"
          ]
        }
      ],
      "source": [
        "# Basándote en tus hallazgos,\n",
        "# Verifica todos los pedidos que se hicieron el miércoles a las 2:00 a.m.\n",
        "\n",
        "print(f'Valor mínimo de hora:', df_instacart_orders['order_hour_of_day'].min())\n",
        "print(f'Valor máximo de hora:',df_instacart_orders['order_hour_of_day'].max())\n",
        "# Hora vienen en formato representados por numeros del 0 al 23\n",
        "print('')\n",
        "print(f'Duplicados en ordenes hechas a las 2am :\\n',df_instacart_orders[df_instacart_orders['order_hour_of_day'] == 2].duplicated().sum())\n"
      ]
    },
    {
      "cell_type": "markdown",
      "id": "vu2OWyoqwOx5",
      "metadata": {
        "id": "vu2OWyoqwOx5"
      },
      "source": [
        "¿Qué sugiere este resultado?\n",
        "\n",
        "Que todos los valores duplicados fueron hechos en este horario (a las 2am), pero no es el mismo pedido."
      ]
    },
    {
      "cell_type": "code",
      "execution_count": null,
      "id": "480563c7",
      "metadata": {
        "id": "480563c7",
        "trusted": false
      },
      "outputs": [],
      "source": [
        "# Elimina los pedidos duplicados\n",
        "df_instacart_orders.drop_duplicates(inplace=True)  #NO se resetearon los indices, si fuera necesario con .reset_index(drop=True)"
      ]
    },
    {
      "cell_type": "code",
      "execution_count": null,
      "id": "0b2396a2",
      "metadata": {
        "id": "0b2396a2",
        "trusted": false,
        "outputId": "ad473c4a-258e-4890-9a3d-333114dc3206"
      },
      "outputs": [
        {
          "name": "stdout",
          "output_type": "stream",
          "text": [
            "0\n"
          ]
        }
      ],
      "source": [
        "# Vuelve a verificar si hay filas duplicadas\n",
        "print(df_instacart_orders.duplicated().sum())"
      ]
    },
    {
      "cell_type": "code",
      "execution_count": null,
      "id": "f6113ef1",
      "metadata": {
        "id": "f6113ef1",
        "trusted": false,
        "outputId": "a09e5d4e-fc19-4915-b77a-ae48edaa5205"
      },
      "outputs": [
        {
          "name": "stdout",
          "output_type": "stream",
          "text": [
            "0\n"
          ]
        }
      ],
      "source": [
        "# Vuelve a verificar si hay IDs duplicados de pedidos\n",
        "print(df_instacart_orders['order_id'].duplicated().sum())"
      ]
    },
    {
      "cell_type": "markdown",
      "id": "5e8905ae",
      "metadata": {
        "id": "5e8905ae"
      },
      "source": [
        "Describe brevemente tus hallazgos y lo que hiciste con ellos\n",
        "\n",
        "Se habian encontrado 15 filas duplicadas, todos de ordenes pedidas a las 2 am, en el dataframe de las ordenes con el método . duplicated(); y se han eliminado estas filas con el método .drop_duplicates()"
      ]
    },
    {
      "cell_type": "markdown",
      "id": "45e6bc46",
      "metadata": {
        "id": "45e6bc46"
      },
      "source": [
        "### `products` data frame"
      ]
    },
    {
      "cell_type": "code",
      "execution_count": null,
      "id": "5f526b5b-8175-46fa-a0fd-441767d50e64",
      "metadata": {
        "id": "5f526b5b-8175-46fa-a0fd-441767d50e64",
        "trusted": false,
        "outputId": "1eb7ecc1-a90a-4a5e-f8c4-5b8436b4b5d3"
      },
      "outputs": [
        {
          "name": "stdout",
          "output_type": "stream",
          "text": [
            "0\n"
          ]
        }
      ],
      "source": [
        "# Verifica si hay filas totalmente duplicadas\n",
        "print(df_products.duplicated().sum())"
      ]
    },
    {
      "cell_type": "code",
      "execution_count": null,
      "id": "88daa4f4",
      "metadata": {
        "id": "88daa4f4",
        "trusted": false,
        "outputId": "fdbe4b89-6c8e-4e68-def9-99883689f2ba"
      },
      "outputs": [
        {
          "name": "stdout",
          "output_type": "stream",
          "text": [
            "0\n"
          ]
        }
      ],
      "source": [
        "# Verifica si hay IDs duplicadas de productos\n",
        "print(df_products['product_id'].duplicated().sum())"
      ]
    },
    {
      "cell_type": "code",
      "execution_count": null,
      "id": "c773f0bf",
      "metadata": {
        "id": "c773f0bf",
        "trusted": false,
        "outputId": "2bf12ecb-e703-4ee0-e2a3-c7e2a400c406"
      },
      "outputs": [
        {
          "name": "stdout",
          "output_type": "stream",
          "text": [
            "Primeras filas de la columna product_name: \n",
            " 0                           CHOCOLATE SANDWICH COOKIES\n",
            "1                                     ALL-SEASONS SALT\n",
            "2                 ROBUST GOLDEN UNSWEETENED OOLONG TEA\n",
            "3    SMART ONES CLASSIC FAVORITES MINI RIGATONI WIT...\n",
            "4                            GREEN CHILE ANYTIME SAUCE\n",
            "Name: product_name, dtype: object\n",
            "\n",
            "Nombres duplicados: 1361\n"
          ]
        }
      ],
      "source": [
        "# Revisa si hay nombres duplicados de productos (convierte los nombres a letras mayúsculas para compararlos mejor)\n",
        "\n",
        "df_products['product_name'] = df_products['product_name'].str.upper()#Conversion de los str gurdados en la columna de 'product_name' a mayusculas\n",
        "print(f'Primeras filas de la columna product_name: \\n',df_products['product_name'].head() ) #Visualizamos en que formato vienen los nombre = Mayusculas\n",
        "\n",
        "print('')\n",
        "print(f'Nombres duplicados:',df_products['product_name'].duplicated().sum())\n"
      ]
    },
    {
      "cell_type": "code",
      "execution_count": null,
      "id": "01efd02e",
      "metadata": {
        "id": "01efd02e",
        "trusted": false,
        "outputId": "171d7123-acbc-40e2-962c-4295dc3f27fa"
      },
      "outputs": [
        {
          "name": "stdout",
          "output_type": "stream",
          "text": [
            "Info de df sin valores faltantes:\n",
            "\n",
            "<class 'pandas.core.frame.DataFrame'>\n",
            "Index: 48436 entries, 0 to 49693\n",
            "Data columns (total 4 columns):\n",
            " #   Column         Non-Null Count  Dtype \n",
            "---  ------         --------------  ----- \n",
            " 0   product_id     48436 non-null  int64 \n",
            " 1   product_name   48436 non-null  object\n",
            " 2   aisle_id       48436 non-null  int64 \n",
            " 3   department_id  48436 non-null  int64 \n",
            "dtypes: int64(3), object(1)\n",
            "memory usage: 1.8+ MB\n",
            "None\n",
            "\n",
            "¿Duplicados en df sin valores faltantes? 104\n"
          ]
        }
      ],
      "source": [
        "# Revisa si hay nombres duplicados de productos no faltantes\n",
        "\n",
        "df_products_nonnull = df_products.dropna(subset=['product_name']) #Se eliminan las  ...\n",
        "#... filas con valores faltantes en columna product_name, creando un nuevo dataframe\n",
        "\n",
        "print('Info de df sin valores faltantes:\\n' )\n",
        "print(df_products_nonnull.info()) #Revisamos que ya se elimniaron esas filas\n",
        "\n",
        "print('')\n",
        "print(f'¿Duplicados en df sin valores faltantes?',df_products_nonnull['product_name'].duplicated().sum())\n"
      ]
    },
    {
      "cell_type": "markdown",
      "id": "9da8d293",
      "metadata": {
        "id": "9da8d293"
      },
      "source": [
        "Describe brevemente tus hallazgos y lo que hiciste con ellos.\n",
        "\n",
        "Se reviso si había algún producto duplicado llamando al metodo .duplicated() en todo el dataframe, no hubo filas completas iguales; se le aplico unicamente a la columna del identificador único de producto, tampoco hubo duplicados.\n",
        "\n",
        "Sin embargo otra manera de identificar si algún producto de encontraba repetido es su nombre, es por ello que se reviso si teniamos valores duplicados en esa columna; para ello se convirtio todos los strings a mayusculas para que python pudiera comparar los nombres sin problemas y se reviso si estos datos duplicados eran solo de los datos ausentes. El resultado fue que sí hay 104 productos duplicados, lo que indica que estos productos tienen dos o más id´s."
      ]
    },
    {
      "cell_type": "markdown",
      "id": "60f30db1",
      "metadata": {
        "id": "60f30db1"
      },
      "source": [
        "### `departments` data frame"
      ]
    },
    {
      "cell_type": "code",
      "execution_count": null,
      "id": "fb410ad4-0fbf-4b80-bb09-23fdea79afe3",
      "metadata": {
        "id": "fb410ad4-0fbf-4b80-bb09-23fdea79afe3",
        "trusted": false,
        "outputId": "d3220c8d-68fa-48dd-e357-7f0ca100d054"
      },
      "outputs": [
        {
          "name": "stdout",
          "output_type": "stream",
          "text": [
            "0\n"
          ]
        }
      ],
      "source": [
        "# Revisa si hay filas totalmente duplicadas\n",
        "print(df_departments.duplicated().sum())"
      ]
    },
    {
      "cell_type": "code",
      "execution_count": null,
      "id": "332b12bb",
      "metadata": {
        "id": "332b12bb",
        "trusted": false,
        "outputId": "300ea7ee-742d-4c5c-ec06-a223b494cb1c"
      },
      "outputs": [
        {
          "name": "stdout",
          "output_type": "stream",
          "text": [
            "0\n"
          ]
        }
      ],
      "source": [
        "# Revisa si hay IDs duplicadas de productos\n",
        "print(df_departments['department_id'].duplicated().sum())"
      ]
    },
    {
      "cell_type": "markdown",
      "id": "bd30d78e",
      "metadata": {
        "id": "bd30d78e"
      },
      "source": [
        "Describe brevemente tus hallazgos y lo que hiciste con ellos.\n",
        "\n",
        "No tenemos valores duplicados departamentos duplicados (ni completamente con las mismas características, ni identificadores duplicados). Revisar que los identificadores de cada tabla sean efectivamente únicos es importante por que son la conexión entre ellas y algún error en esta información puede llevar a un análisis de datos no fiable.\n"
      ]
    },
    {
      "cell_type": "markdown",
      "id": "889349c1",
      "metadata": {
        "id": "889349c1"
      },
      "source": [
        "### `aisles` data frame"
      ]
    },
    {
      "cell_type": "code",
      "execution_count": null,
      "id": "9da89fb9-4679-40f5-ad0d-c34df753a3f8",
      "metadata": {
        "id": "9da89fb9-4679-40f5-ad0d-c34df753a3f8",
        "trusted": false,
        "outputId": "eeff0301-d771-4830-8f8c-b9b104d4e604"
      },
      "outputs": [
        {
          "name": "stdout",
          "output_type": "stream",
          "text": [
            "0\n"
          ]
        }
      ],
      "source": [
        "# Revisa si hay filas totalmente duplicadas\n",
        "print(df_aisles.duplicated().sum())"
      ]
    },
    {
      "cell_type": "code",
      "execution_count": null,
      "id": "da7c2822",
      "metadata": {
        "id": "da7c2822",
        "trusted": false,
        "outputId": "0275db32-fd8a-4035-ea7c-d66dc7fb4941"
      },
      "outputs": [
        {
          "name": "stdout",
          "output_type": "stream",
          "text": [
            "0\n"
          ]
        }
      ],
      "source": [
        "# Revisa si hay IDs duplicadas de productos\n",
        "print(df_aisles['aisle_id'].duplicated().sum())"
      ]
    },
    {
      "cell_type": "markdown",
      "id": "ac63826f",
      "metadata": {
        "id": "ac63826f"
      },
      "source": [
        "Describe brevemente tus hallazgos y lo que hiciste con ellos.\n",
        "\n",
        "No se encontraron valores duplicados, ni id´s duplicados. Ahora podemos utilizar la información.\n"
      ]
    },
    {
      "cell_type": "markdown",
      "id": "274cd06a",
      "metadata": {
        "id": "274cd06a"
      },
      "source": [
        "### `order_products` data frame"
      ]
    },
    {
      "cell_type": "code",
      "execution_count": null,
      "id": "52326689-84a8-4b8f-a881-7c68780f62c9",
      "metadata": {
        "id": "52326689-84a8-4b8f-a881-7c68780f62c9",
        "trusted": false,
        "outputId": "fcda7d39-ed96-4b78-8f84-0b1eab1f6e73"
      },
      "outputs": [
        {
          "name": "stdout",
          "output_type": "stream",
          "text": [
            "0\n"
          ]
        }
      ],
      "source": [
        "# Revisa si hay filas totalmente duplicadas\n",
        "print(df_order_products.duplicated().sum())\n"
      ]
    },
    {
      "cell_type": "code",
      "execution_count": null,
      "id": "7b861391",
      "metadata": {
        "id": "7b861391",
        "trusted": false
      },
      "outputs": [],
      "source": [
        "# Vuelve a verificar si hay cualquier otro duplicado engañoso\n",
        "\n",
        "#En este caso los duplicados de valores en cada una de las columanas por separado no representan alguna equivocación,...\n",
        "#...es suficiente con que no hay repeticiones de filas completas, abajo la explicación:\n",
        "\n",
        "#ya que cada fila corresponde a un artículo pedido en un pedido:\n",
        "#'order_id' puede repetirse, por que puede haber en un solo pedido varios productos.\n",
        "#'product_id'puede repetirse por que puede pedirse el mismo producto en varios pedidos.\n",
        "#'add_to_cart_order'esta secuencia vuelve iniciar en cada pedido.\n",
        "#'reordered': se repite, solo toma dos valosres 0 o 1"
      ]
    },
    {
      "cell_type": "markdown",
      "id": "0b890492",
      "metadata": {
        "id": "0b890492"
      },
      "source": [
        "Describe brevemente tus hallazgos y lo que hiciste con ellos.\n",
        "\n",
        "En el caso del dataframe de order_products no tenemos valores auscentes y tampoco valores duplicados; fue suficiente revisar que no hubiera filas completas con valores repetidos, por lo que representan los valores no tiene ningun sentido revisar duplicados por columnas separadas.\n",
        "\n",
        "lo anterior porque cada fila del df corresponde a un artículo pedido en un pedido, así que:\n",
        "'order_id' puede repetirse por que puede haber en un solo pedido varios productos.\n",
        "'product_id'puede repetirse por que puede pedirse el mismo producto en varios pedidos.\n",
        "'add_to_cart_order'esta secuencia vuelve iniciar en cada pedido.\n",
        "'reordered' se repite, solo toma dos valosres 0 o 1"
      ]
    },
    {
      "cell_type": "markdown",
      "id": "1e46de76",
      "metadata": {
        "id": "1e46de76"
      },
      "source": [
        "## Encuentra y elimina los valores ausentes\n",
        "\n",
        "Al trabajar con valores duplicados, pudimos observar que también nos falta investigar valores ausentes:\n",
        "\n",
        "* La columna `'product_name'` de la tabla products.\n",
        "* La columna `'days_since_prior_order'` de la tabla orders.\n",
        "* La columna `'add_to_cart_order'` de la tabla order_productos."
      ]
    },
    {
      "cell_type": "markdown",
      "id": "c0aebd78",
      "metadata": {
        "id": "c0aebd78"
      },
      "source": [
        "### `products` data frame"
      ]
    },
    {
      "cell_type": "code",
      "execution_count": null,
      "id": "fe4a8b0f",
      "metadata": {
        "id": "fe4a8b0f",
        "trusted": false,
        "outputId": "9061c8f9-11fc-407d-9610-e02a9bbd5973"
      },
      "outputs": [
        {
          "name": "stdout",
          "output_type": "stream",
          "text": [
            "1258\n"
          ]
        }
      ],
      "source": [
        "# Encuentra los valores ausentes en la columna 'product_name'\n",
        "print(df_products['product_name'].isna().sum())"
      ]
    },
    {
      "cell_type": "markdown",
      "id": "-A6x1AbJhjkp",
      "metadata": {
        "id": "-A6x1AbJhjkp"
      },
      "source": [
        "Describe brevemente cuáles son tus hallazgos.\n",
        "\n",
        "Tenemos 1258 valores auscentes en la columna de los nombres de productos.\n"
      ]
    },
    {
      "cell_type": "code",
      "execution_count": null,
      "id": "e96167bc",
      "metadata": {
        "id": "e96167bc",
        "trusted": false,
        "outputId": "b830b491-d105-4a2f-a90a-be2fba1570a4"
      },
      "outputs": [
        {
          "name": "stdout",
          "output_type": "stream",
          "text": [
            "1258\n"
          ]
        }
      ],
      "source": [
        "#  ¿Todos los nombres de productos ausentes están relacionados con el pasillo con ID 100?\n",
        "\n",
        "print(df_products[df_products['aisle_id'] == 100]['product_name'].isnull().sum())"
      ]
    },
    {
      "cell_type": "markdown",
      "id": "WRpIfXRphpSL",
      "metadata": {
        "id": "WRpIfXRphpSL"
      },
      "source": [
        "Describe brevemente cuáles son tus hallazgos.\n",
        "\n",
        "En efecto, todos los valores auscentes están relacionados con el pasillo con id 100."
      ]
    },
    {
      "cell_type": "code",
      "execution_count": null,
      "id": "8fd0a541",
      "metadata": {
        "id": "8fd0a541",
        "trusted": false,
        "outputId": "4cef05a7-29a0-4f7f-e15d-71714c1fb3fc"
      },
      "outputs": [
        {
          "name": "stdout",
          "output_type": "stream",
          "text": [
            "1258\n"
          ]
        }
      ],
      "source": [
        "# ¿Todos los nombres de productos ausentes están relacionados con el departamento con ID 21\n",
        "print(df_products[df_products['department_id'] == 21]['product_name'].isnull().sum())"
      ]
    },
    {
      "cell_type": "markdown",
      "id": "qDpdYn1Fht_I",
      "metadata": {
        "id": "qDpdYn1Fht_I"
      },
      "source": [
        "Describe brevemente cuáles son tus hallazgos.\n",
        "\n",
        "En efecto, todos los valores auscentes están relacionados con el departamento de id 21.\n"
      ]
    },
    {
      "cell_type": "code",
      "execution_count": null,
      "id": "325c3464",
      "metadata": {
        "id": "325c3464",
        "trusted": false,
        "outputId": "c1a955bd-b894-4ada-a35f-f3ab9f93fe20"
      },
      "outputs": [
        {
          "name": "stdout",
          "output_type": "stream",
          "text": [
            "    aisle_id    aisle\n",
            "99       100  missing\n",
            "    department_id department\n",
            "20             21    missing\n"
          ]
        }
      ],
      "source": [
        "# Usa las tablas department y aisle para revisar los datos del pasillo con ID 100 y el departamento con ID 21.\n",
        "\n",
        "print(df_aisles[df_aisles['aisle_id']==100])\n",
        "print(df_departments[df_departments['department_id']==21])"
      ]
    },
    {
      "cell_type": "markdown",
      "id": "nqhSTUPhhvEJ",
      "metadata": {
        "id": "nqhSTUPhhvEJ"
      },
      "source": [
        "Describe brevemente cuáles son tus hallazgos.\n",
        "\n",
        "En los valores que describen al deparmtamento y al pasillo se lee \"missing\" (faltante, en español).\n"
      ]
    },
    {
      "cell_type": "code",
      "execution_count": null,
      "id": "6b295120",
      "metadata": {
        "id": "6b295120",
        "trusted": false
      },
      "outputs": [],
      "source": [
        "# Completa los nombres de productos ausentes con 'Unknown'\n",
        "\n",
        "df_products['product_name'].fillna('Unknown') # Rellenamos los valores ..\n",
        "#...auscentes con un str vacio para mantener consistencia en tipo de datos\n",
        "\n",
        "print(f'Valores faltantes:\\n', df_products['product_name'].isna().sum()) #Ya no hay valores auscentes\n",
        "\n",
        "print(df_products[df_products['product_name']== 'Unknown'].head()) #Una muestra de como han quedado rellenos los valores auscentes\n"
      ]
    },
    {
      "cell_type": "markdown",
      "id": "fc70e5ad",
      "metadata": {
        "id": "fc70e5ad"
      },
      "source": [
        "Describe brevemente tus hallazgos y lo que hiciste con ellos.\n",
        "\n",
        "Se encontraron 1258 nombres de productos faltantes, en su totalidad pertenecientes a un departamento y un pasillo faltantes. Se rellenaron todos los valores auscentes en la columna de product_name con la palabra 'Unknown' indicando que se desconoce esa informacion y a la vez siendo consistente con el tipo de dato de la columna (string)."
      ]
    },
    {
      "cell_type": "markdown",
      "id": "7eb45c86",
      "metadata": {
        "id": "7eb45c86"
      },
      "source": [
        "### `orders` data frame"
      ]
    },
    {
      "cell_type": "code",
      "execution_count": null,
      "id": "93e41d96",
      "metadata": {
        "id": "93e41d96",
        "trusted": false,
        "outputId": "a652c275-ae2c-4f0e-c38a-7f9188fe26c0"
      },
      "outputs": [
        {
          "name": "stdout",
          "output_type": "stream",
          "text": [
            "28817\n"
          ]
        }
      ],
      "source": [
        "# Encuentra los valores ausentes\n",
        "\n",
        "print(df_instacart_orders['days_since_prior_order'].isna().sum())"
      ]
    },
    {
      "cell_type": "code",
      "execution_count": null,
      "id": "166e5a86",
      "metadata": {
        "id": "166e5a86",
        "trusted": false,
        "outputId": "08ee6050-73a4-4f5e-e3f8-df73d5f687b3"
      },
      "outputs": [
        {
          "name": "stdout",
          "output_type": "stream",
          "text": [
            "¿con que valor se representa la primer orden?:  1\n",
            "\n",
            "Valores ausentes de \"dias desde el ultimo pedido\" por ser la primer orden:\n",
            " 28817\n"
          ]
        }
      ],
      "source": [
        "# ¿Hay algún valor ausente que no sea el primer pedido del cliente?\n",
        "\n",
        "print(f'¿con que valor se representa la primer orden?: ', df_instacart_orders['order_number'].min())\n",
        "print('')\n",
        "print(f'Valores ausentes de \"dias desde el ultimo pedido\" por ser la primer orden:\\n', df_instacart_orders[df_instacart_orders['order_number'] == 1]['days_since_prior_order'].isna().sum())"
      ]
    },
    {
      "cell_type": "markdown",
      "id": "4e23d089",
      "metadata": {
        "id": "4e23d089"
      },
      "source": [
        "Describe brevemente tus hallazgos y lo que hiciste con ellos.\n",
        "\n",
        "Todos los valores auscentes en la columna que guarda el valor de los días transcurridos desde la última orden, se debe a que no había una orden previa, es decir, que es la primer orden que hace el usuario.\n"
      ]
    },
    {
      "cell_type": "markdown",
      "id": "69dc9ca4",
      "metadata": {
        "id": "69dc9ca4"
      },
      "source": [
        "### `order_products` data frame"
      ]
    },
    {
      "cell_type": "code",
      "execution_count": null,
      "id": "b8240253",
      "metadata": {
        "id": "b8240253",
        "trusted": false,
        "outputId": "1d91abc5-06e0-45d8-cd9b-8b813f70be4d"
      },
      "outputs": [
        {
          "name": "stdout",
          "output_type": "stream",
          "text": [
            "836\n"
          ]
        }
      ],
      "source": [
        "# Encuentra los valores ausentes\n",
        "print(df_order_products['add_to_cart_order'].isna().sum())"
      ]
    },
    {
      "cell_type": "code",
      "execution_count": null,
      "id": "9a78e5ee",
      "metadata": {
        "id": "9a78e5ee",
        "trusted": false,
        "outputId": "feda8509-dd46-4885-baac-ef7a6ad81760"
      },
      "outputs": [
        {
          "name": "stdout",
          "output_type": "stream",
          "text": [
            "Valor mínimo: 1.0\n",
            "Valor máximo: 64.0\n"
          ]
        }
      ],
      "source": [
        "# ¿Cuáles son los valores mínimos y máximos en esta columna?\n",
        "print(f'Valor mínimo:', df_order_products['add_to_cart_order'].min())\n",
        "print(f'Valor máximo:', df_order_products['add_to_cart_order'].max())"
      ]
    },
    {
      "cell_type": "markdown",
      "id": "-Z2Ja215jW78",
      "metadata": {
        "id": "-Z2Ja215jW78"
      },
      "source": [
        "Describe brevemente cuáles son tus hallazgos.\n",
        "\n",
        "Tenemos ordenes de hasta 64 productos, hay usuarios que han comprado solo 1 artículo."
      ]
    },
    {
      "cell_type": "code",
      "execution_count": null,
      "id": "ab9d0c2b",
      "metadata": {
        "id": "ab9d0c2b",
        "trusted": false
      },
      "outputs": [],
      "source": [
        "# Guarda todas las IDs de pedidos que tengan un valor ausente en 'add_to_cart_order'\n",
        "\n",
        "df_order_products['add_to_cart_order_null'] = df_order_products['add_to_cart_order'].isna() #Genera columna en df que indica True si hay valor auscente en 'add_to_cart_order'\n",
        "order_id_add_to_cart_null = df_order_products[df_order_products['add_to_cart_order_null'] == True]['order_id'] #Guardar ids de pedidos con valor ausente en 'add_to_cart_order'\n"
      ]
    },
    {
      "cell_type": "code",
      "execution_count": null,
      "id": "54c31695",
      "metadata": {
        "id": "54c31695",
        "trusted": false,
        "outputId": "d1a6200a-67c2-432f-b07d-df800c1762ae"
      },
      "outputs": [
        {
          "name": "stdout",
          "output_type": "stream",
          "text": [
            "Cuenta product_id en cada pedido: \n",
            " order_id\n",
            "9310        1\n",
            "61355      63\n",
            "102236     31\n",
            "129627      5\n",
            "165801      6\n",
            "           ..\n",
            "2999801     6\n",
            "3125735    22\n",
            "3308010    51\n",
            "3347453     7\n",
            "3383594     5\n",
            "Name: product_id, Length: 70, dtype: int64\n",
            "\n",
            "Valor mínimo de conteo: \n",
            " 1\n"
          ]
        }
      ],
      "source": [
        "# ¿Todos los pedidos con valores ausentes tienen más de 64 productos?\n",
        "# Agrupa todos los pedidos con datos ausentes por su ID de pedido.\n",
        "# Cuenta el número de 'product_id' en cada pedido y revisa el valor mínimo del conteo.\n",
        "\n",
        "df_order_proudcts_add_to_cart_null = df_order_products[df_order_products['add_to_cart_order_null'] == True] # DF de todos los pedidos con datos ausentes\n",
        "print(f'Cuenta product_id en cada pedido: \\n', df_order_proudcts_add_to_cart_null. groupby(by='order_id')['product_id'].count())\n",
        "print('')\n",
        "print(f'Valor mínimo de conteo: \\n', df_order_proudcts_add_to_cart_null. groupby(by='order_id')['product_id'].count().min())\n",
        "\n"
      ]
    },
    {
      "cell_type": "markdown",
      "id": "p9V6pddtjglj",
      "metadata": {
        "id": "p9V6pddtjglj"
      },
      "source": [
        "Describe brevemente cuáles son tus hallazgos.\n",
        "\n",
        "Se ha contado el numero de productos que tenemos en cada orden que tenia valor auscente en 'add_to_cart_order' (número que indica el orden secuencial en que se añadio cada articulo en el carrito).\n",
        "No todos los pedidos con valores auscentes tienen más de 64 productos, de hecho ninguno."
      ]
    },
    {
      "cell_type": "code",
      "execution_count": null,
      "id": "7a987d08",
      "metadata": {
        "id": "7a987d08",
        "trusted": false
      },
      "outputs": [],
      "source": [
        "# Remplaza los valores ausentes en la columna 'add_to_cart? con 999 y convierte la columna al tipo entero.\n",
        "\n",
        "df_order_products['add_to_cart_order'].fillna('999')\n",
        "df_order_products['add_to_cart_order'] =df_order_products['add_to_cart_order'].astype(int)\n",
        "print(df_order_products.info())"
      ]
    },
    {
      "cell_type": "markdown",
      "id": "fea4bcc7",
      "metadata": {
        "id": "fea4bcc7"
      },
      "source": [
        "Describe brevemente tus hallazgos y lo que hiciste con ellos.\n",
        "\n",
        "Se rellenaron todos los valores ausentes de las con 999 y se tranformo a tipo de dato entero. Se conprobo con .info() que la columna 'add_to_cart_order' paso de ser flotante a entero.\n"
      ]
    },
    {
      "cell_type": "markdown",
      "id": "RnplPFY1gSrb",
      "metadata": {
        "id": "RnplPFY1gSrb"
      },
      "source": [
        "## Conclusiones\n",
        "\n",
        "Escribe aquí tus conclusiones intermedias sobre el Paso 2. Preprocesamiento de los datos\n",
        "\n",
        "El preprocesamiento de los datos consta de tres puntos:\n",
        "1. Revisar que el tipo de dato de cada columna sea la adecuada.\n",
        "2. Detectar y eliminar datos duplicados reales:\n",
        "Para ello hay que revisar que no haya filas completas repetidas, como columnas de datos que deberían ser únicos como los identificadores. Hay que tener cuidado y revisar, con ayuda de la descripción de las bases de datos, que en realidad la posibilidad de que se repita los valores de alguna columna en particular sea nula.\n",
        "3. Detectar valores ausentes y completar:\n",
        "Cuando se detectan valores auscentes hay ocasiones en las que se pueden eliminar esas filas, sin embargo, la mayoría de las veces esto representa una perdida de información por lo que hay que rellenar  estos valores auscentes con valores del tipo de dato que convenga para que sea concordante al tipo de datos de los valores de esa columna y así poder procesar de una manera más eficiente y sencilla los filtrados de los datos.\n"
      ]
    },
    {
      "cell_type": "markdown",
      "id": "UjrOIwTcz3ri",
      "metadata": {
        "id": "UjrOIwTcz3ri"
      },
      "source": [
        "# Paso 3. Análisis de los datos\n",
        "\n",
        "Una vez los datos estén procesados y listos, haz el siguiente análisis:"
      ]
    },
    {
      "cell_type": "markdown",
      "id": "turkish-kidney",
      "metadata": {
        "id": "turkish-kidney"
      },
      "source": [
        "# [A]\n",
        "\n",
        "1. Verifica que los valores en las columnas `'order_hour_of_day'` y `'order_dow'` en la tabla orders sean razonables (es decir, `'order_hour_of_day'` oscile entre 0 y 23 y `'order_dow'` oscile entre 0 y 6).\n",
        "2. Crea un gráfico que muestre el número de personas que hacen pedidos dependiendo de la hora del día.\n",
        "3. Crea un gráfico que muestre qué día de la semana la gente hace sus compras.\n",
        "4. Crea un gráfico que muestre el tiempo que la gente espera hasta hacer su siguiente pedido, y comenta sobre los valores mínimos y máximos."
      ]
    },
    {
      "cell_type": "markdown",
      "id": "short-capability",
      "metadata": {
        "id": "short-capability"
      },
      "source": [
        "### [A1] Verifica que los valores sean sensibles"
      ]
    },
    {
      "cell_type": "code",
      "execution_count": null,
      "id": "growing-fruit",
      "metadata": {
        "id": "growing-fruit",
        "trusted": false,
        "outputId": "5e4cb3c5-5bdf-424a-a975-7c6f47b2a402"
      },
      "outputs": [
        {
          "name": "stdout",
          "output_type": "stream",
          "text": [
            "0\n",
            "23\n"
          ]
        }
      ],
      "source": [
        "print( df_instacart_orders['order_hour_of_day'].min())\n",
        "print( df_instacart_orders['order_hour_of_day'].max())"
      ]
    },
    {
      "cell_type": "code",
      "execution_count": null,
      "id": "accessory-malaysia",
      "metadata": {
        "id": "accessory-malaysia",
        "trusted": false,
        "outputId": "75784ba8-bd4b-490b-d788-0ac4af758344"
      },
      "outputs": [
        {
          "name": "stdout",
          "output_type": "stream",
          "text": [
            "0\n",
            "6\n"
          ]
        }
      ],
      "source": [
        "print( df_instacart_orders['order_dow'].min())\n",
        "print( df_instacart_orders['order_dow'].max())"
      ]
    },
    {
      "cell_type": "markdown",
      "id": "hmR2GNQ6lCsX",
      "metadata": {
        "id": "hmR2GNQ6lCsX"
      },
      "source": [
        "Escribe aquí tus conclusiones\n",
        "\n",
        "Los valores de ambas columnas son razonables. La que describe la hora del día en que se hizo el pedido ocila entre 0 (12am) y 23 (11pm); y la que describe el día de la semana entre 0 (domingo) y 6 (sábado).\n",
        "\n"
      ]
    },
    {
      "cell_type": "markdown",
      "id": "a6743a70",
      "metadata": {
        "id": "a6743a70"
      },
      "source": [
        "### [A2] Para cada hora del día, ¿cuántas personas hacen órdenes?"
      ]
    },
    {
      "cell_type": "code",
      "execution_count": null,
      "id": "a36cca27",
      "metadata": {
        "id": "a36cca27",
        "trusted": false,
        "outputId": "cb9b1b9b-c33b-4743-a02c-0a71b576beda"
      },
      "outputs": [
        {
          "data": {
            "image/png": "[encoded data removed]",
            "text/plain": [
              "<Figure size 500x500 with 1 Axes>"
            ]
          },
          "metadata": {},
          "output_type": "display_data"
        }
      ],
      "source": [
        "people_per_hour = df_instacart_orders. groupby(by='order_hour_of_day')['user_id'].count()\n",
        "#print(people_per_hour)\n",
        "#print(people_per_hour.max()) #40578\n",
        "\n",
        "people_per_hour.plot ( x ='order_hour_of_day',\n",
        "                          y = 'user_id',\n",
        "                          title = 'Quantity of users who orders per hour of the day',\n",
        "                          kind ='bar',\n",
        "                          xlim = [0,23],\n",
        "                          ylabel = 'Number of users',\n",
        "                          xlabel = 'Hour of the day',\n",
        "                          figsize =(5,5),\n",
        "                      color = 'darksalmon'\n",
        "\n",
        ")\n",
        "\n",
        "plt.show()"
      ]
    },
    {
      "cell_type": "markdown",
      "id": "11270eed",
      "metadata": {
        "id": "11270eed"
      },
      "source": [
        "Escribe aquí tus conclusiones\n",
        "\n",
        "Se utiliza una gráfica de barras ya que se comparan variables discretas (número de usuarios que hace una orden por hora de la semana).\n",
        "\n",
        "En esta gráfica podemos notar que se hacen más pedidos entre las 9 y 17 hrs, siendo la hora pico las 10 de la mañana; y la menor proporcion de compras se genera entre las 11 y 6 hrs, siendo más notorio entre las 3 y 4 hrs."
      ]
    },
    {
      "cell_type": "markdown",
      "id": "documented-command",
      "metadata": {
        "id": "documented-command"
      },
      "source": [
        "### [A3] ¿Qué día de la semana compran víveres las personas?"
      ]
    },
    {
      "cell_type": "code",
      "execution_count": null,
      "id": "chief-digit",
      "metadata": {
        "id": "chief-digit",
        "trusted": false,
        "outputId": "f66f7d22-ba04-4f94-cb76-383c62f62a9c"
      },
      "outputs": [
        {
          "data": {
            "image/png": "[encoded data removed]",
            "text/plain": [
              "<Figure size 500x500 with 1 Axes>"
            ]
          },
          "metadata": {},
          "output_type": "display_data"
        }
      ],
      "source": [
        "orders_per_day = df_instacart_orders. groupby(by='order_dow')['order_id'].count()\n",
        "#print(orders_per_day)\n",
        "#print(orders_per_day.min()) # = 59810\n",
        "#print(orders_per_day.max()) #= 84090\n",
        "\n",
        "orders_per_day.plot ( x ='order_dow',\n",
        "                          y = 'order_id',\n",
        "                          title = 'Day of the week when people prefers to order',\n",
        "                          kind ='bar',\n",
        "                          ylabel = 'Number of orders',\n",
        "                          xlabel = 'Day of the week',\n",
        "                          figsize =(5,5),\n",
        "                     color ='darkseagreen'\n",
        "\n",
        ")\n",
        "\n",
        "plt.show()"
      ]
    },
    {
      "cell_type": "markdown",
      "id": "dominant-lightning",
      "metadata": {
        "id": "dominant-lightning"
      },
      "source": [
        "Escribe aquí tus conclusiones\n",
        "\n",
        "Las ordenes no varían en grandes proporciones durante la semana, sin embargo se nota un mayor aunemto de ordenes en fin de semana, especialmente las personas prefieren el domingo para hacer las compras."
      ]
    },
    {
      "cell_type": "markdown",
      "id": "cutting-concert",
      "metadata": {
        "id": "cutting-concert"
      },
      "source": [
        "### [A4] ¿Cuánto tiempo esperan las personas hasta hacer otro pedido? Comenta sobre los valores mínimos y máximos."
      ]
    },
    {
      "cell_type": "code",
      "execution_count": null,
      "id": "c231f523",
      "metadata": {
        "id": "c231f523",
        "trusted": false,
        "outputId": "f4cc6211-88fd-4fe1-9372-959df24eb914"
      },
      "outputs": [
        {
          "data": {
            "image/png": "[encoded data removed]",
            "text/plain": [
              "<Figure size 500x500 with 1 Axes>"
            ]
          },
          "metadata": {},
          "output_type": "display_data"
        }
      ],
      "source": [
        "orders_by_days_since_prior_order = df_instacart_orders. groupby(by='days_since_prior_order')['order_id'].count()\n",
        "#print(orders_by_days_since_prior_order)\n",
        "#print(orders_by_days_since_prior_order.max()) #= 51337\n",
        "\n",
        "orders_by_days_since_prior_order.plot ( x ='days_since_prior_order',\n",
        "                          y = 'order_id',\n",
        "                          title = 'Time that people wait to make a new order ',\n",
        "                          kind ='bar',\n",
        "                          ylabel = 'Number of orders',\n",
        "                          xlabel = 'Time (days)',\n",
        "                          figsize =(5,5),\n",
        "                        color = 'lightseagreen'\n",
        "\n",
        ")\n",
        "\n",
        "plt.show()"
      ]
    },
    {
      "cell_type": "markdown",
      "id": "discrete-vertex",
      "metadata": {
        "id": "discrete-vertex"
      },
      "source": [
        "Escribe aquí tus conclusiones\n",
        "\n",
        "El tiempo que tardan los usuarios en generar un nuevo pedido va de 0 (el mismo día) a 30 días. La preferencia es hacer los víveres cada mes (30 días) seguido por el grupo de personas que prefieren hacer la compra cada semana (7 días).\n"
      ]
    },
    {
      "cell_type": "markdown",
      "id": "2869124c",
      "metadata": {
        "id": "2869124c"
      },
      "source": [
        "\n",
        "<div class=\"alert alert-block alert-success\">\n",
        "<b>Comentario del revisor</b> <a class=\"tocSkip\"></a>\n",
        "\n",
        "Muy buena esta sección. Los gráficos son muy claros y descriptivos. Muy bien al usar títulos y descripciones de los ejes.\n",
        "</div>"
      ]
    },
    {
      "cell_type": "markdown",
      "id": "tight-staff",
      "metadata": {
        "id": "tight-staff"
      },
      "source": [
        "# [B]\n",
        "\n",
        "1. ¿Existe alguna diferencia entre las distribuciones `'order_hour_of_day'` de los miércoles y los sábados? Traza gráficos de barra de `'order_hour_of_day'` para ambos días en la misma figura y describe las diferencias que observes.\n",
        "2. Grafica la distribución para el número de órdenes que hacen los clientes (es decir, cuántos clientes hicieron solo 1 pedido, cuántos hicieron 2, cuántos 3, y así sucesivamente...).\n",
        "3. ¿Cuáles son los 20 principales productos que se piden con más frecuencia (muestra su identificación y nombre)?"
      ]
    },
    {
      "cell_type": "markdown",
      "id": "packed-classic",
      "metadata": {
        "id": "packed-classic"
      },
      "source": [
        "### [B1] Diferencia entre miércoles y sábados para  `'order_hour_of_day'`. Traza gráficos de barra para los dos días y describe las diferencias que veas."
      ]
    },
    {
      "cell_type": "code",
      "execution_count": null,
      "id": "d89b8403",
      "metadata": {
        "id": "d89b8403",
        "trusted": false
      },
      "outputs": [],
      "source": [
        "#Filtro de filas para día miércoles\n",
        "\n",
        "order_hours_wendsday = df_instacart_orders[df_instacart_orders['order_dow']== 3].groupby(by='order_hour_of_day')['order_id'].count()\n",
        "#print(order_hours_wendsday)"
      ]
    },
    {
      "cell_type": "code",
      "execution_count": null,
      "id": "94e54e8a",
      "metadata": {
        "id": "94e54e8a",
        "trusted": false
      },
      "outputs": [],
      "source": [
        "#Filtro de filas para día sábado\n",
        "\n",
        "order_hours_saturday= df_instacart_orders[df_instacart_orders['order_dow']== 1].groupby(by='order_hour_of_day')['order_id'].count()\n",
        "#print(order_hours_saturday)"
      ]
    },
    {
      "cell_type": "code",
      "execution_count": null,
      "id": "797c90a8",
      "metadata": {
        "id": "797c90a8",
        "trusted": false
      },
      "outputs": [],
      "source": [
        "#Formamos un dataframe con los series obtenidos\n",
        "\n",
        "df_concat =pd.concat([order_hours_wendsday,order_hours_saturday], axis = 'columns')\n",
        "df_concat.columns = ['order_quantity_wendnesday','order_quantity_saturday']\n",
        "#print(df_concat)\n"
      ]
    },
    {
      "cell_type": "code",
      "execution_count": null,
      "id": "35bcea30",
      "metadata": {
        "id": "35bcea30",
        "trusted": false,
        "outputId": "95ea5e48-61e0-42c9-d62d-24cb5743a498"
      },
      "outputs": [
        {
          "data": {
            "image/png": "[encoded data removed]",
            "text/plain": [
              "<Figure size 500x500 with 1 Axes>"
            ]
          },
          "metadata": {},
          "output_type": "display_data"
        }
      ],
      "source": [
        "#Graficamos a partir del dataframe creado\n",
        "\n",
        "cols =['order_quantity_wendnesday','order_quantity_saturday']\n",
        "\n",
        "df_concat.plot (\n",
        "                          y = cols,\n",
        "                          title = 'Order distribution on Wendnesday and Saturday ',\n",
        "                          kind ='bar',\n",
        "                          ylabel = 'Number of orders',\n",
        "                          xlabel = 'Hour of the day',\n",
        "                          figsize =(5,5)\n",
        "\n",
        ")\n",
        "plt.legend(['Wenesday','Saturday'])\n",
        "plt.show()"
      ]
    },
    {
      "cell_type": "markdown",
      "id": "charitable-congo",
      "metadata": {
        "id": "charitable-congo"
      },
      "source": [
        "Escribe aquí tus conclusiones\n",
        "\n",
        "Parece que en general la distribuciones para 'order_hour_of_day' de los miércoles y los sábados son similiares, se sigue un comportamiento parecido en cuanto a las horas preferidas para hacer las compras. Sin embargo, también podemos notar que entre las 9 am y las 4pm es cuando en los sábados aumenta en mayor proporción la cantidad de ordenes realizadas por los usuarios; Siendo el sábado a las 10 am cuando se disparan las ventas.\n",
        "\n",
        "Ademas podemos notar que el comportamiento entre las 12 y las 15 hrs, es diferente , el sábado disminuye conforme pasan las horas y los miecoles aumenta; estos cambios no parecen significativos."
      ]
    },
    {
      "cell_type": "markdown",
      "id": "e3891143",
      "metadata": {
        "id": "e3891143"
      },
      "source": [
        "### [B2] ¿Cuál es la distribución para el número de pedidos por cliente?"
      ]
    },
    {
      "cell_type": "code",
      "execution_count": null,
      "id": "d8c26c23",
      "metadata": {
        "id": "d8c26c23",
        "trusted": false
      },
      "outputs": [],
      "source": [
        "#obtener el numero de usuarios que han hecho cierta cantidad del ordenes (el que más ha hecho son 100 pedidos)\n",
        "\n",
        "orders_per_user = df_instacart_orders.groupby(by='order_number')['user_id'].count()\n",
        "#print(orders_per_user)"
      ]
    },
    {
      "cell_type": "code",
      "execution_count": null,
      "id": "00e69a66",
      "metadata": {
        "id": "00e69a66",
        "trusted": false,
        "outputId": "b0d36b26-5972-47b7-b547-8bc00ababb27"
      },
      "outputs": [
        {
          "data": {
            "image/png": "[encoded data removed]",
            "text/plain": [
              "<Figure size 1500x1000 with 1 Axes>"
            ]
          },
          "metadata": {},
          "output_type": "display_data"
        }
      ],
      "source": [
        "orders_per_user.plot(x= 'order_number',\n",
        "                     title = '¿How much orders do a user make?',\n",
        "                     kind ='bar',\n",
        "                     xlabel = 'Number of orders',\n",
        "                     ylabel = 'Quantity of users',\n",
        "                     rot = 90,\n",
        "                     figsize =(15,10),\n",
        "                     color = 'lightseagreen'\n",
        "                    )\n",
        "\n",
        "plt.show()"
      ]
    },
    {
      "cell_type": "markdown",
      "id": "d2eff7d5",
      "metadata": {
        "id": "d2eff7d5"
      },
      "source": [
        "Escribe aquí tus conclusiones\n",
        "\n",
        "Observamos que es comun que los usuarios generen hasta 4 pedidos, a partir de ahí la gráfica disminuye exponencialmente (cada vez menos usuarios compran un pedido más)."
      ]
    },
    {
      "cell_type": "markdown",
      "id": "54a0319c",
      "metadata": {
        "id": "54a0319c"
      },
      "source": [
        "### [B3] ¿Cuáles son los 20 productos más populares (muestra su ID y nombre)?"
      ]
    },
    {
      "cell_type": "code",
      "execution_count": null,
      "id": "exterior-arizona",
      "metadata": {
        "id": "exterior-arizona",
        "scrolled": true,
        "trusted": false
      },
      "outputs": [],
      "source": [
        "popular_products = df_order_products.groupby(by='product_id')['order_id'].count()\n",
        "#Agrupa por prouct id y ...\n",
        "#...cuenta las oredenes en las que esta (si esta varias veces en una misma orden cuanta cada vez que aparece)\n",
        "\n",
        "popular_products = popular_products.sort_values(ascending=False) # Ordena por los que se pidieron más veces\n",
        "popular_products = popular_products.head(20) # Solo necesitamos los 20 más vendidos\n",
        "#print(popular_products)"
      ]
    },
    {
      "cell_type": "code",
      "execution_count": null,
      "id": "universal-facial",
      "metadata": {
        "id": "universal-facial",
        "trusted": false
      },
      "outputs": [],
      "source": [
        "#relación de nombres y id de productos\n",
        "product_names = df_products.groupby(by='product_id')['product_name']\n",
        "#print(product_names.head())\n",
        ""
      ]
    },
    {
      "cell_type": "code",
      "execution_count": null,
      "id": "bbcdd20b",
      "metadata": {
        "id": "bbcdd20b",
        "trusted": false,
        "outputId": "e05cff4b-bc38-44a8-ccee-f6a707d09ba8"
      },
      "outputs": [
        {
          "name": "stderr",
          "output_type": "stream",
          "text": [
            "C:\\Users\\cucum\\AppData\\Local\\Temp\\ipykernel_13060\\1171632594.py:15: FutureWarning: Calling int on a single element Series is deprecated and will raise a TypeError in the future. Use int(ser.iloc[0]) instead\n",
            "  popular_product_name_id.plot(x= 'id_name',\n"
          ]
        },
        {
          "data": {
            "image/png": "[encoded data removed]",
            "text/plain": [
              "<Figure size 700x500 with 1 Axes>"
            ]
          },
          "metadata": {},
          "output_type": "display_data"
        }
      ],
      "source": [
        "# se convierten los series en dataframes\n",
        "popular_products = pd.DataFrame(popular_products)\n",
        "product_names = pd.DataFrame(product_names, columns= ['product_id','product_name'])\n",
        "\n",
        "\n",
        "#se fusionan dataframes donde en ambas dataframes aparezca el product id dando como resultado ....\n",
        "#...un dataframe con el product_id, order_id(el numero de veces que se pidio el producto), y el product_name..\n",
        "#...de los 20 productos más populares( porpular_products va a limitar las filas que apareceran en el nuevo dataframe)\n",
        "popular_product_name_id = popular_products.merge(product_names, on ='product_id', how ='inner')\n",
        "\n",
        "#Una nueva columan con valores juntos de product_id y product_name\n",
        "popular_product_name_id['id_name'] = popular_product_name_id['product_id'].map(str) + \" \" + popular_product_name_id['product_name']\n",
        "\n",
        "#Graficar\n",
        "popular_product_name_id.plot(x= 'id_name',\n",
        "                             y= 'order_id',\n",
        "                             title = 'The 20 most popular products',\n",
        "                             kind ='bar',\n",
        "                             xlabel = 'Pruduct ID and name',\n",
        "                             ylabel = 'Quantity of times sold',\n",
        "                             rot = 90,\n",
        "                             figsize =(7,5),\n",
        "                             color = 'tan',\n",
        "                             legend = False\n",
        "                    )\n",
        "\n",
        "plt.show()"
      ]
    },
    {
      "cell_type": "markdown",
      "id": "7df00f47",
      "metadata": {
        "id": "7df00f47"
      },
      "source": [
        "Escribe aquí tus conclusiones\n",
        "\n",
        "Los 20 productos más vendidos son : BANANA, BAG OF ORGANIC BANANAS, ORGANIC STRAWBERRIES, ORGANIC BABY SPINACH, ORGANIC HASS AVOCADO, ORGANIC AVOCADO, LARGE LEMON, STRAWBERRIES, LIMES, ORGANIC WHOLE MILK, ORGANIC RASPBERRIES, ORGANIC YELLOW ONION, ORGANIC GARLIC, ORGANIC ZUCCHINI,ORGANIC BLUEBERRIES, CUCUMBER KIRBY, ORGANIC FUJI APPLE, ORGANIC LEMON, APPLE HONEYCRISP ORGANIC, ORGANIC GRAPE TOMATOES. En ese orden, las bananas siendo las más pedidas.\n",
        "\n",
        "Para trabajar con este tipo de preguntas en las que se necesita información de dos tabals distintas, es conveniente primero hacer las operaciones necesarias en cada una de ella (en ese caso primero se obtivieron los id de los 20 productos más vendidos) para despues complementar con la información que se encuentra en la otra tabla (los nombres de los productos) mediante el método .merge(). Hay que tomar en cuenta que el metodo .merge() solo trabaja con objetos DataFrames y que tiene 4 diferentes maneras de fusionerlos ('inner', 'outer','right','left')."
      ]
    },
    {
      "cell_type": "markdown",
      "id": "gross-theme",
      "metadata": {
        "id": "gross-theme"
      },
      "source": [
        "# [C]\n",
        "\n",
        "1. ¿Cuántos artículos suelen comprar las personas en un pedido? ¿Cómo es la distribución?\n",
        "2. ¿Cuáles son los 20 principales artículos que vuelven a pedirse con mayor frecuencia (muestra sus nombres e IDs de los productos)?\n",
        "3. Para cada producto, ¿cuál es la tasa de repetición del pedido (número de repeticiones de pedido/total de pedidos?\n",
        "4. Para cada cliente, ¿qué proporción de los productos que pidió ya los había pedido? Calcula la tasa de repetición de pedido para cada usuario en lugar de para cada producto.\n",
        "5. ¿Cuáles son los 20 principales artículos que la gente pone primero en sus carritos (muestra las IDs de los productos, sus nombres, y el número de veces en que fueron el primer artículo en añadirse al carrito)?"
      ]
    },
    {
      "cell_type": "markdown",
      "id": "romantic-deposit",
      "metadata": {
        "id": "romantic-deposit"
      },
      "source": [
        "### [C1] ¿Cuántos artículos compran normalmente las personas en un pedido? ¿Cómo es la distribución?"
      ]
    },
    {
      "cell_type": "code",
      "execution_count": null,
      "id": "virtual-punch",
      "metadata": {
        "id": "virtual-punch",
        "trusted": false
      },
      "outputs": [],
      "source": [
        "#agrupar por order_id y toma el valor máximo del orden secuencial en que ....\n",
        "#...se añadieron los productos en el carrito (el numerode productos de esa orden)\n",
        "\n",
        "orders_product_quantity = df_order_products.groupby(by='order_id')['add_to_cart_order'].max()\n",
        "orders_product_quantity  = pd.DataFrame(orders_product_quantity)\n",
        "#print(orders_product_quantity)"
      ]
    },
    {
      "cell_type": "code",
      "execution_count": null,
      "id": "sensitive-breathing",
      "metadata": {
        "id": "sensitive-breathing",
        "trusted": false
      },
      "outputs": [],
      "source": [
        "#Agrupamos por cantidad de productos en orden y contamos en cuantas veces aparece este número...\n",
        "#...(cuantas ordenes tuvieron esta cantidad de artículos)\n",
        "\n",
        "order_quantity_per_product_quantity = orders_product_quantity.groupby(by='add_to_cart_order')['add_to_cart_order'].count()\n",
        "#print(order_quantity_per_product_quantity)\n",
        "#print(df_order_products['add_to_cart_order'].max()) #corroboramos cual es el valor máximo de articulos que ha tenido un pedido\n"
      ]
    },
    {
      "cell_type": "code",
      "execution_count": null,
      "id": "completed-frank",
      "metadata": {
        "id": "completed-frank",
        "trusted": false,
        "outputId": "75e67ad7-6546-4f54-87db-44127087b115"
      },
      "outputs": [
        {
          "data": {
            "image/png": "[encoded data removed]",
            "text/plain": [
              "<Figure size 1500x1000 with 1 Axes>"
            ]
          },
          "metadata": {},
          "output_type": "display_data"
        }
      ],
      "source": [
        "order_quantity_per_product_quantity.plot(x= 'add_to_cart_order',\n",
        "                     title = '¿How much products an order have?',\n",
        "                     kind ='bar',\n",
        "                     xlabel = 'Number of products',\n",
        "                     ylabel = 'Quantity of orders',\n",
        "                     rot = 90,\n",
        "                     figsize =(15,10),\n",
        "                     color = 'goldenrod'\n",
        "                    )\n",
        "\n",
        "plt.show()"
      ]
    },
    {
      "cell_type": "markdown",
      "id": "designed-mortality",
      "metadata": {
        "id": "designed-mortality"
      },
      "source": [
        "Escribe aquí tus conclusiones\n",
        "\n",
        "Las personas suelen comprar entre 1 y 10 artículos por pedido, siendo  lo más común 5 productos. Va disminuyendo exponencialmente las personas que hacen pedidos  mayores a  10 artículos. El tope de artículos que hacen normalmente las personas es de 64.\n",
        "\n",
        "También se nos presenta un dato fuera de rango, en el que se han hecho 70 pedidos de 999 artículos cada uno, debemos recordar que ese es el valor que colocamos en los valores auscentes de la columna 'add_to_cart_order'."
      ]
    },
    {
      "cell_type": "markdown",
      "id": "5e6b5537",
      "metadata": {
        "id": "5e6b5537"
      },
      "source": [
        "### [C2] ¿Cuáles son los 20 principales artículos que vuelven a pedirse con mayor frecuencia (muestra sus nombres e IDs de los productos)?"
      ]
    },
    {
      "cell_type": "code",
      "execution_count": null,
      "id": "9374e55a",
      "metadata": {
        "id": "9374e55a",
        "trusted": false
      },
      "outputs": [],
      "source": [
        "#Filtrar las filas en donde efectivamente se ha vuelto a pedir el producto\n",
        "\n",
        "filtered_df = df_order_products[df_order_products['reordered']==1]\n"
      ]
    },
    {
      "cell_type": "code",
      "execution_count": null,
      "id": "possible-change",
      "metadata": {
        "id": "possible-change",
        "scrolled": true,
        "trusted": false
      },
      "outputs": [],
      "source": [
        "reordered_products = filtered_df.groupby(by='product_id')['reordered'].count() #Agrupa por product id y ...\n",
        "#...cuenta las veces que este producto se ha vuelto a pedir\n",
        "\n",
        "reordered_products = reordered_products.sort_values(ascending=False) # Ordena por los que se reordenaron más veces\n",
        "reordered_products = reordered_products.head(20) # Solo necesitamos los 20 más vendidos\n",
        "#print(reordered_products)"
      ]
    },
    {
      "cell_type": "code",
      "execution_count": null,
      "id": "professional-surfing",
      "metadata": {
        "id": "professional-surfing",
        "scrolled": true,
        "trusted": false
      },
      "outputs": [],
      "source": [
        "#relación de nombres y id de productos\n",
        "product_names = df_products.groupby(by='product_id')['product_name']\n",
        "#print(product_names.head())"
      ]
    },
    {
      "cell_type": "code",
      "execution_count": null,
      "id": "48dd3658",
      "metadata": {
        "id": "48dd3658",
        "trusted": false,
        "outputId": "214ee678-bc4a-4b7a-8dca-ec37b6226cc2"
      },
      "outputs": [
        {
          "name": "stderr",
          "output_type": "stream",
          "text": [
            "C:\\Users\\cucum\\AppData\\Local\\Temp\\ipykernel_13060\\3302176733.py:16: FutureWarning: Calling int on a single element Series is deprecated and will raise a TypeError in the future. Use int(ser.iloc[0]) instead\n",
            "  reordered_product_name_id.plot(x= 'id_name',\n"
          ]
        },
        {
          "data": {
            "image/png": "[encoded data removed]",
            "text/plain": [
              "<Figure size 700x500 with 1 Axes>"
            ]
          },
          "metadata": {},
          "output_type": "display_data"
        }
      ],
      "source": [
        "# se convierten los series en dataframes\n",
        "reordered_products = pd.DataFrame(reordered_products)\n",
        "product_names = pd.DataFrame(product_names, columns= ['product_id','product_name'])\n",
        "\n",
        "#se fusionan dataframes donde en ambas dataframes aparezca el product id dando como resultado ....\n",
        "#...un dataframe con el product_id, reordered(el numero de veces que se volvio a pedir el producto), y el product_name..\n",
        "#...de los 20 productos más vueltos a ordenas( reordered_products va a limitar las filas que apareceran en el nuevo dataframe)\n",
        "reordered_product_name_id = reordered_products.merge(product_names, on ='product_id', how ='inner')\n",
        "#print(reordered_product_name_id.info())\n",
        "#print(reordered_product_name_id)\n",
        "\n",
        "#Una nueva columan con valores juntos de product_id y product_name\n",
        "reordered_product_name_id['id_name'] = reordered_product_name_id['product_id'].map(str) + \" \" + reordered_product_name_id['product_name']\n",
        "\n",
        "#Graficar\n",
        "reordered_product_name_id.plot(x= 'id_name',\n",
        "                             y= 'reordered',\n",
        "                             title = 'The 20 most reordered products',\n",
        "                             kind ='bar',\n",
        "                             xlabel = 'Product ID and name',\n",
        "                             ylabel = 'Quantity of times reordered',\n",
        "                             rot = 90,\n",
        "                             figsize =(7,5),\n",
        "                             color = 'tan',\n",
        "                             legend = False\n",
        "                    )\n",
        "\n",
        "plt.show()"
      ]
    },
    {
      "cell_type": "markdown",
      "id": "80e70c74",
      "metadata": {
        "id": "80e70c74"
      },
      "source": [
        "Escribe aquí tus conclusiones\n",
        "\n",
        "Los 5 productos más vueltos a pedir son los mismos 5 productos más pedidos que hayamos en el apartado anterior, después nos encontramos con otros productos o bien en otro orden. Por lo el hecho de que un producto sea de los más vendidos no quiere decir que sea vuelto a comprar por el mismo usuario."
      ]
    },
    {
      "cell_type": "markdown",
      "id": "9d312b14",
      "metadata": {
        "id": "9d312b14"
      },
      "source": [
        "### [C3] Para cada producto, ¿cuál es la proporción de las veces que se pide y que se vuelve a pedir?"
      ]
    },
    {
      "cell_type": "code",
      "execution_count": null,
      "id": "8ae9f4b1",
      "metadata": {
        "id": "8ae9f4b1",
        "trusted": false
      },
      "outputs": [],
      "source": [
        "times_ordered = df_order_products.groupby(by='product_id')['order_id'].count()\n",
        "times_ordered = pd.DataFrame(times_ordered)\n",
        "#print(times_ordered )"
      ]
    },
    {
      "cell_type": "code",
      "execution_count": null,
      "id": "103e7fe1",
      "metadata": {
        "id": "103e7fe1",
        "trusted": false
      },
      "outputs": [],
      "source": [
        "reordered_df = df_order_products[df_order_products['reordered']==1]\n",
        "times_reordered = filtered_df.groupby(by='product_id')['reordered'].count()\n",
        "times_reordered = pd.DataFrame(times_reordered)\n",
        "#print(times_reordered)"
      ]
    },
    {
      "cell_type": "code",
      "execution_count": null,
      "id": "social-individual",
      "metadata": {
        "id": "social-individual",
        "trusted": false,
        "outputId": "c99fbfe0-88b1-4405-9252-a02b7a3e7d00"
      },
      "outputs": [
        {
          "data": {
            "image/png": "[encoded data removed]",
            "text/plain": [
              "<Figure size 500x500 with 1 Axes>"
            ]
          },
          "metadata": {},
          "output_type": "display_data"
        }
      ],
      "source": [
        "merged_df = times_ordered.merge(times_reordered, on ='product_id', how ='inner')\n",
        "\n",
        "merged_df['proportion'] = merged_df['reordered']/merged_df['order_id']\n",
        "merged_df.sort_values(by='product_id', ascending=True)\n",
        "#print(merged_df)\n",
        "\n",
        "merged_df.plot(y='proportion', bins= 50,\n",
        "                     title = 'Propotion between the times ordered and reordered, for each product',\n",
        "                     kind ='hist',\n",
        "                     figsize =(5,5),\n",
        "                     color = 'lightseagreen',\n",
        "               legend=False\n",
        "                    )\n",
        "\n",
        "plt.show()\n"
      ]
    },
    {
      "cell_type": "markdown",
      "id": "I10dEIAyldcO",
      "metadata": {
        "id": "I10dEIAyldcO"
      },
      "source": [
        "Escribe aquí tus conclusiones\n",
        "\n",
        "Podemos ver que la mayor proporción (10%) de los productos tiene una relación de ser reordenado por las veces de ser pedido de un 0.5 por cierto, esto quiere decir que por cada dos veces que se compra fue vuelto a ordenar 1 vez.\n"
      ]
    },
    {
      "cell_type": "markdown",
      "id": "subject-boxing",
      "metadata": {
        "id": "subject-boxing"
      },
      "source": [
        "### [C4] Para cada cliente, ¿qué proporción de sus productos ya los había pedido?"
      ]
    },
    {
      "cell_type": "code",
      "execution_count": null,
      "id": "medical-couple",
      "metadata": {
        "id": "medical-couple",
        "scrolled": true,
        "trusted": false
      },
      "outputs": [],
      "source": [
        "#Obtener los pedidos de cada usuario\n",
        "df_instacart_orders_users = df_instacart_orders.groupby(by='order_id')['user_id']\n",
        "df_instacart_orders_users = pd.DataFrame(df_instacart_orders_users, columns = ['order_id','user_id'])\n",
        "#print(df_instacart_orders_users.info())\n",
        "\n",
        "#Obtener que cuantos productos ya pedidos tiene cada orden\n",
        "df_instacart_orders_filtered = df_order_products[df_order_products['reordered']==1] #filtrar solo los que son vueltos a pedir\n",
        "df_instacart_orders_reordered = df_instacart_orders_filtered.groupby(by='order_id')['reordered'].count() #agrupar por orden y contar los ya reordenados\n",
        "df_instacart_orders_reordered = pd.DataFrame(df_instacart_orders_reordered)\n",
        "#print(df_instacart_orders_reordered.info())\n",
        "\n",
        "#Obtener que cuantos productos cada orden\n",
        "df_instacart_orders_product_quantity = df_order_products.groupby(by='order_id')['product_id'].count() #agrupar por orden y contar los ya reordenados\n",
        "df_instacart_orders_product_quantity = pd.DataFrame(df_instacart_orders_product_quantity)\n",
        "#print(df_instacart_orders_reordered.info())\n",
        "\n",
        "#  Unir los user_id al df order_products\n",
        "df_order_products_user = df_instacart_orders_users.merge(df_instacart_orders_reordered, on ='order_id', how ='inner')\n",
        "df_order_products_user = df_order_products_user .merge(df_instacart_orders_product_quantity, on ='order_id', how ='inner')\n",
        "#print(df_order_products_user)"
      ]
    },
    {
      "cell_type": "code",
      "execution_count": null,
      "id": "8892e4b4",
      "metadata": {
        "id": "8892e4b4",
        "trusted": false,
        "outputId": "1bc3451b-5eab-4310-dc0d-fd63fd1b56db"
      },
      "outputs": [
        {
          "data": {
            "image/png": "[encoded data removed]",
            "text/plain": [
              "<Figure size 500x500 with 1 Axes>"
            ]
          },
          "metadata": {},
          "output_type": "display_data"
        }
      ],
      "source": [
        "df_order_products_user['proportion'] = df_order_products_user['reordered']/df_order_products_user['product_id']\n",
        "df_order_products_user.sort_values(by='order_id', ascending=True)\n",
        "#print(df_order_products_user)\n",
        "\n",
        "df_order_products_user.plot(y='proportion', bins= 50,\n",
        "                     title = 'Proportion products reordered per user',\n",
        "                     kind ='hist',\n",
        "                     figsize =(5,5),\n",
        "                     color = 'lightseagreen',\n",
        "               legend=False\n",
        "                    )\n",
        "\n",
        "plt.show()"
      ]
    },
    {
      "cell_type": "markdown",
      "id": "BgJSvXDsleXz",
      "metadata": {
        "id": "BgJSvXDsleXz"
      },
      "source": [
        "Escribe aquí tus conclusiones\n",
        "\n",
        "De esta gráfica se entiende que la mayoría de los clientes tiende a pedir los mismos productos (proporción 1.0) recurrentemente."
      ]
    },
    {
      "cell_type": "markdown",
      "id": "92d35137",
      "metadata": {
        "id": "92d35137"
      },
      "source": [
        "### [C5] ¿Cuáles son los 20 principales artículos que las personas ponen primero en sus carritos?"
      ]
    },
    {
      "cell_type": "code",
      "execution_count": null,
      "id": "0ae57274",
      "metadata": {
        "id": "0ae57274",
        "scrolled": true,
        "trusted": false
      },
      "outputs": [],
      "source": [
        "#Filtrar las filas  donde el producto fue el primero en su carrito\n",
        "\n",
        "df_order_products_first_product = df_order_products[df_order_products['add_to_cart_order']==1]\n"
      ]
    },
    {
      "cell_type": "code",
      "execution_count": null,
      "id": "forty-netherlands",
      "metadata": {
        "id": "forty-netherlands",
        "scrolled": true,
        "trusted": false
      },
      "outputs": [],
      "source": [
        "df_first_products_grouped = df_order_products_first_product.groupby(by='product_id')['add_to_cart_order'].count() #Agrupa por product id y ...\n",
        "#...cuenta las veces que fue puesto primero en el carrito\n",
        "\n",
        "df_first_products_grouped = df_first_products_grouped.sort_values(ascending=False) # Ordena por los que se pusieron primero más veces\n",
        "df_first_products_grouped = df_first_products_grouped.head(20) # Solo necesitamos los 20 primeros\n",
        "#print(reordered_products)\n",
        "\n",
        "#relación de nombres y id de productos\n",
        "product_names = df_products.groupby(by='product_id')['product_name']\n",
        "#print(product_names.head())\n",
        "\n",
        "# se convierten los series en dataframes\n",
        "df_first_products_grouped = pd.DataFrame(df_first_products_grouped)\n",
        "product_names = pd.DataFrame(product_names, columns= ['product_id','product_name'])\n",
        "\n",
        "#se fusionan dataframes donde en ambas dataframes aparezca el product id dando como resultado ....\n",
        "#...un dataframe con el product_id,add_to_cart_order(el numero de veces que se pidio primero el producto), y el product_name..\n",
        "#...de los 20 productos que más veces se añadieron primero al carrito ( df_first_products_grouped va a limitar las filas que apareceran en el nuevo dataframe)\n",
        "df_first_products_grouped_name_id = df_first_products_grouped.merge(product_names, on ='product_id', how ='inner')\n",
        "#print(reordered_product_name_id.info())\n",
        "#print(reordered_product_name_id)\n"
      ]
    },
    {
      "cell_type": "code",
      "execution_count": null,
      "id": "08e41ec2",
      "metadata": {
        "id": "08e41ec2",
        "trusted": false,
        "outputId": "7242805a-9012-4c12-8176-3cf3ee3a38e4"
      },
      "outputs": [
        {
          "name": "stderr",
          "output_type": "stream",
          "text": [
            "C:\\Users\\cucum\\AppData\\Local\\Temp\\ipykernel_13060\\2111961146.py:5: FutureWarning: Calling int on a single element Series is deprecated and will raise a TypeError in the future. Use int(ser.iloc[0]) instead\n",
            "  df_first_products_grouped_name_id.plot(x= 'id_name',\n"
          ]
        },
        {
          "data": {
            "image/png": "[encoded data removed]",
            "text/plain": [
              "<Figure size 700x500 with 1 Axes>"
            ]
          },
          "metadata": {},
          "output_type": "display_data"
        }
      ],
      "source": [
        "#Una nueva columan con valores juntos de product_id y product_name\n",
        "df_first_products_grouped_name_id['id_name'] =df_first_products_grouped_name_id['product_id'].map(str) + \" \" + df_first_products_grouped_name_id['product_name']\n",
        "\n",
        "#Graficar\n",
        "df_first_products_grouped_name_id.plot(x= 'id_name',\n",
        "                             y= 'add_to_cart_order',\n",
        "                             title = 'The 20 products which were the first product added to the car more times',\n",
        "                             kind ='bar',\n",
        "                             xlabel = 'Product ID and name',\n",
        "                             ylabel = 'Quantity of times being the first',\n",
        "                             rot = 90,\n",
        "                             figsize =(7,5),\n",
        "                             color = 'gold',\n",
        "                             legend = False\n",
        "                    )\n",
        "\n",
        "plt.show()"
      ]
    },
    {
      "cell_type": "markdown",
      "id": "28ce9872",
      "metadata": {
        "id": "28ce9872"
      },
      "source": [
        "Escribe aquí tus conclusiones\n",
        "\n",
        "Las personas suelen poner en su carrito, justamente los productos más populares : las bananas y bag of organic bananas."
      ]
    },
    {
      "cell_type": "markdown",
      "id": "uITbFCEoDosC",
      "metadata": {
        "id": "uITbFCEoDosC"
      },
      "source": [
        "### Conclusion general del proyecto:"
      ]
    },
    {
      "cell_type": "markdown",
      "id": "49584322",
      "metadata": {
        "id": "49584322"
      },
      "source": [
        "La capacidad de poder visualizar los los datos dados en de una determinada base de datos, nos permite principalmente:\n",
        "1. Comunicar de una manera mucho más clara las respuestas a ciertas preguntas.\n",
        "2. Obtener un panorama general del comportamiento de los datos.\n",
        "\n",
        "Para ello hay que tomar en cuenta varios factores :\n",
        "* Que los datos ya hayan sido adecuadamente preprocesados (revisar tipos de datos, eliminar valores duplicados, completar valores auscentes, etc)\n",
        "* Escoger adecuadamente el tipo de gráfica que representa mejor los datos a presentar.\n",
        "* Que sea claro: un título descriptivo, ejes con etiquetas y unidades, que sean adecuadas y consistentes las escalas en los ejes y que leyendas si se representan varios conjuntos de datos en una misma gráfica.\n",
        "\n",
        "Como analistas de datos hay que recordar que somos responsables de los gráficos que generamos y lo que estos transmiten.\n"
      ]
    }
  ],
  "metadata": {
    "ExecuteTimeLog": [
      {
        "duration": 506,
        "start_time": "2024-12-10T21:03:58.628Z"
      },
      {
        "duration": 1879,
        "start_time": "2024-12-10T21:04:12.092Z"
      },
      {
        "duration": 21,
        "start_time": "2024-12-10T21:04:13.974Z"
      },
      {
        "duration": 12,
        "start_time": "2024-12-10T21:04:47.601Z"
      },
      {
        "duration": 264,
        "start_time": "2024-12-10T21:04:54.680Z"
      },
      {
        "duration": 190,
        "start_time": "2024-12-10T21:05:18.204Z"
      },
      {
        "duration": 158,
        "start_time": "2024-12-10T21:06:08.790Z"
      },
      {
        "duration": 134,
        "start_time": "2024-12-10T21:06:29.118Z"
      },
      {
        "duration": 133,
        "start_time": "2024-12-10T21:07:03.696Z"
      },
      {
        "duration": 139,
        "start_time": "2024-12-10T21:07:36.953Z"
      },
      {
        "duration": 1025,
        "start_time": "2024-12-10T21:08:39.891Z"
      },
      {
        "duration": 813,
        "start_time": "2024-12-10T21:10:31.225Z"
      },
      {
        "duration": 10,
        "start_time": "2024-12-10T21:12:07.974Z"
      },
      {
        "duration": 10,
        "start_time": "2024-12-10T21:12:48.688Z"
      },
      {
        "duration": 10,
        "start_time": "2024-12-10T21:16:50.215Z"
      },
      {
        "duration": 10,
        "start_time": "2024-12-10T21:17:23.020Z"
      },
      {
        "duration": 11,
        "start_time": "2024-12-10T21:17:32.692Z"
      },
      {
        "duration": 8,
        "start_time": "2024-12-10T21:18:00.703Z"
      },
      {
        "duration": 20,
        "start_time": "2024-12-10T21:18:16.713Z"
      },
      {
        "duration": 66,
        "start_time": "2024-12-10T21:47:42.245Z"
      },
      {
        "duration": 63,
        "start_time": "2024-12-10T21:48:00.942Z"
      },
      {
        "duration": 6,
        "start_time": "2024-12-10T21:48:52.417Z"
      },
      {
        "duration": 70,
        "start_time": "2024-12-10T21:48:56.184Z"
      },
      {
        "duration": 65,
        "start_time": "2024-12-10T21:49:09.519Z"
      },
      {
        "duration": 65,
        "start_time": "2024-12-10T21:49:29.104Z"
      },
      {
        "duration": 126,
        "start_time": "2024-12-10T21:53:28.861Z"
      },
      {
        "duration": 133,
        "start_time": "2024-12-10T21:53:45.359Z"
      },
      {
        "duration": 64,
        "start_time": "2024-12-10T21:53:53.933Z"
      },
      {
        "duration": 21,
        "start_time": "2024-12-10T21:54:35.722Z"
      },
      {
        "duration": 21,
        "start_time": "2024-12-10T21:54:38.178Z"
      },
      {
        "duration": 82,
        "start_time": "2024-12-10T21:55:07.217Z"
      },
      {
        "duration": 5,
        "start_time": "2024-12-10T22:00:29.854Z"
      },
      {
        "duration": 360,
        "start_time": "2024-12-10T22:01:42.305Z"
      },
      {
        "duration": 87,
        "start_time": "2024-12-10T22:01:57.289Z"
      },
      {
        "duration": 6,
        "start_time": "2024-12-10T22:02:58.785Z"
      },
      {
        "duration": 7,
        "start_time": "2024-12-10T22:04:27.273Z"
      },
      {
        "duration": 2194,
        "start_time": "2024-12-11T20:23:25.858Z"
      },
      {
        "duration": 1029,
        "start_time": "2024-12-11T20:23:28.054Z"
      },
      {
        "duration": 11,
        "start_time": "2024-12-11T20:23:29.085Z"
      },
      {
        "duration": 9,
        "start_time": "2024-12-11T20:23:29.098Z"
      },
      {
        "duration": 8,
        "start_time": "2024-12-11T20:23:29.109Z"
      },
      {
        "duration": 7,
        "start_time": "2024-12-11T20:23:29.119Z"
      },
      {
        "duration": 25,
        "start_time": "2024-12-11T20:23:29.991Z"
      },
      {
        "duration": 110,
        "start_time": "2024-12-11T20:23:33.835Z"
      },
      {
        "duration": 184,
        "start_time": "2024-12-11T20:29:27.263Z"
      },
      {
        "duration": 97,
        "start_time": "2024-12-11T20:29:49.898Z"
      },
      {
        "duration": 85,
        "start_time": "2024-12-11T20:31:04.090Z"
      },
      {
        "duration": 24,
        "start_time": "2024-12-11T20:31:05.616Z"
      },
      {
        "duration": 89,
        "start_time": "2024-12-11T20:31:24.849Z"
      },
      {
        "duration": 82,
        "start_time": "2024-12-11T20:31:26.361Z"
      },
      {
        "duration": 27,
        "start_time": "2024-12-11T20:31:27.400Z"
      },
      {
        "duration": 96,
        "start_time": "2024-12-11T20:33:31.750Z"
      },
      {
        "duration": 116,
        "start_time": "2024-12-11T20:40:08.694Z"
      },
      {
        "duration": 13,
        "start_time": "2024-12-11T20:40:15.097Z"
      },
      {
        "duration": 97,
        "start_time": "2024-12-11T20:40:20.038Z"
      },
      {
        "duration": 89,
        "start_time": "2024-12-11T20:40:20.661Z"
      },
      {
        "duration": 27,
        "start_time": "2024-12-11T20:40:21.386Z"
      },
      {
        "duration": 13,
        "start_time": "2024-12-11T20:41:36.591Z"
      },
      {
        "duration": 11,
        "start_time": "2024-12-11T20:41:41.856Z"
      },
      {
        "duration": 4,
        "start_time": "2024-12-11T20:42:21.924Z"
      },
      {
        "duration": 2,
        "start_time": "2024-12-11T20:42:24.778Z"
      },
      {
        "duration": 4,
        "start_time": "2024-12-11T20:42:25.203Z"
      },
      {
        "duration": 3,
        "start_time": "2024-12-11T20:42:25.925Z"
      },
      {
        "duration": 5,
        "start_time": "2024-12-11T20:43:04.627Z"
      },
      {
        "duration": 24,
        "start_time": "2024-12-11T20:44:23.287Z"
      },
      {
        "duration": 5,
        "start_time": "2024-12-11T20:45:16.324Z"
      },
      {
        "duration": 14,
        "start_time": "2024-12-11T20:45:48.482Z"
      },
      {
        "duration": 13,
        "start_time": "2024-12-11T20:46:00.830Z"
      },
      {
        "duration": 14,
        "start_time": "2024-12-11T20:46:23.076Z"
      },
      {
        "duration": 14,
        "start_time": "2024-12-11T20:46:27.499Z"
      },
      {
        "duration": 15,
        "start_time": "2024-12-11T20:46:44.307Z"
      },
      {
        "duration": 51,
        "start_time": "2024-12-11T20:47:13.540Z"
      },
      {
        "duration": 13,
        "start_time": "2024-12-11T20:47:54.437Z"
      },
      {
        "duration": 216,
        "start_time": "2024-12-11T20:49:36.190Z"
      },
      {
        "duration": 13,
        "start_time": "2024-12-11T20:50:02.025Z"
      },
      {
        "duration": 14,
        "start_time": "2024-12-11T20:50:27.003Z"
      },
      {
        "duration": 13,
        "start_time": "2024-12-11T20:50:41.785Z"
      },
      {
        "duration": 386,
        "start_time": "2024-12-11T20:51:57.514Z"
      },
      {
        "duration": 166,
        "start_time": "2024-12-11T20:52:14.884Z"
      },
      {
        "duration": 15,
        "start_time": "2024-12-11T20:52:59.851Z"
      },
      {
        "duration": 18,
        "start_time": "2024-12-11T20:54:04.519Z"
      },
      {
        "duration": 19,
        "start_time": "2024-12-11T20:55:03.044Z"
      },
      {
        "duration": 21,
        "start_time": "2024-12-11T20:56:30.507Z"
      },
      {
        "duration": 21,
        "start_time": "2024-12-11T20:56:39.197Z"
      },
      {
        "duration": 20,
        "start_time": "2024-12-11T20:57:18.546Z"
      },
      {
        "duration": 4,
        "start_time": "2024-12-11T20:57:50.274Z"
      },
      {
        "duration": 26,
        "start_time": "2024-12-11T20:58:23.741Z"
      },
      {
        "duration": 20,
        "start_time": "2024-12-11T20:58:32.447Z"
      },
      {
        "duration": 8,
        "start_time": "2024-12-11T21:00:17.309Z"
      },
      {
        "duration": 90,
        "start_time": "2024-12-11T21:00:25.946Z"
      },
      {
        "duration": 85,
        "start_time": "2024-12-11T21:00:26.546Z"
      },
      {
        "duration": 25,
        "start_time": "2024-12-11T21:00:27.115Z"
      },
      {
        "duration": 11,
        "start_time": "2024-12-11T21:00:28.977Z"
      },
      {
        "duration": 4,
        "start_time": "2024-12-11T21:00:29.559Z"
      },
      {
        "duration": 22,
        "start_time": "2024-12-11T21:00:31.058Z"
      },
      {
        "duration": 2,
        "start_time": "2024-12-11T21:00:31.916Z"
      },
      {
        "duration": 17,
        "start_time": "2024-12-11T21:06:47.494Z"
      },
      {
        "duration": 12,
        "start_time": "2024-12-11T21:08:25.776Z"
      },
      {
        "duration": 3,
        "start_time": "2024-12-11T21:08:37.521Z"
      },
      {
        "duration": 290,
        "start_time": "2024-12-11T21:08:57.127Z"
      },
      {
        "duration": 34,
        "start_time": "2024-12-11T21:10:12.204Z"
      },
      {
        "duration": 34,
        "start_time": "2024-12-11T21:10:20.965Z"
      },
      {
        "duration": 16,
        "start_time": "2024-12-11T21:11:06.377Z"
      },
      {
        "duration": 16,
        "start_time": "2024-12-11T21:11:17.932Z"
      },
      {
        "duration": 20,
        "start_time": "2024-12-11T21:12:09.244Z"
      },
      {
        "duration": 21,
        "start_time": "2024-12-11T21:13:20.597Z"
      },
      {
        "duration": 9,
        "start_time": "2024-12-11T21:14:15.095Z"
      },
      {
        "duration": 39,
        "start_time": "2024-12-11T21:19:00.992Z"
      },
      {
        "duration": 45,
        "start_time": "2024-12-11T21:20:31.325Z"
      },
      {
        "duration": 40,
        "start_time": "2024-12-11T21:21:05.413Z"
      },
      {
        "duration": 821,
        "start_time": "2024-12-11T21:21:38.267Z"
      },
      {
        "duration": 9,
        "start_time": "2024-12-11T21:21:39.090Z"
      },
      {
        "duration": 11,
        "start_time": "2024-12-11T21:21:39.433Z"
      },
      {
        "duration": 8,
        "start_time": "2024-12-11T21:21:40.090Z"
      },
      {
        "duration": 9,
        "start_time": "2024-12-11T21:21:40.673Z"
      },
      {
        "duration": 20,
        "start_time": "2024-12-11T21:21:42.876Z"
      },
      {
        "duration": 98,
        "start_time": "2024-12-11T21:21:46.288Z"
      },
      {
        "duration": 7,
        "start_time": "2024-12-11T21:21:47.498Z"
      },
      {
        "duration": 78,
        "start_time": "2024-12-11T21:21:48.938Z"
      },
      {
        "duration": 80,
        "start_time": "2024-12-11T21:21:50.616Z"
      },
      {
        "duration": 22,
        "start_time": "2024-12-11T21:21:51.432Z"
      },
      {
        "duration": 12,
        "start_time": "2024-12-11T21:21:53.371Z"
      },
      {
        "duration": 3,
        "start_time": "2024-12-11T21:21:54.040Z"
      },
      {
        "duration": 22,
        "start_time": "2024-12-11T21:21:55.201Z"
      },
      {
        "duration": 10,
        "start_time": "2024-12-11T21:23:26.231Z"
      },
      {
        "duration": 14,
        "start_time": "2024-12-11T21:23:33.583Z"
      },
      {
        "duration": 20,
        "start_time": "2024-12-11T21:24:11.898Z"
      },
      {
        "duration": 14,
        "start_time": "2024-12-11T21:24:41.567Z"
      },
      {
        "duration": 25,
        "start_time": "2024-12-11T21:24:57.201Z"
      },
      {
        "duration": 22,
        "start_time": "2024-12-11T21:25:10.879Z"
      },
      {
        "duration": 23,
        "start_time": "2024-12-11T21:26:06.837Z"
      },
      {
        "duration": 14,
        "start_time": "2024-12-11T21:26:39.167Z"
      },
      {
        "duration": 24,
        "start_time": "2024-12-11T21:26:53.428Z"
      },
      {
        "duration": 35,
        "start_time": "2024-12-11T21:27:43.324Z"
      },
      {
        "duration": 26,
        "start_time": "2024-12-11T21:29:21.270Z"
      },
      {
        "duration": 9,
        "start_time": "2024-12-11T21:29:55.480Z"
      },
      {
        "duration": 9,
        "start_time": "2024-12-11T21:29:59.845Z"
      },
      {
        "duration": 402,
        "start_time": "2024-12-11T21:30:10.248Z"
      },
      {
        "duration": 913,
        "start_time": "2024-12-11T21:30:10.652Z"
      },
      {
        "duration": 11,
        "start_time": "2024-12-11T21:30:11.567Z"
      },
      {
        "duration": 9,
        "start_time": "2024-12-11T21:30:11.581Z"
      },
      {
        "duration": 7,
        "start_time": "2024-12-11T21:30:11.592Z"
      },
      {
        "duration": 7,
        "start_time": "2024-12-11T21:30:11.601Z"
      },
      {
        "duration": 22,
        "start_time": "2024-12-11T21:30:11.609Z"
      },
      {
        "duration": 143,
        "start_time": "2024-12-11T21:30:11.633Z"
      },
      {
        "duration": 7,
        "start_time": "2024-12-11T21:30:11.778Z"
      },
      {
        "duration": 103,
        "start_time": "2024-12-11T21:30:11.788Z"
      },
      {
        "duration": 96,
        "start_time": "2024-12-11T21:30:11.893Z"
      },
      {
        "duration": 27,
        "start_time": "2024-12-11T21:30:11.991Z"
      },
      {
        "duration": 11,
        "start_time": "2024-12-11T21:30:12.020Z"
      },
      {
        "duration": 3,
        "start_time": "2024-12-11T21:30:12.033Z"
      },
      {
        "duration": 49,
        "start_time": "2024-12-11T21:30:12.038Z"
      },
      {
        "duration": 14,
        "start_time": "2024-12-11T21:30:12.089Z"
      },
      {
        "duration": 2,
        "start_time": "2024-12-11T21:30:12.104Z"
      },
      {
        "duration": 2,
        "start_time": "2024-12-11T21:30:12.108Z"
      },
      {
        "duration": 2,
        "start_time": "2024-12-11T21:30:12.112Z"
      },
      {
        "duration": 2,
        "start_time": "2024-12-11T21:30:12.116Z"
      },
      {
        "duration": 2,
        "start_time": "2024-12-11T21:30:12.120Z"
      },
      {
        "duration": 2,
        "start_time": "2024-12-11T21:30:12.125Z"
      },
      {
        "duration": 42,
        "start_time": "2024-12-11T21:30:12.128Z"
      },
      {
        "duration": 3,
        "start_time": "2024-12-11T21:30:12.172Z"
      },
      {
        "duration": 2,
        "start_time": "2024-12-11T21:30:12.176Z"
      },
      {
        "duration": 2,
        "start_time": "2024-12-11T21:30:12.180Z"
      },
      {
        "duration": 2,
        "start_time": "2024-12-11T21:30:12.184Z"
      },
      {
        "duration": 2,
        "start_time": "2024-12-11T21:30:12.190Z"
      },
      {
        "duration": 2,
        "start_time": "2024-12-11T21:30:12.195Z"
      },
      {
        "duration": 2,
        "start_time": "2024-12-11T21:30:12.198Z"
      },
      {
        "duration": 3,
        "start_time": "2024-12-11T21:30:12.202Z"
      },
      {
        "duration": 2,
        "start_time": "2024-12-11T21:30:12.206Z"
      },
      {
        "duration": 2,
        "start_time": "2024-12-11T21:30:12.210Z"
      },
      {
        "duration": 2,
        "start_time": "2024-12-11T21:30:12.214Z"
      },
      {
        "duration": 191,
        "start_time": "2024-12-11T21:31:36.060Z"
      },
      {
        "duration": 14,
        "start_time": "2024-12-11T21:32:01.280Z"
      },
      {
        "duration": 12,
        "start_time": "2024-12-11T21:32:14.920Z"
      },
      {
        "duration": 424,
        "start_time": "2024-12-11T21:34:32.718Z"
      },
      {
        "duration": 993,
        "start_time": "2024-12-11T21:34:33.144Z"
      },
      {
        "duration": 14,
        "start_time": "2024-12-11T21:34:34.140Z"
      },
      {
        "duration": 19,
        "start_time": "2024-12-11T21:34:34.157Z"
      },
      {
        "duration": 11,
        "start_time": "2024-12-11T21:34:34.190Z"
      },
      {
        "duration": 10,
        "start_time": "2024-12-11T21:34:34.205Z"
      },
      {
        "duration": 28,
        "start_time": "2024-12-11T21:34:34.217Z"
      },
      {
        "duration": 172,
        "start_time": "2024-12-11T21:34:34.247Z"
      },
      {
        "duration": 8,
        "start_time": "2024-12-11T21:34:34.421Z"
      },
      {
        "duration": 111,
        "start_time": "2024-12-11T21:34:34.433Z"
      },
      {
        "duration": 90,
        "start_time": "2024-12-11T21:34:34.548Z"
      },
      {
        "duration": 37,
        "start_time": "2024-12-11T21:34:34.640Z"
      },
      {
        "duration": 12,
        "start_time": "2024-12-11T21:34:34.678Z"
      },
      {
        "duration": 3,
        "start_time": "2024-12-11T21:34:34.692Z"
      },
      {
        "duration": 26,
        "start_time": "2024-12-11T21:34:34.697Z"
      },
      {
        "duration": 18,
        "start_time": "2024-12-11T21:34:34.725Z"
      },
      {
        "duration": 25,
        "start_time": "2024-12-11T21:34:34.745Z"
      },
      {
        "duration": 2,
        "start_time": "2024-12-11T21:34:34.772Z"
      },
      {
        "duration": 3,
        "start_time": "2024-12-11T21:34:34.776Z"
      },
      {
        "duration": 4,
        "start_time": "2024-12-11T21:34:34.781Z"
      },
      {
        "duration": 2,
        "start_time": "2024-12-11T21:34:34.786Z"
      },
      {
        "duration": 2,
        "start_time": "2024-12-11T21:34:34.790Z"
      },
      {
        "duration": 2,
        "start_time": "2024-12-11T21:34:34.794Z"
      },
      {
        "duration": 2,
        "start_time": "2024-12-11T21:34:34.798Z"
      },
      {
        "duration": 3,
        "start_time": "2024-12-11T21:34:34.802Z"
      },
      {
        "duration": 3,
        "start_time": "2024-12-11T21:34:34.806Z"
      },
      {
        "duration": 4,
        "start_time": "2024-12-11T21:34:34.811Z"
      },
      {
        "duration": 3,
        "start_time": "2024-12-11T21:34:34.819Z"
      },
      {
        "duration": 3,
        "start_time": "2024-12-11T21:34:34.869Z"
      },
      {
        "duration": 3,
        "start_time": "2024-12-11T21:34:34.874Z"
      },
      {
        "duration": 3,
        "start_time": "2024-12-11T21:34:34.878Z"
      },
      {
        "duration": 3,
        "start_time": "2024-12-11T21:34:34.882Z"
      },
      {
        "duration": 2,
        "start_time": "2024-12-11T21:34:34.887Z"
      },
      {
        "duration": 4,
        "start_time": "2024-12-11T21:34:34.890Z"
      },
      {
        "duration": 29,
        "start_time": "2024-12-11T21:35:25.528Z"
      },
      {
        "duration": 22,
        "start_time": "2024-12-11T21:36:38.075Z"
      },
      {
        "duration": 4,
        "start_time": "2024-12-11T21:37:34.392Z"
      },
      {
        "duration": 24,
        "start_time": "2024-12-11T21:37:39.942Z"
      },
      {
        "duration": 23,
        "start_time": "2024-12-11T21:37:48.948Z"
      },
      {
        "duration": 23,
        "start_time": "2024-12-11T21:39:19.906Z"
      },
      {
        "duration": 23,
        "start_time": "2024-12-11T21:39:58.817Z"
      },
      {
        "duration": 23,
        "start_time": "2024-12-11T21:40:07.710Z"
      },
      {
        "duration": 184,
        "start_time": "2024-12-11T21:52:15.025Z"
      },
      {
        "duration": 4,
        "start_time": "2024-12-11T21:52:20.797Z"
      },
      {
        "duration": 3,
        "start_time": "2024-12-11T21:52:27.525Z"
      },
      {
        "duration": 4,
        "start_time": "2024-12-11T21:53:27.132Z"
      },
      {
        "duration": 3,
        "start_time": "2024-12-11T21:56:18.303Z"
      },
      {
        "duration": 3,
        "start_time": "2024-12-11T21:57:25.218Z"
      },
      {
        "duration": 25,
        "start_time": "2024-12-11T22:05:00.106Z"
      },
      {
        "duration": 24,
        "start_time": "2024-12-11T22:10:34.845Z"
      },
      {
        "duration": 26,
        "start_time": "2024-12-11T22:11:50.945Z"
      },
      {
        "duration": 31,
        "start_time": "2024-12-11T22:12:08.095Z"
      },
      {
        "duration": 442,
        "start_time": "2024-12-11T22:12:22.333Z"
      },
      {
        "duration": 929,
        "start_time": "2024-12-11T22:12:22.777Z"
      },
      {
        "duration": 12,
        "start_time": "2024-12-11T22:12:23.708Z"
      },
      {
        "duration": 9,
        "start_time": "2024-12-11T22:12:23.722Z"
      },
      {
        "duration": 9,
        "start_time": "2024-12-11T22:12:23.733Z"
      },
      {
        "duration": 31,
        "start_time": "2024-12-11T22:12:23.744Z"
      },
      {
        "duration": 24,
        "start_time": "2024-12-11T22:12:23.777Z"
      },
      {
        "duration": 127,
        "start_time": "2024-12-11T22:12:23.803Z"
      },
      {
        "duration": 9,
        "start_time": "2024-12-11T22:12:23.931Z"
      },
      {
        "duration": 115,
        "start_time": "2024-12-11T22:12:23.944Z"
      },
      {
        "duration": 109,
        "start_time": "2024-12-11T22:12:24.062Z"
      },
      {
        "duration": 30,
        "start_time": "2024-12-11T22:12:24.173Z"
      },
      {
        "duration": 14,
        "start_time": "2024-12-11T22:12:24.205Z"
      },
      {
        "duration": 3,
        "start_time": "2024-12-11T22:12:24.221Z"
      },
      {
        "duration": 53,
        "start_time": "2024-12-11T22:12:24.226Z"
      },
      {
        "duration": 32,
        "start_time": "2024-12-11T22:12:24.281Z"
      },
      {
        "duration": 3,
        "start_time": "2024-12-11T22:12:24.315Z"
      },
      {
        "duration": 4,
        "start_time": "2024-12-11T22:12:24.320Z"
      },
      {
        "duration": 4,
        "start_time": "2024-12-11T22:12:24.325Z"
      },
      {
        "duration": 3,
        "start_time": "2024-12-11T22:12:24.331Z"
      },
      {
        "duration": 35,
        "start_time": "2024-12-11T22:12:24.336Z"
      },
      {
        "duration": 3,
        "start_time": "2024-12-11T22:12:24.372Z"
      },
      {
        "duration": 2,
        "start_time": "2024-12-11T22:12:24.377Z"
      },
      {
        "duration": 2,
        "start_time": "2024-12-11T22:12:24.381Z"
      },
      {
        "duration": 2,
        "start_time": "2024-12-11T22:12:24.385Z"
      },
      {
        "duration": 3,
        "start_time": "2024-12-11T22:12:24.388Z"
      },
      {
        "duration": 3,
        "start_time": "2024-12-11T22:12:24.392Z"
      },
      {
        "duration": 2,
        "start_time": "2024-12-11T22:12:24.398Z"
      },
      {
        "duration": 2,
        "start_time": "2024-12-11T22:12:24.402Z"
      },
      {
        "duration": 2,
        "start_time": "2024-12-11T22:12:24.406Z"
      },
      {
        "duration": 2,
        "start_time": "2024-12-11T22:12:24.410Z"
      },
      {
        "duration": 2,
        "start_time": "2024-12-11T22:12:24.414Z"
      },
      {
        "duration": 3,
        "start_time": "2024-12-11T22:12:24.469Z"
      },
      {
        "duration": 2,
        "start_time": "2024-12-11T22:12:24.474Z"
      },
      {
        "duration": 4,
        "start_time": "2024-12-11T22:13:18.330Z"
      },
      {
        "duration": 39,
        "start_time": "2024-12-11T22:13:31.357Z"
      },
      {
        "duration": 23,
        "start_time": "2024-12-11T22:17:12.704Z"
      },
      {
        "duration": 437,
        "start_time": "2024-12-11T22:18:19.813Z"
      },
      {
        "duration": 912,
        "start_time": "2024-12-11T22:18:20.252Z"
      },
      {
        "duration": 12,
        "start_time": "2024-12-11T22:18:21.166Z"
      },
      {
        "duration": 9,
        "start_time": "2024-12-11T22:18:21.180Z"
      },
      {
        "duration": 9,
        "start_time": "2024-12-11T22:18:21.190Z"
      },
      {
        "duration": 7,
        "start_time": "2024-12-11T22:18:21.200Z"
      },
      {
        "duration": 23,
        "start_time": "2024-12-11T22:18:21.209Z"
      },
      {
        "duration": 142,
        "start_time": "2024-12-11T22:18:21.234Z"
      },
      {
        "duration": 9,
        "start_time": "2024-12-11T22:18:21.377Z"
      },
      {
        "duration": 113,
        "start_time": "2024-12-11T22:18:21.390Z"
      },
      {
        "duration": 108,
        "start_time": "2024-12-11T22:18:21.504Z"
      },
      {
        "duration": 32,
        "start_time": "2024-12-11T22:18:21.614Z"
      },
      {
        "duration": 12,
        "start_time": "2024-12-11T22:18:21.648Z"
      },
      {
        "duration": 11,
        "start_time": "2024-12-11T22:18:21.662Z"
      },
      {
        "duration": 32,
        "start_time": "2024-12-11T22:18:21.675Z"
      },
      {
        "duration": 29,
        "start_time": "2024-12-11T22:18:21.709Z"
      },
      {
        "duration": 4,
        "start_time": "2024-12-11T22:18:21.739Z"
      },
      {
        "duration": 26,
        "start_time": "2024-12-11T22:18:21.745Z"
      },
      {
        "duration": 4,
        "start_time": "2024-12-11T22:18:21.772Z"
      },
      {
        "duration": 3,
        "start_time": "2024-12-11T22:18:21.778Z"
      },
      {
        "duration": 2,
        "start_time": "2024-12-11T22:18:21.783Z"
      },
      {
        "duration": 3,
        "start_time": "2024-12-11T22:18:21.787Z"
      },
      {
        "duration": 3,
        "start_time": "2024-12-11T22:18:21.791Z"
      },
      {
        "duration": 8,
        "start_time": "2024-12-11T22:18:21.795Z"
      },
      {
        "duration": 3,
        "start_time": "2024-12-11T22:18:21.805Z"
      },
      {
        "duration": 3,
        "start_time": "2024-12-11T22:18:21.809Z"
      },
      {
        "duration": 2,
        "start_time": "2024-12-11T22:18:21.814Z"
      },
      {
        "duration": 2,
        "start_time": "2024-12-11T22:18:21.820Z"
      },
      {
        "duration": 3,
        "start_time": "2024-12-11T22:18:21.870Z"
      },
      {
        "duration": 3,
        "start_time": "2024-12-11T22:18:21.874Z"
      },
      {
        "duration": 2,
        "start_time": "2024-12-11T22:18:21.878Z"
      },
      {
        "duration": 2,
        "start_time": "2024-12-11T22:18:21.882Z"
      },
      {
        "duration": 2,
        "start_time": "2024-12-11T22:18:21.886Z"
      },
      {
        "duration": 2,
        "start_time": "2024-12-11T22:18:21.890Z"
      },
      {
        "duration": 23,
        "start_time": "2024-12-11T22:19:00.103Z"
      },
      {
        "duration": 408,
        "start_time": "2024-12-11T22:19:15.239Z"
      },
      {
        "duration": 959,
        "start_time": "2024-12-11T22:19:15.650Z"
      },
      {
        "duration": 11,
        "start_time": "2024-12-11T22:19:16.611Z"
      },
      {
        "duration": 10,
        "start_time": "2024-12-11T22:19:16.624Z"
      },
      {
        "duration": 8,
        "start_time": "2024-12-11T22:19:16.635Z"
      },
      {
        "duration": 33,
        "start_time": "2024-12-11T22:19:16.645Z"
      },
      {
        "duration": 23,
        "start_time": "2024-12-11T22:19:16.680Z"
      },
      {
        "duration": 123,
        "start_time": "2024-12-11T22:19:16.705Z"
      },
      {
        "duration": 8,
        "start_time": "2024-12-11T22:19:16.830Z"
      },
      {
        "duration": 112,
        "start_time": "2024-12-11T22:19:16.841Z"
      },
      {
        "duration": 93,
        "start_time": "2024-12-11T22:19:16.955Z"
      },
      {
        "duration": 39,
        "start_time": "2024-12-11T22:19:17.049Z"
      },
      {
        "duration": 12,
        "start_time": "2024-12-11T22:19:17.091Z"
      },
      {
        "duration": 3,
        "start_time": "2024-12-11T22:19:17.104Z"
      },
      {
        "duration": 27,
        "start_time": "2024-12-11T22:19:17.109Z"
      },
      {
        "duration": 51,
        "start_time": "2024-12-11T22:19:17.139Z"
      },
      {
        "duration": 3,
        "start_time": "2024-12-11T22:19:17.192Z"
      },
      {
        "duration": 4,
        "start_time": "2024-12-11T22:19:17.196Z"
      },
      {
        "duration": 4,
        "start_time": "2024-12-11T22:19:17.201Z"
      },
      {
        "duration": 3,
        "start_time": "2024-12-11T22:19:17.207Z"
      },
      {
        "duration": 2,
        "start_time": "2024-12-11T22:19:17.212Z"
      },
      {
        "duration": 2,
        "start_time": "2024-12-11T22:19:17.216Z"
      },
      {
        "duration": 3,
        "start_time": "2024-12-11T22:19:17.220Z"
      },
      {
        "duration": 3,
        "start_time": "2024-12-11T22:19:17.224Z"
      },
      {
        "duration": 2,
        "start_time": "2024-12-11T22:19:17.271Z"
      },
      {
        "duration": 2,
        "start_time": "2024-12-11T22:19:17.275Z"
      },
      {
        "duration": 2,
        "start_time": "2024-12-11T22:19:17.279Z"
      },
      {
        "duration": 2,
        "start_time": "2024-12-11T22:19:17.285Z"
      },
      {
        "duration": 2,
        "start_time": "2024-12-11T22:19:17.289Z"
      },
      {
        "duration": 2,
        "start_time": "2024-12-11T22:19:17.293Z"
      },
      {
        "duration": 2,
        "start_time": "2024-12-11T22:19:17.297Z"
      },
      {
        "duration": 2,
        "start_time": "2024-12-11T22:19:17.301Z"
      },
      {
        "duration": 6,
        "start_time": "2024-12-11T22:19:17.305Z"
      },
      {
        "duration": 3,
        "start_time": "2024-12-11T22:19:17.312Z"
      },
      {
        "duration": 8,
        "start_time": "2024-12-11T22:25:14.861Z"
      },
      {
        "duration": 10,
        "start_time": "2024-12-11T22:25:49.784Z"
      },
      {
        "duration": 422,
        "start_time": "2024-12-11T22:26:07.567Z"
      },
      {
        "duration": 899,
        "start_time": "2024-12-11T22:26:07.991Z"
      },
      {
        "duration": 12,
        "start_time": "2024-12-11T22:26:08.892Z"
      },
      {
        "duration": 9,
        "start_time": "2024-12-11T22:26:08.906Z"
      },
      {
        "duration": 7,
        "start_time": "2024-12-11T22:26:08.917Z"
      },
      {
        "duration": 7,
        "start_time": "2024-12-11T22:26:08.927Z"
      },
      {
        "duration": 51,
        "start_time": "2024-12-11T22:26:08.936Z"
      },
      {
        "duration": 107,
        "start_time": "2024-12-11T22:26:08.989Z"
      },
      {
        "duration": 12,
        "start_time": "2024-12-11T22:26:09.098Z"
      },
      {
        "duration": 112,
        "start_time": "2024-12-11T22:26:09.114Z"
      },
      {
        "duration": 87,
        "start_time": "2024-12-11T22:26:09.228Z"
      },
      {
        "duration": 26,
        "start_time": "2024-12-11T22:26:09.317Z"
      },
      {
        "duration": 26,
        "start_time": "2024-12-11T22:26:09.344Z"
      },
      {
        "duration": 3,
        "start_time": "2024-12-11T22:26:09.371Z"
      },
      {
        "duration": 26,
        "start_time": "2024-12-11T22:26:09.376Z"
      },
      {
        "duration": 21,
        "start_time": "2024-12-11T22:26:09.404Z"
      },
      {
        "duration": 3,
        "start_time": "2024-12-11T22:26:09.427Z"
      },
      {
        "duration": 3,
        "start_time": "2024-12-11T22:26:09.432Z"
      },
      {
        "duration": 35,
        "start_time": "2024-12-11T22:26:09.437Z"
      },
      {
        "duration": 4,
        "start_time": "2024-12-11T22:26:09.473Z"
      },
      {
        "duration": 2,
        "start_time": "2024-12-11T22:26:09.478Z"
      },
      {
        "duration": 2,
        "start_time": "2024-12-11T22:26:09.482Z"
      },
      {
        "duration": 2,
        "start_time": "2024-12-11T22:26:09.486Z"
      },
      {
        "duration": 3,
        "start_time": "2024-12-11T22:26:09.489Z"
      },
      {
        "duration": 3,
        "start_time": "2024-12-11T22:26:09.493Z"
      },
      {
        "duration": 2,
        "start_time": "2024-12-11T22:26:09.497Z"
      },
      {
        "duration": 4,
        "start_time": "2024-12-11T22:26:09.501Z"
      },
      {
        "duration": 2,
        "start_time": "2024-12-11T22:26:09.508Z"
      },
      {
        "duration": 3,
        "start_time": "2024-12-11T22:26:09.511Z"
      },
      {
        "duration": 3,
        "start_time": "2024-12-11T22:26:09.515Z"
      },
      {
        "duration": 51,
        "start_time": "2024-12-11T22:26:09.519Z"
      },
      {
        "duration": 2,
        "start_time": "2024-12-11T22:26:09.572Z"
      },
      {
        "duration": 3,
        "start_time": "2024-12-11T22:26:09.576Z"
      },
      {
        "duration": 2,
        "start_time": "2024-12-11T22:26:09.581Z"
      },
      {
        "duration": 10,
        "start_time": "2024-12-11T22:27:17.760Z"
      },
      {
        "duration": 422,
        "start_time": "2024-12-11T22:27:41.273Z"
      },
      {
        "duration": 913,
        "start_time": "2024-12-11T22:27:41.697Z"
      },
      {
        "duration": 11,
        "start_time": "2024-12-11T22:27:42.612Z"
      },
      {
        "duration": 9,
        "start_time": "2024-12-11T22:27:42.626Z"
      },
      {
        "duration": 6,
        "start_time": "2024-12-11T22:27:42.638Z"
      },
      {
        "duration": 24,
        "start_time": "2024-12-11T22:27:42.646Z"
      },
      {
        "duration": 28,
        "start_time": "2024-12-11T22:27:42.672Z"
      },
      {
        "duration": 114,
        "start_time": "2024-12-11T22:27:42.702Z"
      },
      {
        "duration": 12,
        "start_time": "2024-12-11T22:27:42.819Z"
      },
      {
        "duration": 108,
        "start_time": "2024-12-11T22:27:42.832Z"
      },
      {
        "duration": 85,
        "start_time": "2024-12-11T22:27:42.945Z"
      },
      {
        "duration": 39,
        "start_time": "2024-12-11T22:27:43.031Z"
      },
      {
        "duration": 11,
        "start_time": "2024-12-11T22:27:43.072Z"
      },
      {
        "duration": 3,
        "start_time": "2024-12-11T22:27:43.087Z"
      },
      {
        "duration": 29,
        "start_time": "2024-12-11T22:27:43.091Z"
      },
      {
        "duration": 51,
        "start_time": "2024-12-11T22:27:43.122Z"
      },
      {
        "duration": 3,
        "start_time": "2024-12-11T22:27:43.175Z"
      },
      {
        "duration": 3,
        "start_time": "2024-12-11T22:27:43.180Z"
      },
      {
        "duration": 3,
        "start_time": "2024-12-11T22:27:43.185Z"
      },
      {
        "duration": 4,
        "start_time": "2024-12-11T22:27:43.190Z"
      },
      {
        "duration": 3,
        "start_time": "2024-12-11T22:27:43.195Z"
      },
      {
        "duration": 3,
        "start_time": "2024-12-11T22:27:43.199Z"
      },
      {
        "duration": 3,
        "start_time": "2024-12-11T22:27:43.204Z"
      },
      {
        "duration": 3,
        "start_time": "2024-12-11T22:27:43.208Z"
      },
      {
        "duration": 2,
        "start_time": "2024-12-11T22:27:43.213Z"
      },
      {
        "duration": 3,
        "start_time": "2024-12-11T22:27:43.217Z"
      },
      {
        "duration": 2,
        "start_time": "2024-12-11T22:27:43.269Z"
      },
      {
        "duration": 3,
        "start_time": "2024-12-11T22:27:43.273Z"
      },
      {
        "duration": 3,
        "start_time": "2024-12-11T22:27:43.277Z"
      },
      {
        "duration": 3,
        "start_time": "2024-12-11T22:27:43.281Z"
      },
      {
        "duration": 3,
        "start_time": "2024-12-11T22:27:43.286Z"
      },
      {
        "duration": 3,
        "start_time": "2024-12-11T22:27:43.290Z"
      },
      {
        "duration": 2,
        "start_time": "2024-12-11T22:27:43.295Z"
      },
      {
        "duration": 2,
        "start_time": "2024-12-11T22:27:43.299Z"
      },
      {
        "duration": 393,
        "start_time": "2024-12-11T22:28:10.952Z"
      },
      {
        "duration": 905,
        "start_time": "2024-12-11T22:28:11.347Z"
      },
      {
        "duration": 17,
        "start_time": "2024-12-11T22:28:12.253Z"
      },
      {
        "duration": 9,
        "start_time": "2024-12-11T22:28:12.272Z"
      },
      {
        "duration": 7,
        "start_time": "2024-12-11T22:28:12.283Z"
      },
      {
        "duration": 8,
        "start_time": "2024-12-11T22:28:12.291Z"
      },
      {
        "duration": 24,
        "start_time": "2024-12-11T22:28:12.300Z"
      },
      {
        "duration": 141,
        "start_time": "2024-12-11T22:28:12.326Z"
      },
      {
        "duration": 8,
        "start_time": "2024-12-11T22:28:12.470Z"
      },
      {
        "duration": 118,
        "start_time": "2024-12-11T22:28:12.479Z"
      },
      {
        "duration": 86,
        "start_time": "2024-12-11T22:28:12.598Z"
      },
      {
        "duration": 30,
        "start_time": "2024-12-11T22:28:12.686Z"
      },
      {
        "duration": 16,
        "start_time": "2024-12-11T22:28:12.718Z"
      },
      {
        "duration": 4,
        "start_time": "2024-12-11T22:28:12.738Z"
      },
      {
        "duration": 47,
        "start_time": "2024-12-11T22:28:12.743Z"
      },
      {
        "duration": 22,
        "start_time": "2024-12-11T22:28:12.792Z"
      },
      {
        "duration": 3,
        "start_time": "2024-12-11T22:28:12.816Z"
      },
      {
        "duration": 3,
        "start_time": "2024-12-11T22:28:12.821Z"
      },
      {
        "duration": 4,
        "start_time": "2024-12-11T22:28:12.825Z"
      },
      {
        "duration": 3,
        "start_time": "2024-12-11T22:28:12.830Z"
      },
      {
        "duration": 3,
        "start_time": "2024-12-11T22:28:12.869Z"
      },
      {
        "duration": 18,
        "start_time": "2024-12-11T22:28:12.873Z"
      },
      {
        "duration": 3,
        "start_time": "2024-12-11T22:28:12.892Z"
      },
      {
        "duration": 2,
        "start_time": "2024-12-11T22:28:12.897Z"
      },
      {
        "duration": 2,
        "start_time": "2024-12-11T22:28:12.901Z"
      },
      {
        "duration": 3,
        "start_time": "2024-12-11T22:28:12.905Z"
      },
      {
        "duration": 3,
        "start_time": "2024-12-11T22:28:12.909Z"
      },
      {
        "duration": 3,
        "start_time": "2024-12-11T22:28:12.913Z"
      },
      {
        "duration": 3,
        "start_time": "2024-12-11T22:28:12.917Z"
      },
      {
        "duration": 2,
        "start_time": "2024-12-11T22:28:12.921Z"
      },
      {
        "duration": 3,
        "start_time": "2024-12-11T22:28:12.925Z"
      },
      {
        "duration": 3,
        "start_time": "2024-12-11T22:28:12.929Z"
      },
      {
        "duration": 38,
        "start_time": "2024-12-11T22:28:12.933Z"
      },
      {
        "duration": 4,
        "start_time": "2024-12-11T22:28:12.972Z"
      },
      {
        "duration": 440,
        "start_time": "2024-12-11T22:32:19.810Z"
      },
      {
        "duration": 909,
        "start_time": "2024-12-11T22:32:20.251Z"
      },
      {
        "duration": 17,
        "start_time": "2024-12-11T22:32:21.162Z"
      },
      {
        "duration": 9,
        "start_time": "2024-12-11T22:32:21.182Z"
      },
      {
        "duration": 8,
        "start_time": "2024-12-11T22:32:21.193Z"
      },
      {
        "duration": 8,
        "start_time": "2024-12-11T22:32:21.202Z"
      },
      {
        "duration": 23,
        "start_time": "2024-12-11T22:32:21.211Z"
      },
      {
        "duration": 142,
        "start_time": "2024-12-11T22:32:21.236Z"
      },
      {
        "duration": 5,
        "start_time": "2024-12-11T22:32:21.380Z"
      },
      {
        "duration": 0,
        "start_time": "2024-12-11T22:32:21.388Z"
      },
      {
        "duration": 0,
        "start_time": "2024-12-11T22:32:21.390Z"
      },
      {
        "duration": 0,
        "start_time": "2024-12-11T22:32:21.391Z"
      },
      {
        "duration": 0,
        "start_time": "2024-12-11T22:32:21.393Z"
      },
      {
        "duration": 0,
        "start_time": "2024-12-11T22:32:21.394Z"
      },
      {
        "duration": 0,
        "start_time": "2024-12-11T22:32:21.395Z"
      },
      {
        "duration": 0,
        "start_time": "2024-12-11T22:32:21.396Z"
      },
      {
        "duration": 0,
        "start_time": "2024-12-11T22:32:21.397Z"
      },
      {
        "duration": 0,
        "start_time": "2024-12-11T22:32:21.399Z"
      },
      {
        "duration": 0,
        "start_time": "2024-12-11T22:32:21.400Z"
      },
      {
        "duration": 0,
        "start_time": "2024-12-11T22:32:21.401Z"
      },
      {
        "duration": 0,
        "start_time": "2024-12-11T22:32:21.402Z"
      },
      {
        "duration": 0,
        "start_time": "2024-12-11T22:32:21.403Z"
      },
      {
        "duration": 0,
        "start_time": "2024-12-11T22:32:21.404Z"
      },
      {
        "duration": 0,
        "start_time": "2024-12-11T22:32:21.405Z"
      },
      {
        "duration": 0,
        "start_time": "2024-12-11T22:32:21.407Z"
      },
      {
        "duration": 0,
        "start_time": "2024-12-11T22:32:21.407Z"
      },
      {
        "duration": 0,
        "start_time": "2024-12-11T22:32:21.408Z"
      },
      {
        "duration": 0,
        "start_time": "2024-12-11T22:32:21.409Z"
      },
      {
        "duration": 0,
        "start_time": "2024-12-11T22:32:21.410Z"
      },
      {
        "duration": 0,
        "start_time": "2024-12-11T22:32:21.411Z"
      },
      {
        "duration": 0,
        "start_time": "2024-12-11T22:32:21.412Z"
      },
      {
        "duration": 0,
        "start_time": "2024-12-11T22:32:21.413Z"
      },
      {
        "duration": 0,
        "start_time": "2024-12-11T22:32:21.414Z"
      },
      {
        "duration": 0,
        "start_time": "2024-12-11T22:32:21.415Z"
      },
      {
        "duration": 444,
        "start_time": "2024-12-11T22:33:07.688Z"
      },
      {
        "duration": 902,
        "start_time": "2024-12-11T22:33:08.134Z"
      },
      {
        "duration": 11,
        "start_time": "2024-12-11T22:33:09.038Z"
      },
      {
        "duration": 24,
        "start_time": "2024-12-11T22:33:09.050Z"
      },
      {
        "duration": 10,
        "start_time": "2024-12-11T22:33:09.077Z"
      },
      {
        "duration": 12,
        "start_time": "2024-12-11T22:33:09.089Z"
      },
      {
        "duration": 30,
        "start_time": "2024-12-11T22:33:09.103Z"
      },
      {
        "duration": 128,
        "start_time": "2024-12-11T22:33:09.134Z"
      },
      {
        "duration": 4,
        "start_time": "2024-12-11T22:33:09.269Z"
      },
      {
        "duration": 0,
        "start_time": "2024-12-11T22:33:09.276Z"
      },
      {
        "duration": 0,
        "start_time": "2024-12-11T22:33:09.276Z"
      },
      {
        "duration": 0,
        "start_time": "2024-12-11T22:33:09.277Z"
      },
      {
        "duration": 0,
        "start_time": "2024-12-11T22:33:09.278Z"
      },
      {
        "duration": 0,
        "start_time": "2024-12-11T22:33:09.279Z"
      },
      {
        "duration": 0,
        "start_time": "2024-12-11T22:33:09.281Z"
      },
      {
        "duration": 0,
        "start_time": "2024-12-11T22:33:09.282Z"
      },
      {
        "duration": 0,
        "start_time": "2024-12-11T22:33:09.283Z"
      },
      {
        "duration": 0,
        "start_time": "2024-12-11T22:33:09.284Z"
      },
      {
        "duration": 0,
        "start_time": "2024-12-11T22:33:09.285Z"
      },
      {
        "duration": 0,
        "start_time": "2024-12-11T22:33:09.286Z"
      },
      {
        "duration": 0,
        "start_time": "2024-12-11T22:33:09.287Z"
      },
      {
        "duration": 0,
        "start_time": "2024-12-11T22:33:09.288Z"
      },
      {
        "duration": 0,
        "start_time": "2024-12-11T22:33:09.289Z"
      },
      {
        "duration": 0,
        "start_time": "2024-12-11T22:33:09.290Z"
      },
      {
        "duration": 0,
        "start_time": "2024-12-11T22:33:09.291Z"
      },
      {
        "duration": 0,
        "start_time": "2024-12-11T22:33:09.292Z"
      },
      {
        "duration": 0,
        "start_time": "2024-12-11T22:33:09.294Z"
      },
      {
        "duration": 0,
        "start_time": "2024-12-11T22:33:09.295Z"
      },
      {
        "duration": 0,
        "start_time": "2024-12-11T22:33:09.297Z"
      },
      {
        "duration": 0,
        "start_time": "2024-12-11T22:33:09.299Z"
      },
      {
        "duration": 0,
        "start_time": "2024-12-11T22:33:09.300Z"
      },
      {
        "duration": 0,
        "start_time": "2024-12-11T22:33:09.301Z"
      },
      {
        "duration": 0,
        "start_time": "2024-12-11T22:33:09.302Z"
      },
      {
        "duration": 0,
        "start_time": "2024-12-11T22:33:09.303Z"
      },
      {
        "duration": 424,
        "start_time": "2024-12-11T22:33:31.625Z"
      },
      {
        "duration": 899,
        "start_time": "2024-12-11T22:33:32.051Z"
      },
      {
        "duration": 17,
        "start_time": "2024-12-11T22:33:32.952Z"
      },
      {
        "duration": 9,
        "start_time": "2024-12-11T22:33:32.972Z"
      },
      {
        "duration": 8,
        "start_time": "2024-12-11T22:33:32.983Z"
      },
      {
        "duration": 8,
        "start_time": "2024-12-11T22:33:32.992Z"
      },
      {
        "duration": 26,
        "start_time": "2024-12-11T22:33:33.002Z"
      },
      {
        "duration": 138,
        "start_time": "2024-12-11T22:33:33.029Z"
      },
      {
        "duration": 4,
        "start_time": "2024-12-11T22:33:33.168Z"
      },
      {
        "duration": 0,
        "start_time": "2024-12-11T22:33:33.176Z"
      },
      {
        "duration": 0,
        "start_time": "2024-12-11T22:33:33.177Z"
      },
      {
        "duration": 0,
        "start_time": "2024-12-11T22:33:33.178Z"
      },
      {
        "duration": 0,
        "start_time": "2024-12-11T22:33:33.179Z"
      },
      {
        "duration": 0,
        "start_time": "2024-12-11T22:33:33.180Z"
      },
      {
        "duration": 0,
        "start_time": "2024-12-11T22:33:33.181Z"
      },
      {
        "duration": 0,
        "start_time": "2024-12-11T22:33:33.182Z"
      },
      {
        "duration": 0,
        "start_time": "2024-12-11T22:33:33.183Z"
      },
      {
        "duration": 1,
        "start_time": "2024-12-11T22:33:33.185Z"
      },
      {
        "duration": 0,
        "start_time": "2024-12-11T22:33:33.187Z"
      },
      {
        "duration": 0,
        "start_time": "2024-12-11T22:33:33.189Z"
      },
      {
        "duration": 0,
        "start_time": "2024-12-11T22:33:33.190Z"
      },
      {
        "duration": 0,
        "start_time": "2024-12-11T22:33:33.192Z"
      },
      {
        "duration": 0,
        "start_time": "2024-12-11T22:33:33.193Z"
      },
      {
        "duration": 0,
        "start_time": "2024-12-11T22:33:33.195Z"
      },
      {
        "duration": 0,
        "start_time": "2024-12-11T22:33:33.196Z"
      },
      {
        "duration": 0,
        "start_time": "2024-12-11T22:33:33.198Z"
      },
      {
        "duration": 0,
        "start_time": "2024-12-11T22:33:33.200Z"
      },
      {
        "duration": 0,
        "start_time": "2024-12-11T22:33:33.202Z"
      },
      {
        "duration": 0,
        "start_time": "2024-12-11T22:33:33.203Z"
      },
      {
        "duration": 0,
        "start_time": "2024-12-11T22:33:33.204Z"
      },
      {
        "duration": 0,
        "start_time": "2024-12-11T22:33:33.205Z"
      },
      {
        "duration": 0,
        "start_time": "2024-12-11T22:33:33.206Z"
      },
      {
        "duration": 0,
        "start_time": "2024-12-11T22:33:33.207Z"
      },
      {
        "duration": 0,
        "start_time": "2024-12-11T22:33:33.208Z"
      },
      {
        "duration": 463,
        "start_time": "2024-12-11T22:34:20.944Z"
      },
      {
        "duration": 961,
        "start_time": "2024-12-11T22:34:21.409Z"
      },
      {
        "duration": 12,
        "start_time": "2024-12-11T22:34:22.372Z"
      },
      {
        "duration": 9,
        "start_time": "2024-12-11T22:34:22.386Z"
      },
      {
        "duration": 7,
        "start_time": "2024-12-11T22:34:22.397Z"
      },
      {
        "duration": 9,
        "start_time": "2024-12-11T22:34:22.406Z"
      },
      {
        "duration": 59,
        "start_time": "2024-12-11T22:34:22.416Z"
      },
      {
        "duration": 145,
        "start_time": "2024-12-11T22:34:22.477Z"
      },
      {
        "duration": 8,
        "start_time": "2024-12-11T22:34:22.624Z"
      },
      {
        "duration": 0,
        "start_time": "2024-12-11T22:34:22.635Z"
      },
      {
        "duration": 0,
        "start_time": "2024-12-11T22:34:22.636Z"
      },
      {
        "duration": 0,
        "start_time": "2024-12-11T22:34:22.637Z"
      },
      {
        "duration": 0,
        "start_time": "2024-12-11T22:34:22.639Z"
      },
      {
        "duration": 0,
        "start_time": "2024-12-11T22:34:22.640Z"
      },
      {
        "duration": 0,
        "start_time": "2024-12-11T22:34:22.641Z"
      },
      {
        "duration": 0,
        "start_time": "2024-12-11T22:34:22.642Z"
      },
      {
        "duration": 0,
        "start_time": "2024-12-11T22:34:22.644Z"
      },
      {
        "duration": 0,
        "start_time": "2024-12-11T22:34:22.646Z"
      },
      {
        "duration": 0,
        "start_time": "2024-12-11T22:34:22.647Z"
      },
      {
        "duration": 0,
        "start_time": "2024-12-11T22:34:22.669Z"
      },
      {
        "duration": 0,
        "start_time": "2024-12-11T22:34:22.671Z"
      },
      {
        "duration": 0,
        "start_time": "2024-12-11T22:34:22.673Z"
      },
      {
        "duration": 0,
        "start_time": "2024-12-11T22:34:22.674Z"
      },
      {
        "duration": 0,
        "start_time": "2024-12-11T22:34:22.676Z"
      },
      {
        "duration": 0,
        "start_time": "2024-12-11T22:34:22.677Z"
      },
      {
        "duration": 0,
        "start_time": "2024-12-11T22:34:22.679Z"
      },
      {
        "duration": 0,
        "start_time": "2024-12-11T22:34:22.681Z"
      },
      {
        "duration": 0,
        "start_time": "2024-12-11T22:34:22.682Z"
      },
      {
        "duration": 0,
        "start_time": "2024-12-11T22:34:22.683Z"
      },
      {
        "duration": 0,
        "start_time": "2024-12-11T22:34:22.685Z"
      },
      {
        "duration": 0,
        "start_time": "2024-12-11T22:34:22.686Z"
      },
      {
        "duration": 0,
        "start_time": "2024-12-11T22:34:22.687Z"
      },
      {
        "duration": 0,
        "start_time": "2024-12-11T22:34:22.688Z"
      },
      {
        "duration": 0,
        "start_time": "2024-12-11T22:34:22.689Z"
      },
      {
        "duration": 415,
        "start_time": "2024-12-11T22:35:58.740Z"
      },
      {
        "duration": 937,
        "start_time": "2024-12-11T22:35:59.158Z"
      },
      {
        "duration": 11,
        "start_time": "2024-12-11T22:36:00.097Z"
      },
      {
        "duration": 9,
        "start_time": "2024-12-11T22:36:00.111Z"
      },
      {
        "duration": 7,
        "start_time": "2024-12-11T22:36:00.122Z"
      },
      {
        "duration": 8,
        "start_time": "2024-12-11T22:36:00.131Z"
      },
      {
        "duration": 50,
        "start_time": "2024-12-11T22:36:00.141Z"
      },
      {
        "duration": 113,
        "start_time": "2024-12-11T22:36:00.193Z"
      },
      {
        "duration": 5,
        "start_time": "2024-12-11T22:36:00.308Z"
      },
      {
        "duration": 0,
        "start_time": "2024-12-11T22:36:00.315Z"
      },
      {
        "duration": 0,
        "start_time": "2024-12-11T22:36:00.316Z"
      },
      {
        "duration": 0,
        "start_time": "2024-12-11T22:36:00.317Z"
      },
      {
        "duration": 0,
        "start_time": "2024-12-11T22:36:00.318Z"
      },
      {
        "duration": 0,
        "start_time": "2024-12-11T22:36:00.319Z"
      },
      {
        "duration": 0,
        "start_time": "2024-12-11T22:36:00.320Z"
      },
      {
        "duration": 0,
        "start_time": "2024-12-11T22:36:00.321Z"
      },
      {
        "duration": 0,
        "start_time": "2024-12-11T22:36:00.322Z"
      },
      {
        "duration": 0,
        "start_time": "2024-12-11T22:36:00.324Z"
      },
      {
        "duration": 0,
        "start_time": "2024-12-11T22:36:00.325Z"
      },
      {
        "duration": 0,
        "start_time": "2024-12-11T22:36:00.326Z"
      },
      {
        "duration": 0,
        "start_time": "2024-12-11T22:36:00.326Z"
      },
      {
        "duration": 0,
        "start_time": "2024-12-11T22:36:00.328Z"
      },
      {
        "duration": 0,
        "start_time": "2024-12-11T22:36:00.329Z"
      },
      {
        "duration": 0,
        "start_time": "2024-12-11T22:36:00.330Z"
      },
      {
        "duration": 0,
        "start_time": "2024-12-11T22:36:00.331Z"
      },
      {
        "duration": 0,
        "start_time": "2024-12-11T22:36:00.332Z"
      },
      {
        "duration": 0,
        "start_time": "2024-12-11T22:36:00.333Z"
      },
      {
        "duration": 0,
        "start_time": "2024-12-11T22:36:00.370Z"
      },
      {
        "duration": 0,
        "start_time": "2024-12-11T22:36:00.371Z"
      },
      {
        "duration": 0,
        "start_time": "2024-12-11T22:36:00.371Z"
      },
      {
        "duration": 0,
        "start_time": "2024-12-11T22:36:00.372Z"
      },
      {
        "duration": 0,
        "start_time": "2024-12-11T22:36:00.373Z"
      },
      {
        "duration": 0,
        "start_time": "2024-12-11T22:36:00.374Z"
      },
      {
        "duration": 0,
        "start_time": "2024-12-11T22:36:00.375Z"
      },
      {
        "duration": 405,
        "start_time": "2024-12-11T22:36:50.226Z"
      },
      {
        "duration": 902,
        "start_time": "2024-12-11T22:36:50.634Z"
      },
      {
        "duration": 11,
        "start_time": "2024-12-11T22:36:51.538Z"
      },
      {
        "duration": 20,
        "start_time": "2024-12-11T22:36:51.551Z"
      },
      {
        "duration": 12,
        "start_time": "2024-12-11T22:36:51.575Z"
      },
      {
        "duration": 8,
        "start_time": "2024-12-11T22:36:51.589Z"
      },
      {
        "duration": 33,
        "start_time": "2024-12-11T22:36:51.599Z"
      },
      {
        "duration": 127,
        "start_time": "2024-12-11T22:36:51.634Z"
      },
      {
        "duration": 203,
        "start_time": "2024-12-11T22:36:51.763Z"
      },
      {
        "duration": 0,
        "start_time": "2024-12-11T22:36:51.970Z"
      },
      {
        "duration": 0,
        "start_time": "2024-12-11T22:36:51.972Z"
      },
      {
        "duration": 0,
        "start_time": "2024-12-11T22:36:51.973Z"
      },
      {
        "duration": 0,
        "start_time": "2024-12-11T22:36:51.975Z"
      },
      {
        "duration": 0,
        "start_time": "2024-12-11T22:36:51.976Z"
      },
      {
        "duration": 0,
        "start_time": "2024-12-11T22:36:51.977Z"
      },
      {
        "duration": 0,
        "start_time": "2024-12-11T22:36:51.979Z"
      },
      {
        "duration": 0,
        "start_time": "2024-12-11T22:36:51.980Z"
      },
      {
        "duration": 0,
        "start_time": "2024-12-11T22:36:51.982Z"
      },
      {
        "duration": 0,
        "start_time": "2024-12-11T22:36:51.983Z"
      },
      {
        "duration": 0,
        "start_time": "2024-12-11T22:36:51.984Z"
      },
      {
        "duration": 0,
        "start_time": "2024-12-11T22:36:51.985Z"
      },
      {
        "duration": 0,
        "start_time": "2024-12-11T22:36:51.986Z"
      },
      {
        "duration": 0,
        "start_time": "2024-12-11T22:36:51.988Z"
      },
      {
        "duration": 0,
        "start_time": "2024-12-11T22:36:51.989Z"
      },
      {
        "duration": 0,
        "start_time": "2024-12-11T22:36:51.990Z"
      },
      {
        "duration": 0,
        "start_time": "2024-12-11T22:36:51.992Z"
      },
      {
        "duration": 0,
        "start_time": "2024-12-11T22:36:51.993Z"
      },
      {
        "duration": 0,
        "start_time": "2024-12-11T22:36:51.995Z"
      },
      {
        "duration": 0,
        "start_time": "2024-12-11T22:36:51.996Z"
      },
      {
        "duration": 0,
        "start_time": "2024-12-11T22:36:51.998Z"
      },
      {
        "duration": 0,
        "start_time": "2024-12-11T22:36:51.999Z"
      },
      {
        "duration": 0,
        "start_time": "2024-12-11T22:36:52.002Z"
      },
      {
        "duration": 0,
        "start_time": "2024-12-11T22:36:52.003Z"
      },
      {
        "duration": 0,
        "start_time": "2024-12-11T22:36:52.005Z"
      },
      {
        "duration": 426,
        "start_time": "2024-12-11T22:37:36.144Z"
      },
      {
        "duration": 925,
        "start_time": "2024-12-11T22:37:36.572Z"
      },
      {
        "duration": 11,
        "start_time": "2024-12-11T22:37:37.499Z"
      },
      {
        "duration": 10,
        "start_time": "2024-12-11T22:37:37.512Z"
      },
      {
        "duration": 8,
        "start_time": "2024-12-11T22:37:37.523Z"
      },
      {
        "duration": 7,
        "start_time": "2024-12-11T22:37:37.533Z"
      },
      {
        "duration": 47,
        "start_time": "2024-12-11T22:37:37.542Z"
      },
      {
        "duration": 134,
        "start_time": "2024-12-11T22:37:37.591Z"
      },
      {
        "duration": 212,
        "start_time": "2024-12-11T22:37:37.727Z"
      },
      {
        "duration": 0,
        "start_time": "2024-12-11T22:37:37.941Z"
      },
      {
        "duration": 0,
        "start_time": "2024-12-11T22:37:37.943Z"
      },
      {
        "duration": 0,
        "start_time": "2024-12-11T22:37:37.945Z"
      },
      {
        "duration": 0,
        "start_time": "2024-12-11T22:37:37.946Z"
      },
      {
        "duration": 1,
        "start_time": "2024-12-11T22:37:37.947Z"
      },
      {
        "duration": 0,
        "start_time": "2024-12-11T22:37:37.949Z"
      },
      {
        "duration": 0,
        "start_time": "2024-12-11T22:37:37.950Z"
      },
      {
        "duration": 0,
        "start_time": "2024-12-11T22:37:37.951Z"
      },
      {
        "duration": 0,
        "start_time": "2024-12-11T22:37:37.952Z"
      },
      {
        "duration": 0,
        "start_time": "2024-12-11T22:37:37.954Z"
      },
      {
        "duration": 0,
        "start_time": "2024-12-11T22:37:37.954Z"
      },
      {
        "duration": 0,
        "start_time": "2024-12-11T22:37:37.970Z"
      },
      {
        "duration": 0,
        "start_time": "2024-12-11T22:37:37.972Z"
      },
      {
        "duration": 0,
        "start_time": "2024-12-11T22:37:37.973Z"
      },
      {
        "duration": 0,
        "start_time": "2024-12-11T22:37:37.975Z"
      },
      {
        "duration": 0,
        "start_time": "2024-12-11T22:37:37.977Z"
      },
      {
        "duration": 0,
        "start_time": "2024-12-11T22:37:37.978Z"
      },
      {
        "duration": 0,
        "start_time": "2024-12-11T22:37:37.979Z"
      },
      {
        "duration": 0,
        "start_time": "2024-12-11T22:37:37.980Z"
      },
      {
        "duration": 0,
        "start_time": "2024-12-11T22:37:37.981Z"
      },
      {
        "duration": 0,
        "start_time": "2024-12-11T22:37:37.982Z"
      },
      {
        "duration": 0,
        "start_time": "2024-12-11T22:37:37.983Z"
      },
      {
        "duration": 0,
        "start_time": "2024-12-11T22:37:37.985Z"
      },
      {
        "duration": 0,
        "start_time": "2024-12-11T22:37:37.985Z"
      },
      {
        "duration": 0,
        "start_time": "2024-12-11T22:37:37.986Z"
      },
      {
        "duration": 425,
        "start_time": "2024-12-11T22:38:13.719Z"
      },
      {
        "duration": 923,
        "start_time": "2024-12-11T22:38:14.147Z"
      },
      {
        "duration": 12,
        "start_time": "2024-12-11T22:38:15.072Z"
      },
      {
        "duration": 9,
        "start_time": "2024-12-11T22:38:15.086Z"
      },
      {
        "duration": 8,
        "start_time": "2024-12-11T22:38:15.096Z"
      },
      {
        "duration": 10,
        "start_time": "2024-12-11T22:38:15.106Z"
      },
      {
        "duration": 51,
        "start_time": "2024-12-11T22:38:15.119Z"
      },
      {
        "duration": 123,
        "start_time": "2024-12-11T22:38:15.171Z"
      },
      {
        "duration": 28,
        "start_time": "2024-12-11T22:38:15.296Z"
      },
      {
        "duration": 145,
        "start_time": "2024-12-11T22:38:15.327Z"
      },
      {
        "duration": 113,
        "start_time": "2024-12-11T22:38:15.474Z"
      },
      {
        "duration": 26,
        "start_time": "2024-12-11T22:38:15.589Z"
      },
      {
        "duration": 12,
        "start_time": "2024-12-11T22:38:15.616Z"
      },
      {
        "duration": 3,
        "start_time": "2024-12-11T22:38:15.630Z"
      },
      {
        "duration": 52,
        "start_time": "2024-12-11T22:38:15.635Z"
      },
      {
        "duration": 23,
        "start_time": "2024-12-11T22:38:15.689Z"
      },
      {
        "duration": 4,
        "start_time": "2024-12-11T22:38:15.713Z"
      },
      {
        "duration": 5,
        "start_time": "2024-12-11T22:38:15.720Z"
      },
      {
        "duration": 4,
        "start_time": "2024-12-11T22:38:15.727Z"
      },
      {
        "duration": 4,
        "start_time": "2024-12-11T22:38:15.732Z"
      },
      {
        "duration": 2,
        "start_time": "2024-12-11T22:38:15.738Z"
      },
      {
        "duration": 29,
        "start_time": "2024-12-11T22:38:15.742Z"
      },
      {
        "duration": 3,
        "start_time": "2024-12-11T22:38:15.772Z"
      },
      {
        "duration": 2,
        "start_time": "2024-12-11T22:38:15.777Z"
      },
      {
        "duration": 2,
        "start_time": "2024-12-11T22:38:15.781Z"
      },
      {
        "duration": 2,
        "start_time": "2024-12-11T22:38:15.785Z"
      },
      {
        "duration": 2,
        "start_time": "2024-12-11T22:38:15.789Z"
      },
      {
        "duration": 1,
        "start_time": "2024-12-11T22:38:15.795Z"
      },
      {
        "duration": 3,
        "start_time": "2024-12-11T22:38:15.798Z"
      },
      {
        "duration": 3,
        "start_time": "2024-12-11T22:38:15.802Z"
      },
      {
        "duration": 2,
        "start_time": "2024-12-11T22:38:15.806Z"
      },
      {
        "duration": 2,
        "start_time": "2024-12-11T22:38:15.810Z"
      },
      {
        "duration": 3,
        "start_time": "2024-12-11T22:38:15.814Z"
      },
      {
        "duration": 3,
        "start_time": "2024-12-11T22:38:15.870Z"
      },
      {
        "duration": 436,
        "start_time": "2024-12-11T22:41:13.908Z"
      },
      {
        "duration": 909,
        "start_time": "2024-12-11T22:41:14.346Z"
      },
      {
        "duration": 15,
        "start_time": "2024-12-11T22:41:15.257Z"
      },
      {
        "duration": 9,
        "start_time": "2024-12-11T22:41:15.273Z"
      },
      {
        "duration": 9,
        "start_time": "2024-12-11T22:41:15.283Z"
      },
      {
        "duration": 7,
        "start_time": "2024-12-11T22:41:15.293Z"
      },
      {
        "duration": 23,
        "start_time": "2024-12-11T22:41:15.302Z"
      },
      {
        "duration": 144,
        "start_time": "2024-12-11T22:41:15.327Z"
      },
      {
        "duration": 27,
        "start_time": "2024-12-11T22:41:15.473Z"
      },
      {
        "duration": 143,
        "start_time": "2024-12-11T22:41:15.503Z"
      },
      {
        "duration": 110,
        "start_time": "2024-12-11T22:41:15.648Z"
      },
      {
        "duration": 25,
        "start_time": "2024-12-11T22:41:15.760Z"
      },
      {
        "duration": 12,
        "start_time": "2024-12-11T22:41:15.787Z"
      },
      {
        "duration": 3,
        "start_time": "2024-12-11T22:41:15.801Z"
      },
      {
        "duration": 25,
        "start_time": "2024-12-11T22:41:15.806Z"
      },
      {
        "duration": 50,
        "start_time": "2024-12-11T22:41:15.833Z"
      },
      {
        "duration": 4,
        "start_time": "2024-12-11T22:41:15.885Z"
      },
      {
        "duration": 3,
        "start_time": "2024-12-11T22:41:15.891Z"
      },
      {
        "duration": 4,
        "start_time": "2024-12-11T22:41:15.896Z"
      },
      {
        "duration": 3,
        "start_time": "2024-12-11T22:41:15.901Z"
      },
      {
        "duration": 3,
        "start_time": "2024-12-11T22:41:15.906Z"
      },
      {
        "duration": 3,
        "start_time": "2024-12-11T22:41:15.910Z"
      },
      {
        "duration": 2,
        "start_time": "2024-12-11T22:41:15.914Z"
      },
      {
        "duration": 3,
        "start_time": "2024-12-11T22:41:15.918Z"
      },
      {
        "duration": 3,
        "start_time": "2024-12-11T22:41:15.922Z"
      },
      {
        "duration": 2,
        "start_time": "2024-12-11T22:41:15.970Z"
      },
      {
        "duration": 3,
        "start_time": "2024-12-11T22:41:15.974Z"
      },
      {
        "duration": 2,
        "start_time": "2024-12-11T22:41:15.980Z"
      },
      {
        "duration": 2,
        "start_time": "2024-12-11T22:41:15.984Z"
      },
      {
        "duration": 2,
        "start_time": "2024-12-11T22:41:15.989Z"
      },
      {
        "duration": 3,
        "start_time": "2024-12-11T22:41:15.993Z"
      },
      {
        "duration": 3,
        "start_time": "2024-12-11T22:41:15.997Z"
      },
      {
        "duration": 2,
        "start_time": "2024-12-11T22:41:16.002Z"
      },
      {
        "duration": 3,
        "start_time": "2024-12-11T22:41:16.006Z"
      },
      {
        "duration": 2158,
        "start_time": "2024-12-12T02:02:25.470Z"
      },
      {
        "duration": 1020,
        "start_time": "2024-12-12T02:02:27.631Z"
      },
      {
        "duration": 12,
        "start_time": "2024-12-12T02:02:28.653Z"
      },
      {
        "duration": 21,
        "start_time": "2024-12-12T02:02:28.668Z"
      },
      {
        "duration": 9,
        "start_time": "2024-12-12T02:02:28.691Z"
      },
      {
        "duration": 8,
        "start_time": "2024-12-12T02:02:28.701Z"
      },
      {
        "duration": 22,
        "start_time": "2024-12-12T02:02:28.710Z"
      },
      {
        "duration": 128,
        "start_time": "2024-12-12T02:02:28.734Z"
      },
      {
        "duration": 33,
        "start_time": "2024-12-12T02:02:28.863Z"
      },
      {
        "duration": 135,
        "start_time": "2024-12-12T02:02:28.900Z"
      },
      {
        "duration": 110,
        "start_time": "2024-12-12T02:02:29.037Z"
      },
      {
        "duration": 25,
        "start_time": "2024-12-12T02:02:29.149Z"
      },
      {
        "duration": 12,
        "start_time": "2024-12-12T02:02:29.187Z"
      },
      {
        "duration": 4,
        "start_time": "2024-12-12T02:02:29.201Z"
      },
      {
        "duration": 27,
        "start_time": "2024-12-12T02:02:29.207Z"
      },
      {
        "duration": 23,
        "start_time": "2024-12-12T02:02:29.236Z"
      },
      {
        "duration": 28,
        "start_time": "2024-12-12T02:02:29.261Z"
      },
      {
        "duration": 3,
        "start_time": "2024-12-12T02:02:29.291Z"
      },
      {
        "duration": 3,
        "start_time": "2024-12-12T02:02:29.296Z"
      },
      {
        "duration": 4,
        "start_time": "2024-12-12T02:02:29.301Z"
      },
      {
        "duration": 2,
        "start_time": "2024-12-12T02:02:29.307Z"
      },
      {
        "duration": 2,
        "start_time": "2024-12-12T02:02:29.311Z"
      },
      {
        "duration": 2,
        "start_time": "2024-12-12T02:02:29.315Z"
      },
      {
        "duration": 3,
        "start_time": "2024-12-12T02:02:29.318Z"
      },
      {
        "duration": 2,
        "start_time": "2024-12-12T02:02:29.323Z"
      },
      {
        "duration": 2,
        "start_time": "2024-12-12T02:02:29.327Z"
      },
      {
        "duration": 2,
        "start_time": "2024-12-12T02:02:29.331Z"
      },
      {
        "duration": 2,
        "start_time": "2024-12-12T02:02:29.390Z"
      },
      {
        "duration": 3,
        "start_time": "2024-12-12T02:02:29.393Z"
      },
      {
        "duration": 2,
        "start_time": "2024-12-12T02:02:29.398Z"
      },
      {
        "duration": 2,
        "start_time": "2024-12-12T02:02:29.402Z"
      },
      {
        "duration": 2,
        "start_time": "2024-12-12T02:02:29.406Z"
      },
      {
        "duration": 3,
        "start_time": "2024-12-12T02:02:29.409Z"
      },
      {
        "duration": 3,
        "start_time": "2024-12-12T02:02:29.413Z"
      },
      {
        "duration": 26,
        "start_time": "2024-12-12T02:03:07.152Z"
      },
      {
        "duration": 136,
        "start_time": "2024-12-12T02:03:46.608Z"
      },
      {
        "duration": 25,
        "start_time": "2024-12-12T02:03:55.635Z"
      },
      {
        "duration": 24,
        "start_time": "2024-12-12T02:04:02.389Z"
      },
      {
        "duration": 146,
        "start_time": "2024-12-12T02:04:53.316Z"
      },
      {
        "duration": 47,
        "start_time": "2024-12-12T02:06:06.165Z"
      },
      {
        "duration": 40,
        "start_time": "2024-12-12T02:06:21.476Z"
      },
      {
        "duration": 41,
        "start_time": "2024-12-12T02:06:47.377Z"
      },
      {
        "duration": 420,
        "start_time": "2024-12-12T02:06:54.474Z"
      },
      {
        "duration": 927,
        "start_time": "2024-12-12T02:06:54.896Z"
      },
      {
        "duration": 12,
        "start_time": "2024-12-12T02:06:55.824Z"
      },
      {
        "duration": 10,
        "start_time": "2024-12-12T02:06:55.838Z"
      },
      {
        "duration": 8,
        "start_time": "2024-12-12T02:06:55.849Z"
      },
      {
        "duration": 32,
        "start_time": "2024-12-12T02:06:55.859Z"
      },
      {
        "duration": 23,
        "start_time": "2024-12-12T02:06:55.893Z"
      },
      {
        "duration": 122,
        "start_time": "2024-12-12T02:06:55.918Z"
      },
      {
        "duration": 30,
        "start_time": "2024-12-12T02:06:56.041Z"
      },
      {
        "duration": 141,
        "start_time": "2024-12-12T02:06:56.087Z"
      },
      {
        "duration": 115,
        "start_time": "2024-12-12T02:06:56.229Z"
      },
      {
        "duration": 61,
        "start_time": "2024-12-12T02:06:56.345Z"
      },
      {
        "duration": 13,
        "start_time": "2024-12-12T02:06:56.409Z"
      },
      {
        "duration": 3,
        "start_time": "2024-12-12T02:06:56.424Z"
      },
      {
        "duration": 29,
        "start_time": "2024-12-12T02:06:56.429Z"
      },
      {
        "duration": 45,
        "start_time": "2024-12-12T02:06:56.460Z"
      },
      {
        "duration": 3,
        "start_time": "2024-12-12T02:06:56.508Z"
      },
      {
        "duration": 4,
        "start_time": "2024-12-12T02:06:56.513Z"
      },
      {
        "duration": 4,
        "start_time": "2024-12-12T02:06:56.520Z"
      },
      {
        "duration": 3,
        "start_time": "2024-12-12T02:06:56.526Z"
      },
      {
        "duration": 2,
        "start_time": "2024-12-12T02:06:56.531Z"
      },
      {
        "duration": 3,
        "start_time": "2024-12-12T02:06:56.535Z"
      },
      {
        "duration": 3,
        "start_time": "2024-12-12T02:06:56.539Z"
      },
      {
        "duration": 44,
        "start_time": "2024-12-12T02:06:56.543Z"
      },
      {
        "duration": 2,
        "start_time": "2024-12-12T02:06:56.589Z"
      },
      {
        "duration": 2,
        "start_time": "2024-12-12T02:06:56.593Z"
      },
      {
        "duration": 2,
        "start_time": "2024-12-12T02:06:56.597Z"
      },
      {
        "duration": 2,
        "start_time": "2024-12-12T02:06:56.603Z"
      },
      {
        "duration": 3,
        "start_time": "2024-12-12T02:06:56.606Z"
      },
      {
        "duration": 2,
        "start_time": "2024-12-12T02:06:56.610Z"
      },
      {
        "duration": 2,
        "start_time": "2024-12-12T02:06:56.614Z"
      },
      {
        "duration": 2,
        "start_time": "2024-12-12T02:06:56.618Z"
      },
      {
        "duration": 2,
        "start_time": "2024-12-12T02:06:56.622Z"
      },
      {
        "duration": 3,
        "start_time": "2024-12-12T02:06:56.626Z"
      },
      {
        "duration": 413,
        "start_time": "2024-12-12T02:09:40.048Z"
      },
      {
        "duration": 899,
        "start_time": "2024-12-12T02:09:40.463Z"
      },
      {
        "duration": 12,
        "start_time": "2024-12-12T02:09:41.364Z"
      },
      {
        "duration": 10,
        "start_time": "2024-12-12T02:09:41.386Z"
      },
      {
        "duration": 8,
        "start_time": "2024-12-12T02:09:41.399Z"
      },
      {
        "duration": 7,
        "start_time": "2024-12-12T02:09:41.409Z"
      },
      {
        "duration": 24,
        "start_time": "2024-12-12T02:09:41.418Z"
      },
      {
        "duration": 145,
        "start_time": "2024-12-12T02:09:41.444Z"
      },
      {
        "duration": 8,
        "start_time": "2024-12-12T02:09:41.591Z"
      },
      {
        "duration": 101,
        "start_time": "2024-12-12T02:09:41.601Z"
      },
      {
        "duration": 96,
        "start_time": "2024-12-12T02:09:41.704Z"
      },
      {
        "duration": 27,
        "start_time": "2024-12-12T02:09:41.801Z"
      },
      {
        "duration": 12,
        "start_time": "2024-12-12T02:09:41.829Z"
      },
      {
        "duration": 3,
        "start_time": "2024-12-12T02:09:41.845Z"
      },
      {
        "duration": 56,
        "start_time": "2024-12-12T02:09:41.849Z"
      },
      {
        "duration": 23,
        "start_time": "2024-12-12T02:09:41.907Z"
      },
      {
        "duration": 3,
        "start_time": "2024-12-12T02:09:41.932Z"
      },
      {
        "duration": 3,
        "start_time": "2024-12-12T02:09:41.937Z"
      },
      {
        "duration": 4,
        "start_time": "2024-12-12T02:09:41.941Z"
      },
      {
        "duration": 3,
        "start_time": "2024-12-12T02:09:41.946Z"
      },
      {
        "duration": 36,
        "start_time": "2024-12-12T02:09:41.951Z"
      },
      {
        "duration": 2,
        "start_time": "2024-12-12T02:09:41.989Z"
      },
      {
        "duration": 2,
        "start_time": "2024-12-12T02:09:41.993Z"
      },
      {
        "duration": 2,
        "start_time": "2024-12-12T02:09:41.997Z"
      },
      {
        "duration": 2,
        "start_time": "2024-12-12T02:09:42.001Z"
      },
      {
        "duration": 3,
        "start_time": "2024-12-12T02:09:42.005Z"
      },
      {
        "duration": 3,
        "start_time": "2024-12-12T02:09:42.009Z"
      },
      {
        "duration": 2,
        "start_time": "2024-12-12T02:09:42.014Z"
      },
      {
        "duration": 2,
        "start_time": "2024-12-12T02:09:42.018Z"
      },
      {
        "duration": 2,
        "start_time": "2024-12-12T02:09:42.022Z"
      },
      {
        "duration": 3,
        "start_time": "2024-12-12T02:09:42.025Z"
      },
      {
        "duration": 2,
        "start_time": "2024-12-12T02:09:42.030Z"
      },
      {
        "duration": 3,
        "start_time": "2024-12-12T02:09:42.086Z"
      },
      {
        "duration": 2,
        "start_time": "2024-12-12T02:09:42.091Z"
      },
      {
        "duration": 21,
        "start_time": "2024-12-12T02:11:20.024Z"
      },
      {
        "duration": 497,
        "start_time": "2024-12-12T02:13:45.299Z"
      },
      {
        "duration": 939,
        "start_time": "2024-12-12T02:13:45.798Z"
      },
      {
        "duration": 13,
        "start_time": "2024-12-12T02:13:46.738Z"
      },
      {
        "duration": 11,
        "start_time": "2024-12-12T02:13:46.754Z"
      },
      {
        "duration": 26,
        "start_time": "2024-12-12T02:13:46.767Z"
      },
      {
        "duration": 8,
        "start_time": "2024-12-12T02:13:46.795Z"
      },
      {
        "duration": 25,
        "start_time": "2024-12-12T02:13:46.805Z"
      },
      {
        "duration": 139,
        "start_time": "2024-12-12T02:13:46.832Z"
      },
      {
        "duration": 16,
        "start_time": "2024-12-12T02:13:46.973Z"
      },
      {
        "duration": 106,
        "start_time": "2024-12-12T02:13:46.993Z"
      },
      {
        "duration": 100,
        "start_time": "2024-12-12T02:13:47.101Z"
      },
      {
        "duration": 30,
        "start_time": "2024-12-12T02:13:47.204Z"
      },
      {
        "duration": 12,
        "start_time": "2024-12-12T02:13:47.235Z"
      },
      {
        "duration": 3,
        "start_time": "2024-12-12T02:13:47.249Z"
      },
      {
        "duration": 46,
        "start_time": "2024-12-12T02:13:47.253Z"
      },
      {
        "duration": 23,
        "start_time": "2024-12-12T02:13:47.301Z"
      },
      {
        "duration": 3,
        "start_time": "2024-12-12T02:13:47.325Z"
      },
      {
        "duration": 2,
        "start_time": "2024-12-12T02:13:47.331Z"
      },
      {
        "duration": 4,
        "start_time": "2024-12-12T02:13:47.335Z"
      },
      {
        "duration": 3,
        "start_time": "2024-12-12T02:13:47.340Z"
      },
      {
        "duration": 2,
        "start_time": "2024-12-12T02:13:47.345Z"
      },
      {
        "duration": 39,
        "start_time": "2024-12-12T02:13:47.349Z"
      },
      {
        "duration": 3,
        "start_time": "2024-12-12T02:13:47.390Z"
      },
      {
        "duration": 2,
        "start_time": "2024-12-12T02:13:47.394Z"
      },
      {
        "duration": 3,
        "start_time": "2024-12-12T02:13:47.398Z"
      },
      {
        "duration": 2,
        "start_time": "2024-12-12T02:13:47.403Z"
      },
      {
        "duration": 3,
        "start_time": "2024-12-12T02:13:47.407Z"
      },
      {
        "duration": 3,
        "start_time": "2024-12-12T02:13:47.413Z"
      },
      {
        "duration": 2,
        "start_time": "2024-12-12T02:13:47.418Z"
      },
      {
        "duration": 3,
        "start_time": "2024-12-12T02:13:47.422Z"
      },
      {
        "duration": 3,
        "start_time": "2024-12-12T02:13:47.426Z"
      },
      {
        "duration": 2,
        "start_time": "2024-12-12T02:13:47.430Z"
      },
      {
        "duration": 53,
        "start_time": "2024-12-12T02:13:47.434Z"
      },
      {
        "duration": 2,
        "start_time": "2024-12-12T02:13:47.490Z"
      },
      {
        "duration": 456,
        "start_time": "2024-12-12T02:15:05.915Z"
      },
      {
        "duration": 931,
        "start_time": "2024-12-12T02:15:06.373Z"
      },
      {
        "duration": 11,
        "start_time": "2024-12-12T02:15:07.306Z"
      },
      {
        "duration": 10,
        "start_time": "2024-12-12T02:15:07.318Z"
      },
      {
        "duration": 8,
        "start_time": "2024-12-12T02:15:07.331Z"
      },
      {
        "duration": 8,
        "start_time": "2024-12-12T02:15:07.341Z"
      },
      {
        "duration": 53,
        "start_time": "2024-12-12T02:15:07.351Z"
      },
      {
        "duration": 127,
        "start_time": "2024-12-12T02:15:07.406Z"
      },
      {
        "duration": 8,
        "start_time": "2024-12-12T02:15:07.535Z"
      },
      {
        "duration": 114,
        "start_time": "2024-12-12T02:15:07.545Z"
      },
      {
        "duration": 109,
        "start_time": "2024-12-12T02:15:07.661Z"
      },
      {
        "duration": 34,
        "start_time": "2024-12-12T02:15:07.772Z"
      },
      {
        "duration": 13,
        "start_time": "2024-12-12T02:15:07.808Z"
      },
      {
        "duration": 3,
        "start_time": "2024-12-12T02:15:07.826Z"
      },
      {
        "duration": 22,
        "start_time": "2024-12-12T02:15:07.831Z"
      },
      {
        "duration": 50,
        "start_time": "2024-12-12T02:15:07.856Z"
      },
      {
        "duration": 4,
        "start_time": "2024-12-12T02:15:07.908Z"
      },
      {
        "duration": 4,
        "start_time": "2024-12-12T02:15:07.913Z"
      },
      {
        "duration": 4,
        "start_time": "2024-12-12T02:15:07.919Z"
      },
      {
        "duration": 4,
        "start_time": "2024-12-12T02:15:07.924Z"
      },
      {
        "duration": 2,
        "start_time": "2024-12-12T02:15:07.930Z"
      },
      {
        "duration": 2,
        "start_time": "2024-12-12T02:15:07.934Z"
      },
      {
        "duration": 3,
        "start_time": "2024-12-12T02:15:07.938Z"
      },
      {
        "duration": 3,
        "start_time": "2024-12-12T02:15:07.942Z"
      },
      {
        "duration": 3,
        "start_time": "2024-12-12T02:15:07.987Z"
      },
      {
        "duration": 3,
        "start_time": "2024-12-12T02:15:07.992Z"
      },
      {
        "duration": 2,
        "start_time": "2024-12-12T02:15:07.997Z"
      },
      {
        "duration": 2,
        "start_time": "2024-12-12T02:15:08.001Z"
      },
      {
        "duration": 4,
        "start_time": "2024-12-12T02:15:08.004Z"
      },
      {
        "duration": 3,
        "start_time": "2024-12-12T02:15:08.009Z"
      },
      {
        "duration": 3,
        "start_time": "2024-12-12T02:15:08.013Z"
      },
      {
        "duration": 3,
        "start_time": "2024-12-12T02:15:08.018Z"
      },
      {
        "duration": 11,
        "start_time": "2024-12-12T02:15:08.023Z"
      },
      {
        "duration": 2,
        "start_time": "2024-12-12T02:15:08.036Z"
      },
      {
        "duration": 815,
        "start_time": "2024-12-12T02:15:54.836Z"
      },
      {
        "duration": 6,
        "start_time": "2024-12-12T02:20:26.128Z"
      },
      {
        "duration": 3,
        "start_time": "2024-12-12T02:22:49.146Z"
      },
      {
        "duration": 2,
        "start_time": "2024-12-12T02:26:07.909Z"
      },
      {
        "duration": 8,
        "start_time": "2024-12-12T02:32:17.394Z"
      },
      {
        "duration": 5,
        "start_time": "2024-12-12T02:32:33.635Z"
      },
      {
        "duration": 4,
        "start_time": "2024-12-12T02:32:44.701Z"
      },
      {
        "duration": 453,
        "start_time": "2024-12-12T02:35:59.196Z"
      },
      {
        "duration": 922,
        "start_time": "2024-12-12T02:35:59.652Z"
      },
      {
        "duration": 19,
        "start_time": "2024-12-12T02:36:00.575Z"
      },
      {
        "duration": 12,
        "start_time": "2024-12-12T02:36:00.597Z"
      },
      {
        "duration": 8,
        "start_time": "2024-12-12T02:36:00.610Z"
      },
      {
        "duration": 8,
        "start_time": "2024-12-12T02:36:00.620Z"
      },
      {
        "duration": 23,
        "start_time": "2024-12-12T02:36:00.630Z"
      },
      {
        "duration": 159,
        "start_time": "2024-12-12T02:36:00.655Z"
      },
      {
        "duration": 8,
        "start_time": "2024-12-12T02:36:00.816Z"
      },
      {
        "duration": 119,
        "start_time": "2024-12-12T02:36:00.827Z"
      },
      {
        "duration": 102,
        "start_time": "2024-12-12T02:36:00.947Z"
      },
      {
        "duration": 40,
        "start_time": "2024-12-12T02:36:01.051Z"
      },
      {
        "duration": 14,
        "start_time": "2024-12-12T02:36:01.093Z"
      },
      {
        "duration": 4,
        "start_time": "2024-12-12T02:36:01.108Z"
      },
      {
        "duration": 21,
        "start_time": "2024-12-12T02:36:01.113Z"
      },
      {
        "duration": 25,
        "start_time": "2024-12-12T02:36:01.136Z"
      },
      {
        "duration": 4,
        "start_time": "2024-12-12T02:36:01.188Z"
      },
      {
        "duration": 4,
        "start_time": "2024-12-12T02:36:01.193Z"
      },
      {
        "duration": 5,
        "start_time": "2024-12-12T02:36:01.198Z"
      },
      {
        "duration": 3,
        "start_time": "2024-12-12T02:36:01.205Z"
      },
      {
        "duration": 894,
        "start_time": "2024-12-12T02:36:01.210Z"
      },
      {
        "duration": 3,
        "start_time": "2024-12-12T02:36:02.106Z"
      },
      {
        "duration": 2,
        "start_time": "2024-12-12T02:36:02.111Z"
      },
      {
        "duration": 2,
        "start_time": "2024-12-12T02:36:02.115Z"
      },
      {
        "duration": 3,
        "start_time": "2024-12-12T02:36:02.119Z"
      },
      {
        "duration": 3,
        "start_time": "2024-12-12T02:36:02.124Z"
      },
      {
        "duration": 4,
        "start_time": "2024-12-12T02:36:02.128Z"
      },
      {
        "duration": 2,
        "start_time": "2024-12-12T02:36:02.135Z"
      },
      {
        "duration": 2,
        "start_time": "2024-12-12T02:36:02.139Z"
      },
      {
        "duration": 2,
        "start_time": "2024-12-12T02:36:02.143Z"
      },
      {
        "duration": 3,
        "start_time": "2024-12-12T02:36:02.147Z"
      },
      {
        "duration": 2,
        "start_time": "2024-12-12T02:36:02.188Z"
      },
      {
        "duration": 3,
        "start_time": "2024-12-12T02:36:02.192Z"
      },
      {
        "duration": 3,
        "start_time": "2024-12-12T02:36:02.196Z"
      },
      {
        "duration": 5,
        "start_time": "2024-12-12T02:37:16.840Z"
      },
      {
        "duration": 5,
        "start_time": "2024-12-12T02:37:22.993Z"
      },
      {
        "duration": 416,
        "start_time": "2024-12-12T02:38:42.679Z"
      },
      {
        "duration": 934,
        "start_time": "2024-12-12T02:38:43.097Z"
      },
      {
        "duration": 11,
        "start_time": "2024-12-12T02:38:44.033Z"
      },
      {
        "duration": 11,
        "start_time": "2024-12-12T02:38:44.046Z"
      },
      {
        "duration": 8,
        "start_time": "2024-12-12T02:38:44.059Z"
      },
      {
        "duration": 9,
        "start_time": "2024-12-12T02:38:44.087Z"
      },
      {
        "duration": 24,
        "start_time": "2024-12-12T02:38:44.097Z"
      },
      {
        "duration": 131,
        "start_time": "2024-12-12T02:38:44.124Z"
      },
      {
        "duration": 8,
        "start_time": "2024-12-12T02:38:44.257Z"
      },
      {
        "duration": 105,
        "start_time": "2024-12-12T02:38:44.268Z"
      },
      {
        "duration": 93,
        "start_time": "2024-12-12T02:38:44.375Z"
      },
      {
        "duration": 32,
        "start_time": "2024-12-12T02:38:44.469Z"
      },
      {
        "duration": 12,
        "start_time": "2024-12-12T02:38:44.503Z"
      },
      {
        "duration": 4,
        "start_time": "2024-12-12T02:38:44.516Z"
      },
      {
        "duration": 20,
        "start_time": "2024-12-12T02:38:44.521Z"
      },
      {
        "duration": 43,
        "start_time": "2024-12-12T02:38:44.543Z"
      },
      {
        "duration": 3,
        "start_time": "2024-12-12T02:38:44.588Z"
      },
      {
        "duration": 3,
        "start_time": "2024-12-12T02:38:44.593Z"
      },
      {
        "duration": 4,
        "start_time": "2024-12-12T02:38:44.598Z"
      },
      {
        "duration": 2,
        "start_time": "2024-12-12T02:38:44.604Z"
      },
      {
        "duration": 810,
        "start_time": "2024-12-12T02:38:44.608Z"
      },
      {
        "duration": 3,
        "start_time": "2024-12-12T02:38:45.420Z"
      },
      {
        "duration": 6,
        "start_time": "2024-12-12T02:38:45.424Z"
      },
      {
        "duration": 3,
        "start_time": "2024-12-12T02:38:45.431Z"
      },
      {
        "duration": 4,
        "start_time": "2024-12-12T02:38:45.435Z"
      },
      {
        "duration": 3,
        "start_time": "2024-12-12T02:38:45.440Z"
      },
      {
        "duration": 14,
        "start_time": "2024-12-12T02:38:45.445Z"
      },
      {
        "duration": 2,
        "start_time": "2024-12-12T02:38:45.488Z"
      },
      {
        "duration": 2,
        "start_time": "2024-12-12T02:38:45.492Z"
      },
      {
        "duration": 3,
        "start_time": "2024-12-12T02:38:45.496Z"
      },
      {
        "duration": 3,
        "start_time": "2024-12-12T02:38:45.500Z"
      },
      {
        "duration": 3,
        "start_time": "2024-12-12T02:38:45.504Z"
      },
      {
        "duration": 3,
        "start_time": "2024-12-12T02:38:45.509Z"
      },
      {
        "duration": 3,
        "start_time": "2024-12-12T02:38:45.514Z"
      },
      {
        "duration": 578,
        "start_time": "2024-12-12T02:41:37.089Z"
      },
      {
        "duration": 126,
        "start_time": "2024-12-12T02:42:01.782Z"
      },
      {
        "duration": 8,
        "start_time": "2024-12-12T02:42:49.208Z"
      },
      {
        "duration": 8,
        "start_time": "2024-12-12T02:43:06.173Z"
      },
      {
        "duration": 15,
        "start_time": "2024-12-12T02:44:41.150Z"
      },
      {
        "duration": 5,
        "start_time": "2024-12-12T02:44:54.293Z"
      },
      {
        "duration": 5,
        "start_time": "2024-12-12T02:45:08.846Z"
      },
      {
        "duration": 431,
        "start_time": "2024-12-12T02:45:37.556Z"
      },
      {
        "duration": 909,
        "start_time": "2024-12-12T02:45:37.989Z"
      },
      {
        "duration": 13,
        "start_time": "2024-12-12T02:45:38.900Z"
      },
      {
        "duration": 10,
        "start_time": "2024-12-12T02:45:38.915Z"
      },
      {
        "duration": 8,
        "start_time": "2024-12-12T02:45:38.927Z"
      },
      {
        "duration": 8,
        "start_time": "2024-12-12T02:45:38.937Z"
      },
      {
        "duration": 55,
        "start_time": "2024-12-12T02:45:38.947Z"
      },
      {
        "duration": 115,
        "start_time": "2024-12-12T02:45:39.004Z"
      },
      {
        "duration": 8,
        "start_time": "2024-12-12T02:45:39.121Z"
      },
      {
        "duration": 106,
        "start_time": "2024-12-12T02:45:39.131Z"
      },
      {
        "duration": 88,
        "start_time": "2024-12-12T02:45:39.239Z"
      },
      {
        "duration": 28,
        "start_time": "2024-12-12T02:45:39.329Z"
      },
      {
        "duration": 27,
        "start_time": "2024-12-12T02:45:39.359Z"
      },
      {
        "duration": 3,
        "start_time": "2024-12-12T02:45:39.389Z"
      },
      {
        "duration": 20,
        "start_time": "2024-12-12T02:45:39.394Z"
      },
      {
        "duration": 16,
        "start_time": "2024-12-12T02:45:39.416Z"
      },
      {
        "duration": 4,
        "start_time": "2024-12-12T02:45:39.433Z"
      },
      {
        "duration": 4,
        "start_time": "2024-12-12T02:45:39.439Z"
      },
      {
        "duration": 4,
        "start_time": "2024-12-12T02:45:39.444Z"
      },
      {
        "duration": 38,
        "start_time": "2024-12-12T02:45:39.449Z"
      },
      {
        "duration": 853,
        "start_time": "2024-12-12T02:45:39.489Z"
      },
      {
        "duration": 3,
        "start_time": "2024-12-12T02:45:40.344Z"
      },
      {
        "duration": 6,
        "start_time": "2024-12-12T02:45:40.349Z"
      },
      {
        "duration": 4,
        "start_time": "2024-12-12T02:45:40.357Z"
      },
      {
        "duration": 25,
        "start_time": "2024-12-12T02:45:40.363Z"
      },
      {
        "duration": 2,
        "start_time": "2024-12-12T02:45:40.390Z"
      },
      {
        "duration": 11,
        "start_time": "2024-12-12T02:45:40.394Z"
      },
      {
        "duration": 2,
        "start_time": "2024-12-12T02:45:40.408Z"
      },
      {
        "duration": 3,
        "start_time": "2024-12-12T02:45:40.411Z"
      },
      {
        "duration": 3,
        "start_time": "2024-12-12T02:45:40.415Z"
      },
      {
        "duration": 2,
        "start_time": "2024-12-12T02:45:40.420Z"
      },
      {
        "duration": 3,
        "start_time": "2024-12-12T02:45:40.424Z"
      },
      {
        "duration": 3,
        "start_time": "2024-12-12T02:45:40.428Z"
      },
      {
        "duration": 3,
        "start_time": "2024-12-12T02:45:40.433Z"
      },
      {
        "duration": 5,
        "start_time": "2024-12-12T02:46:32.109Z"
      },
      {
        "duration": 4,
        "start_time": "2024-12-12T02:50:09.850Z"
      },
      {
        "duration": 461,
        "start_time": "2024-12-12T02:51:03.310Z"
      },
      {
        "duration": 926,
        "start_time": "2024-12-12T02:51:03.773Z"
      },
      {
        "duration": 11,
        "start_time": "2024-12-12T02:51:04.701Z"
      },
      {
        "duration": 10,
        "start_time": "2024-12-12T02:51:04.715Z"
      },
      {
        "duration": 8,
        "start_time": "2024-12-12T02:51:04.727Z"
      },
      {
        "duration": 8,
        "start_time": "2024-12-12T02:51:04.736Z"
      },
      {
        "duration": 56,
        "start_time": "2024-12-12T02:51:04.745Z"
      },
      {
        "duration": 117,
        "start_time": "2024-12-12T02:51:04.804Z"
      },
      {
        "duration": 9,
        "start_time": "2024-12-12T02:51:04.922Z"
      },
      {
        "duration": 111,
        "start_time": "2024-12-12T02:51:04.933Z"
      },
      {
        "duration": 96,
        "start_time": "2024-12-12T02:51:05.046Z"
      },
      {
        "duration": 28,
        "start_time": "2024-12-12T02:51:05.144Z"
      },
      {
        "duration": 22,
        "start_time": "2024-12-12T02:51:05.174Z"
      },
      {
        "duration": 3,
        "start_time": "2024-12-12T02:51:05.198Z"
      },
      {
        "duration": 20,
        "start_time": "2024-12-12T02:51:05.203Z"
      },
      {
        "duration": 17,
        "start_time": "2024-12-12T02:51:05.224Z"
      },
      {
        "duration": 3,
        "start_time": "2024-12-12T02:51:05.243Z"
      },
      {
        "duration": 3,
        "start_time": "2024-12-12T02:51:05.248Z"
      },
      {
        "duration": 37,
        "start_time": "2024-12-12T02:51:05.252Z"
      },
      {
        "duration": 4,
        "start_time": "2024-12-12T02:51:05.291Z"
      },
      {
        "duration": 834,
        "start_time": "2024-12-12T02:51:05.296Z"
      },
      {
        "duration": 2,
        "start_time": "2024-12-12T02:51:06.132Z"
      },
      {
        "duration": 4,
        "start_time": "2024-12-12T02:51:06.137Z"
      },
      {
        "duration": 4,
        "start_time": "2024-12-12T02:51:06.143Z"
      },
      {
        "duration": 4,
        "start_time": "2024-12-12T02:51:06.149Z"
      },
      {
        "duration": 35,
        "start_time": "2024-12-12T02:51:06.154Z"
      },
      {
        "duration": 11,
        "start_time": "2024-12-12T02:51:06.190Z"
      },
      {
        "duration": 2,
        "start_time": "2024-12-12T02:51:06.205Z"
      },
      {
        "duration": 2,
        "start_time": "2024-12-12T02:51:06.209Z"
      },
      {
        "duration": 2,
        "start_time": "2024-12-12T02:51:06.213Z"
      },
      {
        "duration": 3,
        "start_time": "2024-12-12T02:51:06.217Z"
      },
      {
        "duration": 3,
        "start_time": "2024-12-12T02:51:06.221Z"
      },
      {
        "duration": 4,
        "start_time": "2024-12-12T02:51:06.225Z"
      },
      {
        "duration": 4,
        "start_time": "2024-12-12T02:51:06.230Z"
      },
      {
        "duration": 7,
        "start_time": "2024-12-12T02:51:33.524Z"
      },
      {
        "duration": 449,
        "start_time": "2024-12-12T02:55:20.194Z"
      },
      {
        "duration": 902,
        "start_time": "2024-12-12T02:55:20.646Z"
      },
      {
        "duration": 14,
        "start_time": "2024-12-12T02:55:21.549Z"
      },
      {
        "duration": 24,
        "start_time": "2024-12-12T02:55:21.565Z"
      },
      {
        "duration": 9,
        "start_time": "2024-12-12T02:55:21.592Z"
      },
      {
        "duration": 8,
        "start_time": "2024-12-12T02:55:21.603Z"
      },
      {
        "duration": 24,
        "start_time": "2024-12-12T02:55:21.613Z"
      },
      {
        "duration": 135,
        "start_time": "2024-12-12T02:55:21.638Z"
      },
      {
        "duration": 15,
        "start_time": "2024-12-12T02:55:21.776Z"
      },
      {
        "duration": 111,
        "start_time": "2024-12-12T02:55:21.793Z"
      },
      {
        "duration": 94,
        "start_time": "2024-12-12T02:55:21.906Z"
      },
      {
        "duration": 30,
        "start_time": "2024-12-12T02:55:22.001Z"
      },
      {
        "duration": 13,
        "start_time": "2024-12-12T02:55:22.032Z"
      },
      {
        "duration": 3,
        "start_time": "2024-12-12T02:55:22.048Z"
      },
      {
        "duration": 46,
        "start_time": "2024-12-12T02:55:22.053Z"
      },
      {
        "duration": 15,
        "start_time": "2024-12-12T02:55:22.101Z"
      },
      {
        "duration": 4,
        "start_time": "2024-12-12T02:55:22.118Z"
      },
      {
        "duration": 4,
        "start_time": "2024-12-12T02:55:22.124Z"
      },
      {
        "duration": 4,
        "start_time": "2024-12-12T02:55:22.129Z"
      },
      {
        "duration": 3,
        "start_time": "2024-12-12T02:55:22.135Z"
      },
      {
        "duration": 837,
        "start_time": "2024-12-12T02:55:22.140Z"
      },
      {
        "duration": 8,
        "start_time": "2024-12-12T02:55:22.979Z"
      },
      {
        "duration": 6,
        "start_time": "2024-12-12T02:55:22.988Z"
      },
      {
        "duration": 5,
        "start_time": "2024-12-12T02:55:22.995Z"
      },
      {
        "duration": 5,
        "start_time": "2024-12-12T02:55:23.001Z"
      },
      {
        "duration": 6,
        "start_time": "2024-12-12T02:55:23.007Z"
      },
      {
        "duration": 3,
        "start_time": "2024-12-12T02:55:23.015Z"
      },
      {
        "duration": 0,
        "start_time": "2024-12-12T02:55:23.020Z"
      },
      {
        "duration": 0,
        "start_time": "2024-12-12T02:55:23.021Z"
      },
      {
        "duration": 0,
        "start_time": "2024-12-12T02:55:23.023Z"
      },
      {
        "duration": 0,
        "start_time": "2024-12-12T02:55:23.024Z"
      },
      {
        "duration": 0,
        "start_time": "2024-12-12T02:55:23.025Z"
      },
      {
        "duration": 0,
        "start_time": "2024-12-12T02:55:23.026Z"
      },
      {
        "duration": 0,
        "start_time": "2024-12-12T02:55:23.027Z"
      },
      {
        "duration": 7,
        "start_time": "2024-12-12T02:55:43.577Z"
      },
      {
        "duration": 6,
        "start_time": "2024-12-12T02:56:12.583Z"
      },
      {
        "duration": 12,
        "start_time": "2024-12-12T02:59:27.325Z"
      },
      {
        "duration": 11,
        "start_time": "2024-12-12T02:59:39.957Z"
      },
      {
        "duration": 2,
        "start_time": "2024-12-12T03:00:49.316Z"
      },
      {
        "duration": 3,
        "start_time": "2024-12-12T03:01:46.570Z"
      },
      {
        "duration": 570,
        "start_time": "2024-12-12T03:03:17.073Z"
      },
      {
        "duration": 3,
        "start_time": "2024-12-12T03:03:56.215Z"
      },
      {
        "duration": 7,
        "start_time": "2024-12-12T03:04:23.625Z"
      },
      {
        "duration": 8,
        "start_time": "2024-12-12T03:06:17.866Z"
      },
      {
        "duration": 8,
        "start_time": "2024-12-12T03:08:37.937Z"
      },
      {
        "duration": 30,
        "start_time": "2024-12-12T03:09:25.155Z"
      },
      {
        "duration": 71,
        "start_time": "2024-12-12T03:15:04.950Z"
      },
      {
        "duration": 18,
        "start_time": "2024-12-12T03:15:33.036Z"
      },
      {
        "duration": 55,
        "start_time": "2024-12-12T03:16:07.396Z"
      },
      {
        "duration": 21,
        "start_time": "2024-12-12T03:16:36.714Z"
      },
      {
        "duration": 8,
        "start_time": "2024-12-12T03:16:52.943Z"
      },
      {
        "duration": 64,
        "start_time": "2024-12-12T03:17:16.072Z"
      },
      {
        "duration": 32,
        "start_time": "2024-12-12T03:17:53.707Z"
      },
      {
        "duration": 27,
        "start_time": "2024-12-12T03:18:03.101Z"
      },
      {
        "duration": 16,
        "start_time": "2024-12-12T03:18:18.132Z"
      },
      {
        "duration": 4,
        "start_time": "2024-12-12T03:18:47.432Z"
      },
      {
        "duration": 12,
        "start_time": "2024-12-12T03:18:54.482Z"
      },
      {
        "duration": 15,
        "start_time": "2024-12-12T03:20:04.052Z"
      },
      {
        "duration": 12,
        "start_time": "2024-12-12T03:22:12.773Z"
      },
      {
        "duration": 13,
        "start_time": "2024-12-12T03:23:11.813Z"
      },
      {
        "duration": 14,
        "start_time": "2024-12-12T03:26:30.198Z"
      },
      {
        "duration": 6,
        "start_time": "2024-12-12T03:28:44.121Z"
      },
      {
        "duration": 92,
        "start_time": "2024-12-12T03:29:05.389Z"
      },
      {
        "duration": 34,
        "start_time": "2024-12-12T03:30:41.014Z"
      },
      {
        "duration": 4,
        "start_time": "2024-12-12T03:30:59.162Z"
      },
      {
        "duration": 19,
        "start_time": "2024-12-12T03:31:06.479Z"
      },
      {
        "duration": 5,
        "start_time": "2024-12-12T03:32:00.458Z"
      },
      {
        "duration": 99,
        "start_time": "2024-12-12T03:32:06.087Z"
      },
      {
        "duration": 26,
        "start_time": "2024-12-12T03:32:38.280Z"
      },
      {
        "duration": 30,
        "start_time": "2024-12-12T03:32:58.124Z"
      },
      {
        "duration": 29,
        "start_time": "2024-12-12T03:33:26.046Z"
      },
      {
        "duration": 11,
        "start_time": "2024-12-12T03:35:18.521Z"
      },
      {
        "duration": 11,
        "start_time": "2024-12-12T03:37:17.667Z"
      },
      {
        "duration": 11,
        "start_time": "2024-12-12T03:38:35.703Z"
      },
      {
        "duration": 12,
        "start_time": "2024-12-12T03:40:23.916Z"
      },
      {
        "duration": 473,
        "start_time": "2024-12-12T03:43:14.620Z"
      },
      {
        "duration": 988,
        "start_time": "2024-12-12T03:43:15.095Z"
      },
      {
        "duration": 11,
        "start_time": "2024-12-12T03:43:16.084Z"
      },
      {
        "duration": 10,
        "start_time": "2024-12-12T03:43:16.096Z"
      },
      {
        "duration": 7,
        "start_time": "2024-12-12T03:43:16.109Z"
      },
      {
        "duration": 8,
        "start_time": "2024-12-12T03:43:16.118Z"
      },
      {
        "duration": 24,
        "start_time": "2024-12-12T03:43:16.128Z"
      },
      {
        "duration": 116,
        "start_time": "2024-12-12T03:43:16.186Z"
      },
      {
        "duration": 8,
        "start_time": "2024-12-12T03:43:16.303Z"
      },
      {
        "duration": 113,
        "start_time": "2024-12-12T03:43:16.312Z"
      },
      {
        "duration": 88,
        "start_time": "2024-12-12T03:43:16.428Z"
      },
      {
        "duration": 28,
        "start_time": "2024-12-12T03:43:16.519Z"
      },
      {
        "duration": 12,
        "start_time": "2024-12-12T03:43:16.550Z"
      },
      {
        "duration": 20,
        "start_time": "2024-12-12T03:43:16.566Z"
      },
      {
        "duration": 21,
        "start_time": "2024-12-12T03:43:16.588Z"
      },
      {
        "duration": 16,
        "start_time": "2024-12-12T03:43:16.610Z"
      },
      {
        "duration": 4,
        "start_time": "2024-12-12T03:43:16.627Z"
      },
      {
        "duration": 3,
        "start_time": "2024-12-12T03:43:16.632Z"
      },
      {
        "duration": 4,
        "start_time": "2024-12-12T03:43:16.636Z"
      },
      {
        "duration": 2,
        "start_time": "2024-12-12T03:43:16.642Z"
      },
      {
        "duration": 821,
        "start_time": "2024-12-12T03:43:16.646Z"
      },
      {
        "duration": 3,
        "start_time": "2024-12-12T03:43:17.469Z"
      },
      {
        "duration": 17,
        "start_time": "2024-12-12T03:43:17.474Z"
      },
      {
        "duration": 4,
        "start_time": "2024-12-12T03:43:17.494Z"
      },
      {
        "duration": 4,
        "start_time": "2024-12-12T03:43:17.500Z"
      },
      {
        "duration": 7,
        "start_time": "2024-12-12T03:43:17.505Z"
      },
      {
        "duration": 11,
        "start_time": "2024-12-12T03:43:17.514Z"
      },
      {
        "duration": 4,
        "start_time": "2024-12-12T03:43:17.527Z"
      },
      {
        "duration": 7,
        "start_time": "2024-12-12T03:43:17.533Z"
      },
      {
        "duration": 47,
        "start_time": "2024-12-12T03:43:17.542Z"
      },
      {
        "duration": 30,
        "start_time": "2024-12-12T03:43:17.591Z"
      },
      {
        "duration": 16,
        "start_time": "2024-12-12T03:43:17.624Z"
      },
      {
        "duration": 10,
        "start_time": "2024-12-12T03:43:17.642Z"
      },
      {
        "duration": 3,
        "start_time": "2024-12-12T03:43:17.654Z"
      },
      {
        "duration": 11,
        "start_time": "2024-12-12T03:43:34.510Z"
      },
      {
        "duration": 454,
        "start_time": "2024-12-12T03:47:29.832Z"
      },
      {
        "duration": 924,
        "start_time": "2024-12-12T03:47:30.288Z"
      },
      {
        "duration": 13,
        "start_time": "2024-12-12T03:47:31.213Z"
      },
      {
        "duration": 9,
        "start_time": "2024-12-12T03:47:31.229Z"
      },
      {
        "duration": 8,
        "start_time": "2024-12-12T03:47:31.240Z"
      },
      {
        "duration": 8,
        "start_time": "2024-12-12T03:47:31.250Z"
      },
      {
        "duration": 24,
        "start_time": "2024-12-12T03:47:31.287Z"
      },
      {
        "duration": 132,
        "start_time": "2024-12-12T03:47:31.313Z"
      },
      {
        "duration": 8,
        "start_time": "2024-12-12T03:47:31.446Z"
      },
      {
        "duration": 131,
        "start_time": "2024-12-12T03:47:31.458Z"
      },
      {
        "duration": 89,
        "start_time": "2024-12-12T03:47:31.590Z"
      },
      {
        "duration": 27,
        "start_time": "2024-12-12T03:47:31.687Z"
      },
      {
        "duration": 13,
        "start_time": "2024-12-12T03:47:31.716Z"
      },
      {
        "duration": 4,
        "start_time": "2024-12-12T03:47:31.731Z"
      },
      {
        "duration": 52,
        "start_time": "2024-12-12T03:47:31.737Z"
      },
      {
        "duration": 18,
        "start_time": "2024-12-12T03:47:31.790Z"
      },
      {
        "duration": 3,
        "start_time": "2024-12-12T03:47:31.810Z"
      },
      {
        "duration": 4,
        "start_time": "2024-12-12T03:47:31.815Z"
      },
      {
        "duration": 4,
        "start_time": "2024-12-12T03:47:31.821Z"
      },
      {
        "duration": 4,
        "start_time": "2024-12-12T03:47:31.826Z"
      },
      {
        "duration": 920,
        "start_time": "2024-12-12T03:47:31.831Z"
      },
      {
        "duration": 2,
        "start_time": "2024-12-12T03:47:32.753Z"
      },
      {
        "duration": 6,
        "start_time": "2024-12-12T03:47:32.758Z"
      },
      {
        "duration": 22,
        "start_time": "2024-12-12T03:47:32.765Z"
      },
      {
        "duration": 5,
        "start_time": "2024-12-12T03:47:32.788Z"
      },
      {
        "duration": 6,
        "start_time": "2024-12-12T03:47:32.795Z"
      },
      {
        "duration": 11,
        "start_time": "2024-12-12T03:47:32.803Z"
      },
      {
        "duration": 5,
        "start_time": "2024-12-12T03:47:32.817Z"
      },
      {
        "duration": 7,
        "start_time": "2024-12-12T03:47:32.823Z"
      },
      {
        "duration": 7,
        "start_time": "2024-12-12T03:47:32.831Z"
      },
      {
        "duration": 71,
        "start_time": "2024-12-12T03:47:32.839Z"
      },
      {
        "duration": 17,
        "start_time": "2024-12-12T03:47:32.913Z"
      },
      {
        "duration": 13,
        "start_time": "2024-12-12T03:47:32.932Z"
      },
      {
        "duration": 3,
        "start_time": "2024-12-12T03:47:32.947Z"
      },
      {
        "duration": 241,
        "start_time": "2024-12-12T03:48:46.656Z"
      },
      {
        "duration": 195,
        "start_time": "2024-12-12T03:49:25.094Z"
      },
      {
        "duration": 101,
        "start_time": "2024-12-12T03:49:35.875Z"
      },
      {
        "duration": 254,
        "start_time": "2024-12-12T03:51:05.691Z"
      },
      {
        "duration": 25,
        "start_time": "2024-12-12T03:51:51.850Z"
      },
      {
        "duration": 19,
        "start_time": "2024-12-12T03:52:04.864Z"
      },
      {
        "duration": 23,
        "start_time": "2024-12-12T03:52:21.816Z"
      },
      {
        "duration": 442,
        "start_time": "2024-12-12T04:05:42.041Z"
      },
      {
        "duration": 952,
        "start_time": "2024-12-12T04:05:42.488Z"
      },
      {
        "duration": 11,
        "start_time": "2024-12-12T04:05:43.442Z"
      },
      {
        "duration": 9,
        "start_time": "2024-12-12T04:05:43.456Z"
      },
      {
        "duration": 25,
        "start_time": "2024-12-12T04:05:43.467Z"
      },
      {
        "duration": 9,
        "start_time": "2024-12-12T04:05:43.495Z"
      },
      {
        "duration": 24,
        "start_time": "2024-12-12T04:05:43.506Z"
      },
      {
        "duration": 140,
        "start_time": "2024-12-12T04:05:43.532Z"
      },
      {
        "duration": 18,
        "start_time": "2024-12-12T04:05:43.674Z"
      },
      {
        "duration": 108,
        "start_time": "2024-12-12T04:05:43.695Z"
      },
      {
        "duration": 96,
        "start_time": "2024-12-12T04:05:43.805Z"
      },
      {
        "duration": 31,
        "start_time": "2024-12-12T04:05:43.903Z"
      },
      {
        "duration": 13,
        "start_time": "2024-12-12T04:05:43.936Z"
      },
      {
        "duration": 4,
        "start_time": "2024-12-12T04:05:43.952Z"
      },
      {
        "duration": 43,
        "start_time": "2024-12-12T04:05:43.958Z"
      },
      {
        "duration": 17,
        "start_time": "2024-12-12T04:05:44.003Z"
      },
      {
        "duration": 4,
        "start_time": "2024-12-12T04:05:44.021Z"
      },
      {
        "duration": 3,
        "start_time": "2024-12-12T04:05:44.026Z"
      },
      {
        "duration": 4,
        "start_time": "2024-12-12T04:05:44.031Z"
      },
      {
        "duration": 3,
        "start_time": "2024-12-12T04:05:44.036Z"
      },
      {
        "duration": 864,
        "start_time": "2024-12-12T04:05:44.041Z"
      },
      {
        "duration": 3,
        "start_time": "2024-12-12T04:05:44.906Z"
      },
      {
        "duration": 5,
        "start_time": "2024-12-12T04:05:44.910Z"
      },
      {
        "duration": 4,
        "start_time": "2024-12-12T04:05:44.918Z"
      },
      {
        "duration": 4,
        "start_time": "2024-12-12T04:05:44.924Z"
      },
      {
        "duration": 7,
        "start_time": "2024-12-12T04:05:44.929Z"
      },
      {
        "duration": 10,
        "start_time": "2024-12-12T04:05:44.937Z"
      },
      {
        "duration": 4,
        "start_time": "2024-12-12T04:05:44.988Z"
      },
      {
        "duration": 7,
        "start_time": "2024-12-12T04:05:44.995Z"
      },
      {
        "duration": 7,
        "start_time": "2024-12-12T04:05:45.004Z"
      },
      {
        "duration": 30,
        "start_time": "2024-12-12T04:05:45.013Z"
      },
      {
        "duration": 45,
        "start_time": "2024-12-12T04:05:45.045Z"
      },
      {
        "duration": 11,
        "start_time": "2024-12-12T04:05:45.092Z"
      },
      {
        "duration": 452,
        "start_time": "2024-12-12T04:05:45.104Z"
      },
      {
        "duration": 182,
        "start_time": "2024-12-12T04:07:32.829Z"
      },
      {
        "duration": 4,
        "start_time": "2024-12-12T04:07:44.525Z"
      },
      {
        "duration": 5,
        "start_time": "2024-12-12T04:08:03.966Z"
      },
      {
        "duration": 205,
        "start_time": "2024-12-12T04:13:40.201Z"
      },
      {
        "duration": 45,
        "start_time": "2024-12-12T04:14:22.604Z"
      },
      {
        "duration": 42,
        "start_time": "2024-12-12T04:16:00.560Z"
      },
      {
        "duration": 4,
        "start_time": "2024-12-12T04:18:39.162Z"
      },
      {
        "duration": 42,
        "start_time": "2024-12-12T04:19:04.513Z"
      },
      {
        "duration": 4,
        "start_time": "2024-12-12T04:19:34.058Z"
      },
      {
        "duration": 4,
        "start_time": "2024-12-12T04:20:46.935Z"
      },
      {
        "duration": 95,
        "start_time": "2024-12-12T04:21:02.445Z"
      },
      {
        "duration": 39,
        "start_time": "2024-12-12T04:22:40.508Z"
      },
      {
        "duration": 44,
        "start_time": "2024-12-12T04:24:27.599Z"
      },
      {
        "duration": 42,
        "start_time": "2024-12-12T04:25:36.498Z"
      },
      {
        "duration": 45,
        "start_time": "2024-12-12T04:25:52.082Z"
      },
      {
        "duration": 481,
        "start_time": "2024-12-12T04:26:02.830Z"
      },
      {
        "duration": 980,
        "start_time": "2024-12-12T04:26:03.313Z"
      },
      {
        "duration": 12,
        "start_time": "2024-12-12T04:26:04.295Z"
      },
      {
        "duration": 10,
        "start_time": "2024-12-12T04:26:04.310Z"
      },
      {
        "duration": 7,
        "start_time": "2024-12-12T04:26:04.322Z"
      },
      {
        "duration": 8,
        "start_time": "2024-12-12T04:26:04.331Z"
      },
      {
        "duration": 55,
        "start_time": "2024-12-12T04:26:04.340Z"
      },
      {
        "duration": 118,
        "start_time": "2024-12-12T04:26:04.397Z"
      },
      {
        "duration": 8,
        "start_time": "2024-12-12T04:26:04.517Z"
      },
      {
        "duration": 118,
        "start_time": "2024-12-12T04:26:04.528Z"
      },
      {
        "duration": 101,
        "start_time": "2024-12-12T04:26:04.648Z"
      },
      {
        "duration": 41,
        "start_time": "2024-12-12T04:26:04.751Z"
      },
      {
        "duration": 12,
        "start_time": "2024-12-12T04:26:04.794Z"
      },
      {
        "duration": 3,
        "start_time": "2024-12-12T04:26:04.808Z"
      },
      {
        "duration": 22,
        "start_time": "2024-12-12T04:26:04.813Z"
      },
      {
        "duration": 49,
        "start_time": "2024-12-12T04:26:04.837Z"
      },
      {
        "duration": 4,
        "start_time": "2024-12-12T04:26:04.890Z"
      },
      {
        "duration": 3,
        "start_time": "2024-12-12T04:26:04.896Z"
      },
      {
        "duration": 4,
        "start_time": "2024-12-12T04:26:04.901Z"
      },
      {
        "duration": 4,
        "start_time": "2024-12-12T04:26:04.907Z"
      },
      {
        "duration": 874,
        "start_time": "2024-12-12T04:26:04.912Z"
      },
      {
        "duration": 2,
        "start_time": "2024-12-12T04:26:05.789Z"
      },
      {
        "duration": 6,
        "start_time": "2024-12-12T04:26:05.793Z"
      },
      {
        "duration": 5,
        "start_time": "2024-12-12T04:26:05.800Z"
      },
      {
        "duration": 5,
        "start_time": "2024-12-12T04:26:05.807Z"
      },
      {
        "duration": 7,
        "start_time": "2024-12-12T04:26:05.813Z"
      },
      {
        "duration": 11,
        "start_time": "2024-12-12T04:26:05.822Z"
      },
      {
        "duration": 4,
        "start_time": "2024-12-12T04:26:05.836Z"
      },
      {
        "duration": 51,
        "start_time": "2024-12-12T04:26:05.842Z"
      },
      {
        "duration": 8,
        "start_time": "2024-12-12T04:26:05.895Z"
      },
      {
        "duration": 32,
        "start_time": "2024-12-12T04:26:05.905Z"
      },
      {
        "duration": 17,
        "start_time": "2024-12-12T04:26:05.941Z"
      },
      {
        "duration": 35,
        "start_time": "2024-12-12T04:26:05.960Z"
      },
      {
        "duration": 463,
        "start_time": "2024-12-12T04:26:05.997Z"
      },
      {
        "duration": 4,
        "start_time": "2024-12-12T04:26:06.464Z"
      },
      {
        "duration": 18,
        "start_time": "2024-12-12T04:26:06.470Z"
      },
      {
        "duration": 392,
        "start_time": "2024-12-12T04:26:06.489Z"
      },
      {
        "duration": 333,
        "start_time": "2024-12-12T04:26:20.373Z"
      },
      {
        "duration": 45,
        "start_time": "2024-12-12T04:26:39.852Z"
      },
      {
        "duration": 44,
        "start_time": "2024-12-12T04:27:02.774Z"
      },
      {
        "duration": 42,
        "start_time": "2024-12-12T04:27:14.581Z"
      },
      {
        "duration": 43,
        "start_time": "2024-12-12T04:27:43.170Z"
      },
      {
        "duration": 46,
        "start_time": "2024-12-12T04:28:50.470Z"
      },
      {
        "duration": 465,
        "start_time": "2024-12-12T04:31:31.604Z"
      },
      {
        "duration": 1026,
        "start_time": "2024-12-12T04:31:32.071Z"
      },
      {
        "duration": 17,
        "start_time": "2024-12-12T04:31:33.099Z"
      },
      {
        "duration": 13,
        "start_time": "2024-12-12T04:31:33.119Z"
      },
      {
        "duration": 14,
        "start_time": "2024-12-12T04:31:33.134Z"
      },
      {
        "duration": 14,
        "start_time": "2024-12-12T04:31:33.150Z"
      },
      {
        "duration": 47,
        "start_time": "2024-12-12T04:31:33.166Z"
      },
      {
        "duration": 121,
        "start_time": "2024-12-12T04:31:33.215Z"
      },
      {
        "duration": 7,
        "start_time": "2024-12-12T04:31:33.338Z"
      },
      {
        "duration": 108,
        "start_time": "2024-12-12T04:31:33.349Z"
      },
      {
        "duration": 96,
        "start_time": "2024-12-12T04:31:33.459Z"
      },
      {
        "duration": 35,
        "start_time": "2024-12-12T04:31:33.557Z"
      },
      {
        "duration": 12,
        "start_time": "2024-12-12T04:31:33.594Z"
      },
      {
        "duration": 5,
        "start_time": "2024-12-12T04:31:33.608Z"
      },
      {
        "duration": 21,
        "start_time": "2024-12-12T04:31:33.614Z"
      },
      {
        "duration": 17,
        "start_time": "2024-12-12T04:31:33.636Z"
      },
      {
        "duration": 32,
        "start_time": "2024-12-12T04:31:33.654Z"
      },
      {
        "duration": 4,
        "start_time": "2024-12-12T04:31:33.689Z"
      },
      {
        "duration": 6,
        "start_time": "2024-12-12T04:31:33.695Z"
      },
      {
        "duration": 3,
        "start_time": "2024-12-12T04:31:33.704Z"
      },
      {
        "duration": 840,
        "start_time": "2024-12-12T04:31:33.709Z"
      },
      {
        "duration": 2,
        "start_time": "2024-12-12T04:31:34.551Z"
      },
      {
        "duration": 5,
        "start_time": "2024-12-12T04:31:34.555Z"
      },
      {
        "duration": 4,
        "start_time": "2024-12-12T04:31:34.562Z"
      },
      {
        "duration": 5,
        "start_time": "2024-12-12T04:31:34.586Z"
      },
      {
        "duration": 8,
        "start_time": "2024-12-12T04:31:34.593Z"
      },
      {
        "duration": 10,
        "start_time": "2024-12-12T04:31:34.603Z"
      },
      {
        "duration": 3,
        "start_time": "2024-12-12T04:31:34.617Z"
      },
      {
        "duration": 6,
        "start_time": "2024-12-12T04:31:34.622Z"
      },
      {
        "duration": 6,
        "start_time": "2024-12-12T04:31:34.630Z"
      },
      {
        "duration": 65,
        "start_time": "2024-12-12T04:31:34.638Z"
      },
      {
        "duration": 21,
        "start_time": "2024-12-12T04:31:34.705Z"
      },
      {
        "duration": 12,
        "start_time": "2024-12-12T04:31:34.728Z"
      },
      {
        "duration": 457,
        "start_time": "2024-12-12T04:31:34.742Z"
      },
      {
        "duration": 5,
        "start_time": "2024-12-12T04:31:35.201Z"
      },
      {
        "duration": 4,
        "start_time": "2024-12-12T04:31:35.207Z"
      },
      {
        "duration": 5,
        "start_time": "2024-12-12T04:31:35.213Z"
      },
      {
        "duration": 190,
        "start_time": "2024-12-12T04:33:01.801Z"
      },
      {
        "duration": 188,
        "start_time": "2024-12-12T04:33:17.000Z"
      },
      {
        "duration": 175,
        "start_time": "2024-12-12T04:33:34.864Z"
      },
      {
        "duration": 180,
        "start_time": "2024-12-12T04:34:13.371Z"
      },
      {
        "duration": 173,
        "start_time": "2024-12-12T04:35:08.392Z"
      },
      {
        "duration": 14,
        "start_time": "2024-12-12T04:42:48.009Z"
      },
      {
        "duration": 4,
        "start_time": "2024-12-12T04:43:30.631Z"
      },
      {
        "duration": 7,
        "start_time": "2024-12-12T04:46:01.199Z"
      },
      {
        "duration": 7,
        "start_time": "2024-12-12T04:46:25.133Z"
      },
      {
        "duration": 9,
        "start_time": "2024-12-12T04:46:49.584Z"
      },
      {
        "duration": 176,
        "start_time": "2024-12-12T04:49:15.436Z"
      },
      {
        "duration": 111,
        "start_time": "2024-12-12T04:49:48.380Z"
      },
      {
        "duration": 85,
        "start_time": "2024-12-12T04:55:28.666Z"
      },
      {
        "duration": 118,
        "start_time": "2024-12-12T04:55:43.202Z"
      },
      {
        "duration": 107,
        "start_time": "2024-12-12T04:57:59.335Z"
      },
      {
        "duration": 119,
        "start_time": "2024-12-12T04:58:20.938Z"
      },
      {
        "duration": 110,
        "start_time": "2024-12-12T04:58:35.886Z"
      },
      {
        "duration": 179,
        "start_time": "2024-12-12T04:58:48.663Z"
      },
      {
        "duration": 113,
        "start_time": "2024-12-12T04:59:05.171Z"
      },
      {
        "duration": 130,
        "start_time": "2024-12-12T04:59:37.912Z"
      },
      {
        "duration": 195,
        "start_time": "2024-12-12T04:59:56.343Z"
      },
      {
        "duration": 192,
        "start_time": "2024-12-12T05:00:11.704Z"
      },
      {
        "duration": 169,
        "start_time": "2024-12-12T05:02:40.306Z"
      },
      {
        "duration": 115,
        "start_time": "2024-12-12T05:02:49.673Z"
      },
      {
        "duration": 200,
        "start_time": "2024-12-12T05:03:27.937Z"
      },
      {
        "duration": 433,
        "start_time": "2024-12-12T05:03:36.981Z"
      },
      {
        "duration": 940,
        "start_time": "2024-12-12T05:03:37.416Z"
      },
      {
        "duration": 11,
        "start_time": "2024-12-12T05:03:38.358Z"
      },
      {
        "duration": 17,
        "start_time": "2024-12-12T05:03:38.371Z"
      },
      {
        "duration": 8,
        "start_time": "2024-12-12T05:03:38.391Z"
      },
      {
        "duration": 7,
        "start_time": "2024-12-12T05:03:38.401Z"
      },
      {
        "duration": 24,
        "start_time": "2024-12-12T05:03:38.409Z"
      },
      {
        "duration": 132,
        "start_time": "2024-12-12T05:03:38.435Z"
      },
      {
        "duration": 19,
        "start_time": "2024-12-12T05:03:38.568Z"
      },
      {
        "duration": 100,
        "start_time": "2024-12-12T05:03:38.590Z"
      },
      {
        "duration": 84,
        "start_time": "2024-12-12T05:03:38.692Z"
      },
      {
        "duration": 29,
        "start_time": "2024-12-12T05:03:38.787Z"
      },
      {
        "duration": 13,
        "start_time": "2024-12-12T05:03:38.817Z"
      },
      {
        "duration": 3,
        "start_time": "2024-12-12T05:03:38.834Z"
      },
      {
        "duration": 21,
        "start_time": "2024-12-12T05:03:38.840Z"
      },
      {
        "duration": 38,
        "start_time": "2024-12-12T05:03:38.863Z"
      },
      {
        "duration": 3,
        "start_time": "2024-12-12T05:03:38.903Z"
      },
      {
        "duration": 3,
        "start_time": "2024-12-12T05:03:38.908Z"
      },
      {
        "duration": 4,
        "start_time": "2024-12-12T05:03:38.913Z"
      },
      {
        "duration": 3,
        "start_time": "2024-12-12T05:03:38.918Z"
      },
      {
        "duration": 814,
        "start_time": "2024-12-12T05:03:38.923Z"
      },
      {
        "duration": 3,
        "start_time": "2024-12-12T05:03:39.739Z"
      },
      {
        "duration": 5,
        "start_time": "2024-12-12T05:03:39.744Z"
      },
      {
        "duration": 5,
        "start_time": "2024-12-12T05:03:39.751Z"
      },
      {
        "duration": 4,
        "start_time": "2024-12-12T05:03:39.757Z"
      },
      {
        "duration": 7,
        "start_time": "2024-12-12T05:03:39.786Z"
      },
      {
        "duration": 10,
        "start_time": "2024-12-12T05:03:39.796Z"
      },
      {
        "duration": 3,
        "start_time": "2024-12-12T05:03:39.808Z"
      },
      {
        "duration": 7,
        "start_time": "2024-12-12T05:03:39.813Z"
      },
      {
        "duration": 7,
        "start_time": "2024-12-12T05:03:39.822Z"
      },
      {
        "duration": 69,
        "start_time": "2024-12-12T05:03:39.831Z"
      },
      {
        "duration": 17,
        "start_time": "2024-12-12T05:03:39.902Z"
      },
      {
        "duration": 11,
        "start_time": "2024-12-12T05:03:39.920Z"
      },
      {
        "duration": 462,
        "start_time": "2024-12-12T05:03:39.933Z"
      },
      {
        "duration": 4,
        "start_time": "2024-12-12T05:03:40.397Z"
      },
      {
        "duration": 4,
        "start_time": "2024-12-12T05:03:40.403Z"
      },
      {
        "duration": 206,
        "start_time": "2024-12-12T05:03:40.410Z"
      },
      {
        "duration": 125,
        "start_time": "2024-12-12T05:03:40.618Z"
      },
      {
        "duration": 209,
        "start_time": "2024-12-12T05:03:40.745Z"
      },
      {
        "duration": 161,
        "start_time": "2024-12-12T15:35:29.670Z"
      },
      {
        "duration": 12,
        "start_time": "2024-12-12T15:36:37.331Z"
      },
      {
        "duration": 2150,
        "start_time": "2024-12-12T15:36:48.309Z"
      },
      {
        "duration": 1033,
        "start_time": "2024-12-12T15:36:50.461Z"
      },
      {
        "duration": 10,
        "start_time": "2024-12-12T15:36:51.496Z"
      },
      {
        "duration": 9,
        "start_time": "2024-12-12T15:36:51.508Z"
      },
      {
        "duration": 8,
        "start_time": "2024-12-12T15:36:51.531Z"
      },
      {
        "duration": 8,
        "start_time": "2024-12-12T15:36:51.541Z"
      },
      {
        "duration": 23,
        "start_time": "2024-12-12T15:36:51.550Z"
      },
      {
        "duration": 133,
        "start_time": "2024-12-12T15:36:51.575Z"
      },
      {
        "duration": 8,
        "start_time": "2024-12-12T15:36:51.709Z"
      },
      {
        "duration": 93,
        "start_time": "2024-12-12T15:36:51.730Z"
      },
      {
        "duration": 85,
        "start_time": "2024-12-12T15:36:51.831Z"
      },
      {
        "duration": 40,
        "start_time": "2024-12-12T15:36:51.918Z"
      },
      {
        "duration": 12,
        "start_time": "2024-12-12T15:36:51.961Z"
      },
      {
        "duration": 3,
        "start_time": "2024-12-12T15:36:51.975Z"
      },
      {
        "duration": 20,
        "start_time": "2024-12-12T15:36:51.980Z"
      },
      {
        "duration": 37,
        "start_time": "2024-12-12T15:36:52.002Z"
      },
      {
        "duration": 3,
        "start_time": "2024-12-12T15:36:52.041Z"
      },
      {
        "duration": 3,
        "start_time": "2024-12-12T15:36:52.046Z"
      },
      {
        "duration": 3,
        "start_time": "2024-12-12T15:36:52.051Z"
      },
      {
        "duration": 4,
        "start_time": "2024-12-12T15:36:52.056Z"
      },
      {
        "duration": 806,
        "start_time": "2024-12-12T15:36:52.061Z"
      },
      {
        "duration": 3,
        "start_time": "2024-12-12T15:36:52.869Z"
      },
      {
        "duration": 5,
        "start_time": "2024-12-12T15:36:52.874Z"
      },
      {
        "duration": 4,
        "start_time": "2024-12-12T15:36:52.880Z"
      },
      {
        "duration": 4,
        "start_time": "2024-12-12T15:36:52.886Z"
      },
      {
        "duration": 5,
        "start_time": "2024-12-12T15:36:52.892Z"
      },
      {
        "duration": 39,
        "start_time": "2024-12-12T15:36:52.899Z"
      },
      {
        "duration": 3,
        "start_time": "2024-12-12T15:36:52.942Z"
      },
      {
        "duration": 7,
        "start_time": "2024-12-12T15:36:52.948Z"
      },
      {
        "duration": 7,
        "start_time": "2024-12-12T15:36:52.957Z"
      },
      {
        "duration": 31,
        "start_time": "2024-12-12T15:36:52.965Z"
      },
      {
        "duration": 17,
        "start_time": "2024-12-12T15:36:53.032Z"
      },
      {
        "duration": 12,
        "start_time": "2024-12-12T15:36:53.051Z"
      },
      {
        "duration": 450,
        "start_time": "2024-12-12T15:36:53.064Z"
      },
      {
        "duration": 4,
        "start_time": "2024-12-12T15:36:53.516Z"
      },
      {
        "duration": 14,
        "start_time": "2024-12-12T15:36:53.521Z"
      },
      {
        "duration": 226,
        "start_time": "2024-12-12T15:36:53.537Z"
      },
      {
        "duration": 122,
        "start_time": "2024-12-12T15:36:53.765Z"
      },
      {
        "duration": 197,
        "start_time": "2024-12-12T15:36:53.889Z"
      },
      {
        "duration": 9,
        "start_time": "2024-12-12T15:36:54.087Z"
      },
      {
        "duration": 10,
        "start_time": "2024-12-12T15:37:13.121Z"
      },
      {
        "duration": 8,
        "start_time": "2024-12-12T15:37:30.348Z"
      },
      {
        "duration": 8,
        "start_time": "2024-12-12T15:37:35.581Z"
      },
      {
        "duration": 456,
        "start_time": "2024-12-12T15:37:44.354Z"
      },
      {
        "duration": 910,
        "start_time": "2024-12-12T15:37:44.812Z"
      },
      {
        "duration": 11,
        "start_time": "2024-12-12T15:37:45.724Z"
      },
      {
        "duration": 9,
        "start_time": "2024-12-12T15:37:45.738Z"
      },
      {
        "duration": 8,
        "start_time": "2024-12-12T15:37:45.749Z"
      },
      {
        "duration": 7,
        "start_time": "2024-12-12T15:37:45.759Z"
      },
      {
        "duration": 23,
        "start_time": "2024-12-12T15:37:45.768Z"
      },
      {
        "duration": 138,
        "start_time": "2024-12-12T15:37:45.793Z"
      },
      {
        "duration": 8,
        "start_time": "2024-12-12T15:37:45.933Z"
      },
      {
        "duration": 107,
        "start_time": "2024-12-12T15:37:45.944Z"
      },
      {
        "duration": 87,
        "start_time": "2024-12-12T15:37:46.053Z"
      },
      {
        "duration": 32,
        "start_time": "2024-12-12T15:37:46.142Z"
      },
      {
        "duration": 15,
        "start_time": "2024-12-12T15:37:46.176Z"
      },
      {
        "duration": 3,
        "start_time": "2024-12-12T15:37:46.193Z"
      },
      {
        "duration": 47,
        "start_time": "2024-12-12T15:37:46.197Z"
      },
      {
        "duration": 16,
        "start_time": "2024-12-12T15:37:46.246Z"
      },
      {
        "duration": 4,
        "start_time": "2024-12-12T15:37:46.264Z"
      },
      {
        "duration": 4,
        "start_time": "2024-12-12T15:37:46.269Z"
      },
      {
        "duration": 4,
        "start_time": "2024-12-12T15:37:46.274Z"
      },
      {
        "duration": 3,
        "start_time": "2024-12-12T15:37:46.280Z"
      },
      {
        "duration": 819,
        "start_time": "2024-12-12T15:37:46.285Z"
      },
      {
        "duration": 3,
        "start_time": "2024-12-12T15:37:47.106Z"
      },
      {
        "duration": 5,
        "start_time": "2024-12-12T15:37:47.110Z"
      },
      {
        "duration": 17,
        "start_time": "2024-12-12T15:37:47.117Z"
      },
      {
        "duration": 4,
        "start_time": "2024-12-12T15:37:47.136Z"
      },
      {
        "duration": 7,
        "start_time": "2024-12-12T15:37:47.142Z"
      },
      {
        "duration": 11,
        "start_time": "2024-12-12T15:37:47.150Z"
      },
      {
        "duration": 4,
        "start_time": "2024-12-12T15:37:47.165Z"
      },
      {
        "duration": 8,
        "start_time": "2024-12-12T15:37:47.170Z"
      },
      {
        "duration": 7,
        "start_time": "2024-12-12T15:37:47.180Z"
      },
      {
        "duration": 29,
        "start_time": "2024-12-12T15:37:47.231Z"
      },
      {
        "duration": 17,
        "start_time": "2024-12-12T15:37:47.263Z"
      },
      {
        "duration": 12,
        "start_time": "2024-12-12T15:37:47.281Z"
      },
      {
        "duration": 465,
        "start_time": "2024-12-12T15:37:47.295Z"
      },
      {
        "duration": 3,
        "start_time": "2024-12-12T15:37:47.763Z"
      },
      {
        "duration": 4,
        "start_time": "2024-12-12T15:37:47.769Z"
      },
      {
        "duration": 205,
        "start_time": "2024-12-12T15:37:47.775Z"
      },
      {
        "duration": 121,
        "start_time": "2024-12-12T15:37:47.982Z"
      },
      {
        "duration": 212,
        "start_time": "2024-12-12T15:37:48.105Z"
      },
      {
        "duration": 14,
        "start_time": "2024-12-12T15:37:48.319Z"
      },
      {
        "duration": 8,
        "start_time": "2024-12-12T15:38:14.653Z"
      },
      {
        "duration": 169,
        "start_time": "2024-12-12T15:42:57.224Z"
      },
      {
        "duration": 7,
        "start_time": "2024-12-12T15:44:34.298Z"
      },
      {
        "duration": 9,
        "start_time": "2024-12-12T15:44:43.333Z"
      },
      {
        "duration": 7,
        "start_time": "2024-12-12T15:44:49.912Z"
      },
      {
        "duration": 8,
        "start_time": "2024-12-12T15:44:54.787Z"
      },
      {
        "duration": 9,
        "start_time": "2024-12-12T15:44:58.286Z"
      },
      {
        "duration": 9,
        "start_time": "2024-12-12T15:46:29.437Z"
      },
      {
        "duration": 8,
        "start_time": "2024-12-12T15:46:32.829Z"
      },
      {
        "duration": 463,
        "start_time": "2024-12-12T15:46:38.943Z"
      },
      {
        "duration": 916,
        "start_time": "2024-12-12T15:46:39.407Z"
      },
      {
        "duration": 15,
        "start_time": "2024-12-12T15:46:40.325Z"
      },
      {
        "duration": 9,
        "start_time": "2024-12-12T15:46:40.342Z"
      },
      {
        "duration": 7,
        "start_time": "2024-12-12T15:46:40.353Z"
      },
      {
        "duration": 7,
        "start_time": "2024-12-12T15:46:40.363Z"
      },
      {
        "duration": 24,
        "start_time": "2024-12-12T15:46:40.371Z"
      },
      {
        "duration": 142,
        "start_time": "2024-12-12T15:46:40.397Z"
      },
      {
        "duration": 7,
        "start_time": "2024-12-12T15:46:40.540Z"
      },
      {
        "duration": 100,
        "start_time": "2024-12-12T15:46:40.549Z"
      },
      {
        "duration": 89,
        "start_time": "2024-12-12T15:46:40.651Z"
      },
      {
        "duration": 33,
        "start_time": "2024-12-12T15:46:40.742Z"
      },
      {
        "duration": 11,
        "start_time": "2024-12-12T15:46:40.777Z"
      },
      {
        "duration": 3,
        "start_time": "2024-12-12T15:46:40.792Z"
      },
      {
        "duration": 46,
        "start_time": "2024-12-12T15:46:40.797Z"
      },
      {
        "duration": 15,
        "start_time": "2024-12-12T15:46:40.844Z"
      },
      {
        "duration": 3,
        "start_time": "2024-12-12T15:46:40.861Z"
      },
      {
        "duration": 3,
        "start_time": "2024-12-12T15:46:40.866Z"
      },
      {
        "duration": 4,
        "start_time": "2024-12-12T15:46:40.871Z"
      },
      {
        "duration": 4,
        "start_time": "2024-12-12T15:46:40.876Z"
      },
      {
        "duration": 794,
        "start_time": "2024-12-12T15:46:40.881Z"
      },
      {
        "duration": 3,
        "start_time": "2024-12-12T15:46:41.677Z"
      },
      {
        "duration": 5,
        "start_time": "2024-12-12T15:46:41.681Z"
      },
      {
        "duration": 4,
        "start_time": "2024-12-12T15:46:41.689Z"
      },
      {
        "duration": 4,
        "start_time": "2024-12-12T15:46:41.695Z"
      },
      {
        "duration": 34,
        "start_time": "2024-12-12T15:46:41.700Z"
      },
      {
        "duration": 10,
        "start_time": "2024-12-12T15:46:41.736Z"
      },
      {
        "duration": 3,
        "start_time": "2024-12-12T15:46:41.748Z"
      },
      {
        "duration": 7,
        "start_time": "2024-12-12T15:46:41.752Z"
      },
      {
        "duration": 8,
        "start_time": "2024-12-12T15:46:41.761Z"
      },
      {
        "duration": 64,
        "start_time": "2024-12-12T15:46:41.771Z"
      },
      {
        "duration": 16,
        "start_time": "2024-12-12T15:46:41.837Z"
      },
      {
        "duration": 11,
        "start_time": "2024-12-12T15:46:41.855Z"
      },
      {
        "duration": 485,
        "start_time": "2024-12-12T15:46:41.867Z"
      },
      {
        "duration": 4,
        "start_time": "2024-12-12T15:46:42.353Z"
      },
      {
        "duration": 3,
        "start_time": "2024-12-12T15:46:42.358Z"
      },
      {
        "duration": 223,
        "start_time": "2024-12-12T15:46:42.363Z"
      },
      {
        "duration": 124,
        "start_time": "2024-12-12T15:46:42.588Z"
      },
      {
        "duration": 218,
        "start_time": "2024-12-12T15:46:42.714Z"
      },
      {
        "duration": 8,
        "start_time": "2024-12-12T15:46:42.934Z"
      },
      {
        "duration": 9,
        "start_time": "2024-12-12T15:46:42.945Z"
      },
      {
        "duration": 192,
        "start_time": "2024-12-12T15:46:42.955Z"
      },
      {
        "duration": 11,
        "start_time": "2024-12-12T15:47:28.088Z"
      },
      {
        "duration": 7,
        "start_time": "2024-12-12T15:48:25.789Z"
      },
      {
        "duration": 10,
        "start_time": "2024-12-12T15:48:30.907Z"
      },
      {
        "duration": 12,
        "start_time": "2024-12-12T15:48:48.641Z"
      },
      {
        "duration": 101,
        "start_time": "2024-12-12T15:49:35.345Z"
      },
      {
        "duration": 8,
        "start_time": "2024-12-12T15:49:48.825Z"
      },
      {
        "duration": 7,
        "start_time": "2024-12-12T15:50:00.390Z"
      },
      {
        "duration": 10,
        "start_time": "2024-12-12T15:50:25.307Z"
      },
      {
        "duration": 8,
        "start_time": "2024-12-12T15:50:36.328Z"
      },
      {
        "duration": 165,
        "start_time": "2024-12-12T15:53:32.935Z"
      },
      {
        "duration": 169,
        "start_time": "2024-12-12T15:53:34.442Z"
      },
      {
        "duration": 432,
        "start_time": "2024-12-12T15:56:30.773Z"
      },
      {
        "duration": 919,
        "start_time": "2024-12-12T15:56:31.207Z"
      },
      {
        "duration": 13,
        "start_time": "2024-12-12T15:56:32.128Z"
      },
      {
        "duration": 9,
        "start_time": "2024-12-12T15:56:32.144Z"
      },
      {
        "duration": 8,
        "start_time": "2024-12-12T15:56:32.155Z"
      },
      {
        "duration": 8,
        "start_time": "2024-12-12T15:56:32.165Z"
      },
      {
        "duration": 56,
        "start_time": "2024-12-12T15:56:32.175Z"
      },
      {
        "duration": 120,
        "start_time": "2024-12-12T15:56:32.233Z"
      },
      {
        "duration": 9,
        "start_time": "2024-12-12T15:56:32.355Z"
      },
      {
        "duration": 109,
        "start_time": "2024-12-12T15:56:32.367Z"
      },
      {
        "duration": 87,
        "start_time": "2024-12-12T15:56:32.477Z"
      },
      {
        "duration": 27,
        "start_time": "2024-12-12T15:56:32.566Z"
      },
      {
        "duration": 11,
        "start_time": "2024-12-12T15:56:32.595Z"
      },
      {
        "duration": 4,
        "start_time": "2024-12-12T15:56:32.608Z"
      },
      {
        "duration": 36,
        "start_time": "2024-12-12T15:56:32.613Z"
      },
      {
        "duration": 16,
        "start_time": "2024-12-12T15:56:32.651Z"
      },
      {
        "duration": 3,
        "start_time": "2024-12-12T15:56:32.668Z"
      },
      {
        "duration": 4,
        "start_time": "2024-12-12T15:56:32.673Z"
      },
      {
        "duration": 4,
        "start_time": "2024-12-12T15:56:32.678Z"
      },
      {
        "duration": 3,
        "start_time": "2024-12-12T15:56:32.684Z"
      },
      {
        "duration": 800,
        "start_time": "2024-12-12T15:56:32.688Z"
      },
      {
        "duration": 2,
        "start_time": "2024-12-12T15:56:33.490Z"
      },
      {
        "duration": 5,
        "start_time": "2024-12-12T15:56:33.494Z"
      },
      {
        "duration": 4,
        "start_time": "2024-12-12T15:56:33.501Z"
      },
      {
        "duration": 24,
        "start_time": "2024-12-12T15:56:33.507Z"
      },
      {
        "duration": 7,
        "start_time": "2024-12-12T15:56:33.532Z"
      },
      {
        "duration": 11,
        "start_time": "2024-12-12T15:56:33.541Z"
      },
      {
        "duration": 3,
        "start_time": "2024-12-12T15:56:33.556Z"
      },
      {
        "duration": 7,
        "start_time": "2024-12-12T15:56:33.561Z"
      },
      {
        "duration": 9,
        "start_time": "2024-12-12T15:56:33.570Z"
      },
      {
        "duration": 71,
        "start_time": "2024-12-12T15:56:33.580Z"
      },
      {
        "duration": 17,
        "start_time": "2024-12-12T15:56:33.653Z"
      },
      {
        "duration": 12,
        "start_time": "2024-12-12T15:56:33.671Z"
      },
      {
        "duration": 449,
        "start_time": "2024-12-12T15:56:33.684Z"
      },
      {
        "duration": 3,
        "start_time": "2024-12-12T15:56:34.136Z"
      },
      {
        "duration": 4,
        "start_time": "2024-12-12T15:56:34.141Z"
      },
      {
        "duration": 207,
        "start_time": "2024-12-12T15:56:34.146Z"
      },
      {
        "duration": 118,
        "start_time": "2024-12-12T15:56:34.355Z"
      },
      {
        "duration": 203,
        "start_time": "2024-12-12T15:56:34.475Z"
      },
      {
        "duration": 7,
        "start_time": "2024-12-12T15:56:34.680Z"
      },
      {
        "duration": 7,
        "start_time": "2024-12-12T15:56:34.689Z"
      },
      {
        "duration": 109,
        "start_time": "2024-12-12T15:56:34.698Z"
      },
      {
        "duration": 111,
        "start_time": "2024-12-12T15:56:34.809Z"
      },
      {
        "duration": 500,
        "start_time": "2024-12-12T16:06:28.395Z"
      },
      {
        "duration": 12,
        "start_time": "2024-12-12T16:07:42.109Z"
      },
      {
        "duration": 431,
        "start_time": "2024-12-12T16:08:49.968Z"
      },
      {
        "duration": 920,
        "start_time": "2024-12-12T16:08:50.402Z"
      },
      {
        "duration": 15,
        "start_time": "2024-12-12T16:08:51.324Z"
      },
      {
        "duration": 9,
        "start_time": "2024-12-12T16:08:51.342Z"
      },
      {
        "duration": 7,
        "start_time": "2024-12-12T16:08:51.352Z"
      },
      {
        "duration": 7,
        "start_time": "2024-12-12T16:08:51.361Z"
      },
      {
        "duration": 25,
        "start_time": "2024-12-12T16:08:51.370Z"
      },
      {
        "duration": 152,
        "start_time": "2024-12-12T16:08:51.397Z"
      },
      {
        "duration": 8,
        "start_time": "2024-12-12T16:08:51.551Z"
      },
      {
        "duration": 106,
        "start_time": "2024-12-12T16:08:51.562Z"
      },
      {
        "duration": 91,
        "start_time": "2024-12-12T16:08:51.669Z"
      },
      {
        "duration": 26,
        "start_time": "2024-12-12T16:08:51.761Z"
      },
      {
        "duration": 11,
        "start_time": "2024-12-12T16:08:51.789Z"
      },
      {
        "duration": 3,
        "start_time": "2024-12-12T16:08:51.802Z"
      },
      {
        "duration": 43,
        "start_time": "2024-12-12T16:08:51.806Z"
      },
      {
        "duration": 15,
        "start_time": "2024-12-12T16:08:51.851Z"
      },
      {
        "duration": 3,
        "start_time": "2024-12-12T16:08:51.868Z"
      },
      {
        "duration": 4,
        "start_time": "2024-12-12T16:08:51.872Z"
      },
      {
        "duration": 4,
        "start_time": "2024-12-12T16:08:51.877Z"
      },
      {
        "duration": 3,
        "start_time": "2024-12-12T16:08:51.882Z"
      },
      {
        "duration": 809,
        "start_time": "2024-12-12T16:08:51.887Z"
      },
      {
        "duration": 3,
        "start_time": "2024-12-12T16:08:52.698Z"
      },
      {
        "duration": 6,
        "start_time": "2024-12-12T16:08:52.703Z"
      },
      {
        "duration": 24,
        "start_time": "2024-12-12T16:08:52.710Z"
      },
      {
        "duration": 5,
        "start_time": "2024-12-12T16:08:52.736Z"
      },
      {
        "duration": 8,
        "start_time": "2024-12-12T16:08:52.743Z"
      },
      {
        "duration": 11,
        "start_time": "2024-12-12T16:08:52.753Z"
      },
      {
        "duration": 3,
        "start_time": "2024-12-12T16:08:52.767Z"
      },
      {
        "duration": 7,
        "start_time": "2024-12-12T16:08:52.772Z"
      },
      {
        "duration": 7,
        "start_time": "2024-12-12T16:08:52.780Z"
      },
      {
        "duration": 65,
        "start_time": "2024-12-12T16:08:52.789Z"
      },
      {
        "duration": 16,
        "start_time": "2024-12-12T16:08:52.856Z"
      },
      {
        "duration": 12,
        "start_time": "2024-12-12T16:08:52.874Z"
      },
      {
        "duration": 459,
        "start_time": "2024-12-12T16:08:52.888Z"
      },
      {
        "duration": 4,
        "start_time": "2024-12-12T16:08:53.349Z"
      },
      {
        "duration": 4,
        "start_time": "2024-12-12T16:08:53.354Z"
      },
      {
        "duration": 202,
        "start_time": "2024-12-12T16:08:53.360Z"
      },
      {
        "duration": 135,
        "start_time": "2024-12-12T16:08:53.564Z"
      },
      {
        "duration": 198,
        "start_time": "2024-12-12T16:08:53.701Z"
      },
      {
        "duration": 515,
        "start_time": "2024-12-12T16:08:53.902Z"
      },
      {
        "duration": 0,
        "start_time": "2024-12-12T16:08:54.419Z"
      },
      {
        "duration": 0,
        "start_time": "2024-12-12T16:08:54.420Z"
      },
      {
        "duration": 0,
        "start_time": "2024-12-12T16:08:54.421Z"
      },
      {
        "duration": 14,
        "start_time": "2024-12-12T16:09:38.905Z"
      },
      {
        "duration": 7,
        "start_time": "2024-12-12T16:10:05.653Z"
      },
      {
        "duration": 8,
        "start_time": "2024-12-12T16:10:37.747Z"
      },
      {
        "duration": 8,
        "start_time": "2024-12-12T16:10:38.399Z"
      },
      {
        "duration": 39,
        "start_time": "2024-12-12T16:10:39.033Z"
      },
      {
        "duration": 609,
        "start_time": "2024-12-12T16:11:18.188Z"
      },
      {
        "duration": 43,
        "start_time": "2024-12-12T16:11:38.174Z"
      },
      {
        "duration": 465,
        "start_time": "2024-12-12T16:14:11.044Z"
      },
      {
        "duration": 931,
        "start_time": "2024-12-12T16:14:11.511Z"
      },
      {
        "duration": 11,
        "start_time": "2024-12-12T16:14:12.444Z"
      },
      {
        "duration": 10,
        "start_time": "2024-12-12T16:14:12.457Z"
      },
      {
        "duration": 8,
        "start_time": "2024-12-12T16:14:12.469Z"
      },
      {
        "duration": 8,
        "start_time": "2024-12-12T16:14:12.478Z"
      },
      {
        "duration": 48,
        "start_time": "2024-12-12T16:14:12.488Z"
      },
      {
        "duration": 116,
        "start_time": "2024-12-12T16:14:12.537Z"
      },
      {
        "duration": 7,
        "start_time": "2024-12-12T16:14:12.655Z"
      },
      {
        "duration": 104,
        "start_time": "2024-12-12T16:14:12.666Z"
      },
      {
        "duration": 96,
        "start_time": "2024-12-12T16:14:12.771Z"
      },
      {
        "duration": 32,
        "start_time": "2024-12-12T16:14:12.869Z"
      },
      {
        "duration": 12,
        "start_time": "2024-12-12T16:14:12.902Z"
      },
      {
        "duration": 4,
        "start_time": "2024-12-12T16:14:12.931Z"
      },
      {
        "duration": 19,
        "start_time": "2024-12-12T16:14:12.937Z"
      },
      {
        "duration": 16,
        "start_time": "2024-12-12T16:14:12.957Z"
      },
      {
        "duration": 4,
        "start_time": "2024-12-12T16:14:12.974Z"
      },
      {
        "duration": 4,
        "start_time": "2024-12-12T16:14:12.979Z"
      },
      {
        "duration": 3,
        "start_time": "2024-12-12T16:14:12.985Z"
      },
      {
        "duration": 3,
        "start_time": "2024-12-12T16:14:12.990Z"
      },
      {
        "duration": 792,
        "start_time": "2024-12-12T16:14:13.031Z"
      },
      {
        "duration": 7,
        "start_time": "2024-12-12T16:14:13.825Z"
      },
      {
        "duration": 5,
        "start_time": "2024-12-12T16:14:13.833Z"
      },
      {
        "duration": 4,
        "start_time": "2024-12-12T16:14:13.840Z"
      },
      {
        "duration": 5,
        "start_time": "2024-12-12T16:14:13.845Z"
      },
      {
        "duration": 7,
        "start_time": "2024-12-12T16:14:13.851Z"
      },
      {
        "duration": 11,
        "start_time": "2024-12-12T16:14:13.860Z"
      },
      {
        "duration": 3,
        "start_time": "2024-12-12T16:14:13.874Z"
      },
      {
        "duration": 7,
        "start_time": "2024-12-12T16:14:13.879Z"
      },
      {
        "duration": 7,
        "start_time": "2024-12-12T16:14:13.932Z"
      },
      {
        "duration": 29,
        "start_time": "2024-12-12T16:14:13.941Z"
      },
      {
        "duration": 17,
        "start_time": "2024-12-12T16:14:13.972Z"
      },
      {
        "duration": 12,
        "start_time": "2024-12-12T16:14:13.991Z"
      },
      {
        "duration": 446,
        "start_time": "2024-12-12T16:14:14.030Z"
      },
      {
        "duration": 4,
        "start_time": "2024-12-12T16:14:14.478Z"
      },
      {
        "duration": 4,
        "start_time": "2024-12-12T16:14:14.484Z"
      },
      {
        "duration": 201,
        "start_time": "2024-12-12T16:14:14.490Z"
      },
      {
        "duration": 119,
        "start_time": "2024-12-12T16:14:14.692Z"
      },
      {
        "duration": 198,
        "start_time": "2024-12-12T16:14:14.813Z"
      },
      {
        "duration": 493,
        "start_time": "2024-12-12T16:14:15.013Z"
      },
      {
        "duration": 0,
        "start_time": "2024-12-12T16:14:15.508Z"
      },
      {
        "duration": 0,
        "start_time": "2024-12-12T16:14:15.509Z"
      },
      {
        "duration": 7,
        "start_time": "2024-12-12T16:14:50.444Z"
      },
      {
        "duration": 7,
        "start_time": "2024-12-12T16:15:06.235Z"
      },
      {
        "duration": 47,
        "start_time": "2024-12-12T16:15:07.151Z"
      },
      {
        "duration": 7,
        "start_time": "2024-12-12T16:15:18.143Z"
      },
      {
        "duration": 39,
        "start_time": "2024-12-12T16:15:19.013Z"
      },
      {
        "duration": 51,
        "start_time": "2024-12-12T16:16:42.189Z"
      },
      {
        "duration": 119,
        "start_time": "2024-12-12T16:17:16.655Z"
      },
      {
        "duration": 189,
        "start_time": "2024-12-12T16:17:34.456Z"
      },
      {
        "duration": 189,
        "start_time": "2024-12-12T16:17:50.940Z"
      },
      {
        "duration": 303,
        "start_time": "2024-12-12T16:18:41.834Z"
      },
      {
        "duration": 244,
        "start_time": "2024-12-12T16:19:26.675Z"
      },
      {
        "duration": 13,
        "start_time": "2024-12-12T16:19:49.676Z"
      },
      {
        "duration": 184,
        "start_time": "2024-12-12T16:20:51.787Z"
      },
      {
        "duration": 216,
        "start_time": "2024-12-12T16:21:03.110Z"
      },
      {
        "duration": 16,
        "start_time": "2024-12-12T16:21:44.350Z"
      },
      {
        "duration": 215,
        "start_time": "2024-12-12T16:22:02.316Z"
      },
      {
        "duration": 41,
        "start_time": "2024-12-12T16:29:51.986Z"
      },
      {
        "duration": 177,
        "start_time": "2024-12-12T16:30:09.773Z"
      },
      {
        "duration": 4,
        "start_time": "2024-12-12T16:34:18.555Z"
      },
      {
        "duration": 6,
        "start_time": "2024-12-12T16:35:15.638Z"
      },
      {
        "duration": 4,
        "start_time": "2024-12-12T16:35:34.322Z"
      },
      {
        "duration": 15,
        "start_time": "2024-12-12T16:35:57.151Z"
      },
      {
        "duration": 177,
        "start_time": "2024-12-12T16:36:36.241Z"
      },
      {
        "duration": 104,
        "start_time": "2024-12-12T16:38:12.839Z"
      },
      {
        "duration": 178,
        "start_time": "2024-12-12T16:38:29.167Z"
      },
      {
        "duration": 195,
        "start_time": "2024-12-12T16:38:55.536Z"
      },
      {
        "duration": 257,
        "start_time": "2024-12-12T16:39:10.192Z"
      },
      {
        "duration": 409,
        "start_time": "2024-12-12T16:39:49.430Z"
      },
      {
        "duration": 58,
        "start_time": "2024-12-12T16:40:04.692Z"
      },
      {
        "duration": 223,
        "start_time": "2024-12-12T16:40:19.351Z"
      },
      {
        "duration": 4,
        "start_time": "2024-12-12T16:40:44.739Z"
      },
      {
        "duration": 335,
        "start_time": "2024-12-12T16:40:48.341Z"
      },
      {
        "duration": 233,
        "start_time": "2024-12-12T16:42:35.877Z"
      },
      {
        "duration": 7,
        "start_time": "2024-12-12T16:43:18.556Z"
      },
      {
        "duration": 8,
        "start_time": "2024-12-12T16:43:18.802Z"
      },
      {
        "duration": 4,
        "start_time": "2024-12-12T16:43:19.088Z"
      },
      {
        "duration": 238,
        "start_time": "2024-12-12T16:43:19.626Z"
      },
      {
        "duration": 4,
        "start_time": "2024-12-12T16:51:30.901Z"
      },
      {
        "duration": 174,
        "start_time": "2024-12-12T16:51:52.162Z"
      },
      {
        "duration": 128,
        "start_time": "2024-12-12T16:52:10.608Z"
      },
      {
        "duration": 194,
        "start_time": "2024-12-12T16:52:55.479Z"
      },
      {
        "duration": 40,
        "start_time": "2024-12-12T16:54:27.117Z"
      },
      {
        "duration": 35,
        "start_time": "2024-12-12T16:54:39.052Z"
      },
      {
        "duration": 5,
        "start_time": "2024-12-12T16:56:52.827Z"
      },
      {
        "duration": 107,
        "start_time": "2024-12-12T16:56:59.690Z"
      },
      {
        "duration": 38,
        "start_time": "2024-12-12T16:57:15.064Z"
      },
      {
        "duration": 452,
        "start_time": "2024-12-12T16:58:51.426Z"
      },
      {
        "duration": 922,
        "start_time": "2024-12-12T16:58:51.880Z"
      },
      {
        "duration": 12,
        "start_time": "2024-12-12T16:58:52.804Z"
      },
      {
        "duration": 19,
        "start_time": "2024-12-12T16:58:52.818Z"
      },
      {
        "duration": 8,
        "start_time": "2024-12-12T16:58:52.838Z"
      },
      {
        "duration": 9,
        "start_time": "2024-12-12T16:58:52.848Z"
      },
      {
        "duration": 22,
        "start_time": "2024-12-12T16:58:52.859Z"
      },
      {
        "duration": 140,
        "start_time": "2024-12-12T16:58:52.883Z"
      },
      {
        "duration": 11,
        "start_time": "2024-12-12T16:58:53.025Z"
      },
      {
        "duration": 113,
        "start_time": "2024-12-12T16:58:53.039Z"
      },
      {
        "duration": 96,
        "start_time": "2024-12-12T16:58:53.154Z"
      },
      {
        "duration": 32,
        "start_time": "2024-12-12T16:58:53.251Z"
      },
      {
        "duration": 13,
        "start_time": "2024-12-12T16:58:53.284Z"
      },
      {
        "duration": 3,
        "start_time": "2024-12-12T16:58:53.299Z"
      },
      {
        "duration": 21,
        "start_time": "2024-12-12T16:58:53.331Z"
      },
      {
        "duration": 16,
        "start_time": "2024-12-12T16:58:53.354Z"
      },
      {
        "duration": 3,
        "start_time": "2024-12-12T16:58:53.372Z"
      },
      {
        "duration": 4,
        "start_time": "2024-12-12T16:58:53.377Z"
      },
      {
        "duration": 4,
        "start_time": "2024-12-12T16:58:53.382Z"
      },
      {
        "duration": 3,
        "start_time": "2024-12-12T16:58:53.387Z"
      },
      {
        "duration": 816,
        "start_time": "2024-12-12T16:58:53.392Z"
      },
      {
        "duration": 3,
        "start_time": "2024-12-12T16:58:54.210Z"
      },
      {
        "duration": 18,
        "start_time": "2024-12-12T16:58:54.214Z"
      },
      {
        "duration": 5,
        "start_time": "2024-12-12T16:58:54.233Z"
      },
      {
        "duration": 4,
        "start_time": "2024-12-12T16:58:54.239Z"
      },
      {
        "duration": 6,
        "start_time": "2024-12-12T16:58:54.245Z"
      },
      {
        "duration": 12,
        "start_time": "2024-12-12T16:58:54.252Z"
      },
      {
        "duration": 3,
        "start_time": "2024-12-12T16:58:54.269Z"
      },
      {
        "duration": 7,
        "start_time": "2024-12-12T16:58:54.274Z"
      },
      {
        "duration": 7,
        "start_time": "2024-12-12T16:58:54.283Z"
      },
      {
        "duration": 30,
        "start_time": "2024-12-12T16:58:54.331Z"
      },
      {
        "duration": 18,
        "start_time": "2024-12-12T16:58:54.363Z"
      },
      {
        "duration": 11,
        "start_time": "2024-12-12T16:58:54.383Z"
      },
      {
        "duration": 461,
        "start_time": "2024-12-12T16:58:54.396Z"
      },
      {
        "duration": 3,
        "start_time": "2024-12-12T16:58:54.859Z"
      },
      {
        "duration": 3,
        "start_time": "2024-12-12T16:58:54.864Z"
      },
      {
        "duration": 204,
        "start_time": "2024-12-12T16:58:54.869Z"
      },
      {
        "duration": 120,
        "start_time": "2024-12-12T16:58:55.075Z"
      },
      {
        "duration": 223,
        "start_time": "2024-12-12T16:58:55.197Z"
      },
      {
        "duration": 14,
        "start_time": "2024-12-12T16:58:55.422Z"
      },
      {
        "duration": 8,
        "start_time": "2024-12-12T16:58:55.437Z"
      },
      {
        "duration": 3,
        "start_time": "2024-12-12T16:58:55.446Z"
      },
      {
        "duration": 239,
        "start_time": "2024-12-12T16:58:55.451Z"
      },
      {
        "duration": 41,
        "start_time": "2024-12-12T16:58:55.692Z"
      },
      {
        "duration": 261,
        "start_time": "2024-12-12T16:58:55.735Z"
      },
      {
        "duration": 109,
        "start_time": "2024-12-12T16:59:12.543Z"
      },
      {
        "duration": 549,
        "start_time": "2024-12-12T16:59:46.445Z"
      },
      {
        "duration": 38,
        "start_time": "2024-12-12T17:00:22.748Z"
      },
      {
        "duration": 128,
        "start_time": "2024-12-12T17:01:19.754Z"
      },
      {
        "duration": 106,
        "start_time": "2024-12-12T17:01:40.047Z"
      },
      {
        "duration": 299,
        "start_time": "2024-12-12T17:01:52.871Z"
      },
      {
        "duration": 43,
        "start_time": "2024-12-12T17:02:11.522Z"
      },
      {
        "duration": 423,
        "start_time": "2024-12-12T17:03:22.196Z"
      },
      {
        "duration": 909,
        "start_time": "2024-12-12T17:03:22.622Z"
      },
      {
        "duration": 11,
        "start_time": "2024-12-12T17:03:23.533Z"
      },
      {
        "duration": 10,
        "start_time": "2024-12-12T17:03:23.546Z"
      },
      {
        "duration": 8,
        "start_time": "2024-12-12T17:03:23.559Z"
      },
      {
        "duration": 9,
        "start_time": "2024-12-12T17:03:23.569Z"
      },
      {
        "duration": 56,
        "start_time": "2024-12-12T17:03:23.580Z"
      },
      {
        "duration": 113,
        "start_time": "2024-12-12T17:03:23.638Z"
      },
      {
        "duration": 9,
        "start_time": "2024-12-12T17:03:23.752Z"
      },
      {
        "duration": 111,
        "start_time": "2024-12-12T17:03:23.763Z"
      },
      {
        "duration": 93,
        "start_time": "2024-12-12T17:03:23.876Z"
      },
      {
        "duration": 27,
        "start_time": "2024-12-12T17:03:23.971Z"
      },
      {
        "duration": 12,
        "start_time": "2024-12-12T17:03:23.999Z"
      },
      {
        "duration": 2,
        "start_time": "2024-12-12T17:03:24.031Z"
      },
      {
        "duration": 21,
        "start_time": "2024-12-12T17:03:24.035Z"
      },
      {
        "duration": 19,
        "start_time": "2024-12-12T17:03:24.058Z"
      },
      {
        "duration": 5,
        "start_time": "2024-12-12T17:03:24.078Z"
      },
      {
        "duration": 3,
        "start_time": "2024-12-12T17:03:24.085Z"
      },
      {
        "duration": 4,
        "start_time": "2024-12-12T17:03:24.090Z"
      },
      {
        "duration": 37,
        "start_time": "2024-12-12T17:03:24.096Z"
      },
      {
        "duration": 773,
        "start_time": "2024-12-12T17:03:24.136Z"
      },
      {
        "duration": 2,
        "start_time": "2024-12-12T17:03:24.911Z"
      },
      {
        "duration": 16,
        "start_time": "2024-12-12T17:03:24.915Z"
      },
      {
        "duration": 4,
        "start_time": "2024-12-12T17:03:24.933Z"
      },
      {
        "duration": 5,
        "start_time": "2024-12-12T17:03:24.939Z"
      },
      {
        "duration": 7,
        "start_time": "2024-12-12T17:03:24.945Z"
      },
      {
        "duration": 10,
        "start_time": "2024-12-12T17:03:24.954Z"
      },
      {
        "duration": 4,
        "start_time": "2024-12-12T17:03:24.965Z"
      },
      {
        "duration": 8,
        "start_time": "2024-12-12T17:03:24.970Z"
      },
      {
        "duration": 10,
        "start_time": "2024-12-12T17:03:24.980Z"
      },
      {
        "duration": 29,
        "start_time": "2024-12-12T17:03:25.031Z"
      },
      {
        "duration": 16,
        "start_time": "2024-12-12T17:03:25.063Z"
      },
      {
        "duration": 11,
        "start_time": "2024-12-12T17:03:25.081Z"
      },
      {
        "duration": 460,
        "start_time": "2024-12-12T17:03:25.093Z"
      },
      {
        "duration": 5,
        "start_time": "2024-12-12T17:03:25.555Z"
      },
      {
        "duration": 5,
        "start_time": "2024-12-12T17:03:25.561Z"
      },
      {
        "duration": 200,
        "start_time": "2024-12-12T17:03:25.568Z"
      },
      {
        "duration": 123,
        "start_time": "2024-12-12T17:03:25.770Z"
      },
      {
        "duration": 203,
        "start_time": "2024-12-12T17:03:25.895Z"
      },
      {
        "duration": 7,
        "start_time": "2024-12-12T17:03:26.100Z"
      },
      {
        "duration": 6,
        "start_time": "2024-12-12T17:03:26.111Z"
      },
      {
        "duration": 13,
        "start_time": "2024-12-12T17:03:26.119Z"
      },
      {
        "duration": 241,
        "start_time": "2024-12-12T17:03:26.135Z"
      },
      {
        "duration": 37,
        "start_time": "2024-12-12T17:03:26.378Z"
      },
      {
        "duration": 431,
        "start_time": "2024-12-12T17:04:09.103Z"
      },
      {
        "duration": 945,
        "start_time": "2024-12-12T17:04:09.536Z"
      },
      {
        "duration": 11,
        "start_time": "2024-12-12T17:04:10.483Z"
      },
      {
        "duration": 9,
        "start_time": "2024-12-12T17:04:10.496Z"
      },
      {
        "duration": 7,
        "start_time": "2024-12-12T17:04:10.507Z"
      },
      {
        "duration": 8,
        "start_time": "2024-12-12T17:04:10.532Z"
      },
      {
        "duration": 24,
        "start_time": "2024-12-12T17:04:10.541Z"
      },
      {
        "duration": 133,
        "start_time": "2024-12-12T17:04:10.567Z"
      },
      {
        "duration": 8,
        "start_time": "2024-12-12T17:04:10.702Z"
      },
      {
        "duration": 110,
        "start_time": "2024-12-12T17:04:10.713Z"
      },
      {
        "duration": 95,
        "start_time": "2024-12-12T17:04:10.824Z"
      },
      {
        "duration": 38,
        "start_time": "2024-12-12T17:04:10.921Z"
      },
      {
        "duration": 12,
        "start_time": "2024-12-12T17:04:10.961Z"
      },
      {
        "duration": 4,
        "start_time": "2024-12-12T17:04:10.974Z"
      },
      {
        "duration": 20,
        "start_time": "2024-12-12T17:04:10.980Z"
      },
      {
        "duration": 41,
        "start_time": "2024-12-12T17:04:11.001Z"
      },
      {
        "duration": 4,
        "start_time": "2024-12-12T17:04:11.044Z"
      },
      {
        "duration": 3,
        "start_time": "2024-12-12T17:04:11.050Z"
      },
      {
        "duration": 4,
        "start_time": "2024-12-12T17:04:11.054Z"
      },
      {
        "duration": 4,
        "start_time": "2024-12-12T17:04:11.059Z"
      },
      {
        "duration": 837,
        "start_time": "2024-12-12T17:04:11.065Z"
      },
      {
        "duration": 3,
        "start_time": "2024-12-12T17:04:11.903Z"
      },
      {
        "duration": 5,
        "start_time": "2024-12-12T17:04:11.907Z"
      },
      {
        "duration": 21,
        "start_time": "2024-12-12T17:04:11.914Z"
      },
      {
        "duration": 4,
        "start_time": "2024-12-12T17:04:11.937Z"
      },
      {
        "duration": 9,
        "start_time": "2024-12-12T17:04:11.942Z"
      },
      {
        "duration": 13,
        "start_time": "2024-12-12T17:04:11.953Z"
      },
      {
        "duration": 4,
        "start_time": "2024-12-12T17:04:11.972Z"
      },
      {
        "duration": 8,
        "start_time": "2024-12-12T17:04:11.978Z"
      },
      {
        "duration": 44,
        "start_time": "2024-12-12T17:04:11.987Z"
      },
      {
        "duration": 30,
        "start_time": "2024-12-12T17:04:12.033Z"
      },
      {
        "duration": 17,
        "start_time": "2024-12-12T17:04:12.066Z"
      },
      {
        "duration": 11,
        "start_time": "2024-12-12T17:04:12.085Z"
      },
      {
        "duration": 475,
        "start_time": "2024-12-12T17:04:12.098Z"
      },
      {
        "duration": 3,
        "start_time": "2024-12-12T17:04:12.575Z"
      },
      {
        "duration": 5,
        "start_time": "2024-12-12T17:04:12.580Z"
      },
      {
        "duration": 201,
        "start_time": "2024-12-12T17:04:12.587Z"
      },
      {
        "duration": 125,
        "start_time": "2024-12-12T17:04:12.790Z"
      },
      {
        "duration": 207,
        "start_time": "2024-12-12T17:04:12.917Z"
      },
      {
        "duration": 8,
        "start_time": "2024-12-12T17:04:13.130Z"
      },
      {
        "duration": 7,
        "start_time": "2024-12-12T17:04:13.140Z"
      },
      {
        "duration": 4,
        "start_time": "2024-12-12T17:04:13.148Z"
      },
      {
        "duration": 246,
        "start_time": "2024-12-12T17:04:13.154Z"
      },
      {
        "duration": 45,
        "start_time": "2024-12-12T17:04:13.402Z"
      },
      {
        "duration": 281,
        "start_time": "2024-12-12T17:04:13.450Z"
      },
      {
        "duration": 490,
        "start_time": "2024-12-12T17:04:31.438Z"
      },
      {
        "duration": 1029,
        "start_time": "2024-12-12T17:04:31.929Z"
      },
      {
        "duration": 13,
        "start_time": "2024-12-12T17:04:32.960Z"
      },
      {
        "duration": 12,
        "start_time": "2024-12-12T17:04:32.975Z"
      },
      {
        "duration": 8,
        "start_time": "2024-12-12T17:04:32.991Z"
      },
      {
        "duration": 35,
        "start_time": "2024-12-12T17:04:33.002Z"
      },
      {
        "duration": 25,
        "start_time": "2024-12-12T17:04:33.038Z"
      },
      {
        "duration": 173,
        "start_time": "2024-12-12T17:04:33.067Z"
      },
      {
        "duration": 9,
        "start_time": "2024-12-12T17:04:33.242Z"
      },
      {
        "duration": 118,
        "start_time": "2024-12-12T17:04:33.253Z"
      },
      {
        "duration": 113,
        "start_time": "2024-12-12T17:04:33.373Z"
      },
      {
        "duration": 32,
        "start_time": "2024-12-12T17:04:33.488Z"
      },
      {
        "duration": 20,
        "start_time": "2024-12-12T17:04:33.522Z"
      },
      {
        "duration": 3,
        "start_time": "2024-12-12T17:04:33.545Z"
      },
      {
        "duration": 22,
        "start_time": "2024-12-12T17:04:33.550Z"
      },
      {
        "duration": 17,
        "start_time": "2024-12-12T17:04:33.573Z"
      },
      {
        "duration": 3,
        "start_time": "2024-12-12T17:04:33.593Z"
      },
      {
        "duration": 33,
        "start_time": "2024-12-12T17:04:33.598Z"
      },
      {
        "duration": 11,
        "start_time": "2024-12-12T17:04:33.633Z"
      },
      {
        "duration": 3,
        "start_time": "2024-12-12T17:04:33.646Z"
      },
      {
        "duration": 807,
        "start_time": "2024-12-12T17:04:33.651Z"
      },
      {
        "duration": 2,
        "start_time": "2024-12-12T17:04:34.460Z"
      },
      {
        "duration": 5,
        "start_time": "2024-12-12T17:04:34.465Z"
      },
      {
        "duration": 5,
        "start_time": "2024-12-12T17:04:34.472Z"
      },
      {
        "duration": 5,
        "start_time": "2024-12-12T17:04:34.480Z"
      },
      {
        "duration": 7,
        "start_time": "2024-12-12T17:04:34.487Z"
      },
      {
        "duration": 41,
        "start_time": "2024-12-12T17:04:34.496Z"
      },
      {
        "duration": 4,
        "start_time": "2024-12-12T17:04:34.539Z"
      },
      {
        "duration": 10,
        "start_time": "2024-12-12T17:04:34.544Z"
      },
      {
        "duration": 6,
        "start_time": "2024-12-12T17:04:34.556Z"
      },
      {
        "duration": 29,
        "start_time": "2024-12-12T17:04:34.564Z"
      },
      {
        "duration": 48,
        "start_time": "2024-12-12T17:04:34.595Z"
      },
      {
        "duration": 12,
        "start_time": "2024-12-12T17:04:34.645Z"
      },
      {
        "duration": 457,
        "start_time": "2024-12-12T17:04:34.658Z"
      },
      {
        "duration": 4,
        "start_time": "2024-12-12T17:04:35.116Z"
      },
      {
        "duration": 12,
        "start_time": "2024-12-12T17:04:35.121Z"
      },
      {
        "duration": 198,
        "start_time": "2024-12-12T17:04:35.135Z"
      },
      {
        "duration": 127,
        "start_time": "2024-12-12T17:04:35.335Z"
      },
      {
        "duration": 221,
        "start_time": "2024-12-12T17:04:35.464Z"
      },
      {
        "duration": 9,
        "start_time": "2024-12-12T17:04:35.687Z"
      },
      {
        "duration": 9,
        "start_time": "2024-12-12T17:04:35.703Z"
      },
      {
        "duration": 19,
        "start_time": "2024-12-12T17:04:35.713Z"
      },
      {
        "duration": 266,
        "start_time": "2024-12-12T17:04:35.734Z"
      },
      {
        "duration": 47,
        "start_time": "2024-12-12T17:04:36.002Z"
      },
      {
        "duration": 461,
        "start_time": "2024-12-12T17:07:21.569Z"
      },
      {
        "duration": 1079,
        "start_time": "2024-12-12T17:07:22.032Z"
      },
      {
        "duration": 19,
        "start_time": "2024-12-12T17:07:23.113Z"
      },
      {
        "duration": 10,
        "start_time": "2024-12-12T17:07:23.133Z"
      },
      {
        "duration": 7,
        "start_time": "2024-12-12T17:07:23.146Z"
      },
      {
        "duration": 7,
        "start_time": "2024-12-12T17:07:23.155Z"
      },
      {
        "duration": 22,
        "start_time": "2024-12-12T17:07:23.164Z"
      },
      {
        "duration": 145,
        "start_time": "2024-12-12T17:07:23.188Z"
      },
      {
        "duration": 8,
        "start_time": "2024-12-12T17:07:23.336Z"
      },
      {
        "duration": 111,
        "start_time": "2024-12-12T17:07:23.346Z"
      },
      {
        "duration": 97,
        "start_time": "2024-12-12T17:07:23.459Z"
      },
      {
        "duration": 34,
        "start_time": "2024-12-12T17:07:23.557Z"
      },
      {
        "duration": 15,
        "start_time": "2024-12-12T17:07:23.593Z"
      },
      {
        "duration": 19,
        "start_time": "2024-12-12T17:07:23.612Z"
      },
      {
        "duration": 21,
        "start_time": "2024-12-12T17:07:23.633Z"
      },
      {
        "duration": 16,
        "start_time": "2024-12-12T17:07:23.655Z"
      },
      {
        "duration": 4,
        "start_time": "2024-12-12T17:07:23.672Z"
      },
      {
        "duration": 3,
        "start_time": "2024-12-12T17:07:23.677Z"
      },
      {
        "duration": 4,
        "start_time": "2024-12-12T17:07:23.682Z"
      },
      {
        "duration": 43,
        "start_time": "2024-12-12T17:07:23.688Z"
      },
      {
        "duration": 780,
        "start_time": "2024-12-12T17:07:23.732Z"
      },
      {
        "duration": 3,
        "start_time": "2024-12-12T17:07:24.514Z"
      },
      {
        "duration": 14,
        "start_time": "2024-12-12T17:07:24.518Z"
      },
      {
        "duration": 4,
        "start_time": "2024-12-12T17:07:24.534Z"
      },
      {
        "duration": 4,
        "start_time": "2024-12-12T17:07:24.540Z"
      },
      {
        "duration": 7,
        "start_time": "2024-12-12T17:07:24.546Z"
      },
      {
        "duration": 11,
        "start_time": "2024-12-12T17:07:24.555Z"
      },
      {
        "duration": 3,
        "start_time": "2024-12-12T17:07:24.568Z"
      },
      {
        "duration": 7,
        "start_time": "2024-12-12T17:07:24.575Z"
      },
      {
        "duration": 51,
        "start_time": "2024-12-12T17:07:24.584Z"
      },
      {
        "duration": 30,
        "start_time": "2024-12-12T17:07:24.637Z"
      },
      {
        "duration": 16,
        "start_time": "2024-12-12T17:07:24.669Z"
      },
      {
        "duration": 11,
        "start_time": "2024-12-12T17:07:24.687Z"
      },
      {
        "duration": 468,
        "start_time": "2024-12-12T17:07:24.699Z"
      },
      {
        "duration": 3,
        "start_time": "2024-12-12T17:07:25.169Z"
      },
      {
        "duration": 4,
        "start_time": "2024-12-12T17:07:25.174Z"
      },
      {
        "duration": 202,
        "start_time": "2024-12-12T17:07:25.180Z"
      },
      {
        "duration": 120,
        "start_time": "2024-12-12T17:07:25.384Z"
      },
      {
        "duration": 200,
        "start_time": "2024-12-12T17:07:25.506Z"
      },
      {
        "duration": 8,
        "start_time": "2024-12-12T17:07:25.708Z"
      },
      {
        "duration": 17,
        "start_time": "2024-12-12T17:07:25.720Z"
      },
      {
        "duration": 3,
        "start_time": "2024-12-12T17:07:25.739Z"
      },
      {
        "duration": 238,
        "start_time": "2024-12-12T17:07:25.744Z"
      },
      {
        "duration": 47,
        "start_time": "2024-12-12T17:07:25.984Z"
      },
      {
        "duration": 125,
        "start_time": "2024-12-12T17:07:26.033Z"
      },
      {
        "duration": 5,
        "start_time": "2024-12-12T17:07:26.162Z"
      },
      {
        "duration": 510,
        "start_time": "2024-12-12T17:08:15.780Z"
      },
      {
        "duration": 43,
        "start_time": "2024-12-12T17:08:55.346Z"
      },
      {
        "duration": 137,
        "start_time": "2024-12-12T17:09:33.931Z"
      },
      {
        "duration": 9,
        "start_time": "2024-12-12T17:11:39.495Z"
      },
      {
        "duration": 118,
        "start_time": "2024-12-12T17:11:54.139Z"
      },
      {
        "duration": 1036,
        "start_time": "2024-12-12T17:14:21.018Z"
      },
      {
        "duration": 107,
        "start_time": "2024-12-12T17:14:39.952Z"
      },
      {
        "duration": 113,
        "start_time": "2024-12-12T17:15:33.725Z"
      },
      {
        "duration": 906,
        "start_time": "2024-12-12T17:15:46.239Z"
      },
      {
        "duration": 918,
        "start_time": "2024-12-12T17:16:04.578Z"
      },
      {
        "duration": 1079,
        "start_time": "2024-12-12T17:16:46.808Z"
      },
      {
        "duration": 986,
        "start_time": "2024-12-12T17:17:01.481Z"
      },
      {
        "duration": 1007,
        "start_time": "2024-12-12T17:17:14.011Z"
      },
      {
        "duration": 6,
        "start_time": "2024-12-12T17:19:06.699Z"
      },
      {
        "duration": 97,
        "start_time": "2024-12-12T17:24:45.369Z"
      },
      {
        "duration": 95,
        "start_time": "2024-12-12T17:24:56.407Z"
      },
      {
        "duration": 103,
        "start_time": "2024-12-12T17:26:10.836Z"
      },
      {
        "duration": 98,
        "start_time": "2024-12-12T17:26:16.763Z"
      },
      {
        "duration": 95,
        "start_time": "2024-12-12T17:29:19.576Z"
      },
      {
        "duration": 94,
        "start_time": "2024-12-12T17:29:48.826Z"
      },
      {
        "duration": 93,
        "start_time": "2024-12-12T17:30:22.517Z"
      },
      {
        "duration": 104,
        "start_time": "2024-12-12T17:30:37.717Z"
      },
      {
        "duration": 92,
        "start_time": "2024-12-12T17:30:46.961Z"
      },
      {
        "duration": 21,
        "start_time": "2024-12-12T17:31:55.923Z"
      },
      {
        "duration": 4,
        "start_time": "2024-12-12T17:32:48.317Z"
      },
      {
        "duration": 4,
        "start_time": "2024-12-12T17:33:01.911Z"
      },
      {
        "duration": 287,
        "start_time": "2024-12-12T17:33:24.343Z"
      },
      {
        "duration": 4,
        "start_time": "2024-12-12T17:33:40.103Z"
      },
      {
        "duration": 39,
        "start_time": "2024-12-12T17:33:48.458Z"
      },
      {
        "duration": 3,
        "start_time": "2024-12-12T17:34:07.326Z"
      },
      {
        "duration": 155,
        "start_time": "2024-12-12T20:44:12.544Z"
      },
      {
        "duration": 2128,
        "start_time": "2024-12-12T20:44:34.928Z"
      },
      {
        "duration": 1030,
        "start_time": "2024-12-12T20:44:37.058Z"
      },
      {
        "duration": 12,
        "start_time": "2024-12-12T20:44:38.090Z"
      },
      {
        "duration": 21,
        "start_time": "2024-12-12T20:44:38.105Z"
      },
      {
        "duration": 8,
        "start_time": "2024-12-12T20:44:38.128Z"
      },
      {
        "duration": 8,
        "start_time": "2024-12-12T20:44:38.138Z"
      },
      {
        "duration": 23,
        "start_time": "2024-12-12T20:44:38.148Z"
      },
      {
        "duration": 132,
        "start_time": "2024-12-12T20:44:38.172Z"
      },
      {
        "duration": 17,
        "start_time": "2024-12-12T20:44:38.307Z"
      },
      {
        "duration": 85,
        "start_time": "2024-12-12T20:44:38.328Z"
      },
      {
        "duration": 82,
        "start_time": "2024-12-12T20:44:38.423Z"
      },
      {
        "duration": 38,
        "start_time": "2024-12-12T20:44:38.507Z"
      },
      {
        "duration": 12,
        "start_time": "2024-12-12T20:44:38.546Z"
      },
      {
        "duration": 3,
        "start_time": "2024-12-12T20:44:38.560Z"
      },
      {
        "duration": 20,
        "start_time": "2024-12-12T20:44:38.566Z"
      },
      {
        "duration": 40,
        "start_time": "2024-12-12T20:44:38.588Z"
      },
      {
        "duration": 4,
        "start_time": "2024-12-12T20:44:38.629Z"
      },
      {
        "duration": 3,
        "start_time": "2024-12-12T20:44:38.635Z"
      },
      {
        "duration": 3,
        "start_time": "2024-12-12T20:44:38.640Z"
      },
      {
        "duration": 4,
        "start_time": "2024-12-12T20:44:38.645Z"
      },
      {
        "duration": 810,
        "start_time": "2024-12-12T20:44:38.650Z"
      },
      {
        "duration": 3,
        "start_time": "2024-12-12T20:44:39.462Z"
      },
      {
        "duration": 5,
        "start_time": "2024-12-12T20:44:39.466Z"
      },
      {
        "duration": 4,
        "start_time": "2024-12-12T20:44:39.473Z"
      },
      {
        "duration": 4,
        "start_time": "2024-12-12T20:44:39.479Z"
      },
      {
        "duration": 6,
        "start_time": "2024-12-12T20:44:39.485Z"
      },
      {
        "duration": 11,
        "start_time": "2024-12-12T20:44:39.524Z"
      },
      {
        "duration": 4,
        "start_time": "2024-12-12T20:44:39.539Z"
      },
      {
        "duration": 7,
        "start_time": "2024-12-12T20:44:39.545Z"
      },
      {
        "duration": 8,
        "start_time": "2024-12-12T20:44:39.553Z"
      },
      {
        "duration": 30,
        "start_time": "2024-12-12T20:44:39.562Z"
      },
      {
        "duration": 17,
        "start_time": "2024-12-12T20:44:39.624Z"
      },
      {
        "duration": 12,
        "start_time": "2024-12-12T20:44:39.643Z"
      },
      {
        "duration": 443,
        "start_time": "2024-12-12T20:44:39.656Z"
      },
      {
        "duration": 4,
        "start_time": "2024-12-12T20:44:40.101Z"
      },
      {
        "duration": 19,
        "start_time": "2024-12-12T20:44:40.107Z"
      },
      {
        "duration": 196,
        "start_time": "2024-12-12T20:44:40.128Z"
      },
      {
        "duration": 124,
        "start_time": "2024-12-12T20:44:40.325Z"
      },
      {
        "duration": 232,
        "start_time": "2024-12-12T20:44:40.451Z"
      },
      {
        "duration": 6,
        "start_time": "2024-12-12T20:44:40.685Z"
      },
      {
        "duration": 7,
        "start_time": "2024-12-12T20:44:40.693Z"
      },
      {
        "duration": 3,
        "start_time": "2024-12-12T20:44:40.702Z"
      },
      {
        "duration": 238,
        "start_time": "2024-12-12T20:44:40.707Z"
      },
      {
        "duration": 7,
        "start_time": "2024-12-12T20:44:40.947Z"
      },
      {
        "duration": 1002,
        "start_time": "2024-12-12T20:44:40.955Z"
      },
      {
        "duration": 113,
        "start_time": "2024-12-12T20:44:41.959Z"
      },
      {
        "duration": 3,
        "start_time": "2024-12-12T20:44:42.073Z"
      },
      {
        "duration": 93,
        "start_time": "2024-12-12T20:45:16.332Z"
      },
      {
        "duration": 87,
        "start_time": "2024-12-12T20:45:32.380Z"
      },
      {
        "duration": 515,
        "start_time": "2024-12-12T20:53:17.535Z"
      },
      {
        "duration": 83,
        "start_time": "2024-12-12T20:55:38.884Z"
      },
      {
        "duration": 263,
        "start_time": "2024-12-12T20:59:44.904Z"
      },
      {
        "duration": 13,
        "start_time": "2024-12-12T21:00:04.192Z"
      },
      {
        "duration": 413,
        "start_time": "2024-12-12T21:00:19.386Z"
      },
      {
        "duration": 894,
        "start_time": "2024-12-12T21:00:19.801Z"
      },
      {
        "duration": 11,
        "start_time": "2024-12-12T21:00:20.697Z"
      },
      {
        "duration": 17,
        "start_time": "2024-12-12T21:00:20.710Z"
      },
      {
        "duration": 8,
        "start_time": "2024-12-12T21:00:20.728Z"
      },
      {
        "duration": 8,
        "start_time": "2024-12-12T21:00:20.737Z"
      },
      {
        "duration": 23,
        "start_time": "2024-12-12T21:00:20.746Z"
      },
      {
        "duration": 126,
        "start_time": "2024-12-12T21:00:20.771Z"
      },
      {
        "duration": 8,
        "start_time": "2024-12-12T21:00:20.899Z"
      },
      {
        "duration": 101,
        "start_time": "2024-12-12T21:00:20.923Z"
      },
      {
        "duration": 79,
        "start_time": "2024-12-12T21:00:21.025Z"
      },
      {
        "duration": 33,
        "start_time": "2024-12-12T21:00:21.106Z"
      },
      {
        "duration": 12,
        "start_time": "2024-12-12T21:00:21.141Z"
      },
      {
        "duration": 3,
        "start_time": "2024-12-12T21:00:21.154Z"
      },
      {
        "duration": 20,
        "start_time": "2024-12-12T21:00:21.159Z"
      },
      {
        "duration": 49,
        "start_time": "2024-12-12T21:00:21.181Z"
      },
      {
        "duration": 3,
        "start_time": "2024-12-12T21:00:21.231Z"
      },
      {
        "duration": 3,
        "start_time": "2024-12-12T21:00:21.236Z"
      },
      {
        "duration": 3,
        "start_time": "2024-12-12T21:00:21.242Z"
      },
      {
        "duration": 4,
        "start_time": "2024-12-12T21:00:21.246Z"
      },
      {
        "duration": 773,
        "start_time": "2024-12-12T21:00:21.251Z"
      },
      {
        "duration": 3,
        "start_time": "2024-12-12T21:00:22.026Z"
      },
      {
        "duration": 5,
        "start_time": "2024-12-12T21:00:22.031Z"
      },
      {
        "duration": 5,
        "start_time": "2024-12-12T21:00:22.038Z"
      },
      {
        "duration": 5,
        "start_time": "2024-12-12T21:00:22.046Z"
      },
      {
        "duration": 6,
        "start_time": "2024-12-12T21:00:22.053Z"
      },
      {
        "duration": 10,
        "start_time": "2024-12-12T21:00:22.061Z"
      },
      {
        "duration": 3,
        "start_time": "2024-12-12T21:00:22.075Z"
      },
      {
        "duration": 50,
        "start_time": "2024-12-12T21:00:22.079Z"
      },
      {
        "duration": 7,
        "start_time": "2024-12-12T21:00:22.130Z"
      },
      {
        "duration": 29,
        "start_time": "2024-12-12T21:00:22.139Z"
      },
      {
        "duration": 17,
        "start_time": "2024-12-12T21:00:22.169Z"
      },
      {
        "duration": 38,
        "start_time": "2024-12-12T21:00:22.187Z"
      },
      {
        "duration": 444,
        "start_time": "2024-12-12T21:00:22.227Z"
      },
      {
        "duration": 4,
        "start_time": "2024-12-12T21:00:22.673Z"
      },
      {
        "duration": 4,
        "start_time": "2024-12-12T21:00:22.679Z"
      },
      {
        "duration": 204,
        "start_time": "2024-12-12T21:00:22.684Z"
      },
      {
        "duration": 123,
        "start_time": "2024-12-12T21:00:22.890Z"
      },
      {
        "duration": 202,
        "start_time": "2024-12-12T21:00:23.015Z"
      },
      {
        "duration": 11,
        "start_time": "2024-12-12T21:00:23.219Z"
      },
      {
        "duration": 8,
        "start_time": "2024-12-12T21:00:23.232Z"
      },
      {
        "duration": 4,
        "start_time": "2024-12-12T21:00:23.241Z"
      },
      {
        "duration": 227,
        "start_time": "2024-12-12T21:00:23.246Z"
      },
      {
        "duration": 8,
        "start_time": "2024-12-12T21:00:23.475Z"
      },
      {
        "duration": 999,
        "start_time": "2024-12-12T21:00:23.485Z"
      },
      {
        "duration": 103,
        "start_time": "2024-12-12T21:00:24.486Z"
      },
      {
        "duration": 614,
        "start_time": "2024-12-12T21:00:24.591Z"
      },
      {
        "duration": 0,
        "start_time": "2024-12-12T21:00:25.207Z"
      },
      {
        "duration": 3,
        "start_time": "2024-12-12T21:01:58.257Z"
      },
      {
        "duration": 8,
        "start_time": "2024-12-12T21:02:12.632Z"
      },
      {
        "duration": 14,
        "start_time": "2024-12-12T21:04:26.840Z"
      },
      {
        "duration": 1725,
        "start_time": "2024-12-12T21:06:29.601Z"
      },
      {
        "duration": 431,
        "start_time": "2024-12-12T21:08:31.762Z"
      },
      {
        "duration": 888,
        "start_time": "2024-12-12T21:08:32.195Z"
      },
      {
        "duration": 12,
        "start_time": "2024-12-12T21:08:33.085Z"
      },
      {
        "duration": 10,
        "start_time": "2024-12-12T21:08:33.098Z"
      },
      {
        "duration": 7,
        "start_time": "2024-12-12T21:08:33.124Z"
      },
      {
        "duration": 7,
        "start_time": "2024-12-12T21:08:33.133Z"
      },
      {
        "duration": 23,
        "start_time": "2024-12-12T21:08:33.142Z"
      },
      {
        "duration": 121,
        "start_time": "2024-12-12T21:08:33.166Z"
      },
      {
        "duration": 6,
        "start_time": "2024-12-12T21:08:33.290Z"
      },
      {
        "duration": 103,
        "start_time": "2024-12-12T21:08:33.300Z"
      },
      {
        "duration": 84,
        "start_time": "2024-12-12T21:08:33.405Z"
      },
      {
        "duration": 34,
        "start_time": "2024-12-12T21:08:33.491Z"
      },
      {
        "duration": 12,
        "start_time": "2024-12-12T21:08:33.527Z"
      },
      {
        "duration": 4,
        "start_time": "2024-12-12T21:08:33.540Z"
      },
      {
        "duration": 19,
        "start_time": "2024-12-12T21:08:33.546Z"
      },
      {
        "duration": 15,
        "start_time": "2024-12-12T21:08:33.568Z"
      },
      {
        "duration": 3,
        "start_time": "2024-12-12T21:08:33.585Z"
      },
      {
        "duration": 35,
        "start_time": "2024-12-12T21:08:33.590Z"
      },
      {
        "duration": 4,
        "start_time": "2024-12-12T21:08:33.627Z"
      },
      {
        "duration": 4,
        "start_time": "2024-12-12T21:08:33.633Z"
      },
      {
        "duration": 778,
        "start_time": "2024-12-12T21:08:33.639Z"
      },
      {
        "duration": 2,
        "start_time": "2024-12-12T21:08:34.423Z"
      },
      {
        "duration": 6,
        "start_time": "2024-12-12T21:08:34.427Z"
      },
      {
        "duration": 4,
        "start_time": "2024-12-12T21:08:34.434Z"
      },
      {
        "duration": 4,
        "start_time": "2024-12-12T21:08:34.440Z"
      },
      {
        "duration": 7,
        "start_time": "2024-12-12T21:08:34.446Z"
      },
      {
        "duration": 11,
        "start_time": "2024-12-12T21:08:34.454Z"
      },
      {
        "duration": 3,
        "start_time": "2024-12-12T21:08:34.469Z"
      },
      {
        "duration": 7,
        "start_time": "2024-12-12T21:08:34.474Z"
      },
      {
        "duration": 43,
        "start_time": "2024-12-12T21:08:34.482Z"
      },
      {
        "duration": 29,
        "start_time": "2024-12-12T21:08:34.527Z"
      },
      {
        "duration": 16,
        "start_time": "2024-12-12T21:08:34.559Z"
      },
      {
        "duration": 11,
        "start_time": "2024-12-12T21:08:34.576Z"
      },
      {
        "duration": 644,
        "start_time": "2024-12-12T21:08:34.588Z"
      },
      {
        "duration": 4,
        "start_time": "2024-12-12T21:08:35.234Z"
      },
      {
        "duration": 3,
        "start_time": "2024-12-12T21:08:35.240Z"
      },
      {
        "duration": 209,
        "start_time": "2024-12-12T21:08:35.245Z"
      },
      {
        "duration": 119,
        "start_time": "2024-12-12T21:08:35.456Z"
      },
      {
        "duration": 199,
        "start_time": "2024-12-12T21:08:35.577Z"
      },
      {
        "duration": 7,
        "start_time": "2024-12-12T21:08:35.778Z"
      },
      {
        "duration": 8,
        "start_time": "2024-12-12T21:08:35.787Z"
      },
      {
        "duration": 4,
        "start_time": "2024-12-12T21:08:35.796Z"
      },
      {
        "duration": 246,
        "start_time": "2024-12-12T21:08:35.802Z"
      },
      {
        "duration": 8,
        "start_time": "2024-12-12T21:08:36.049Z"
      },
      {
        "duration": 1003,
        "start_time": "2024-12-12T21:08:36.058Z"
      },
      {
        "duration": 109,
        "start_time": "2024-12-12T21:08:37.063Z"
      },
      {
        "duration": 2,
        "start_time": "2024-12-12T21:08:37.174Z"
      },
      {
        "duration": 255,
        "start_time": "2024-12-12T21:08:37.178Z"
      },
      {
        "duration": 1757,
        "start_time": "2024-12-12T21:09:02.252Z"
      },
      {
        "duration": 1251,
        "start_time": "2024-12-12T21:09:31.772Z"
      },
      {
        "duration": 11,
        "start_time": "2024-12-12T21:09:46.885Z"
      },
      {
        "duration": 13,
        "start_time": "2024-12-12T21:10:11.505Z"
      },
      {
        "duration": 14,
        "start_time": "2024-12-12T21:10:39.188Z"
      },
      {
        "duration": 464,
        "start_time": "2024-12-12T21:11:03.666Z"
      },
      {
        "duration": 913,
        "start_time": "2024-12-12T21:11:04.132Z"
      },
      {
        "duration": 12,
        "start_time": "2024-12-12T21:11:05.047Z"
      },
      {
        "duration": 10,
        "start_time": "2024-12-12T21:11:05.062Z"
      },
      {
        "duration": 8,
        "start_time": "2024-12-12T21:11:05.074Z"
      },
      {
        "duration": 8,
        "start_time": "2024-12-12T21:11:05.084Z"
      },
      {
        "duration": 48,
        "start_time": "2024-12-12T21:11:05.094Z"
      },
      {
        "duration": 131,
        "start_time": "2024-12-12T21:11:05.143Z"
      },
      {
        "duration": 8,
        "start_time": "2024-12-12T21:11:05.276Z"
      },
      {
        "duration": 113,
        "start_time": "2024-12-12T21:11:05.287Z"
      },
      {
        "duration": 92,
        "start_time": "2024-12-12T21:11:05.402Z"
      },
      {
        "duration": 43,
        "start_time": "2024-12-12T21:11:05.496Z"
      },
      {
        "duration": 12,
        "start_time": "2024-12-12T21:11:05.541Z"
      },
      {
        "duration": 3,
        "start_time": "2024-12-12T21:11:05.555Z"
      },
      {
        "duration": 19,
        "start_time": "2024-12-12T21:11:05.560Z"
      },
      {
        "duration": 16,
        "start_time": "2024-12-12T21:11:05.581Z"
      },
      {
        "duration": 26,
        "start_time": "2024-12-12T21:11:05.599Z"
      },
      {
        "duration": 4,
        "start_time": "2024-12-12T21:11:05.627Z"
      },
      {
        "duration": 3,
        "start_time": "2024-12-12T21:11:05.633Z"
      },
      {
        "duration": 3,
        "start_time": "2024-12-12T21:11:05.638Z"
      },
      {
        "duration": 851,
        "start_time": "2024-12-12T21:11:05.643Z"
      },
      {
        "duration": 2,
        "start_time": "2024-12-12T21:11:06.497Z"
      },
      {
        "duration": 6,
        "start_time": "2024-12-12T21:11:06.501Z"
      },
      {
        "duration": 17,
        "start_time": "2024-12-12T21:11:06.509Z"
      },
      {
        "duration": 4,
        "start_time": "2024-12-12T21:11:06.528Z"
      },
      {
        "duration": 7,
        "start_time": "2024-12-12T21:11:06.534Z"
      },
      {
        "duration": 11,
        "start_time": "2024-12-12T21:11:06.543Z"
      },
      {
        "duration": 4,
        "start_time": "2024-12-12T21:11:06.557Z"
      },
      {
        "duration": 7,
        "start_time": "2024-12-12T21:11:06.562Z"
      },
      {
        "duration": 7,
        "start_time": "2024-12-12T21:11:06.571Z"
      },
      {
        "duration": 71,
        "start_time": "2024-12-12T21:11:06.580Z"
      },
      {
        "duration": 17,
        "start_time": "2024-12-12T21:11:06.654Z"
      },
      {
        "duration": 12,
        "start_time": "2024-12-12T21:11:06.673Z"
      },
      {
        "duration": 455,
        "start_time": "2024-12-12T21:11:06.686Z"
      },
      {
        "duration": 4,
        "start_time": "2024-12-12T21:11:07.143Z"
      },
      {
        "duration": 4,
        "start_time": "2024-12-12T21:11:07.149Z"
      },
      {
        "duration": 208,
        "start_time": "2024-12-12T21:11:07.155Z"
      },
      {
        "duration": 119,
        "start_time": "2024-12-12T21:11:07.366Z"
      },
      {
        "duration": 215,
        "start_time": "2024-12-12T21:11:07.487Z"
      },
      {
        "duration": 8,
        "start_time": "2024-12-12T21:11:07.703Z"
      },
      {
        "duration": 18,
        "start_time": "2024-12-12T21:11:07.712Z"
      },
      {
        "duration": 4,
        "start_time": "2024-12-12T21:11:07.732Z"
      },
      {
        "duration": 239,
        "start_time": "2024-12-12T21:11:07.738Z"
      },
      {
        "duration": 7,
        "start_time": "2024-12-12T21:11:07.979Z"
      },
      {
        "duration": 1020,
        "start_time": "2024-12-12T21:11:07.988Z"
      },
      {
        "duration": 112,
        "start_time": "2024-12-12T21:11:09.010Z"
      },
      {
        "duration": 3,
        "start_time": "2024-12-12T21:11:09.124Z"
      },
      {
        "duration": 1927,
        "start_time": "2024-12-12T21:11:09.129Z"
      },
      {
        "duration": 99,
        "start_time": "2024-12-12T21:11:30.340Z"
      },
      {
        "duration": 96,
        "start_time": "2024-12-12T21:11:43.015Z"
      },
      {
        "duration": 101,
        "start_time": "2024-12-12T21:11:58.710Z"
      },
      {
        "duration": 99,
        "start_time": "2024-12-12T21:12:30.192Z"
      },
      {
        "duration": 97,
        "start_time": "2024-12-12T21:12:58.151Z"
      },
      {
        "duration": 7,
        "start_time": "2024-12-12T21:13:14.924Z"
      },
      {
        "duration": 94,
        "start_time": "2024-12-12T21:13:17.656Z"
      },
      {
        "duration": 18,
        "start_time": "2024-12-12T21:13:30.341Z"
      },
      {
        "duration": 15,
        "start_time": "2024-12-12T21:13:50.668Z"
      },
      {
        "duration": 16,
        "start_time": "2024-12-12T21:15:01.490Z"
      },
      {
        "duration": 15,
        "start_time": "2024-12-12T21:15:08.090Z"
      },
      {
        "duration": 20,
        "start_time": "2024-12-12T21:15:35.680Z"
      },
      {
        "duration": 15,
        "start_time": "2024-12-12T21:20:36.352Z"
      },
      {
        "duration": 187,
        "start_time": "2024-12-12T21:33:56.189Z"
      },
      {
        "duration": 274,
        "start_time": "2024-12-12T21:34:09.643Z"
      },
      {
        "duration": 295,
        "start_time": "2024-12-12T21:35:28.774Z"
      },
      {
        "duration": 280,
        "start_time": "2024-12-12T21:35:49.551Z"
      },
      {
        "duration": 328,
        "start_time": "2024-12-12T21:36:18.224Z"
      },
      {
        "duration": 126,
        "start_time": "2024-12-12T21:37:58.341Z"
      },
      {
        "duration": 9,
        "start_time": "2024-12-12T21:39:44.975Z"
      },
      {
        "duration": 7,
        "start_time": "2024-12-12T21:40:41.641Z"
      },
      {
        "duration": 313,
        "start_time": "2024-12-12T21:42:07.521Z"
      },
      {
        "duration": 327,
        "start_time": "2024-12-12T21:42:44.549Z"
      },
      {
        "duration": 12,
        "start_time": "2024-12-12T21:43:07.595Z"
      },
      {
        "duration": 715,
        "start_time": "2024-12-12T21:46:01.227Z"
      },
      {
        "duration": 106,
        "start_time": "2024-12-12T21:58:51.406Z"
      },
      {
        "duration": 172,
        "start_time": "2024-12-12T22:00:24.391Z"
      },
      {
        "duration": 62,
        "start_time": "2024-12-12T22:03:15.286Z"
      },
      {
        "duration": 5,
        "start_time": "2024-12-12T22:03:15.983Z"
      },
      {
        "duration": 63,
        "start_time": "2024-12-12T22:03:26.561Z"
      },
      {
        "duration": 26,
        "start_time": "2024-12-12T22:03:36.247Z"
      },
      {
        "duration": 1872,
        "start_time": "2024-12-12T22:06:21.153Z"
      },
      {
        "duration": 444,
        "start_time": "2024-12-12T22:06:42.831Z"
      },
      {
        "duration": 889,
        "start_time": "2024-12-12T22:06:43.278Z"
      },
      {
        "duration": 11,
        "start_time": "2024-12-12T22:06:44.169Z"
      },
      {
        "duration": 9,
        "start_time": "2024-12-12T22:06:44.181Z"
      },
      {
        "duration": 7,
        "start_time": "2024-12-12T22:06:44.194Z"
      },
      {
        "duration": 28,
        "start_time": "2024-12-12T22:06:44.202Z"
      },
      {
        "duration": 21,
        "start_time": "2024-12-12T22:06:44.232Z"
      },
      {
        "duration": 119,
        "start_time": "2024-12-12T22:06:44.255Z"
      },
      {
        "duration": 8,
        "start_time": "2024-12-12T22:06:44.376Z"
      },
      {
        "duration": 100,
        "start_time": "2024-12-12T22:06:44.386Z"
      },
      {
        "duration": 86,
        "start_time": "2024-12-12T22:06:44.487Z"
      },
      {
        "duration": 27,
        "start_time": "2024-12-12T22:06:44.575Z"
      },
      {
        "duration": 28,
        "start_time": "2024-12-12T22:06:44.604Z"
      },
      {
        "duration": 3,
        "start_time": "2024-12-12T22:06:44.635Z"
      },
      {
        "duration": 20,
        "start_time": "2024-12-12T22:06:44.640Z"
      },
      {
        "duration": 16,
        "start_time": "2024-12-12T22:06:44.661Z"
      },
      {
        "duration": 3,
        "start_time": "2024-12-12T22:06:44.679Z"
      },
      {
        "duration": 3,
        "start_time": "2024-12-12T22:06:44.683Z"
      },
      {
        "duration": 37,
        "start_time": "2024-12-12T22:06:44.688Z"
      },
      {
        "duration": 4,
        "start_time": "2024-12-12T22:06:44.726Z"
      },
      {
        "duration": 792,
        "start_time": "2024-12-12T22:06:44.732Z"
      },
      {
        "duration": 2,
        "start_time": "2024-12-12T22:06:45.526Z"
      },
      {
        "duration": 6,
        "start_time": "2024-12-12T22:06:45.530Z"
      },
      {
        "duration": 5,
        "start_time": "2024-12-12T22:06:45.537Z"
      },
      {
        "duration": 4,
        "start_time": "2024-12-12T22:06:45.543Z"
      },
      {
        "duration": 7,
        "start_time": "2024-12-12T22:06:45.548Z"
      },
      {
        "duration": 10,
        "start_time": "2024-12-12T22:06:45.556Z"
      },
      {
        "duration": 3,
        "start_time": "2024-12-12T22:06:45.568Z"
      },
      {
        "duration": 7,
        "start_time": "2024-12-12T22:06:45.572Z"
      },
      {
        "duration": 48,
        "start_time": "2024-12-12T22:06:45.581Z"
      },
      {
        "duration": 29,
        "start_time": "2024-12-12T22:06:45.630Z"
      },
      {
        "duration": 16,
        "start_time": "2024-12-12T22:06:45.661Z"
      },
      {
        "duration": 12,
        "start_time": "2024-12-12T22:06:45.679Z"
      },
      {
        "duration": 457,
        "start_time": "2024-12-12T22:06:45.692Z"
      },
      {
        "duration": 4,
        "start_time": "2024-12-12T22:06:46.150Z"
      },
      {
        "duration": 4,
        "start_time": "2024-12-12T22:06:46.156Z"
      },
      {
        "duration": 200,
        "start_time": "2024-12-12T22:06:46.161Z"
      },
      {
        "duration": 123,
        "start_time": "2024-12-12T22:06:46.363Z"
      },
      {
        "duration": 194,
        "start_time": "2024-12-12T22:06:46.487Z"
      },
      {
        "duration": 7,
        "start_time": "2024-12-12T22:06:46.683Z"
      },
      {
        "duration": 7,
        "start_time": "2024-12-12T22:06:46.695Z"
      },
      {
        "duration": 20,
        "start_time": "2024-12-12T22:06:46.704Z"
      },
      {
        "duration": 225,
        "start_time": "2024-12-12T22:06:46.726Z"
      },
      {
        "duration": 7,
        "start_time": "2024-12-12T22:06:46.953Z"
      },
      {
        "duration": 1041,
        "start_time": "2024-12-12T22:06:46.961Z"
      },
      {
        "duration": 115,
        "start_time": "2024-12-12T22:06:48.004Z"
      },
      {
        "duration": 3,
        "start_time": "2024-12-12T22:06:48.126Z"
      },
      {
        "duration": 1847,
        "start_time": "2024-12-12T22:06:48.132Z"
      },
      {
        "duration": 0,
        "start_time": "2024-12-12T22:06:49.981Z"
      },
      {
        "duration": 0,
        "start_time": "2024-12-12T22:06:49.982Z"
      },
      {
        "duration": 0,
        "start_time": "2024-12-12T22:06:49.983Z"
      },
      {
        "duration": 0,
        "start_time": "2024-12-12T22:06:49.984Z"
      },
      {
        "duration": 0,
        "start_time": "2024-12-12T22:06:49.985Z"
      },
      {
        "duration": 0,
        "start_time": "2024-12-12T22:06:49.986Z"
      },
      {
        "duration": 0,
        "start_time": "2024-12-12T22:06:49.987Z"
      },
      {
        "duration": 401,
        "start_time": "2024-12-12T22:07:06.390Z"
      },
      {
        "duration": 916,
        "start_time": "2024-12-12T22:07:06.792Z"
      },
      {
        "duration": 15,
        "start_time": "2024-12-12T22:07:07.710Z"
      },
      {
        "duration": 11,
        "start_time": "2024-12-12T22:07:07.728Z"
      },
      {
        "duration": 8,
        "start_time": "2024-12-12T22:07:07.742Z"
      },
      {
        "duration": 8,
        "start_time": "2024-12-12T22:07:07.752Z"
      },
      {
        "duration": 28,
        "start_time": "2024-12-12T22:07:07.761Z"
      },
      {
        "duration": 141,
        "start_time": "2024-12-12T22:07:07.791Z"
      },
      {
        "duration": 9,
        "start_time": "2024-12-12T22:07:07.934Z"
      },
      {
        "duration": 107,
        "start_time": "2024-12-12T22:07:07.946Z"
      },
      {
        "duration": 90,
        "start_time": "2024-12-12T22:07:08.054Z"
      },
      {
        "duration": 25,
        "start_time": "2024-12-12T22:07:08.146Z"
      },
      {
        "duration": 11,
        "start_time": "2024-12-12T22:07:08.173Z"
      },
      {
        "duration": 4,
        "start_time": "2024-12-12T22:07:08.187Z"
      },
      {
        "duration": 46,
        "start_time": "2024-12-12T22:07:08.193Z"
      },
      {
        "duration": 16,
        "start_time": "2024-12-12T22:07:08.242Z"
      },
      {
        "duration": 3,
        "start_time": "2024-12-12T22:07:08.260Z"
      },
      {
        "duration": 4,
        "start_time": "2024-12-12T22:07:08.264Z"
      },
      {
        "duration": 3,
        "start_time": "2024-12-12T22:07:08.270Z"
      },
      {
        "duration": 3,
        "start_time": "2024-12-12T22:07:08.275Z"
      },
      {
        "duration": 800,
        "start_time": "2024-12-12T22:07:08.280Z"
      },
      {
        "duration": 2,
        "start_time": "2024-12-12T22:07:09.082Z"
      },
      {
        "duration": 5,
        "start_time": "2024-12-12T22:07:09.086Z"
      },
      {
        "duration": 4,
        "start_time": "2024-12-12T22:07:09.093Z"
      },
      {
        "duration": 4,
        "start_time": "2024-12-12T22:07:09.098Z"
      },
      {
        "duration": 7,
        "start_time": "2024-12-12T22:07:09.124Z"
      },
      {
        "duration": 11,
        "start_time": "2024-12-12T22:07:09.132Z"
      },
      {
        "duration": 3,
        "start_time": "2024-12-12T22:07:09.147Z"
      },
      {
        "duration": 8,
        "start_time": "2024-12-12T22:07:09.152Z"
      },
      {
        "duration": 7,
        "start_time": "2024-12-12T22:07:09.161Z"
      },
      {
        "duration": 62,
        "start_time": "2024-12-12T22:07:09.170Z"
      },
      {
        "duration": 16,
        "start_time": "2024-12-12T22:07:09.233Z"
      },
      {
        "duration": 11,
        "start_time": "2024-12-12T22:07:09.252Z"
      },
      {
        "duration": 448,
        "start_time": "2024-12-12T22:07:09.265Z"
      },
      {
        "duration": 10,
        "start_time": "2024-12-12T22:07:09.715Z"
      },
      {
        "duration": 4,
        "start_time": "2024-12-12T22:07:09.726Z"
      },
      {
        "duration": 217,
        "start_time": "2024-12-12T22:07:09.732Z"
      },
      {
        "duration": 116,
        "start_time": "2024-12-12T22:07:09.950Z"
      },
      {
        "duration": 199,
        "start_time": "2024-12-12T22:07:10.068Z"
      },
      {
        "duration": 7,
        "start_time": "2024-12-12T22:07:10.269Z"
      },
      {
        "duration": 7,
        "start_time": "2024-12-12T22:07:10.278Z"
      },
      {
        "duration": 3,
        "start_time": "2024-12-12T22:07:10.287Z"
      },
      {
        "duration": 245,
        "start_time": "2024-12-12T22:07:10.292Z"
      },
      {
        "duration": 7,
        "start_time": "2024-12-12T22:07:10.539Z"
      },
      {
        "duration": 991,
        "start_time": "2024-12-12T22:07:10.547Z"
      },
      {
        "duration": 107,
        "start_time": "2024-12-12T22:07:11.540Z"
      },
      {
        "duration": 4,
        "start_time": "2024-12-12T22:07:11.649Z"
      },
      {
        "duration": 1845,
        "start_time": "2024-12-12T22:07:11.655Z"
      },
      {
        "duration": 0,
        "start_time": "2024-12-12T22:07:13.502Z"
      },
      {
        "duration": 0,
        "start_time": "2024-12-12T22:07:13.504Z"
      },
      {
        "duration": 0,
        "start_time": "2024-12-12T22:07:13.505Z"
      },
      {
        "duration": 0,
        "start_time": "2024-12-12T22:07:13.506Z"
      },
      {
        "duration": 0,
        "start_time": "2024-12-12T22:07:13.524Z"
      },
      {
        "duration": 1,
        "start_time": "2024-12-12T22:07:13.525Z"
      },
      {
        "duration": 0,
        "start_time": "2024-12-12T22:07:13.527Z"
      },
      {
        "duration": 18,
        "start_time": "2024-12-12T22:07:38.233Z"
      },
      {
        "duration": 93,
        "start_time": "2024-12-12T22:07:47.168Z"
      },
      {
        "duration": 3,
        "start_time": "2024-12-12T22:07:47.855Z"
      },
      {
        "duration": 1803,
        "start_time": "2024-12-12T22:07:48.526Z"
      },
      {
        "duration": 101,
        "start_time": "2024-12-12T22:08:31.962Z"
      },
      {
        "duration": 2,
        "start_time": "2024-12-12T22:08:33.455Z"
      },
      {
        "duration": 1726,
        "start_time": "2024-12-12T22:08:35.242Z"
      },
      {
        "duration": 19,
        "start_time": "2024-12-12T22:09:49.649Z"
      },
      {
        "duration": 403,
        "start_time": "2024-12-12T22:10:00.307Z"
      },
      {
        "duration": 920,
        "start_time": "2024-12-12T22:10:00.713Z"
      },
      {
        "duration": 11,
        "start_time": "2024-12-12T22:10:01.634Z"
      },
      {
        "duration": 9,
        "start_time": "2024-12-12T22:10:01.648Z"
      },
      {
        "duration": 8,
        "start_time": "2024-12-12T22:10:01.659Z"
      },
      {
        "duration": 7,
        "start_time": "2024-12-12T22:10:01.669Z"
      },
      {
        "duration": 58,
        "start_time": "2024-12-12T22:10:01.678Z"
      },
      {
        "duration": 112,
        "start_time": "2024-12-12T22:10:01.738Z"
      },
      {
        "duration": 8,
        "start_time": "2024-12-12T22:10:01.852Z"
      },
      {
        "duration": 106,
        "start_time": "2024-12-12T22:10:01.864Z"
      },
      {
        "duration": 92,
        "start_time": "2024-12-12T22:10:01.972Z"
      },
      {
        "duration": 28,
        "start_time": "2024-12-12T22:10:02.066Z"
      },
      {
        "duration": 11,
        "start_time": "2024-12-12T22:10:02.096Z"
      },
      {
        "duration": 4,
        "start_time": "2024-12-12T22:10:02.123Z"
      },
      {
        "duration": 20,
        "start_time": "2024-12-12T22:10:02.128Z"
      },
      {
        "duration": 16,
        "start_time": "2024-12-12T22:10:02.149Z"
      },
      {
        "duration": 3,
        "start_time": "2024-12-12T22:10:02.166Z"
      },
      {
        "duration": 3,
        "start_time": "2024-12-12T22:10:02.171Z"
      },
      {
        "duration": 4,
        "start_time": "2024-12-12T22:10:02.176Z"
      },
      {
        "duration": 2,
        "start_time": "2024-12-12T22:10:02.183Z"
      },
      {
        "duration": 810,
        "start_time": "2024-12-12T22:10:02.187Z"
      },
      {
        "duration": 2,
        "start_time": "2024-12-12T22:10:02.999Z"
      },
      {
        "duration": 6,
        "start_time": "2024-12-12T22:10:03.003Z"
      },
      {
        "duration": 14,
        "start_time": "2024-12-12T22:10:03.010Z"
      },
      {
        "duration": 5,
        "start_time": "2024-12-12T22:10:03.025Z"
      },
      {
        "duration": 6,
        "start_time": "2024-12-12T22:10:03.032Z"
      },
      {
        "duration": 11,
        "start_time": "2024-12-12T22:10:03.040Z"
      },
      {
        "duration": 3,
        "start_time": "2024-12-12T22:10:03.056Z"
      },
      {
        "duration": 7,
        "start_time": "2024-12-12T22:10:03.061Z"
      },
      {
        "duration": 7,
        "start_time": "2024-12-12T22:10:03.070Z"
      },
      {
        "duration": 71,
        "start_time": "2024-12-12T22:10:03.079Z"
      },
      {
        "duration": 17,
        "start_time": "2024-12-12T22:10:03.152Z"
      },
      {
        "duration": 11,
        "start_time": "2024-12-12T22:10:03.171Z"
      },
      {
        "duration": 466,
        "start_time": "2024-12-12T22:10:03.184Z"
      },
      {
        "duration": 3,
        "start_time": "2024-12-12T22:10:03.652Z"
      },
      {
        "duration": 4,
        "start_time": "2024-12-12T22:10:03.657Z"
      },
      {
        "duration": 216,
        "start_time": "2024-12-12T22:10:03.662Z"
      },
      {
        "duration": 122,
        "start_time": "2024-12-12T22:10:03.880Z"
      },
      {
        "duration": 199,
        "start_time": "2024-12-12T22:10:04.004Z"
      },
      {
        "duration": 7,
        "start_time": "2024-12-12T22:10:04.205Z"
      },
      {
        "duration": 16,
        "start_time": "2024-12-12T22:10:04.213Z"
      },
      {
        "duration": 4,
        "start_time": "2024-12-12T22:10:04.231Z"
      },
      {
        "duration": 230,
        "start_time": "2024-12-12T22:10:04.237Z"
      },
      {
        "duration": 8,
        "start_time": "2024-12-12T22:10:04.469Z"
      },
      {
        "duration": 1007,
        "start_time": "2024-12-12T22:10:04.478Z"
      },
      {
        "duration": 111,
        "start_time": "2024-12-12T22:10:05.487Z"
      },
      {
        "duration": 3,
        "start_time": "2024-12-12T22:10:05.600Z"
      },
      {
        "duration": 1832,
        "start_time": "2024-12-12T22:10:05.605Z"
      },
      {
        "duration": 0,
        "start_time": "2024-12-12T22:10:07.438Z"
      },
      {
        "duration": 0,
        "start_time": "2024-12-12T22:10:07.440Z"
      },
      {
        "duration": 0,
        "start_time": "2024-12-12T22:10:07.441Z"
      },
      {
        "duration": 0,
        "start_time": "2024-12-12T22:10:07.442Z"
      },
      {
        "duration": 0,
        "start_time": "2024-12-12T22:10:07.443Z"
      },
      {
        "duration": 0,
        "start_time": "2024-12-12T22:10:07.444Z"
      },
      {
        "duration": 0,
        "start_time": "2024-12-12T22:10:07.445Z"
      },
      {
        "duration": 22,
        "start_time": "2024-12-12T22:11:13.555Z"
      },
      {
        "duration": 443,
        "start_time": "2024-12-12T22:12:11.247Z"
      },
      {
        "duration": 907,
        "start_time": "2024-12-12T22:12:11.693Z"
      },
      {
        "duration": 11,
        "start_time": "2024-12-12T22:12:12.602Z"
      },
      {
        "duration": 18,
        "start_time": "2024-12-12T22:12:12.614Z"
      },
      {
        "duration": 7,
        "start_time": "2024-12-12T22:12:12.635Z"
      },
      {
        "duration": 7,
        "start_time": "2024-12-12T22:12:12.644Z"
      },
      {
        "duration": 23,
        "start_time": "2024-12-12T22:12:12.652Z"
      },
      {
        "duration": 138,
        "start_time": "2024-12-12T22:12:12.677Z"
      },
      {
        "duration": 13,
        "start_time": "2024-12-12T22:12:12.817Z"
      },
      {
        "duration": 111,
        "start_time": "2024-12-12T22:12:12.832Z"
      },
      {
        "duration": 90,
        "start_time": "2024-12-12T22:12:12.944Z"
      },
      {
        "duration": 27,
        "start_time": "2024-12-12T22:12:13.036Z"
      },
      {
        "duration": 12,
        "start_time": "2024-12-12T22:12:13.064Z"
      },
      {
        "duration": 3,
        "start_time": "2024-12-12T22:12:13.080Z"
      },
      {
        "duration": 44,
        "start_time": "2024-12-12T22:12:13.084Z"
      },
      {
        "duration": 17,
        "start_time": "2024-12-12T22:12:13.130Z"
      },
      {
        "duration": 5,
        "start_time": "2024-12-12T22:12:13.150Z"
      },
      {
        "duration": 4,
        "start_time": "2024-12-12T22:12:13.159Z"
      },
      {
        "duration": 4,
        "start_time": "2024-12-12T22:12:13.165Z"
      },
      {
        "duration": 3,
        "start_time": "2024-12-12T22:12:13.171Z"
      },
      {
        "duration": 829,
        "start_time": "2024-12-12T22:12:13.176Z"
      },
      {
        "duration": 3,
        "start_time": "2024-12-12T22:12:14.006Z"
      },
      {
        "duration": 4,
        "start_time": "2024-12-12T22:12:14.024Z"
      },
      {
        "duration": 4,
        "start_time": "2024-12-12T22:12:14.030Z"
      },
      {
        "duration": 4,
        "start_time": "2024-12-12T22:12:14.035Z"
      },
      {
        "duration": 7,
        "start_time": "2024-12-12T22:12:14.041Z"
      },
      {
        "duration": 11,
        "start_time": "2024-12-12T22:12:14.049Z"
      },
      {
        "duration": 4,
        "start_time": "2024-12-12T22:12:14.061Z"
      },
      {
        "duration": 7,
        "start_time": "2024-12-12T22:12:14.066Z"
      },
      {
        "duration": 49,
        "start_time": "2024-12-12T22:12:14.075Z"
      },
      {
        "duration": 32,
        "start_time": "2024-12-12T22:12:14.126Z"
      },
      {
        "duration": 17,
        "start_time": "2024-12-12T22:12:14.159Z"
      },
      {
        "duration": 11,
        "start_time": "2024-12-12T22:12:14.178Z"
      },
      {
        "duration": 475,
        "start_time": "2024-12-12T22:12:14.191Z"
      },
      {
        "duration": 4,
        "start_time": "2024-12-12T22:12:14.668Z"
      },
      {
        "duration": 4,
        "start_time": "2024-12-12T22:12:14.673Z"
      },
      {
        "duration": 200,
        "start_time": "2024-12-12T22:12:14.678Z"
      },
      {
        "duration": 119,
        "start_time": "2024-12-12T22:12:14.880Z"
      },
      {
        "duration": 199,
        "start_time": "2024-12-12T22:12:15.001Z"
      },
      {
        "duration": 7,
        "start_time": "2024-12-12T22:12:15.202Z"
      },
      {
        "duration": 7,
        "start_time": "2024-12-12T22:12:15.226Z"
      },
      {
        "duration": 3,
        "start_time": "2024-12-12T22:12:15.235Z"
      },
      {
        "duration": 233,
        "start_time": "2024-12-12T22:12:15.240Z"
      },
      {
        "duration": 7,
        "start_time": "2024-12-12T22:12:15.475Z"
      },
      {
        "duration": 985,
        "start_time": "2024-12-12T22:12:15.484Z"
      },
      {
        "duration": 124,
        "start_time": "2024-12-12T22:12:16.471Z"
      },
      {
        "duration": 2,
        "start_time": "2024-12-12T22:12:16.597Z"
      },
      {
        "duration": 1878,
        "start_time": "2024-12-12T22:12:16.601Z"
      },
      {
        "duration": 0,
        "start_time": "2024-12-12T22:12:18.481Z"
      },
      {
        "duration": 0,
        "start_time": "2024-12-12T22:12:18.482Z"
      },
      {
        "duration": 0,
        "start_time": "2024-12-12T22:12:18.483Z"
      },
      {
        "duration": 0,
        "start_time": "2024-12-12T22:12:18.484Z"
      },
      {
        "duration": 0,
        "start_time": "2024-12-12T22:12:18.485Z"
      },
      {
        "duration": 0,
        "start_time": "2024-12-12T22:12:18.486Z"
      },
      {
        "duration": 9,
        "start_time": "2024-12-12T22:13:06.562Z"
      },
      {
        "duration": 111,
        "start_time": "2024-12-12T22:13:36.989Z"
      },
      {
        "duration": 1850,
        "start_time": "2024-12-12T22:13:56.615Z"
      },
      {
        "duration": 17,
        "start_time": "2024-12-12T22:14:51.910Z"
      },
      {
        "duration": 21,
        "start_time": "2024-12-12T22:17:06.926Z"
      },
      {
        "duration": 874,
        "start_time": "2024-12-12T22:17:57.031Z"
      },
      {
        "duration": 16,
        "start_time": "2024-12-12T22:18:17.992Z"
      },
      {
        "duration": 5,
        "start_time": "2024-12-12T22:19:42.501Z"
      },
      {
        "duration": 4,
        "start_time": "2024-12-12T22:19:55.793Z"
      },
      {
        "duration": 22,
        "start_time": "2024-12-12T22:20:16.564Z"
      },
      {
        "duration": 21,
        "start_time": "2024-12-12T22:20:47.418Z"
      },
      {
        "duration": 43,
        "start_time": "2024-12-12T22:21:19.266Z"
      },
      {
        "duration": 21,
        "start_time": "2024-12-12T22:21:25.259Z"
      },
      {
        "duration": 4,
        "start_time": "2024-12-12T22:22:17.284Z"
      },
      {
        "duration": 15,
        "start_time": "2024-12-12T22:22:30.924Z"
      },
      {
        "duration": 42,
        "start_time": "2024-12-12T22:23:14.195Z"
      },
      {
        "duration": 16,
        "start_time": "2024-12-12T22:23:45.055Z"
      },
      {
        "duration": 44,
        "start_time": "2024-12-12T22:23:57.141Z"
      },
      {
        "duration": 53,
        "start_time": "2024-12-12T22:24:15.184Z"
      },
      {
        "duration": 16,
        "start_time": "2024-12-12T22:24:46.643Z"
      },
      {
        "duration": 37,
        "start_time": "2024-12-12T22:26:00.746Z"
      },
      {
        "duration": 426,
        "start_time": "2024-12-12T22:26:18.420Z"
      },
      {
        "duration": 920,
        "start_time": "2024-12-12T22:26:18.848Z"
      },
      {
        "duration": 12,
        "start_time": "2024-12-12T22:26:19.770Z"
      },
      {
        "duration": 9,
        "start_time": "2024-12-12T22:26:19.784Z"
      },
      {
        "duration": 8,
        "start_time": "2024-12-12T22:26:19.794Z"
      },
      {
        "duration": 28,
        "start_time": "2024-12-12T22:26:19.803Z"
      },
      {
        "duration": 23,
        "start_time": "2024-12-12T22:26:19.832Z"
      },
      {
        "duration": 121,
        "start_time": "2024-12-12T22:26:19.856Z"
      },
      {
        "duration": 8,
        "start_time": "2024-12-12T22:26:19.979Z"
      },
      {
        "duration": 103,
        "start_time": "2024-12-12T22:26:19.990Z"
      },
      {
        "duration": 94,
        "start_time": "2024-12-12T22:26:20.095Z"
      },
      {
        "duration": 36,
        "start_time": "2024-12-12T22:26:20.191Z"
      },
      {
        "duration": 12,
        "start_time": "2024-12-12T22:26:20.229Z"
      },
      {
        "duration": 4,
        "start_time": "2024-12-12T22:26:20.242Z"
      },
      {
        "duration": 19,
        "start_time": "2024-12-12T22:26:20.247Z"
      },
      {
        "duration": 15,
        "start_time": "2024-12-12T22:26:20.268Z"
      },
      {
        "duration": 3,
        "start_time": "2024-12-12T22:26:20.285Z"
      },
      {
        "duration": 35,
        "start_time": "2024-12-12T22:26:20.290Z"
      },
      {
        "duration": 3,
        "start_time": "2024-12-12T22:26:20.326Z"
      },
      {
        "duration": 4,
        "start_time": "2024-12-12T22:26:20.331Z"
      },
      {
        "duration": 777,
        "start_time": "2024-12-12T22:26:20.336Z"
      },
      {
        "duration": 10,
        "start_time": "2024-12-12T22:26:21.115Z"
      },
      {
        "duration": 6,
        "start_time": "2024-12-12T22:26:21.127Z"
      },
      {
        "duration": 4,
        "start_time": "2024-12-12T22:26:21.134Z"
      },
      {
        "duration": 4,
        "start_time": "2024-12-12T22:26:21.139Z"
      },
      {
        "duration": 6,
        "start_time": "2024-12-12T22:26:21.145Z"
      },
      {
        "duration": 10,
        "start_time": "2024-12-12T22:26:21.152Z"
      },
      {
        "duration": 3,
        "start_time": "2024-12-12T22:26:21.167Z"
      },
      {
        "duration": 11,
        "start_time": "2024-12-12T22:26:21.172Z"
      },
      {
        "duration": 42,
        "start_time": "2024-12-12T22:26:21.185Z"
      },
      {
        "duration": 30,
        "start_time": "2024-12-12T22:26:21.229Z"
      },
      {
        "duration": 17,
        "start_time": "2024-12-12T22:26:21.261Z"
      },
      {
        "duration": 11,
        "start_time": "2024-12-12T22:26:21.279Z"
      },
      {
        "duration": 479,
        "start_time": "2024-12-12T22:26:21.292Z"
      },
      {
        "duration": 4,
        "start_time": "2024-12-12T22:26:21.772Z"
      },
      {
        "duration": 3,
        "start_time": "2024-12-12T22:26:21.778Z"
      },
      {
        "duration": 227,
        "start_time": "2024-12-12T22:26:21.784Z"
      },
      {
        "duration": 121,
        "start_time": "2024-12-12T22:26:22.013Z"
      },
      {
        "duration": 209,
        "start_time": "2024-12-12T22:26:22.136Z"
      },
      {
        "duration": 7,
        "start_time": "2024-12-12T22:26:22.346Z"
      },
      {
        "duration": 7,
        "start_time": "2024-12-12T22:26:22.355Z"
      },
      {
        "duration": 11,
        "start_time": "2024-12-12T22:26:22.364Z"
      },
      {
        "duration": 231,
        "start_time": "2024-12-12T22:26:22.377Z"
      },
      {
        "duration": 16,
        "start_time": "2024-12-12T22:26:22.610Z"
      },
      {
        "duration": 1008,
        "start_time": "2024-12-12T22:26:22.628Z"
      },
      {
        "duration": 108,
        "start_time": "2024-12-12T22:26:23.638Z"
      },
      {
        "duration": 3,
        "start_time": "2024-12-12T22:26:23.748Z"
      },
      {
        "duration": 1827,
        "start_time": "2024-12-12T22:26:23.753Z"
      },
      {
        "duration": 312,
        "start_time": "2024-12-12T22:26:25.582Z"
      },
      {
        "duration": 12,
        "start_time": "2024-12-12T22:26:25.896Z"
      },
      {
        "duration": 703,
        "start_time": "2024-12-12T22:26:25.910Z"
      },
      {
        "duration": 121,
        "start_time": "2024-12-12T22:26:26.615Z"
      },
      {
        "duration": 67,
        "start_time": "2024-12-12T22:26:26.737Z"
      },
      {
        "duration": 48,
        "start_time": "2024-12-12T22:26:26.806Z"
      },
      {
        "duration": 1857,
        "start_time": "2024-12-12T22:26:26.856Z"
      },
      {
        "duration": 81,
        "start_time": "2024-12-12T22:32:14.690Z"
      },
      {
        "duration": 37,
        "start_time": "2024-12-12T22:32:20.509Z"
      },
      {
        "duration": 1629,
        "start_time": "2024-12-12T22:32:28.098Z"
      },
      {
        "duration": 7,
        "start_time": "2024-12-12T22:42:12.624Z"
      },
      {
        "duration": 6,
        "start_time": "2024-12-12T22:42:20.449Z"
      },
      {
        "duration": 99,
        "start_time": "2024-12-12T22:44:54.037Z"
      },
      {
        "duration": 127,
        "start_time": "2024-12-12T22:46:21.935Z"
      },
      {
        "duration": 70,
        "start_time": "2024-12-12T22:48:12.300Z"
      },
      {
        "duration": 66,
        "start_time": "2024-12-12T22:48:20.317Z"
      },
      {
        "duration": 64,
        "start_time": "2024-12-12T22:48:41.977Z"
      },
      {
        "duration": 96,
        "start_time": "2024-12-12T22:49:00.982Z"
      },
      {
        "duration": 109,
        "start_time": "2024-12-12T22:49:11.591Z"
      },
      {
        "duration": 10,
        "start_time": "2024-12-12T22:50:07.128Z"
      },
      {
        "duration": 13,
        "start_time": "2024-12-12T22:52:28.483Z"
      },
      {
        "duration": 13,
        "start_time": "2024-12-12T22:52:39.094Z"
      },
      {
        "duration": 14,
        "start_time": "2024-12-12T22:53:11.662Z"
      },
      {
        "duration": 13,
        "start_time": "2024-12-12T22:53:40.533Z"
      },
      {
        "duration": 13,
        "start_time": "2024-12-12T22:53:58.900Z"
      },
      {
        "duration": 12,
        "start_time": "2024-12-12T22:55:30.579Z"
      },
      {
        "duration": 196,
        "start_time": "2024-12-12T22:58:12.900Z"
      },
      {
        "duration": 120,
        "start_time": "2024-12-12T22:58:28.262Z"
      },
      {
        "duration": 142,
        "start_time": "2024-12-12T22:58:43.279Z"
      },
      {
        "duration": 461,
        "start_time": "2024-12-12T23:07:01.038Z"
      },
      {
        "duration": 910,
        "start_time": "2024-12-12T23:07:01.501Z"
      },
      {
        "duration": 13,
        "start_time": "2024-12-12T23:07:02.412Z"
      },
      {
        "duration": 10,
        "start_time": "2024-12-12T23:07:02.427Z"
      },
      {
        "duration": 7,
        "start_time": "2024-12-12T23:07:02.438Z"
      },
      {
        "duration": 7,
        "start_time": "2024-12-12T23:07:02.447Z"
      },
      {
        "duration": 23,
        "start_time": "2024-12-12T23:07:02.455Z"
      },
      {
        "duration": 139,
        "start_time": "2024-12-12T23:07:02.480Z"
      },
      {
        "duration": 8,
        "start_time": "2024-12-12T23:07:02.621Z"
      },
      {
        "duration": 105,
        "start_time": "2024-12-12T23:07:02.632Z"
      },
      {
        "duration": 90,
        "start_time": "2024-12-12T23:07:02.739Z"
      },
      {
        "duration": 28,
        "start_time": "2024-12-12T23:07:02.830Z"
      },
      {
        "duration": 12,
        "start_time": "2024-12-12T23:07:02.860Z"
      },
      {
        "duration": 3,
        "start_time": "2024-12-12T23:07:02.873Z"
      },
      {
        "duration": 47,
        "start_time": "2024-12-12T23:07:02.878Z"
      },
      {
        "duration": 16,
        "start_time": "2024-12-12T23:07:02.926Z"
      },
      {
        "duration": 4,
        "start_time": "2024-12-12T23:07:02.944Z"
      },
      {
        "duration": 4,
        "start_time": "2024-12-12T23:07:02.949Z"
      },
      {
        "duration": 4,
        "start_time": "2024-12-12T23:07:02.954Z"
      },
      {
        "duration": 3,
        "start_time": "2024-12-12T23:07:02.960Z"
      },
      {
        "duration": 836,
        "start_time": "2024-12-12T23:07:02.964Z"
      },
      {
        "duration": 2,
        "start_time": "2024-12-12T23:07:03.802Z"
      },
      {
        "duration": 20,
        "start_time": "2024-12-12T23:07:03.807Z"
      },
      {
        "duration": 4,
        "start_time": "2024-12-12T23:07:03.829Z"
      },
      {
        "duration": 4,
        "start_time": "2024-12-12T23:07:03.835Z"
      },
      {
        "duration": 6,
        "start_time": "2024-12-12T23:07:03.841Z"
      },
      {
        "duration": 16,
        "start_time": "2024-12-12T23:07:03.849Z"
      },
      {
        "duration": 6,
        "start_time": "2024-12-12T23:07:03.871Z"
      },
      {
        "duration": 8,
        "start_time": "2024-12-12T23:07:03.878Z"
      },
      {
        "duration": 40,
        "start_time": "2024-12-12T23:07:03.887Z"
      },
      {
        "duration": 30,
        "start_time": "2024-12-12T23:07:03.928Z"
      },
      {
        "duration": 16,
        "start_time": "2024-12-12T23:07:03.960Z"
      },
      {
        "duration": 11,
        "start_time": "2024-12-12T23:07:03.978Z"
      },
      {
        "duration": 492,
        "start_time": "2024-12-12T23:07:03.991Z"
      },
      {
        "duration": 5,
        "start_time": "2024-12-12T23:07:04.485Z"
      },
      {
        "duration": 3,
        "start_time": "2024-12-12T23:07:04.493Z"
      },
      {
        "duration": 196,
        "start_time": "2024-12-12T23:07:04.497Z"
      },
      {
        "duration": 123,
        "start_time": "2024-12-12T23:07:04.695Z"
      },
      {
        "duration": 197,
        "start_time": "2024-12-12T23:07:04.819Z"
      },
      {
        "duration": 7,
        "start_time": "2024-12-12T23:07:05.019Z"
      },
      {
        "duration": 8,
        "start_time": "2024-12-12T23:07:05.027Z"
      },
      {
        "duration": 3,
        "start_time": "2024-12-12T23:07:05.037Z"
      },
      {
        "duration": 233,
        "start_time": "2024-12-12T23:07:05.042Z"
      },
      {
        "duration": 7,
        "start_time": "2024-12-12T23:07:05.277Z"
      },
      {
        "duration": 987,
        "start_time": "2024-12-12T23:07:05.286Z"
      },
      {
        "duration": 112,
        "start_time": "2024-12-12T23:07:06.275Z"
      },
      {
        "duration": 3,
        "start_time": "2024-12-12T23:07:06.389Z"
      },
      {
        "duration": 1814,
        "start_time": "2024-12-12T23:07:06.393Z"
      },
      {
        "duration": 315,
        "start_time": "2024-12-12T23:07:08.209Z"
      },
      {
        "duration": 10,
        "start_time": "2024-12-12T23:07:08.526Z"
      },
      {
        "duration": 710,
        "start_time": "2024-12-12T23:07:08.538Z"
      },
      {
        "duration": 124,
        "start_time": "2024-12-12T23:07:09.250Z"
      },
      {
        "duration": 77,
        "start_time": "2024-12-12T23:07:09.376Z"
      },
      {
        "duration": 33,
        "start_time": "2024-12-12T23:07:09.455Z"
      },
      {
        "duration": 1741,
        "start_time": "2024-12-12T23:07:09.490Z"
      },
      {
        "duration": 115,
        "start_time": "2024-12-12T23:07:11.233Z"
      },
      {
        "duration": 136,
        "start_time": "2024-12-12T23:07:11.350Z"
      },
      {
        "duration": 145,
        "start_time": "2024-12-12T23:07:11.488Z"
      },
      {
        "duration": 222,
        "start_time": "2024-12-12T23:16:16.673Z"
      },
      {
        "duration": 11,
        "start_time": "2024-12-12T23:16:23.259Z"
      },
      {
        "duration": 7,
        "start_time": "2024-12-12T23:17:41.696Z"
      },
      {
        "duration": 538,
        "start_time": "2024-12-12T23:21:41.057Z"
      },
      {
        "duration": 289,
        "start_time": "2024-12-12T23:22:05.451Z"
      },
      {
        "duration": 176,
        "start_time": "2024-12-12T23:22:33.719Z"
      },
      {
        "duration": 537,
        "start_time": "2024-12-12T23:22:59.488Z"
      },
      {
        "duration": 170,
        "start_time": "2024-12-12T23:23:20.458Z"
      },
      {
        "duration": 47,
        "start_time": "2024-12-12T23:23:53.132Z"
      },
      {
        "duration": 335,
        "start_time": "2024-12-12T23:25:20.753Z"
      },
      {
        "duration": 274,
        "start_time": "2024-12-12T23:26:24.334Z"
      },
      {
        "duration": 67,
        "start_time": "2024-12-12T23:43:21.715Z"
      },
      {
        "duration": 87,
        "start_time": "2024-12-12T23:44:42.411Z"
      },
      {
        "duration": 170,
        "start_time": "2024-12-12T23:46:53.182Z"
      },
      {
        "duration": 362,
        "start_time": "2024-12-12T23:47:58.373Z"
      },
      {
        "duration": 289,
        "start_time": "2024-12-12T23:49:57.967Z"
      },
      {
        "duration": 287,
        "start_time": "2024-12-12T23:50:12.777Z"
      },
      {
        "duration": 294,
        "start_time": "2024-12-12T23:51:03.164Z"
      },
      {
        "duration": 278,
        "start_time": "2024-12-12T23:51:43.307Z"
      },
      {
        "duration": 305,
        "start_time": "2024-12-12T23:51:55.119Z"
      },
      {
        "duration": 288,
        "start_time": "2024-12-12T23:52:07.045Z"
      },
      {
        "duration": 298,
        "start_time": "2024-12-12T23:55:41.072Z"
      },
      {
        "duration": 288,
        "start_time": "2024-12-12T23:56:03.062Z"
      },
      {
        "duration": 90,
        "start_time": "2024-12-12T23:59:02.484Z"
      },
      {
        "duration": 301,
        "start_time": "2024-12-12T23:59:58.129Z"
      },
      {
        "duration": 276,
        "start_time": "2024-12-13T00:00:18.868Z"
      },
      {
        "duration": 162,
        "start_time": "2024-12-13T00:36:30.955Z"
      },
      {
        "duration": 2414,
        "start_time": "2024-12-13T00:36:40.106Z"
      },
      {
        "duration": 1096,
        "start_time": "2024-12-13T00:36:42.523Z"
      },
      {
        "duration": 12,
        "start_time": "2024-12-13T00:36:43.621Z"
      },
      {
        "duration": 10,
        "start_time": "2024-12-13T00:36:43.636Z"
      },
      {
        "duration": 8,
        "start_time": "2024-12-13T00:36:43.649Z"
      },
      {
        "duration": 8,
        "start_time": "2024-12-13T00:36:43.658Z"
      },
      {
        "duration": 50,
        "start_time": "2024-12-13T00:36:43.668Z"
      },
      {
        "duration": 109,
        "start_time": "2024-12-13T00:36:43.720Z"
      },
      {
        "duration": 10,
        "start_time": "2024-12-13T00:36:43.831Z"
      },
      {
        "duration": 116,
        "start_time": "2024-12-13T00:36:43.843Z"
      },
      {
        "duration": 90,
        "start_time": "2024-12-13T00:36:43.960Z"
      },
      {
        "duration": 28,
        "start_time": "2024-12-13T00:36:44.052Z"
      },
      {
        "duration": 27,
        "start_time": "2024-12-13T00:36:44.082Z"
      },
      {
        "duration": 3,
        "start_time": "2024-12-13T00:36:44.114Z"
      },
      {
        "duration": 20,
        "start_time": "2024-12-13T00:36:44.119Z"
      },
      {
        "duration": 15,
        "start_time": "2024-12-13T00:36:44.141Z"
      },
      {
        "duration": 3,
        "start_time": "2024-12-13T00:36:44.158Z"
      },
      {
        "duration": 4,
        "start_time": "2024-12-13T00:36:44.163Z"
      },
      {
        "duration": 3,
        "start_time": "2024-12-13T00:36:44.169Z"
      },
      {
        "duration": 37,
        "start_time": "2024-12-13T00:36:44.174Z"
      },
      {
        "duration": 829,
        "start_time": "2024-12-13T00:36:44.212Z"
      },
      {
        "duration": 3,
        "start_time": "2024-12-13T00:36:45.043Z"
      },
      {
        "duration": 5,
        "start_time": "2024-12-13T00:36:45.048Z"
      },
      {
        "duration": 5,
        "start_time": "2024-12-13T00:36:45.055Z"
      },
      {
        "duration": 5,
        "start_time": "2024-12-13T00:36:45.061Z"
      },
      {
        "duration": 6,
        "start_time": "2024-12-13T00:36:45.068Z"
      },
      {
        "duration": 13,
        "start_time": "2024-12-13T00:36:45.109Z"
      },
      {
        "duration": 4,
        "start_time": "2024-12-13T00:36:45.124Z"
      },
      {
        "duration": 7,
        "start_time": "2024-12-13T00:36:45.130Z"
      },
      {
        "duration": 7,
        "start_time": "2024-12-13T00:36:45.139Z"
      },
      {
        "duration": 63,
        "start_time": "2024-12-13T00:36:45.147Z"
      },
      {
        "duration": 16,
        "start_time": "2024-12-13T00:36:45.212Z"
      },
      {
        "duration": 12,
        "start_time": "2024-12-13T00:36:45.230Z"
      },
      {
        "duration": 456,
        "start_time": "2024-12-13T00:36:45.245Z"
      },
      {
        "duration": 9,
        "start_time": "2024-12-13T00:36:45.703Z"
      },
      {
        "duration": 4,
        "start_time": "2024-12-13T00:36:45.714Z"
      },
      {
        "duration": 215,
        "start_time": "2024-12-13T00:36:45.720Z"
      },
      {
        "duration": 134,
        "start_time": "2024-12-13T00:36:45.937Z"
      },
      {
        "duration": 203,
        "start_time": "2024-12-13T00:36:46.074Z"
      },
      {
        "duration": 7,
        "start_time": "2024-12-13T00:36:46.279Z"
      },
      {
        "duration": 21,
        "start_time": "2024-12-13T00:36:46.291Z"
      },
      {
        "duration": 4,
        "start_time": "2024-12-13T00:36:46.313Z"
      },
      {
        "duration": 306,
        "start_time": "2024-12-13T00:36:46.318Z"
      },
      {
        "duration": 7,
        "start_time": "2024-12-13T00:36:46.626Z"
      },
      {
        "duration": 1067,
        "start_time": "2024-12-13T00:36:46.634Z"
      },
      {
        "duration": 113,
        "start_time": "2024-12-13T00:36:47.703Z"
      },
      {
        "duration": 4,
        "start_time": "2024-12-13T00:36:47.820Z"
      },
      {
        "duration": 2060,
        "start_time": "2024-12-13T00:36:47.826Z"
      },
      {
        "duration": 352,
        "start_time": "2024-12-13T00:36:49.888Z"
      },
      {
        "duration": 8,
        "start_time": "2024-12-13T00:36:50.242Z"
      },
      {
        "duration": 716,
        "start_time": "2024-12-13T00:36:50.252Z"
      },
      {
        "duration": 126,
        "start_time": "2024-12-13T00:36:50.970Z"
      },
      {
        "duration": 69,
        "start_time": "2024-12-13T00:36:51.098Z"
      },
      {
        "duration": 41,
        "start_time": "2024-12-13T00:36:51.169Z"
      },
      {
        "duration": 2066,
        "start_time": "2024-12-13T00:36:51.212Z"
      },
      {
        "duration": 108,
        "start_time": "2024-12-13T00:36:53.280Z"
      },
      {
        "duration": 157,
        "start_time": "2024-12-13T00:36:53.390Z"
      },
      {
        "duration": 207,
        "start_time": "2024-12-13T00:36:53.548Z"
      },
      {
        "duration": 235,
        "start_time": "2024-12-13T00:37:34.441Z"
      },
      {
        "duration": 224,
        "start_time": "2024-12-13T00:37:50.819Z"
      },
      {
        "duration": 221,
        "start_time": "2024-12-13T00:38:02.857Z"
      },
      {
        "duration": 214,
        "start_time": "2024-12-13T00:38:15.087Z"
      },
      {
        "duration": 419,
        "start_time": "2024-12-13T00:44:29.639Z"
      },
      {
        "duration": 489,
        "start_time": "2024-12-13T00:47:25.456Z"
      },
      {
        "duration": 965,
        "start_time": "2024-12-13T00:47:25.948Z"
      },
      {
        "duration": 12,
        "start_time": "2024-12-13T00:47:26.915Z"
      },
      {
        "duration": 10,
        "start_time": "2024-12-13T00:47:26.930Z"
      },
      {
        "duration": 8,
        "start_time": "2024-12-13T00:47:26.942Z"
      },
      {
        "duration": 8,
        "start_time": "2024-12-13T00:47:26.952Z"
      },
      {
        "duration": 57,
        "start_time": "2024-12-13T00:47:26.962Z"
      },
      {
        "duration": 126,
        "start_time": "2024-12-13T00:47:27.021Z"
      },
      {
        "duration": 9,
        "start_time": "2024-12-13T00:47:27.149Z"
      },
      {
        "duration": 133,
        "start_time": "2024-12-13T00:47:27.161Z"
      },
      {
        "duration": 125,
        "start_time": "2024-12-13T00:47:27.297Z"
      },
      {
        "duration": 33,
        "start_time": "2024-12-13T00:47:27.424Z"
      },
      {
        "duration": 15,
        "start_time": "2024-12-13T00:47:27.459Z"
      },
      {
        "duration": 5,
        "start_time": "2024-12-13T00:47:27.475Z"
      },
      {
        "duration": 50,
        "start_time": "2024-12-13T00:47:27.482Z"
      },
      {
        "duration": 20,
        "start_time": "2024-12-13T00:47:27.534Z"
      },
      {
        "duration": 4,
        "start_time": "2024-12-13T00:47:27.556Z"
      },
      {
        "duration": 4,
        "start_time": "2024-12-13T00:47:27.562Z"
      },
      {
        "duration": 4,
        "start_time": "2024-12-13T00:47:27.568Z"
      },
      {
        "duration": 40,
        "start_time": "2024-12-13T00:47:27.573Z"
      },
      {
        "duration": 918,
        "start_time": "2024-12-13T00:47:27.614Z"
      },
      {
        "duration": 3,
        "start_time": "2024-12-13T00:47:28.534Z"
      },
      {
        "duration": 5,
        "start_time": "2024-12-13T00:47:28.539Z"
      },
      {
        "duration": 4,
        "start_time": "2024-12-13T00:47:28.546Z"
      },
      {
        "duration": 4,
        "start_time": "2024-12-13T00:47:28.552Z"
      },
      {
        "duration": 7,
        "start_time": "2024-12-13T00:47:28.557Z"
      },
      {
        "duration": 44,
        "start_time": "2024-12-13T00:47:28.566Z"
      },
      {
        "duration": 3,
        "start_time": "2024-12-13T00:47:28.615Z"
      },
      {
        "duration": 7,
        "start_time": "2024-12-13T00:47:28.619Z"
      },
      {
        "duration": 7,
        "start_time": "2024-12-13T00:47:28.628Z"
      },
      {
        "duration": 30,
        "start_time": "2024-12-13T00:47:28.636Z"
      },
      {
        "duration": 49,
        "start_time": "2024-12-13T00:47:28.668Z"
      },
      {
        "duration": 11,
        "start_time": "2024-12-13T00:47:28.719Z"
      },
      {
        "duration": 467,
        "start_time": "2024-12-13T00:47:28.732Z"
      },
      {
        "duration": 8,
        "start_time": "2024-12-13T00:47:29.201Z"
      },
      {
        "duration": 3,
        "start_time": "2024-12-13T00:47:29.211Z"
      },
      {
        "duration": 196,
        "start_time": "2024-12-13T00:47:29.216Z"
      },
      {
        "duration": 133,
        "start_time": "2024-12-13T00:47:29.414Z"
      },
      {
        "duration": 199,
        "start_time": "2024-12-13T00:47:29.548Z"
      },
      {
        "duration": 7,
        "start_time": "2024-12-13T00:47:29.749Z"
      },
      {
        "duration": 9,
        "start_time": "2024-12-13T00:47:29.758Z"
      },
      {
        "duration": 5,
        "start_time": "2024-12-13T00:47:29.769Z"
      },
      {
        "duration": 235,
        "start_time": "2024-12-13T00:47:29.775Z"
      },
      {
        "duration": 8,
        "start_time": "2024-12-13T00:47:30.012Z"
      },
      {
        "duration": 980,
        "start_time": "2024-12-13T00:47:30.021Z"
      },
      {
        "duration": 123,
        "start_time": "2024-12-13T00:47:31.009Z"
      },
      {
        "duration": 4,
        "start_time": "2024-12-13T00:47:31.134Z"
      },
      {
        "duration": 2117,
        "start_time": "2024-12-13T00:47:31.141Z"
      },
      {
        "duration": 373,
        "start_time": "2024-12-13T00:47:33.260Z"
      },
      {
        "duration": 8,
        "start_time": "2024-12-13T00:47:33.635Z"
      },
      {
        "duration": 741,
        "start_time": "2024-12-13T00:47:33.644Z"
      },
      {
        "duration": 134,
        "start_time": "2024-12-13T00:47:34.387Z"
      },
      {
        "duration": 68,
        "start_time": "2024-12-13T00:47:34.523Z"
      },
      {
        "duration": 40,
        "start_time": "2024-12-13T00:47:34.593Z"
      },
      {
        "duration": 2184,
        "start_time": "2024-12-13T00:47:34.636Z"
      },
      {
        "duration": 110,
        "start_time": "2024-12-13T00:47:36.822Z"
      },
      {
        "duration": 135,
        "start_time": "2024-12-13T00:47:36.934Z"
      },
      {
        "duration": 216,
        "start_time": "2024-12-13T00:47:37.070Z"
      },
      {
        "duration": 2186,
        "start_time": "2024-12-13T02:48:20.023Z"
      },
      {
        "duration": 1011,
        "start_time": "2024-12-13T02:48:22.212Z"
      },
      {
        "duration": 12,
        "start_time": "2024-12-13T02:48:23.224Z"
      },
      {
        "duration": 9,
        "start_time": "2024-12-13T02:48:23.238Z"
      },
      {
        "duration": 8,
        "start_time": "2024-12-13T02:48:23.250Z"
      },
      {
        "duration": 33,
        "start_time": "2024-12-13T02:48:23.260Z"
      },
      {
        "duration": 23,
        "start_time": "2024-12-13T02:48:23.295Z"
      },
      {
        "duration": 121,
        "start_time": "2024-12-13T02:48:23.320Z"
      },
      {
        "duration": 9,
        "start_time": "2024-12-13T02:48:23.443Z"
      },
      {
        "duration": 108,
        "start_time": "2024-12-13T02:48:23.453Z"
      },
      {
        "duration": 93,
        "start_time": "2024-12-13T02:48:23.563Z"
      },
      {
        "duration": 41,
        "start_time": "2024-12-13T02:48:23.658Z"
      },
      {
        "duration": 12,
        "start_time": "2024-12-13T02:48:23.701Z"
      },
      {
        "duration": 3,
        "start_time": "2024-12-13T02:48:23.717Z"
      },
      {
        "duration": 20,
        "start_time": "2024-12-13T02:48:23.722Z"
      },
      {
        "duration": 16,
        "start_time": "2024-12-13T02:48:23.743Z"
      },
      {
        "duration": 5,
        "start_time": "2024-12-13T02:48:23.788Z"
      },
      {
        "duration": 4,
        "start_time": "2024-12-13T02:48:23.795Z"
      },
      {
        "duration": 4,
        "start_time": "2024-12-13T02:48:23.800Z"
      },
      {
        "duration": 2,
        "start_time": "2024-12-13T02:48:23.806Z"
      },
      {
        "duration": 786,
        "start_time": "2024-12-13T02:48:23.810Z"
      },
      {
        "duration": 3,
        "start_time": "2024-12-13T02:48:24.597Z"
      },
      {
        "duration": 7,
        "start_time": "2024-12-13T02:48:24.602Z"
      },
      {
        "duration": 3,
        "start_time": "2024-12-13T02:48:24.611Z"
      },
      {
        "duration": 4,
        "start_time": "2024-12-13T02:48:24.616Z"
      },
      {
        "duration": 6,
        "start_time": "2024-12-13T02:48:24.621Z"
      },
      {
        "duration": 10,
        "start_time": "2024-12-13T02:48:24.629Z"
      },
      {
        "duration": 3,
        "start_time": "2024-12-13T02:48:24.641Z"
      },
      {
        "duration": 44,
        "start_time": "2024-12-13T02:48:24.646Z"
      },
      {
        "duration": 7,
        "start_time": "2024-12-13T02:48:24.693Z"
      },
      {
        "duration": 32,
        "start_time": "2024-12-13T02:48:24.703Z"
      },
      {
        "duration": 17,
        "start_time": "2024-12-13T02:48:24.737Z"
      },
      {
        "duration": 36,
        "start_time": "2024-12-13T02:48:24.756Z"
      },
      {
        "duration": 438,
        "start_time": "2024-12-13T02:48:24.794Z"
      },
      {
        "duration": 4,
        "start_time": "2024-12-13T02:48:25.234Z"
      },
      {
        "duration": 3,
        "start_time": "2024-12-13T02:48:25.240Z"
      },
      {
        "duration": 207,
        "start_time": "2024-12-13T02:48:25.246Z"
      },
      {
        "duration": 124,
        "start_time": "2024-12-13T02:48:25.455Z"
      },
      {
        "duration": 219,
        "start_time": "2024-12-13T02:48:25.581Z"
      },
      {
        "duration": 8,
        "start_time": "2024-12-13T02:48:25.802Z"
      },
      {
        "duration": 8,
        "start_time": "2024-12-13T02:48:25.816Z"
      },
      {
        "duration": 3,
        "start_time": "2024-12-13T02:48:25.826Z"
      },
      {
        "duration": 306,
        "start_time": "2024-12-13T02:48:25.831Z"
      },
      {
        "duration": 7,
        "start_time": "2024-12-13T02:48:26.139Z"
      },
      {
        "duration": 1001,
        "start_time": "2024-12-13T02:48:26.147Z"
      },
      {
        "duration": 105,
        "start_time": "2024-12-13T02:48:27.150Z"
      },
      {
        "duration": 3,
        "start_time": "2024-12-13T02:48:27.258Z"
      },
      {
        "duration": 1929,
        "start_time": "2024-12-13T02:48:27.262Z"
      },
      {
        "duration": 322,
        "start_time": "2024-12-13T02:48:29.193Z"
      },
      {
        "duration": 7,
        "start_time": "2024-12-13T02:48:29.517Z"
      },
      {
        "duration": 707,
        "start_time": "2024-12-13T02:48:29.525Z"
      },
      {
        "duration": 124,
        "start_time": "2024-12-13T02:48:30.233Z"
      },
      {
        "duration": 74,
        "start_time": "2024-12-13T02:48:30.359Z"
      },
      {
        "duration": 32,
        "start_time": "2024-12-13T02:48:30.435Z"
      },
      {
        "duration": 2061,
        "start_time": "2024-12-13T02:48:30.469Z"
      },
      {
        "duration": 106,
        "start_time": "2024-12-13T02:48:32.532Z"
      },
      {
        "duration": 131,
        "start_time": "2024-12-13T02:48:32.639Z"
      },
      {
        "duration": 148,
        "start_time": "2024-12-13T02:48:32.772Z"
      },
      {
        "duration": 385,
        "start_time": "2024-12-13T02:54:03.479Z"
      },
      {
        "duration": 127,
        "start_time": "2024-12-13T02:54:20.891Z"
      },
      {
        "duration": 381,
        "start_time": "2024-12-13T02:55:41.473Z"
      },
      {
        "duration": 360893,
        "start_time": "2024-12-13T02:56:03.797Z"
      },
      {
        "duration": 1396,
        "start_time": "2024-12-13T03:03:00.556Z"
      },
      {
        "duration": 470,
        "start_time": "2024-12-13T03:06:50.406Z"
      },
      {
        "duration": 932,
        "start_time": "2024-12-13T03:06:50.878Z"
      },
      {
        "duration": 12,
        "start_time": "2024-12-13T03:06:51.811Z"
      },
      {
        "duration": 9,
        "start_time": "2024-12-13T03:06:51.826Z"
      },
      {
        "duration": 8,
        "start_time": "2024-12-13T03:06:51.836Z"
      },
      {
        "duration": 8,
        "start_time": "2024-12-13T03:06:51.846Z"
      },
      {
        "duration": 55,
        "start_time": "2024-12-13T03:06:51.856Z"
      },
      {
        "duration": 113,
        "start_time": "2024-12-13T03:06:51.913Z"
      },
      {
        "duration": 8,
        "start_time": "2024-12-13T03:06:52.028Z"
      },
      {
        "duration": 110,
        "start_time": "2024-12-13T03:06:52.039Z"
      },
      {
        "duration": 97,
        "start_time": "2024-12-13T03:06:52.151Z"
      },
      {
        "duration": 27,
        "start_time": "2024-12-13T03:06:52.250Z"
      },
      {
        "duration": 15,
        "start_time": "2024-12-13T03:06:52.286Z"
      },
      {
        "duration": 3,
        "start_time": "2024-12-13T03:06:52.302Z"
      },
      {
        "duration": 19,
        "start_time": "2024-12-13T03:06:52.308Z"
      },
      {
        "duration": 15,
        "start_time": "2024-12-13T03:06:52.329Z"
      },
      {
        "duration": 4,
        "start_time": "2024-12-13T03:06:52.345Z"
      },
      {
        "duration": 36,
        "start_time": "2024-12-13T03:06:52.350Z"
      },
      {
        "duration": 4,
        "start_time": "2024-12-13T03:06:52.388Z"
      },
      {
        "duration": 2,
        "start_time": "2024-12-13T03:06:52.394Z"
      },
      {
        "duration": 833,
        "start_time": "2024-12-13T03:06:52.398Z"
      },
      {
        "duration": 2,
        "start_time": "2024-12-13T03:06:53.234Z"
      },
      {
        "duration": 5,
        "start_time": "2024-12-13T03:06:53.238Z"
      },
      {
        "duration": 4,
        "start_time": "2024-12-13T03:06:53.244Z"
      },
      {
        "duration": 4,
        "start_time": "2024-12-13T03:06:53.250Z"
      },
      {
        "duration": 35,
        "start_time": "2024-12-13T03:06:53.256Z"
      },
      {
        "duration": 12,
        "start_time": "2024-12-13T03:06:53.294Z"
      },
      {
        "duration": 3,
        "start_time": "2024-12-13T03:06:53.311Z"
      },
      {
        "duration": 7,
        "start_time": "2024-12-13T03:06:53.316Z"
      },
      {
        "duration": 7,
        "start_time": "2024-12-13T03:06:53.325Z"
      },
      {
        "duration": 67,
        "start_time": "2024-12-13T03:06:53.333Z"
      },
      {
        "duration": 17,
        "start_time": "2024-12-13T03:06:53.402Z"
      },
      {
        "duration": 12,
        "start_time": "2024-12-13T03:06:53.422Z"
      },
      {
        "duration": 462,
        "start_time": "2024-12-13T03:06:53.436Z"
      },
      {
        "duration": 3,
        "start_time": "2024-12-13T03:06:53.900Z"
      },
      {
        "duration": 3,
        "start_time": "2024-12-13T03:06:53.905Z"
      },
      {
        "duration": 204,
        "start_time": "2024-12-13T03:06:53.910Z"
      },
      {
        "duration": 122,
        "start_time": "2024-12-13T03:06:54.116Z"
      },
      {
        "duration": 202,
        "start_time": "2024-12-13T03:06:54.240Z"
      },
      {
        "duration": 8,
        "start_time": "2024-12-13T03:06:54.444Z"
      },
      {
        "duration": 8,
        "start_time": "2024-12-13T03:06:54.453Z"
      },
      {
        "duration": 3,
        "start_time": "2024-12-13T03:06:54.463Z"
      },
      {
        "duration": 246,
        "start_time": "2024-12-13T03:06:54.468Z"
      },
      {
        "duration": 8,
        "start_time": "2024-12-13T03:06:54.716Z"
      },
      {
        "duration": 1002,
        "start_time": "2024-12-13T03:06:54.725Z"
      },
      {
        "duration": 103,
        "start_time": "2024-12-13T03:06:55.729Z"
      },
      {
        "duration": 3,
        "start_time": "2024-12-13T03:06:55.834Z"
      },
      {
        "duration": 2148,
        "start_time": "2024-12-13T03:06:55.839Z"
      },
      {
        "duration": 355,
        "start_time": "2024-12-13T03:06:57.989Z"
      },
      {
        "duration": 8,
        "start_time": "2024-12-13T03:06:58.346Z"
      },
      {
        "duration": 708,
        "start_time": "2024-12-13T03:06:58.355Z"
      },
      {
        "duration": 125,
        "start_time": "2024-12-13T03:06:59.065Z"
      },
      {
        "duration": 70,
        "start_time": "2024-12-13T03:06:59.192Z"
      },
      {
        "duration": 41,
        "start_time": "2024-12-13T03:06:59.264Z"
      },
      {
        "duration": 2029,
        "start_time": "2024-12-13T03:06:59.307Z"
      },
      {
        "duration": 122,
        "start_time": "2024-12-13T03:07:01.338Z"
      },
      {
        "duration": 138,
        "start_time": "2024-12-13T03:07:01.463Z"
      },
      {
        "duration": 216,
        "start_time": "2024-12-13T03:07:01.602Z"
      },
      {
        "duration": 190,
        "start_time": "2024-12-13T03:07:21.830Z"
      },
      {
        "duration": 213,
        "start_time": "2024-12-13T03:09:44.519Z"
      },
      {
        "duration": 40586,
        "start_time": "2024-12-13T03:10:21.136Z"
      },
      {
        "duration": 427,
        "start_time": "2024-12-13T03:11:24.274Z"
      },
      {
        "duration": 5345,
        "start_time": "2024-12-13T03:13:53.702Z"
      },
      {
        "duration": 24,
        "start_time": "2024-12-13T03:14:09.728Z"
      },
      {
        "duration": 475,
        "start_time": "2024-12-13T03:14:43.037Z"
      },
      {
        "duration": 951,
        "start_time": "2024-12-13T03:15:39.835Z"
      },
      {
        "duration": 879,
        "start_time": "2024-12-13T03:16:32.772Z"
      },
      {
        "duration": 193,
        "start_time": "2024-12-13T03:17:20.331Z"
      },
      {
        "duration": 204,
        "start_time": "2024-12-13T03:17:43.020Z"
      },
      {
        "duration": 258,
        "start_time": "2024-12-13T03:17:56.732Z"
      },
      {
        "duration": 227,
        "start_time": "2024-12-13T03:18:30.467Z"
      },
      {
        "duration": 160,
        "start_time": "2024-12-13T03:19:25.388Z"
      },
      {
        "duration": 159,
        "start_time": "2024-12-13T03:23:54.113Z"
      },
      {
        "duration": 153,
        "start_time": "2024-12-13T03:25:26.200Z"
      },
      {
        "duration": 117,
        "start_time": "2024-12-13T03:26:55.194Z"
      },
      {
        "duration": 112,
        "start_time": "2024-12-13T03:34:29.404Z"
      },
      {
        "duration": 23,
        "start_time": "2024-12-13T03:34:40.731Z"
      },
      {
        "duration": 505,
        "start_time": "2024-12-13T03:35:39.419Z"
      },
      {
        "duration": 465,
        "start_time": "2024-12-13T03:37:37.108Z"
      },
      {
        "duration": 479,
        "start_time": "2024-12-13T03:37:46.571Z"
      },
      {
        "duration": 493,
        "start_time": "2024-12-13T03:39:34.842Z"
      },
      {
        "duration": 556,
        "start_time": "2024-12-13T03:39:49.930Z"
      },
      {
        "duration": 6038,
        "start_time": "2024-12-13T03:47:27.213Z"
      },
      {
        "duration": 6721,
        "start_time": "2024-12-13T03:47:48.532Z"
      },
      {
        "duration": 5626,
        "start_time": "2024-12-13T03:48:28.213Z"
      },
      {
        "duration": 5874,
        "start_time": "2024-12-13T03:49:04.452Z"
      },
      {
        "duration": 6283,
        "start_time": "2024-12-13T03:49:52.844Z"
      },
      {
        "duration": 6271,
        "start_time": "2024-12-13T03:51:18.352Z"
      },
      {
        "duration": 8681,
        "start_time": "2024-12-13T03:53:06.370Z"
      },
      {
        "duration": 5404,
        "start_time": "2024-12-13T03:55:33.742Z"
      },
      {
        "duration": 6708,
        "start_time": "2024-12-13T03:57:58.250Z"
      },
      {
        "duration": 6775,
        "start_time": "2024-12-13T03:58:16.297Z"
      },
      {
        "duration": 7000,
        "start_time": "2024-12-13T03:59:06.059Z"
      },
      {
        "duration": 7018,
        "start_time": "2024-12-13T04:00:02.010Z"
      },
      {
        "duration": 5380,
        "start_time": "2024-12-13T04:00:36.995Z"
      },
      {
        "duration": 21,
        "start_time": "2024-12-13T04:01:51.238Z"
      },
      {
        "duration": 87,
        "start_time": "2024-12-13T04:02:09.601Z"
      },
      {
        "duration": 19,
        "start_time": "2024-12-13T04:02:16.043Z"
      },
      {
        "duration": 471,
        "start_time": "2024-12-13T04:02:24.203Z"
      },
      {
        "duration": 944,
        "start_time": "2024-12-13T04:02:24.676Z"
      },
      {
        "duration": 11,
        "start_time": "2024-12-13T04:02:25.622Z"
      },
      {
        "duration": 12,
        "start_time": "2024-12-13T04:02:25.636Z"
      },
      {
        "duration": 39,
        "start_time": "2024-12-13T04:02:25.650Z"
      },
      {
        "duration": 8,
        "start_time": "2024-12-13T04:02:25.691Z"
      },
      {
        "duration": 24,
        "start_time": "2024-12-13T04:02:25.700Z"
      },
      {
        "duration": 181,
        "start_time": "2024-12-13T04:02:25.725Z"
      },
      {
        "duration": 11,
        "start_time": "2024-12-13T04:02:25.908Z"
      },
      {
        "duration": 138,
        "start_time": "2024-12-13T04:02:25.923Z"
      },
      {
        "duration": 106,
        "start_time": "2024-12-13T04:02:26.062Z"
      },
      {
        "duration": 35,
        "start_time": "2024-12-13T04:02:26.170Z"
      },
      {
        "duration": 19,
        "start_time": "2024-12-13T04:02:26.207Z"
      },
      {
        "duration": 3,
        "start_time": "2024-12-13T04:02:26.229Z"
      },
      {
        "duration": 28,
        "start_time": "2024-12-13T04:02:26.234Z"
      },
      {
        "duration": 40,
        "start_time": "2024-12-13T04:02:26.264Z"
      },
      {
        "duration": 3,
        "start_time": "2024-12-13T04:02:26.306Z"
      },
      {
        "duration": 3,
        "start_time": "2024-12-13T04:02:26.311Z"
      },
      {
        "duration": 3,
        "start_time": "2024-12-13T04:02:26.317Z"
      },
      {
        "duration": 3,
        "start_time": "2024-12-13T04:02:26.322Z"
      },
      {
        "duration": 870,
        "start_time": "2024-12-13T04:02:26.326Z"
      },
      {
        "duration": 3,
        "start_time": "2024-12-13T04:02:27.198Z"
      },
      {
        "duration": 5,
        "start_time": "2024-12-13T04:02:27.204Z"
      },
      {
        "duration": 4,
        "start_time": "2024-12-13T04:02:27.211Z"
      },
      {
        "duration": 4,
        "start_time": "2024-12-13T04:02:27.216Z"
      },
      {
        "duration": 6,
        "start_time": "2024-12-13T04:02:27.222Z"
      },
      {
        "duration": 11,
        "start_time": "2024-12-13T04:02:27.230Z"
      },
      {
        "duration": 41,
        "start_time": "2024-12-13T04:02:27.246Z"
      },
      {
        "duration": 8,
        "start_time": "2024-12-13T04:02:27.289Z"
      },
      {
        "duration": 7,
        "start_time": "2024-12-13T04:02:27.300Z"
      },
      {
        "duration": 33,
        "start_time": "2024-12-13T04:02:27.309Z"
      },
      {
        "duration": 45,
        "start_time": "2024-12-13T04:02:27.344Z"
      },
      {
        "duration": 11,
        "start_time": "2024-12-13T04:02:27.391Z"
      },
      {
        "duration": 461,
        "start_time": "2024-12-13T04:02:27.404Z"
      },
      {
        "duration": 4,
        "start_time": "2024-12-13T04:02:27.867Z"
      },
      {
        "duration": 14,
        "start_time": "2024-12-13T04:02:27.873Z"
      },
      {
        "duration": 194,
        "start_time": "2024-12-13T04:02:27.889Z"
      },
      {
        "duration": 124,
        "start_time": "2024-12-13T04:02:28.087Z"
      },
      {
        "duration": 212,
        "start_time": "2024-12-13T04:02:28.213Z"
      },
      {
        "duration": 8,
        "start_time": "2024-12-13T04:02:28.427Z"
      },
      {
        "duration": 8,
        "start_time": "2024-12-13T04:02:28.436Z"
      },
      {
        "duration": 3,
        "start_time": "2024-12-13T04:02:28.446Z"
      },
      {
        "duration": 245,
        "start_time": "2024-12-13T04:02:28.451Z"
      },
      {
        "duration": 7,
        "start_time": "2024-12-13T04:02:28.698Z"
      },
      {
        "duration": 992,
        "start_time": "2024-12-13T04:02:28.707Z"
      },
      {
        "duration": 99,
        "start_time": "2024-12-13T04:02:29.700Z"
      },
      {
        "duration": 3,
        "start_time": "2024-12-13T04:02:29.800Z"
      },
      {
        "duration": 2130,
        "start_time": "2024-12-13T04:02:29.805Z"
      },
      {
        "duration": 325,
        "start_time": "2024-12-13T04:02:31.938Z"
      },
      {
        "duration": 8,
        "start_time": "2024-12-13T04:02:32.264Z"
      },
      {
        "duration": 720,
        "start_time": "2024-12-13T04:02:32.274Z"
      },
      {
        "duration": 129,
        "start_time": "2024-12-13T04:02:32.995Z"
      },
      {
        "duration": 89,
        "start_time": "2024-12-13T04:02:33.126Z"
      },
      {
        "duration": 33,
        "start_time": "2024-12-13T04:02:33.218Z"
      },
      {
        "duration": 2059,
        "start_time": "2024-12-13T04:02:33.253Z"
      },
      {
        "duration": 116,
        "start_time": "2024-12-13T04:02:35.314Z"
      },
      {
        "duration": 153,
        "start_time": "2024-12-13T04:02:35.431Z"
      },
      {
        "duration": 161,
        "start_time": "2024-12-13T04:02:35.586Z"
      },
      {
        "duration": 275,
        "start_time": "2024-12-13T04:02:35.749Z"
      },
      {
        "duration": 290,
        "start_time": "2024-12-13T04:03:21.464Z"
      },
      {
        "duration": 42,
        "start_time": "2024-12-13T04:04:47.040Z"
      },
      {
        "duration": 17802,
        "start_time": "2024-12-13T04:05:14.213Z"
      },
      {
        "duration": 461,
        "start_time": "2024-12-13T04:06:06.557Z"
      },
      {
        "duration": 937,
        "start_time": "2024-12-13T04:06:07.021Z"
      },
      {
        "duration": 12,
        "start_time": "2024-12-13T04:06:07.960Z"
      },
      {
        "duration": 19,
        "start_time": "2024-12-13T04:06:07.974Z"
      },
      {
        "duration": 9,
        "start_time": "2024-12-13T04:06:07.996Z"
      },
      {
        "duration": 8,
        "start_time": "2024-12-13T04:06:08.006Z"
      },
      {
        "duration": 24,
        "start_time": "2024-12-13T04:06:08.016Z"
      },
      {
        "duration": 155,
        "start_time": "2024-12-13T04:06:08.042Z"
      },
      {
        "duration": 10,
        "start_time": "2024-12-13T04:06:08.198Z"
      },
      {
        "duration": 119,
        "start_time": "2024-12-13T04:06:08.210Z"
      },
      {
        "duration": 103,
        "start_time": "2024-12-13T04:06:08.331Z"
      },
      {
        "duration": 32,
        "start_time": "2024-12-13T04:06:08.436Z"
      },
      {
        "duration": 26,
        "start_time": "2024-12-13T04:06:08.469Z"
      },
      {
        "duration": 3,
        "start_time": "2024-12-13T04:06:08.500Z"
      },
      {
        "duration": 22,
        "start_time": "2024-12-13T04:06:08.504Z"
      },
      {
        "duration": 16,
        "start_time": "2024-12-13T04:06:08.528Z"
      },
      {
        "duration": 4,
        "start_time": "2024-12-13T04:06:08.546Z"
      },
      {
        "duration": 3,
        "start_time": "2024-12-13T04:06:08.551Z"
      },
      {
        "duration": 34,
        "start_time": "2024-12-13T04:06:08.556Z"
      },
      {
        "duration": 3,
        "start_time": "2024-12-13T04:06:08.592Z"
      },
      {
        "duration": 880,
        "start_time": "2024-12-13T04:06:08.596Z"
      },
      {
        "duration": 9,
        "start_time": "2024-12-13T04:06:09.478Z"
      },
      {
        "duration": 6,
        "start_time": "2024-12-13T04:06:09.488Z"
      },
      {
        "duration": 5,
        "start_time": "2024-12-13T04:06:09.495Z"
      },
      {
        "duration": 4,
        "start_time": "2024-12-13T04:06:09.501Z"
      },
      {
        "duration": 7,
        "start_time": "2024-12-13T04:06:09.507Z"
      },
      {
        "duration": 11,
        "start_time": "2024-12-13T04:06:09.515Z"
      },
      {
        "duration": 3,
        "start_time": "2024-12-13T04:06:09.528Z"
      },
      {
        "duration": 7,
        "start_time": "2024-12-13T04:06:09.533Z"
      },
      {
        "duration": 50,
        "start_time": "2024-12-13T04:06:09.542Z"
      },
      {
        "duration": 30,
        "start_time": "2024-12-13T04:06:09.594Z"
      },
      {
        "duration": 17,
        "start_time": "2024-12-13T04:06:09.626Z"
      },
      {
        "duration": 13,
        "start_time": "2024-12-13T04:06:09.644Z"
      },
      {
        "duration": 448,
        "start_time": "2024-12-13T04:06:09.687Z"
      },
      {
        "duration": 3,
        "start_time": "2024-12-13T04:06:10.138Z"
      },
      {
        "duration": 4,
        "start_time": "2024-12-13T04:06:10.144Z"
      },
      {
        "duration": 221,
        "start_time": "2024-12-13T04:06:10.150Z"
      },
      {
        "duration": 124,
        "start_time": "2024-12-13T04:06:10.372Z"
      },
      {
        "duration": 208,
        "start_time": "2024-12-13T04:06:10.497Z"
      },
      {
        "duration": 8,
        "start_time": "2024-12-13T04:06:10.707Z"
      },
      {
        "duration": 8,
        "start_time": "2024-12-13T04:06:10.719Z"
      },
      {
        "duration": 5,
        "start_time": "2024-12-13T04:06:10.729Z"
      },
      {
        "duration": 250,
        "start_time": "2024-12-13T04:06:10.736Z"
      },
      {
        "duration": 8,
        "start_time": "2024-12-13T04:06:10.988Z"
      },
      {
        "duration": 1006,
        "start_time": "2024-12-13T04:06:10.998Z"
      },
      {
        "duration": 118,
        "start_time": "2024-12-13T04:06:12.006Z"
      },
      {
        "duration": 3,
        "start_time": "2024-12-13T04:06:12.126Z"
      },
      {
        "duration": 2152,
        "start_time": "2024-12-13T04:06:12.131Z"
      },
      {
        "duration": 327,
        "start_time": "2024-12-13T04:06:14.285Z"
      },
      {
        "duration": 7,
        "start_time": "2024-12-13T04:06:14.614Z"
      },
      {
        "duration": 711,
        "start_time": "2024-12-13T04:06:14.622Z"
      },
      {
        "duration": 126,
        "start_time": "2024-12-13T04:06:15.336Z"
      },
      {
        "duration": 76,
        "start_time": "2024-12-13T04:06:15.464Z"
      },
      {
        "duration": 29,
        "start_time": "2024-12-13T04:06:15.542Z"
      },
      {
        "duration": 2046,
        "start_time": "2024-12-13T04:06:15.574Z"
      },
      {
        "duration": 111,
        "start_time": "2024-12-13T04:06:17.622Z"
      },
      {
        "duration": 137,
        "start_time": "2024-12-13T04:06:17.736Z"
      },
      {
        "duration": 160,
        "start_time": "2024-12-13T04:06:17.876Z"
      },
      {
        "duration": 18540,
        "start_time": "2024-12-13T04:06:18.038Z"
      },
      {
        "duration": 20319,
        "start_time": "2024-12-13T04:14:26.380Z"
      },
      {
        "duration": 15566,
        "start_time": "2024-12-13T04:15:56.555Z"
      },
      {
        "duration": 432,
        "start_time": "2024-12-13T04:16:47.648Z"
      },
      {
        "duration": 933,
        "start_time": "2024-12-13T04:16:48.082Z"
      },
      {
        "duration": 13,
        "start_time": "2024-12-13T04:16:49.017Z"
      },
      {
        "duration": 12,
        "start_time": "2024-12-13T04:16:49.032Z"
      },
      {
        "duration": 9,
        "start_time": "2024-12-13T04:16:49.046Z"
      },
      {
        "duration": 34,
        "start_time": "2024-12-13T04:16:49.057Z"
      },
      {
        "duration": 24,
        "start_time": "2024-12-13T04:16:49.093Z"
      },
      {
        "duration": 120,
        "start_time": "2024-12-13T04:16:49.119Z"
      },
      {
        "duration": 8,
        "start_time": "2024-12-13T04:16:49.241Z"
      },
      {
        "duration": 114,
        "start_time": "2024-12-13T04:16:49.252Z"
      },
      {
        "duration": 94,
        "start_time": "2024-12-13T04:16:49.368Z"
      },
      {
        "duration": 34,
        "start_time": "2024-12-13T04:16:49.465Z"
      },
      {
        "duration": 12,
        "start_time": "2024-12-13T04:16:49.500Z"
      },
      {
        "duration": 3,
        "start_time": "2024-12-13T04:16:49.513Z"
      },
      {
        "duration": 20,
        "start_time": "2024-12-13T04:16:49.518Z"
      },
      {
        "duration": 15,
        "start_time": "2024-12-13T04:16:49.539Z"
      },
      {
        "duration": 32,
        "start_time": "2024-12-13T04:16:49.556Z"
      },
      {
        "duration": 3,
        "start_time": "2024-12-13T04:16:49.590Z"
      },
      {
        "duration": 5,
        "start_time": "2024-12-13T04:16:49.596Z"
      },
      {
        "duration": 3,
        "start_time": "2024-12-13T04:16:49.603Z"
      },
      {
        "duration": 814,
        "start_time": "2024-12-13T04:16:49.607Z"
      },
      {
        "duration": 3,
        "start_time": "2024-12-13T04:16:50.423Z"
      },
      {
        "duration": 5,
        "start_time": "2024-12-13T04:16:50.428Z"
      },
      {
        "duration": 5,
        "start_time": "2024-12-13T04:16:50.434Z"
      },
      {
        "duration": 4,
        "start_time": "2024-12-13T04:16:50.440Z"
      },
      {
        "duration": 6,
        "start_time": "2024-12-13T04:16:50.446Z"
      },
      {
        "duration": 11,
        "start_time": "2024-12-13T04:16:50.487Z"
      },
      {
        "duration": 3,
        "start_time": "2024-12-13T04:16:50.503Z"
      },
      {
        "duration": 7,
        "start_time": "2024-12-13T04:16:50.508Z"
      },
      {
        "duration": 7,
        "start_time": "2024-12-13T04:16:50.516Z"
      },
      {
        "duration": 31,
        "start_time": "2024-12-13T04:16:50.525Z"
      },
      {
        "duration": 18,
        "start_time": "2024-12-13T04:16:50.586Z"
      },
      {
        "duration": 11,
        "start_time": "2024-12-13T04:16:50.606Z"
      },
      {
        "duration": 459,
        "start_time": "2024-12-13T04:16:50.619Z"
      },
      {
        "duration": 7,
        "start_time": "2024-12-13T04:16:51.080Z"
      },
      {
        "duration": 4,
        "start_time": "2024-12-13T04:16:51.088Z"
      },
      {
        "duration": 209,
        "start_time": "2024-12-13T04:16:51.094Z"
      },
      {
        "duration": 118,
        "start_time": "2024-12-13T04:16:51.304Z"
      },
      {
        "duration": 202,
        "start_time": "2024-12-13T04:16:51.424Z"
      },
      {
        "duration": 8,
        "start_time": "2024-12-13T04:16:51.627Z"
      },
      {
        "duration": 7,
        "start_time": "2024-12-13T04:16:51.636Z"
      },
      {
        "duration": 4,
        "start_time": "2024-12-13T04:16:51.645Z"
      },
      {
        "duration": 240,
        "start_time": "2024-12-13T04:16:51.650Z"
      },
      {
        "duration": 7,
        "start_time": "2024-12-13T04:16:51.892Z"
      },
      {
        "duration": 1000,
        "start_time": "2024-12-13T04:16:51.900Z"
      },
      {
        "duration": 113,
        "start_time": "2024-12-13T04:16:52.902Z"
      },
      {
        "duration": 3,
        "start_time": "2024-12-13T04:16:53.017Z"
      },
      {
        "duration": 2094,
        "start_time": "2024-12-13T04:16:53.021Z"
      },
      {
        "duration": 326,
        "start_time": "2024-12-13T04:16:55.117Z"
      },
      {
        "duration": 9,
        "start_time": "2024-12-13T04:16:55.444Z"
      },
      {
        "duration": 701,
        "start_time": "2024-12-13T04:16:55.455Z"
      },
      {
        "duration": 124,
        "start_time": "2024-12-13T04:16:56.158Z"
      },
      {
        "duration": 69,
        "start_time": "2024-12-13T04:16:56.283Z"
      },
      {
        "duration": 37,
        "start_time": "2024-12-13T04:16:56.354Z"
      },
      {
        "duration": 1985,
        "start_time": "2024-12-13T04:16:56.393Z"
      },
      {
        "duration": 111,
        "start_time": "2024-12-13T04:16:58.380Z"
      },
      {
        "duration": 150,
        "start_time": "2024-12-13T04:16:58.492Z"
      },
      {
        "duration": 159,
        "start_time": "2024-12-13T04:16:58.644Z"
      },
      {
        "duration": 16422,
        "start_time": "2024-12-13T04:16:58.804Z"
      },
      {
        "duration": 18340,
        "start_time": "2024-12-13T04:18:38.068Z"
      },
      {
        "duration": 17119,
        "start_time": "2024-12-13T04:19:23.831Z"
      },
      {
        "duration": 17797,
        "start_time": "2024-12-13T04:22:50.172Z"
      },
      {
        "duration": 15139,
        "start_time": "2024-12-13T04:23:54.492Z"
      },
      {
        "duration": 17568,
        "start_time": "2024-12-13T04:25:06.471Z"
      },
      {
        "duration": 18927,
        "start_time": "2024-12-13T04:25:55.078Z"
      },
      {
        "duration": 15468,
        "start_time": "2024-12-13T04:27:47.994Z"
      },
      {
        "duration": 17218,
        "start_time": "2024-12-13T04:28:35.220Z"
      },
      {
        "duration": 17031,
        "start_time": "2024-12-13T04:29:47.455Z"
      },
      {
        "duration": 434,
        "start_time": "2024-12-13T04:32:40.284Z"
      },
      {
        "duration": 925,
        "start_time": "2024-12-13T04:32:40.720Z"
      },
      {
        "duration": 11,
        "start_time": "2024-12-13T04:32:41.647Z"
      },
      {
        "duration": 9,
        "start_time": "2024-12-13T04:32:41.661Z"
      },
      {
        "duration": 20,
        "start_time": "2024-12-13T04:32:41.671Z"
      },
      {
        "duration": 8,
        "start_time": "2024-12-13T04:32:41.692Z"
      },
      {
        "duration": 22,
        "start_time": "2024-12-13T04:32:41.701Z"
      },
      {
        "duration": 128,
        "start_time": "2024-12-13T04:32:41.726Z"
      },
      {
        "duration": 8,
        "start_time": "2024-12-13T04:32:41.856Z"
      },
      {
        "duration": 113,
        "start_time": "2024-12-13T04:32:41.867Z"
      },
      {
        "duration": 92,
        "start_time": "2024-12-13T04:32:41.981Z"
      },
      {
        "duration": 36,
        "start_time": "2024-12-13T04:32:42.075Z"
      },
      {
        "duration": 12,
        "start_time": "2024-12-13T04:32:42.113Z"
      },
      {
        "duration": 3,
        "start_time": "2024-12-13T04:32:42.127Z"
      },
      {
        "duration": 19,
        "start_time": "2024-12-13T04:32:42.133Z"
      },
      {
        "duration": 40,
        "start_time": "2024-12-13T04:32:42.155Z"
      },
      {
        "duration": 5,
        "start_time": "2024-12-13T04:32:42.197Z"
      },
      {
        "duration": 3,
        "start_time": "2024-12-13T04:32:42.204Z"
      },
      {
        "duration": 3,
        "start_time": "2024-12-13T04:32:42.210Z"
      },
      {
        "duration": 3,
        "start_time": "2024-12-13T04:32:42.216Z"
      },
      {
        "duration": 834,
        "start_time": "2024-12-13T04:32:42.221Z"
      },
      {
        "duration": 3,
        "start_time": "2024-12-13T04:32:43.056Z"
      },
      {
        "duration": 5,
        "start_time": "2024-12-13T04:32:43.061Z"
      },
      {
        "duration": 20,
        "start_time": "2024-12-13T04:32:43.067Z"
      },
      {
        "duration": 4,
        "start_time": "2024-12-13T04:32:43.089Z"
      },
      {
        "duration": 6,
        "start_time": "2024-12-13T04:32:43.095Z"
      },
      {
        "duration": 10,
        "start_time": "2024-12-13T04:32:43.103Z"
      },
      {
        "duration": 4,
        "start_time": "2024-12-13T04:32:43.122Z"
      },
      {
        "duration": 9,
        "start_time": "2024-12-13T04:32:43.127Z"
      },
      {
        "duration": 8,
        "start_time": "2024-12-13T04:32:43.138Z"
      },
      {
        "duration": 66,
        "start_time": "2024-12-13T04:32:43.148Z"
      },
      {
        "duration": 17,
        "start_time": "2024-12-13T04:32:43.216Z"
      },
      {
        "duration": 11,
        "start_time": "2024-12-13T04:32:43.236Z"
      },
      {
        "duration": 476,
        "start_time": "2024-12-13T04:32:43.249Z"
      },
      {
        "duration": 4,
        "start_time": "2024-12-13T04:32:43.727Z"
      },
      {
        "duration": 3,
        "start_time": "2024-12-13T04:32:43.733Z"
      },
      {
        "duration": 214,
        "start_time": "2024-12-13T04:32:43.738Z"
      },
      {
        "duration": 122,
        "start_time": "2024-12-13T04:32:43.954Z"
      },
      {
        "duration": 204,
        "start_time": "2024-12-13T04:32:44.078Z"
      },
      {
        "duration": 8,
        "start_time": "2024-12-13T04:32:44.284Z"
      },
      {
        "duration": 9,
        "start_time": "2024-12-13T04:32:44.294Z"
      },
      {
        "duration": 7,
        "start_time": "2024-12-13T04:32:44.305Z"
      },
      {
        "duration": 250,
        "start_time": "2024-12-13T04:32:44.315Z"
      },
      {
        "duration": 8,
        "start_time": "2024-12-13T04:32:44.567Z"
      },
      {
        "duration": 1012,
        "start_time": "2024-12-13T04:32:44.576Z"
      },
      {
        "duration": 111,
        "start_time": "2024-12-13T04:32:45.590Z"
      },
      {
        "duration": 3,
        "start_time": "2024-12-13T04:32:45.703Z"
      },
      {
        "duration": 2083,
        "start_time": "2024-12-13T04:32:45.708Z"
      },
      {
        "duration": 328,
        "start_time": "2024-12-13T04:32:47.792Z"
      },
      {
        "duration": 10,
        "start_time": "2024-12-13T04:32:48.122Z"
      },
      {
        "duration": 713,
        "start_time": "2024-12-13T04:32:48.134Z"
      },
      {
        "duration": 126,
        "start_time": "2024-12-13T04:32:48.849Z"
      },
      {
        "duration": 72,
        "start_time": "2024-12-13T04:32:48.977Z"
      },
      {
        "duration": 37,
        "start_time": "2024-12-13T04:32:49.051Z"
      },
      {
        "duration": 1990,
        "start_time": "2024-12-13T04:32:49.090Z"
      },
      {
        "duration": 111,
        "start_time": "2024-12-13T04:32:51.086Z"
      },
      {
        "duration": 138,
        "start_time": "2024-12-13T04:32:51.199Z"
      },
      {
        "duration": 161,
        "start_time": "2024-12-13T04:32:51.339Z"
      },
      {
        "duration": 277,
        "start_time": "2024-12-13T04:32:51.502Z"
      },
      {
        "duration": 22,
        "start_time": "2024-12-13T04:36:47.091Z"
      },
      {
        "duration": 16491,
        "start_time": "2024-12-13T04:36:56.118Z"
      },
      {
        "duration": 19670,
        "start_time": "2024-12-13T04:38:35.854Z"
      },
      {
        "duration": 24,
        "start_time": "2024-12-13T04:44:00.069Z"
      },
      {
        "duration": 15,
        "start_time": "2024-12-13T04:44:03.578Z"
      },
      {
        "duration": 14,
        "start_time": "2024-12-13T04:44:08.225Z"
      },
      {
        "duration": 41,
        "start_time": "2024-12-13T04:44:51.994Z"
      },
      {
        "duration": 431,
        "start_time": "2024-12-13T04:50:41.156Z"
      },
      {
        "duration": 906,
        "start_time": "2024-12-13T04:50:41.589Z"
      },
      {
        "duration": 11,
        "start_time": "2024-12-13T04:50:42.497Z"
      },
      {
        "duration": 10,
        "start_time": "2024-12-13T04:50:42.511Z"
      },
      {
        "duration": 9,
        "start_time": "2024-12-13T04:50:42.522Z"
      },
      {
        "duration": 8,
        "start_time": "2024-12-13T04:50:42.533Z"
      },
      {
        "duration": 58,
        "start_time": "2024-12-13T04:50:42.542Z"
      },
      {
        "duration": 120,
        "start_time": "2024-12-13T04:50:42.602Z"
      },
      {
        "duration": 9,
        "start_time": "2024-12-13T04:50:42.724Z"
      },
      {
        "duration": 116,
        "start_time": "2024-12-13T04:50:42.737Z"
      },
      {
        "duration": 91,
        "start_time": "2024-12-13T04:50:42.855Z"
      },
      {
        "duration": 38,
        "start_time": "2024-12-13T04:50:42.948Z"
      },
      {
        "duration": 12,
        "start_time": "2024-12-13T04:50:42.988Z"
      },
      {
        "duration": 4,
        "start_time": "2024-12-13T04:50:43.001Z"
      },
      {
        "duration": 22,
        "start_time": "2024-12-13T04:50:43.006Z"
      },
      {
        "duration": 16,
        "start_time": "2024-12-13T04:50:43.030Z"
      },
      {
        "duration": 4,
        "start_time": "2024-12-13T04:50:43.047Z"
      },
      {
        "duration": 35,
        "start_time": "2024-12-13T04:50:43.052Z"
      },
      {
        "duration": 3,
        "start_time": "2024-12-13T04:50:43.089Z"
      },
      {
        "duration": 3,
        "start_time": "2024-12-13T04:50:43.094Z"
      },
      {
        "duration": 834,
        "start_time": "2024-12-13T04:50:43.100Z"
      },
      {
        "duration": 3,
        "start_time": "2024-12-13T04:50:43.935Z"
      },
      {
        "duration": 6,
        "start_time": "2024-12-13T04:50:43.939Z"
      },
      {
        "duration": 4,
        "start_time": "2024-12-13T04:50:43.948Z"
      },
      {
        "duration": 5,
        "start_time": "2024-12-13T04:50:43.954Z"
      },
      {
        "duration": 33,
        "start_time": "2024-12-13T04:50:43.960Z"
      },
      {
        "duration": 11,
        "start_time": "2024-12-13T04:50:43.995Z"
      },
      {
        "duration": 3,
        "start_time": "2024-12-13T04:50:44.010Z"
      },
      {
        "duration": 7,
        "start_time": "2024-12-13T04:50:44.015Z"
      },
      {
        "duration": 7,
        "start_time": "2024-12-13T04:50:44.024Z"
      },
      {
        "duration": 67,
        "start_time": "2024-12-13T04:50:44.033Z"
      },
      {
        "duration": 17,
        "start_time": "2024-12-13T04:50:44.102Z"
      },
      {
        "duration": 12,
        "start_time": "2024-12-13T04:50:44.120Z"
      },
      {
        "duration": 461,
        "start_time": "2024-12-13T04:50:44.133Z"
      },
      {
        "duration": 4,
        "start_time": "2024-12-13T04:50:44.596Z"
      },
      {
        "duration": 3,
        "start_time": "2024-12-13T04:50:44.602Z"
      },
      {
        "duration": 202,
        "start_time": "2024-12-13T04:50:44.607Z"
      },
      {
        "duration": 127,
        "start_time": "2024-12-13T04:50:44.811Z"
      },
      {
        "duration": 205,
        "start_time": "2024-12-13T04:50:44.940Z"
      },
      {
        "duration": 8,
        "start_time": "2024-12-13T04:50:45.147Z"
      },
      {
        "duration": 7,
        "start_time": "2024-12-13T04:50:45.156Z"
      },
      {
        "duration": 4,
        "start_time": "2024-12-13T04:50:45.165Z"
      },
      {
        "duration": 224,
        "start_time": "2024-12-13T04:50:45.187Z"
      },
      {
        "duration": 8,
        "start_time": "2024-12-13T04:50:45.414Z"
      },
      {
        "duration": 998,
        "start_time": "2024-12-13T04:50:45.423Z"
      },
      {
        "duration": 110,
        "start_time": "2024-12-13T04:50:46.423Z"
      },
      {
        "duration": 3,
        "start_time": "2024-12-13T04:50:46.534Z"
      },
      {
        "duration": 2061,
        "start_time": "2024-12-13T04:50:46.538Z"
      },
      {
        "duration": 294,
        "start_time": "2024-12-13T04:50:48.601Z"
      },
      {
        "duration": 8,
        "start_time": "2024-12-13T04:50:48.896Z"
      },
      {
        "duration": 718,
        "start_time": "2024-12-13T04:50:48.905Z"
      },
      {
        "duration": 127,
        "start_time": "2024-12-13T04:50:49.625Z"
      },
      {
        "duration": 77,
        "start_time": "2024-12-13T04:50:49.754Z"
      },
      {
        "duration": 31,
        "start_time": "2024-12-13T04:50:49.832Z"
      },
      {
        "duration": 1998,
        "start_time": "2024-12-13T04:50:49.865Z"
      },
      {
        "duration": 112,
        "start_time": "2024-12-13T04:50:51.865Z"
      },
      {
        "duration": 138,
        "start_time": "2024-12-13T04:50:51.978Z"
      },
      {
        "duration": 183,
        "start_time": "2024-12-13T04:50:52.118Z"
      },
      {
        "duration": 16539,
        "start_time": "2024-12-13T04:50:52.303Z"
      },
      {
        "duration": 23,
        "start_time": "2024-12-13T04:51:08.844Z"
      },
      {
        "duration": 2804,
        "start_time": "2024-12-13T04:51:08.868Z"
      },
      {
        "duration": 467,
        "start_time": "2024-12-13T04:56:05.694Z"
      },
      {
        "duration": 913,
        "start_time": "2024-12-13T04:56:06.164Z"
      },
      {
        "duration": 17,
        "start_time": "2024-12-13T04:56:07.079Z"
      },
      {
        "duration": 10,
        "start_time": "2024-12-13T04:56:07.098Z"
      },
      {
        "duration": 8,
        "start_time": "2024-12-13T04:56:07.109Z"
      },
      {
        "duration": 7,
        "start_time": "2024-12-13T04:56:07.119Z"
      },
      {
        "duration": 25,
        "start_time": "2024-12-13T04:56:07.128Z"
      },
      {
        "duration": 119,
        "start_time": "2024-12-13T04:56:07.187Z"
      },
      {
        "duration": 8,
        "start_time": "2024-12-13T04:56:07.307Z"
      },
      {
        "duration": 111,
        "start_time": "2024-12-13T04:56:07.319Z"
      },
      {
        "duration": 91,
        "start_time": "2024-12-13T04:56:07.432Z"
      },
      {
        "duration": 26,
        "start_time": "2024-12-13T04:56:07.525Z"
      },
      {
        "duration": 12,
        "start_time": "2024-12-13T04:56:07.553Z"
      },
      {
        "duration": 21,
        "start_time": "2024-12-13T04:56:07.567Z"
      },
      {
        "duration": 20,
        "start_time": "2024-12-13T04:56:07.590Z"
      },
      {
        "duration": 15,
        "start_time": "2024-12-13T04:56:07.612Z"
      },
      {
        "duration": 3,
        "start_time": "2024-12-13T04:56:07.629Z"
      },
      {
        "duration": 3,
        "start_time": "2024-12-13T04:56:07.634Z"
      },
      {
        "duration": 4,
        "start_time": "2024-12-13T04:56:07.639Z"
      },
      {
        "duration": 44,
        "start_time": "2024-12-13T04:56:07.645Z"
      },
      {
        "duration": 882,
        "start_time": "2024-12-13T04:56:07.691Z"
      },
      {
        "duration": 2,
        "start_time": "2024-12-13T04:56:08.575Z"
      },
      {
        "duration": 5,
        "start_time": "2024-12-13T04:56:08.586Z"
      },
      {
        "duration": 5,
        "start_time": "2024-12-13T04:56:08.592Z"
      },
      {
        "duration": 4,
        "start_time": "2024-12-13T04:56:08.598Z"
      },
      {
        "duration": 7,
        "start_time": "2024-12-13T04:56:08.603Z"
      },
      {
        "duration": 12,
        "start_time": "2024-12-13T04:56:08.611Z"
      },
      {
        "duration": 3,
        "start_time": "2024-12-13T04:56:08.628Z"
      },
      {
        "duration": 7,
        "start_time": "2024-12-13T04:56:08.633Z"
      },
      {
        "duration": 47,
        "start_time": "2024-12-13T04:56:08.642Z"
      },
      {
        "duration": 30,
        "start_time": "2024-12-13T04:56:08.691Z"
      },
      {
        "duration": 17,
        "start_time": "2024-12-13T04:56:08.723Z"
      },
      {
        "duration": 11,
        "start_time": "2024-12-13T04:56:08.741Z"
      },
      {
        "duration": 480,
        "start_time": "2024-12-13T04:56:08.754Z"
      },
      {
        "duration": 4,
        "start_time": "2024-12-13T04:56:09.236Z"
      },
      {
        "duration": 3,
        "start_time": "2024-12-13T04:56:09.242Z"
      },
      {
        "duration": 213,
        "start_time": "2024-12-13T04:56:09.247Z"
      },
      {
        "duration": 124,
        "start_time": "2024-12-13T04:56:09.462Z"
      },
      {
        "duration": 199,
        "start_time": "2024-12-13T04:56:09.588Z"
      },
      {
        "duration": 7,
        "start_time": "2024-12-13T04:56:09.790Z"
      },
      {
        "duration": 8,
        "start_time": "2024-12-13T04:56:09.799Z"
      },
      {
        "duration": 3,
        "start_time": "2024-12-13T04:56:09.809Z"
      },
      {
        "duration": 249,
        "start_time": "2024-12-13T04:56:09.814Z"
      },
      {
        "duration": 7,
        "start_time": "2024-12-13T04:56:10.065Z"
      },
      {
        "duration": 1015,
        "start_time": "2024-12-13T04:56:10.073Z"
      },
      {
        "duration": 108,
        "start_time": "2024-12-13T04:56:11.090Z"
      },
      {
        "duration": 3,
        "start_time": "2024-12-13T04:56:11.200Z"
      },
      {
        "duration": 2142,
        "start_time": "2024-12-13T04:56:11.206Z"
      },
      {
        "duration": 331,
        "start_time": "2024-12-13T04:56:13.349Z"
      },
      {
        "duration": 9,
        "start_time": "2024-12-13T04:56:13.682Z"
      },
      {
        "duration": 705,
        "start_time": "2024-12-13T04:56:13.693Z"
      },
      {
        "duration": 123,
        "start_time": "2024-12-13T04:56:14.400Z"
      },
      {
        "duration": 80,
        "start_time": "2024-12-13T04:56:14.524Z"
      },
      {
        "duration": 29,
        "start_time": "2024-12-13T04:56:14.606Z"
      },
      {
        "duration": 1987,
        "start_time": "2024-12-13T04:56:14.637Z"
      },
      {
        "duration": 113,
        "start_time": "2024-12-13T04:56:16.626Z"
      },
      {
        "duration": 135,
        "start_time": "2024-12-13T04:56:16.740Z"
      },
      {
        "duration": 172,
        "start_time": "2024-12-13T04:56:16.877Z"
      },
      {
        "duration": 17039,
        "start_time": "2024-12-13T04:56:17.051Z"
      },
      {
        "duration": 134,
        "start_time": "2024-12-13T04:56:34.092Z"
      },
      {
        "duration": 0,
        "start_time": "2024-12-13T04:56:34.228Z"
      },
      {
        "duration": 0,
        "start_time": "2024-12-13T04:56:34.229Z"
      },
      {
        "duration": 0,
        "start_time": "2024-12-13T04:56:34.230Z"
      },
      {
        "duration": 224,
        "start_time": "2024-12-13T04:57:03.365Z"
      },
      {
        "duration": 289,
        "start_time": "2024-12-13T04:58:12.816Z"
      },
      {
        "duration": 483,
        "start_time": "2024-12-13T04:59:39.970Z"
      },
      {
        "duration": 298,
        "start_time": "2024-12-13T04:59:47.970Z"
      },
      {
        "duration": 21033,
        "start_time": "2024-12-13T05:00:58.044Z"
      },
      {
        "duration": 0,
        "start_time": "2024-12-13T05:07:29.889Z"
      },
      {
        "duration": 442,
        "start_time": "2024-12-13T05:08:24.907Z"
      },
      {
        "duration": 905,
        "start_time": "2024-12-13T05:08:25.351Z"
      },
      {
        "duration": 11,
        "start_time": "2024-12-13T05:08:26.257Z"
      },
      {
        "duration": 21,
        "start_time": "2024-12-13T05:08:26.270Z"
      },
      {
        "duration": 9,
        "start_time": "2024-12-13T05:08:26.293Z"
      },
      {
        "duration": 8,
        "start_time": "2024-12-13T05:08:26.303Z"
      },
      {
        "duration": 25,
        "start_time": "2024-12-13T05:08:26.312Z"
      },
      {
        "duration": 135,
        "start_time": "2024-12-13T05:08:26.339Z"
      },
      {
        "duration": 15,
        "start_time": "2024-12-13T05:08:26.476Z"
      },
      {
        "duration": 97,
        "start_time": "2024-12-13T05:08:26.494Z"
      },
      {
        "duration": 93,
        "start_time": "2024-12-13T05:08:26.593Z"
      },
      {
        "duration": 29,
        "start_time": "2024-12-13T05:08:26.688Z"
      },
      {
        "duration": 13,
        "start_time": "2024-12-13T05:08:26.718Z"
      },
      {
        "duration": 4,
        "start_time": "2024-12-13T05:08:26.734Z"
      },
      {
        "duration": 47,
        "start_time": "2024-12-13T05:08:26.740Z"
      },
      {
        "duration": 17,
        "start_time": "2024-12-13T05:08:26.788Z"
      },
      {
        "duration": 4,
        "start_time": "2024-12-13T05:08:26.806Z"
      },
      {
        "duration": 3,
        "start_time": "2024-12-13T05:08:26.812Z"
      },
      {
        "duration": 3,
        "start_time": "2024-12-13T05:08:26.817Z"
      },
      {
        "duration": 3,
        "start_time": "2024-12-13T05:08:26.822Z"
      },
      {
        "duration": 821,
        "start_time": "2024-12-13T05:08:26.826Z"
      },
      {
        "duration": 2,
        "start_time": "2024-12-13T05:08:27.649Z"
      },
      {
        "duration": 5,
        "start_time": "2024-12-13T05:08:27.652Z"
      },
      {
        "duration": 4,
        "start_time": "2024-12-13T05:08:27.660Z"
      },
      {
        "duration": 4,
        "start_time": "2024-12-13T05:08:27.687Z"
      },
      {
        "duration": 6,
        "start_time": "2024-12-13T05:08:27.692Z"
      },
      {
        "duration": 11,
        "start_time": "2024-12-13T05:08:27.700Z"
      },
      {
        "duration": 3,
        "start_time": "2024-12-13T05:08:27.713Z"
      },
      {
        "duration": 6,
        "start_time": "2024-12-13T05:08:27.718Z"
      },
      {
        "duration": 7,
        "start_time": "2024-12-13T05:08:27.726Z"
      },
      {
        "duration": 65,
        "start_time": "2024-12-13T05:08:27.735Z"
      },
      {
        "duration": 16,
        "start_time": "2024-12-13T05:08:27.803Z"
      },
      {
        "duration": 11,
        "start_time": "2024-12-13T05:08:27.820Z"
      },
      {
        "duration": 477,
        "start_time": "2024-12-13T05:08:27.833Z"
      },
      {
        "duration": 3,
        "start_time": "2024-12-13T05:08:28.312Z"
      },
      {
        "duration": 4,
        "start_time": "2024-12-13T05:08:28.317Z"
      },
      {
        "duration": 202,
        "start_time": "2024-12-13T05:08:28.323Z"
      },
      {
        "duration": 120,
        "start_time": "2024-12-13T05:08:28.527Z"
      },
      {
        "duration": 202,
        "start_time": "2024-12-13T05:08:28.649Z"
      },
      {
        "duration": 7,
        "start_time": "2024-12-13T05:08:28.854Z"
      },
      {
        "duration": 7,
        "start_time": "2024-12-13T05:08:28.865Z"
      },
      {
        "duration": 4,
        "start_time": "2024-12-13T05:08:28.886Z"
      },
      {
        "duration": 247,
        "start_time": "2024-12-13T05:08:28.892Z"
      },
      {
        "duration": 7,
        "start_time": "2024-12-13T05:08:29.140Z"
      },
      {
        "duration": 992,
        "start_time": "2024-12-13T05:08:29.150Z"
      },
      {
        "duration": 119,
        "start_time": "2024-12-13T05:08:30.144Z"
      },
      {
        "duration": 3,
        "start_time": "2024-12-13T05:08:30.265Z"
      },
      {
        "duration": 2098,
        "start_time": "2024-12-13T05:08:30.269Z"
      },
      {
        "duration": 308,
        "start_time": "2024-12-13T05:08:32.369Z"
      },
      {
        "duration": 11,
        "start_time": "2024-12-13T05:08:32.678Z"
      },
      {
        "duration": 734,
        "start_time": "2024-12-13T05:08:32.691Z"
      },
      {
        "duration": 126,
        "start_time": "2024-12-13T05:08:33.427Z"
      },
      {
        "duration": 77,
        "start_time": "2024-12-13T05:08:33.555Z"
      },
      {
        "duration": 29,
        "start_time": "2024-12-13T05:08:33.633Z"
      },
      {
        "duration": 2009,
        "start_time": "2024-12-13T05:08:33.664Z"
      },
      {
        "duration": 114,
        "start_time": "2024-12-13T05:08:35.675Z"
      },
      {
        "duration": 138,
        "start_time": "2024-12-13T05:08:35.791Z"
      },
      {
        "duration": 159,
        "start_time": "2024-12-13T05:08:35.930Z"
      },
      {
        "duration": 16642,
        "start_time": "2024-12-13T05:08:36.091Z"
      },
      {
        "duration": 0,
        "start_time": "2024-12-13T05:08:52.735Z"
      },
      {
        "duration": 0,
        "start_time": "2024-12-13T05:08:52.737Z"
      },
      {
        "duration": 0,
        "start_time": "2024-12-13T05:08:52.738Z"
      },
      {
        "duration": 0,
        "start_time": "2024-12-13T05:08:52.740Z"
      },
      {
        "duration": 18906,
        "start_time": "2024-12-13T05:09:50.459Z"
      },
      {
        "duration": 20036,
        "start_time": "2024-12-13T05:11:02.764Z"
      },
      {
        "duration": 357,
        "start_time": "2024-12-13T05:11:22.803Z"
      },
      {
        "duration": 220,
        "start_time": "2024-12-13T05:12:24.541Z"
      },
      {
        "duration": 507,
        "start_time": "2024-12-13T05:13:47.082Z"
      },
      {
        "duration": 1014,
        "start_time": "2024-12-13T05:13:47.591Z"
      },
      {
        "duration": 11,
        "start_time": "2024-12-13T05:13:48.607Z"
      },
      {
        "duration": 9,
        "start_time": "2024-12-13T05:13:48.620Z"
      },
      {
        "duration": 7,
        "start_time": "2024-12-13T05:13:48.632Z"
      },
      {
        "duration": 8,
        "start_time": "2024-12-13T05:13:48.641Z"
      },
      {
        "duration": 53,
        "start_time": "2024-12-13T05:13:48.651Z"
      },
      {
        "duration": 132,
        "start_time": "2024-12-13T05:13:48.706Z"
      },
      {
        "duration": 10,
        "start_time": "2024-12-13T05:13:48.840Z"
      },
      {
        "duration": 123,
        "start_time": "2024-12-13T05:13:48.853Z"
      },
      {
        "duration": 100,
        "start_time": "2024-12-13T05:13:48.978Z"
      },
      {
        "duration": 34,
        "start_time": "2024-12-13T05:13:49.080Z"
      },
      {
        "duration": 12,
        "start_time": "2024-12-13T05:13:49.115Z"
      },
      {
        "duration": 3,
        "start_time": "2024-12-13T05:13:49.132Z"
      },
      {
        "duration": 21,
        "start_time": "2024-12-13T05:13:49.138Z"
      },
      {
        "duration": 42,
        "start_time": "2024-12-13T05:13:49.161Z"
      },
      {
        "duration": 4,
        "start_time": "2024-12-13T05:13:49.204Z"
      },
      {
        "duration": 3,
        "start_time": "2024-12-13T05:13:49.210Z"
      },
      {
        "duration": 4,
        "start_time": "2024-12-13T05:13:49.215Z"
      },
      {
        "duration": 3,
        "start_time": "2024-12-13T05:13:49.220Z"
      },
      {
        "duration": 862,
        "start_time": "2024-12-13T05:13:49.225Z"
      },
      {
        "duration": 2,
        "start_time": "2024-12-13T05:13:50.089Z"
      },
      {
        "duration": 5,
        "start_time": "2024-12-13T05:13:50.093Z"
      },
      {
        "duration": 6,
        "start_time": "2024-12-13T05:13:50.099Z"
      },
      {
        "duration": 5,
        "start_time": "2024-12-13T05:13:50.107Z"
      },
      {
        "duration": 7,
        "start_time": "2024-12-13T05:13:50.113Z"
      },
      {
        "duration": 12,
        "start_time": "2024-12-13T05:13:50.123Z"
      },
      {
        "duration": 3,
        "start_time": "2024-12-13T05:13:50.137Z"
      },
      {
        "duration": 49,
        "start_time": "2024-12-13T05:13:50.143Z"
      },
      {
        "duration": 6,
        "start_time": "2024-12-13T05:13:50.194Z"
      },
      {
        "duration": 30,
        "start_time": "2024-12-13T05:13:50.202Z"
      },
      {
        "duration": 17,
        "start_time": "2024-12-13T05:13:50.234Z"
      },
      {
        "duration": 38,
        "start_time": "2024-12-13T05:13:50.252Z"
      },
      {
        "duration": 461,
        "start_time": "2024-12-13T05:13:50.292Z"
      },
      {
        "duration": 4,
        "start_time": "2024-12-13T05:13:50.755Z"
      },
      {
        "duration": 4,
        "start_time": "2024-12-13T05:13:50.761Z"
      },
      {
        "duration": 199,
        "start_time": "2024-12-13T05:13:50.766Z"
      },
      {
        "duration": 128,
        "start_time": "2024-12-13T05:13:50.966Z"
      },
      {
        "duration": 208,
        "start_time": "2024-12-13T05:13:51.096Z"
      },
      {
        "duration": 9,
        "start_time": "2024-12-13T05:13:51.305Z"
      },
      {
        "duration": 7,
        "start_time": "2024-12-13T05:13:51.318Z"
      },
      {
        "duration": 3,
        "start_time": "2024-12-13T05:13:51.327Z"
      },
      {
        "duration": 243,
        "start_time": "2024-12-13T05:13:51.332Z"
      },
      {
        "duration": 14,
        "start_time": "2024-12-13T05:13:51.576Z"
      },
      {
        "duration": 1018,
        "start_time": "2024-12-13T05:13:51.592Z"
      },
      {
        "duration": 110,
        "start_time": "2024-12-13T05:13:52.611Z"
      },
      {
        "duration": 3,
        "start_time": "2024-12-13T05:13:52.724Z"
      },
      {
        "duration": 2177,
        "start_time": "2024-12-13T05:13:52.730Z"
      },
      {
        "duration": 351,
        "start_time": "2024-12-13T05:13:54.910Z"
      },
      {
        "duration": 8,
        "start_time": "2024-12-13T05:13:55.263Z"
      },
      {
        "duration": 704,
        "start_time": "2024-12-13T05:13:55.273Z"
      },
      {
        "duration": 126,
        "start_time": "2024-12-13T05:13:55.979Z"
      },
      {
        "duration": 79,
        "start_time": "2024-12-13T05:13:56.107Z"
      },
      {
        "duration": 30,
        "start_time": "2024-12-13T05:13:56.188Z"
      },
      {
        "duration": 1986,
        "start_time": "2024-12-13T05:13:56.220Z"
      },
      {
        "duration": 113,
        "start_time": "2024-12-13T05:13:58.208Z"
      },
      {
        "duration": 142,
        "start_time": "2024-12-13T05:13:58.323Z"
      },
      {
        "duration": 160,
        "start_time": "2024-12-13T05:13:58.467Z"
      },
      {
        "duration": 17209,
        "start_time": "2024-12-13T05:13:58.630Z"
      },
      {
        "duration": 200,
        "start_time": "2024-12-13T05:14:15.841Z"
      },
      {
        "duration": 24,
        "start_time": "2024-12-13T05:14:16.043Z"
      },
      {
        "duration": 2751,
        "start_time": "2024-12-13T05:14:16.069Z"
      },
      {
        "duration": 230,
        "start_time": "2024-12-13T05:14:18.822Z"
      },
      {
        "duration": 5,
        "start_time": "2024-12-13T05:19:07.216Z"
      }
    ],
    "colab": {
      "provenance": [],
      "include_colab_link": true
    },
    "kernelspec": {
      "display_name": "ambiente_general",
      "language": "python",
      "name": "python3"
    },
    "language_info": {
      "codemirror_mode": {
        "name": "ipython",
        "version": 3
      },
      "file_extension": ".py",
      "mimetype": "text/x-python",
      "name": "python",
      "nbconvert_exporter": "python",
      "pygments_lexer": "ipython3",
      "version": "3.13.3"
    },
    "toc": {
      "base_numbering": 1,
      "nav_menu": {},
      "number_sections": true,
      "sideBar": true,
      "skip_h1_title": true,
      "title_cell": "Table of Contents",
      "title_sidebar": "Contents",
      "toc_cell": false,
      "toc_position": {},
      "toc_section_display": true,
      "toc_window_display": false
    }
  },
  "nbformat": 4,
  "nbformat_minor": 5
}